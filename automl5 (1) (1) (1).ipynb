{
  "cells": [
    {
      "cell_type": "markdown",
      "source": [
        "Copyright (c) Microsoft Corporation. All rights reserved.  \n",
        "Licensed under the MIT License."
      ],
      "metadata": {}
    },
    {
      "cell_type": "markdown",
      "source": [
        "![Impressions](https://PixelServer20190423114238.azurewebsites.net/api/impressions/NotebookVM/how-to-use-azureml/machine-learning-pipelines/intro-to-pipelines/aml-pipelines-with-automated-machine-learning-step.png)"
      ],
      "metadata": {}
    },
    {
      "cell_type": "markdown",
      "source": [
        "# Azure Machine Learning Pipeline with AutoMLStep\n",
        "This notebook demonstrates the use of AutoMLStep in Azure Machine Learning Pipeline."
      ],
      "metadata": {}
    },
    {
      "cell_type": "markdown",
      "source": [
        "## Introduction\n",
        "In this example we showcase how you can use AzureML Dataset to load data for AutoML via AML Pipeline. \n",
        "\n",
        "If you are using an Azure Machine Learning Notebook VM, you are all set. Otherwise, make sure you have executed the [configuration](https://aka.ms/pl-config) before running this notebook.\n",
        "\n",
        "In this notebook you will learn how to:\n",
        "1. Create an `Experiment` in an existing `Workspace`.\n",
        "2. Create or Attach existing AmlCompute to a workspace.\n",
        "3. Define data loading in a `TabularDataset`.\n",
        "4. Configure AutoML using `AutoMLConfig`.\n",
        "5. Use AutoMLStep\n",
        "6. Train the model using AmlCompute\n",
        "7. Explore the results.\n",
        "8. Test the best fitted model."
      ],
      "metadata": {}
    },
    {
      "cell_type": "markdown",
      "source": [
        "## Azure Machine Learning and Pipeline SDK-specific imports"
      ],
      "metadata": {}
    },
    {
      "cell_type": "code",
      "source": [
        "import logging\n",
        "import os\n",
        "import csv\n",
        "\n",
        "from matplotlib import pyplot as plt\n",
        "import numpy as np\n",
        "import pandas as pd\n",
        "from sklearn import datasets\n",
        "import pkg_resources\n",
        "\n",
        "import azureml.core\n",
        "from azureml.core.experiment import Experiment\n",
        "from azureml.core.workspace import Workspace\n",
        "from azureml.train.automl import AutoMLConfig\n",
        "from azureml.core.dataset import Dataset\n",
        "\n",
        "from azureml.pipeline.steps import AutoMLStep\n",
        "\n",
        "# Check core SDK version number\n",
        "print(\"SDK version:\", azureml.core.VERSION)"
      ],
      "outputs": [
        {
          "output_type": "stream",
          "name": "stdout",
          "text": [
            "SDK version: 1.20.0\n"
          ]
        }
      ],
      "execution_count": 1,
      "metadata": {
        "gather": {
          "logged": 1613016493562
        }
      }
    },
    {
      "cell_type": "markdown",
      "source": [
        "## Initialize Workspace\n",
        "Initialize a workspace object from persisted configuration. Make sure the config file is present at .\\config.json"
      ],
      "metadata": {}
    },
    {
      "cell_type": "code",
      "source": [
        "ws = Workspace.from_config()\n",
        "print(ws.name, ws.resource_group, ws.location, ws.subscription_id, sep = '\\n')"
      ],
      "outputs": [
        {
          "output_type": "stream",
          "name": "stdout",
          "text": [
            "Performing interactive authentication. Please follow the instructions on the terminal.\n",
            "To sign in, use a web browser to open the page https://microsoft.com/devicelogin and enter the code EEN2VREZY to authenticate.\n",
            "You have logged in. Now let us find all the subscriptions to which you have access...\n",
            "Interactive authentication successfully completed.\n",
            "quick-starts-ws-138479\n",
            "aml-quickstarts-138479\n",
            "southcentralus\n",
            "cdbe0b43-92a0-4715-838a-f2648cc7ad21\n"
          ]
        }
      ],
      "execution_count": 2,
      "metadata": {
        "gather": {
          "logged": 1613016520011
        }
      }
    },
    {
      "cell_type": "markdown",
      "source": [
        "## Create an Azure ML experiment\n",
        "Let's create an experiment named \"automlstep-classification\" and a folder to hold the training scripts. The script runs will be recorded under the experiment in Azure.\n",
        "\n",
        "The best practice is to use separate folders for scripts and its dependent files for each step and specify that folder as the `source_directory` for the step. This helps reduce the size of the snapshot created for the step (only the specific folder is snapshotted). Since changes in any files in the `source_directory` would trigger a re-upload of the snapshot, this helps keep the reuse of the step when there are no changes in the `source_directory` of the step.\n",
        "\n",
        "*Udacity Note:* There is no need to create an Azure ML experiment, this needs to re-use the experiment that was already created\n"
      ],
      "metadata": {}
    },
    {
      "cell_type": "code",
      "source": [
        "# Choose a name for the run history container in the workspace.\n",
        "# NOTE: update these to match your existing experiment name\n",
        "experiment_name = 'ml-experiment-1'\n",
        "project_folder = './pipeline-project'\n",
        "\n",
        "experiment = Experiment(ws, experiment_name)\n",
        "experiment"
      ],
      "outputs": [
        {
          "output_type": "execute_result",
          "execution_count": 3,
          "data": {
            "text/plain": "Experiment(Name: ml-experiment-1,\nWorkspace: quick-starts-ws-138479)",
            "text/html": "<table style=\"width:100%\"><tr><th>Name</th><th>Workspace</th><th>Report Page</th><th>Docs Page</th></tr><tr><td>ml-experiment-1</td><td>quick-starts-ws-138479</td><td><a href=\"https://ml.azure.com/experiments/ml-experiment-1?wsid=/subscriptions/cdbe0b43-92a0-4715-838a-f2648cc7ad21/resourcegroups/aml-quickstarts-138479/workspaces/quick-starts-ws-138479\" target=\"_blank\" rel=\"noopener\">Link to Azure Machine Learning studio</a></td><td><a href=\"https://docs.microsoft.com/en-us/python/api/azureml-core/azureml.core.experiment.Experiment?view=azure-ml-py\" target=\"_blank\" rel=\"noopener\">Link to Documentation</a></td></tr></table>"
          },
          "metadata": {}
        }
      ],
      "execution_count": 3,
      "metadata": {
        "gather": {
          "logged": 1613016526248
        }
      }
    },
    {
      "cell_type": "markdown",
      "source": [
        "### Create or Attach an AmlCompute cluster\n",
        "You will need to create a [compute target](https://docs.microsoft.com/azure/machine-learning/service/concept-azure-machine-learning-architecture#compute-target) for your AutoML run. In this tutorial, you get the default `AmlCompute` as your training compute resource.\n",
        "\n",
        "**Udacity Note** There is no need to create a new compute target, it can re-use the previous cluster"
      ],
      "metadata": {}
    },
    {
      "cell_type": "code",
      "source": [
        "from azureml.core.compute import AmlCompute\n",
        "from azureml.core.compute import ComputeTarget\n",
        "from azureml.core.compute_target import ComputeTargetException\n",
        "\n",
        "# NOTE: update the cluster name to match the existing cluster\n",
        "# Choose a name for your CPU cluster\n",
        "amlcompute_cluster_name = \"auto-ml\"\n",
        "\n",
        "# Verify that cluster does not exist already\n",
        "try:\n",
        "    compute_target = ComputeTarget(workspace=ws, name=amlcompute_cluster_name)\n",
        "    print('Found existing cluster, use it.')\n",
        "except ComputeTargetException:\n",
        "    compute_config = AmlCompute.provisioning_configuration(vm_size='STANDARD_D2_V2',# for GPU, use \"STANDARD_NC6\"\n",
        "                                                           #vm_priority = 'lowpriority', # optional\n",
        "                                                           max_nodes=4)\n",
        "    compute_target = ComputeTarget.create(ws, amlcompute_cluster_name, compute_config)\n",
        "\n",
        "compute_target.wait_for_completion(show_output=True, min_node_count = 1, timeout_in_minutes = 2)\n",
        "# For a more detailed view of current AmlCompute status, use get_status()."
      ],
      "outputs": [
        {
          "output_type": "stream",
          "name": "stdout",
          "text": [
            "Creating\n",
            "Succeeded....................\n",
            "AmlCompute wait for completion finished\n",
            "\n",
            "Wait timeout has been reached\n",
            "Current provisioning state of AmlCompute is \"Succeeded\" and current node count is \"0\"\n"
          ]
        }
      ],
      "execution_count": 4,
      "metadata": {
        "gather": {
          "logged": 1613016653351
        }
      }
    },
    {
      "cell_type": "markdown",
      "source": [
        "## Data\n",
        "\n",
        "**Udacity note:** Make sure the `key` is the same name as the dataset that is uploaded, and that the description matches. If it is hard to find or unknown, loop over the `ws.datasets.keys()` and `print()` them.\n",
        "If it *isn't* found because it was deleted, it can be recreated with the link that has the CSV "
      ],
      "metadata": {}
    },
    {
      "cell_type": "code",
      "source": [
        "# Try to load the dataset from the Workspace. Otherwise, create it from the file\n",
        "# NOTE: update the key to match the dataset name\n",
        "found = False\n",
        "key = \"Heartdataset\"\n",
        "description_text = \"Heart DataSet\"\n",
        "\n",
        "if key in ws.datasets.keys(): \n",
        "        found = True\n",
        "        dataset = ws.datasets[key]\n",
        "\n",
        "if not found:\n",
        "        # Create AML Dataset and register it into Workspace\n",
        "        data_url = 'https://archive.ics.uci.edu/ml/machine-learning-databases/00519/heart_failure_clinical_records_dataset.csv'\n",
        "        dataset = Dataset.Tabular.from_delimited_files(data_url)        \n",
        "        #Register Dataset in Workspace\n",
        "        dataset = dataset.register(workspace=ws,\n",
        "                                   name=key,\n",
        "                                   description=description_text)\n",
        "\n",
        "ds = dataset.to_pandas_dataframe()\n",
        "ds.describe()"
      ],
      "outputs": [
        {
          "output_type": "execute_result",
          "execution_count": 5,
          "data": {
            "text/plain": "              age     anaemia  creatinine_phosphokinase    diabetes  \\\ncount  299.000000  299.000000                299.000000  299.000000   \nmean    60.833893    0.431438                581.839465    0.418060   \nstd     11.894809    0.496107                970.287881    0.494067   \nmin     40.000000    0.000000                 23.000000    0.000000   \n25%     51.000000    0.000000                116.500000    0.000000   \n50%     60.000000    0.000000                250.000000    0.000000   \n75%     70.000000    1.000000                582.000000    1.000000   \nmax     95.000000    1.000000               7861.000000    1.000000   \n\n       ejection_fraction  high_blood_pressure      platelets  \\\ncount         299.000000           299.000000     299.000000   \nmean           38.083612             0.351171  263358.029264   \nstd            11.834841             0.478136   97804.236869   \nmin            14.000000             0.000000   25100.000000   \n25%            30.000000             0.000000  212500.000000   \n50%            38.000000             0.000000  262000.000000   \n75%            45.000000             1.000000  303500.000000   \nmax            80.000000             1.000000  850000.000000   \n\n       serum_creatinine  serum_sodium         sex    smoking        time  \\\ncount         299.00000    299.000000  299.000000  299.00000  299.000000   \nmean            1.39388    136.625418    0.648829    0.32107  130.260870   \nstd             1.03451      4.412477    0.478136    0.46767   77.614208   \nmin             0.50000    113.000000    0.000000    0.00000    4.000000   \n25%             0.90000    134.000000    0.000000    0.00000   73.000000   \n50%             1.10000    137.000000    1.000000    0.00000  115.000000   \n75%             1.40000    140.000000    1.000000    1.00000  203.000000   \nmax             9.40000    148.000000    1.000000    1.00000  285.000000   \n\n       DEATH_EVENT  \ncount    299.00000  \nmean       0.32107  \nstd        0.46767  \nmin        0.00000  \n25%        0.00000  \n50%        0.00000  \n75%        1.00000  \nmax        1.00000  ",
            "text/html": "<div>\n<style scoped>\n    .dataframe tbody tr th:only-of-type {\n        vertical-align: middle;\n    }\n\n    .dataframe tbody tr th {\n        vertical-align: top;\n    }\n\n    .dataframe thead th {\n        text-align: right;\n    }\n</style>\n<table border=\"1\" class=\"dataframe\">\n  <thead>\n    <tr style=\"text-align: right;\">\n      <th></th>\n      <th>age</th>\n      <th>anaemia</th>\n      <th>creatinine_phosphokinase</th>\n      <th>diabetes</th>\n      <th>ejection_fraction</th>\n      <th>high_blood_pressure</th>\n      <th>platelets</th>\n      <th>serum_creatinine</th>\n      <th>serum_sodium</th>\n      <th>sex</th>\n      <th>smoking</th>\n      <th>time</th>\n      <th>DEATH_EVENT</th>\n    </tr>\n  </thead>\n  <tbody>\n    <tr>\n      <th>count</th>\n      <td>299.000000</td>\n      <td>299.000000</td>\n      <td>299.000000</td>\n      <td>299.000000</td>\n      <td>299.000000</td>\n      <td>299.000000</td>\n      <td>299.000000</td>\n      <td>299.00000</td>\n      <td>299.000000</td>\n      <td>299.000000</td>\n      <td>299.00000</td>\n      <td>299.000000</td>\n      <td>299.00000</td>\n    </tr>\n    <tr>\n      <th>mean</th>\n      <td>60.833893</td>\n      <td>0.431438</td>\n      <td>581.839465</td>\n      <td>0.418060</td>\n      <td>38.083612</td>\n      <td>0.351171</td>\n      <td>263358.029264</td>\n      <td>1.39388</td>\n      <td>136.625418</td>\n      <td>0.648829</td>\n      <td>0.32107</td>\n      <td>130.260870</td>\n      <td>0.32107</td>\n    </tr>\n    <tr>\n      <th>std</th>\n      <td>11.894809</td>\n      <td>0.496107</td>\n      <td>970.287881</td>\n      <td>0.494067</td>\n      <td>11.834841</td>\n      <td>0.478136</td>\n      <td>97804.236869</td>\n      <td>1.03451</td>\n      <td>4.412477</td>\n      <td>0.478136</td>\n      <td>0.46767</td>\n      <td>77.614208</td>\n      <td>0.46767</td>\n    </tr>\n    <tr>\n      <th>min</th>\n      <td>40.000000</td>\n      <td>0.000000</td>\n      <td>23.000000</td>\n      <td>0.000000</td>\n      <td>14.000000</td>\n      <td>0.000000</td>\n      <td>25100.000000</td>\n      <td>0.50000</td>\n      <td>113.000000</td>\n      <td>0.000000</td>\n      <td>0.00000</td>\n      <td>4.000000</td>\n      <td>0.00000</td>\n    </tr>\n    <tr>\n      <th>25%</th>\n      <td>51.000000</td>\n      <td>0.000000</td>\n      <td>116.500000</td>\n      <td>0.000000</td>\n      <td>30.000000</td>\n      <td>0.000000</td>\n      <td>212500.000000</td>\n      <td>0.90000</td>\n      <td>134.000000</td>\n      <td>0.000000</td>\n      <td>0.00000</td>\n      <td>73.000000</td>\n      <td>0.00000</td>\n    </tr>\n    <tr>\n      <th>50%</th>\n      <td>60.000000</td>\n      <td>0.000000</td>\n      <td>250.000000</td>\n      <td>0.000000</td>\n      <td>38.000000</td>\n      <td>0.000000</td>\n      <td>262000.000000</td>\n      <td>1.10000</td>\n      <td>137.000000</td>\n      <td>1.000000</td>\n      <td>0.00000</td>\n      <td>115.000000</td>\n      <td>0.00000</td>\n    </tr>\n    <tr>\n      <th>75%</th>\n      <td>70.000000</td>\n      <td>1.000000</td>\n      <td>582.000000</td>\n      <td>1.000000</td>\n      <td>45.000000</td>\n      <td>1.000000</td>\n      <td>303500.000000</td>\n      <td>1.40000</td>\n      <td>140.000000</td>\n      <td>1.000000</td>\n      <td>1.00000</td>\n      <td>203.000000</td>\n      <td>1.00000</td>\n    </tr>\n    <tr>\n      <th>max</th>\n      <td>95.000000</td>\n      <td>1.000000</td>\n      <td>7861.000000</td>\n      <td>1.000000</td>\n      <td>80.000000</td>\n      <td>1.000000</td>\n      <td>850000.000000</td>\n      <td>9.40000</td>\n      <td>148.000000</td>\n      <td>1.000000</td>\n      <td>1.00000</td>\n      <td>285.000000</td>\n      <td>1.00000</td>\n    </tr>\n  </tbody>\n</table>\n</div>"
          },
          "metadata": {}
        }
      ],
      "execution_count": 5,
      "metadata": {
        "gather": {
          "logged": 1612993809636
        }
      }
    },
    {
      "cell_type": "markdown",
      "source": [
        "### Review the Dataset Result\n",
        "\n",
        "You can peek the result of a TabularDataset at any range using `skip(i)` and `take(j).to_pandas_dataframe()`. Doing so evaluates only `j` records for all the steps in the TabularDataset, which makes it fast even against large datasets.\n",
        "\n",
        "`TabularDataset` objects are composed of a list of transformation steps (optional)."
      ],
      "metadata": {}
    },
    {
      "cell_type": "code",
      "source": [
        "dataset.take(5).to_pandas_dataframe()"
      ],
      "outputs": [
        {
          "output_type": "execute_result",
          "execution_count": 6,
          "data": {
            "text/plain": "    age  anaemia  creatinine_phosphokinase  diabetes  ejection_fraction  \\\n0  75.0        0                       582         0                 20   \n1  55.0        0                      7861         0                 38   \n2  65.0        0                       146         0                 20   \n3  50.0        1                       111         0                 20   \n4  65.0        1                       160         1                 20   \n\n   high_blood_pressure  platelets  serum_creatinine  serum_sodium  sex  \\\n0                    1  265000.00               1.9           130    1   \n1                    0  263358.03               1.1           136    1   \n2                    0  162000.00               1.3           129    1   \n3                    0  210000.00               1.9           137    1   \n4                    0  327000.00               2.7           116    0   \n\n   smoking  time  DEATH_EVENT  \n0        0     4            1  \n1        0     6            1  \n2        1     7            1  \n3        0     7            1  \n4        0     8            1  ",
            "text/html": "<div>\n<style scoped>\n    .dataframe tbody tr th:only-of-type {\n        vertical-align: middle;\n    }\n\n    .dataframe tbody tr th {\n        vertical-align: top;\n    }\n\n    .dataframe thead th {\n        text-align: right;\n    }\n</style>\n<table border=\"1\" class=\"dataframe\">\n  <thead>\n    <tr style=\"text-align: right;\">\n      <th></th>\n      <th>age</th>\n      <th>anaemia</th>\n      <th>creatinine_phosphokinase</th>\n      <th>diabetes</th>\n      <th>ejection_fraction</th>\n      <th>high_blood_pressure</th>\n      <th>platelets</th>\n      <th>serum_creatinine</th>\n      <th>serum_sodium</th>\n      <th>sex</th>\n      <th>smoking</th>\n      <th>time</th>\n      <th>DEATH_EVENT</th>\n    </tr>\n  </thead>\n  <tbody>\n    <tr>\n      <th>0</th>\n      <td>75.0</td>\n      <td>0</td>\n      <td>582</td>\n      <td>0</td>\n      <td>20</td>\n      <td>1</td>\n      <td>265000.00</td>\n      <td>1.9</td>\n      <td>130</td>\n      <td>1</td>\n      <td>0</td>\n      <td>4</td>\n      <td>1</td>\n    </tr>\n    <tr>\n      <th>1</th>\n      <td>55.0</td>\n      <td>0</td>\n      <td>7861</td>\n      <td>0</td>\n      <td>38</td>\n      <td>0</td>\n      <td>263358.03</td>\n      <td>1.1</td>\n      <td>136</td>\n      <td>1</td>\n      <td>0</td>\n      <td>6</td>\n      <td>1</td>\n    </tr>\n    <tr>\n      <th>2</th>\n      <td>65.0</td>\n      <td>0</td>\n      <td>146</td>\n      <td>0</td>\n      <td>20</td>\n      <td>0</td>\n      <td>162000.00</td>\n      <td>1.3</td>\n      <td>129</td>\n      <td>1</td>\n      <td>1</td>\n      <td>7</td>\n      <td>1</td>\n    </tr>\n    <tr>\n      <th>3</th>\n      <td>50.0</td>\n      <td>1</td>\n      <td>111</td>\n      <td>0</td>\n      <td>20</td>\n      <td>0</td>\n      <td>210000.00</td>\n      <td>1.9</td>\n      <td>137</td>\n      <td>1</td>\n      <td>0</td>\n      <td>7</td>\n      <td>1</td>\n    </tr>\n    <tr>\n      <th>4</th>\n      <td>65.0</td>\n      <td>1</td>\n      <td>160</td>\n      <td>1</td>\n      <td>20</td>\n      <td>0</td>\n      <td>327000.00</td>\n      <td>2.7</td>\n      <td>116</td>\n      <td>0</td>\n      <td>0</td>\n      <td>8</td>\n      <td>1</td>\n    </tr>\n  </tbody>\n</table>\n</div>"
          },
          "metadata": {}
        }
      ],
      "execution_count": 6,
      "metadata": {
        "gather": {
          "logged": 1612993863358
        }
      }
    },
    {
      "cell_type": "markdown",
      "source": [
        "### Split data into train and test \n",
        "This creates a general AutoML settings object.\n",
        "**Udacity notes:** These inputs must match what was used when training in the portal. `label_column_name` has to be `DEATH_EVENT` for example."
      ],
      "metadata": {}
    },
    {
      "cell_type": "code",
      "source": [
        "from sklearn.model_selection import train_test_split\n",
        "# split into data and test sets\n",
        "ds = dataset.to_pandas_dataframe()\n",
        "# use split train, test\n",
        "train, test = train_test_split(ds, random_state=101, shuffle=True)\n",
        "\n",
        "# then write the train data to a file called train.csv and load to datastore\n",
        "train.to_csv('train.csv', index=False)\n",
        "datastore = ws.get_default_datastore()\n",
        "datastore.upload_files(files = ['./train.csv'])\n",
        "\n",
        "# then read to tabular dataset for automl\n",
        "train = Dataset.Tabular.from_delimited_files(path = [(datastore,'train.csv')])\n",
        "\n",
        "# write test to a file called test.csv and read to tabular dataset for automl\n",
        "test.to_csv('train.csv', index=False)\n",
        "#test = Dataset.Tabular.from_delimited_files(train.csv)"
      ],
      "outputs": [
        {
          "output_type": "stream",
          "name": "stdout",
          "text": [
            "Uploading an estimated of 1 files\n",
            "Uploading ./train.csv\n",
            "Uploaded ./train.csv, 1 files out of an estimated total of 1\n",
            "Uploaded 1 files\n"
          ]
        }
      ],
      "execution_count": 7,
      "metadata": {
        "gather": {
          "logged": 1612993870715
        }
      }
    },
    {
      "cell_type": "markdown",
      "source": [
        "AutoML Configuration¶\n",
        "TODO: Explain why you chose the automl settings and cofiguration you used below."
      ],
      "metadata": {}
    },
    {
      "cell_type": "code",
      "source": [
        "automl_settings = {\n",
        "    \"experiment_timeout_minutes\": 20,\n",
        "    \"max_concurrent_iterations\": 4,\n",
        "    \"primary_metric\" : 'accuracy',\n",
        "    \"iteration_timeout_minutes\": 5\n",
        "}\n",
        "automl_config = AutoMLConfig(compute_target=compute_target,\n",
        "                             task = \"classification\",\n",
        "                             training_data=train,\n",
        "                             label_column_name=\"DEATH_EVENT\",   \n",
        "                             path = project_folder,\n",
        "                             enable_early_stopping= True,\n",
        "                             featurization= 'auto',\n",
        "                             verbosity = logging.INFO,\n",
        "                             debug_log = \"automl_errors.log\",\n",
        "                             **automl_settings\n",
        "                            )\n"
      ],
      "outputs": [],
      "execution_count": 13,
      "metadata": {
        "gather": {
          "logged": 1612996271896
        }
      }
    },
    {
      "cell_type": "code",
      "source": [
        "#submit your experiment\n",
        "remote_run = experiment.submit(automl_config)"
      ],
      "outputs": [
        {
          "output_type": "stream",
          "name": "stdout",
          "text": [
            "Running on remote.\n"
          ]
        }
      ],
      "execution_count": 14,
      "metadata": {
        "gather": {
          "logged": 1612993890852
        },
        "scrolled": true
      }
    },
    {
      "cell_type": "code",
      "source": [
        "# Wait for the remote run to complete\n",
        "remote_run.wait_for_completion(show_output = True)"
      ],
      "outputs": [
        {
          "output_type": "stream",
          "name": "stdout",
          "text": [
            "\n",
            "\n",
            "****************************************************************************************************\n",
            "DATA GUARDRAILS: \n",
            "\n",
            "TYPE:         Cross validation\n",
            "STATUS:       DONE\n",
            "DESCRIPTION:  Each iteration of the trained model was validated through cross-validation.\n",
            "              \n",
            "DETAILS:      \n",
            "+---------------------------------+\n",
            "|Number of folds                  |\n",
            "+=================================+\n",
            "|10                               |\n",
            "+---------------------------------+\n",
            "\n",
            "****************************************************************************************************\n",
            "\n",
            "TYPE:         Class balancing detection\n",
            "STATUS:       PASSED\n",
            "DESCRIPTION:  Your inputs were analyzed, and all classes are balanced in your training data.\n",
            "              Learn more about imbalanced data: https://aka.ms/AutomatedMLImbalancedData\n",
            "\n",
            "****************************************************************************************************\n",
            "\n",
            "TYPE:         Missing feature values imputation\n",
            "STATUS:       PASSED\n",
            "DESCRIPTION:  No feature missing values were detected in the training data.\n",
            "              Learn more about missing value imputation: https://aka.ms/AutomatedMLFeaturization\n",
            "\n",
            "****************************************************************************************************\n",
            "\n",
            "TYPE:         High cardinality feature detection\n",
            "STATUS:       PASSED\n",
            "DESCRIPTION:  Your inputs were analyzed, and no high cardinality features were detected.\n",
            "              Learn more about high cardinality feature handling: https://aka.ms/AutomatedMLFeaturization\n",
            "\n",
            "****************************************************************************************************\n",
            "\n",
            "****************************************************************************************************\n",
            "ITERATION: The iteration being evaluated.\n",
            "PIPELINE: A summary description of the pipeline being evaluated.\n",
            "DURATION: Time taken for the current iteration.\n",
            "METRIC: The result of computing score on the fitted pipeline.\n",
            "BEST: The best observed score thus far.\n",
            "****************************************************************************************************\n",
            "\n",
            " ITERATION   PIPELINE                                       DURATION      METRIC      BEST\n",
            "         0   MaxAbsScaler LightGBM                          0:03:47       0.7943    0.7943\n",
            "         1   MaxAbsScaler XGBoostClassifier                 0:01:12       0.7988    0.7988\n",
            "         2   MinMaxScaler RandomForest                      0:01:17       0.8166    0.8166\n",
            "         3   MinMaxScaler RandomForest                      0:01:06       0.8168    0.8168\n",
            "         4   MinMaxScaler RandomForest                      0:03:53       0.8482    0.8482\n",
            "         5   MinMaxScaler SVM                               0:04:04       0.7105    0.8482\n",
            "         6   MinMaxScaler SVM                               0:01:19       0.7101    0.8482\n",
            "         7   MaxAbsScaler GradientBoosting                  0:01:13       0.8255    0.8482\n",
            "        10   MinMaxScaler LightGBM                          0:01:10       0.7939    0.8482\n",
            "        11   RobustScaler GradientBoosting                  0:01:03       0.8435    0.8482\n",
            "         8   SparseNormalizer XGBoostClassifier             0:01:05       0.8528    0.8528\n",
            "         9   RobustScaler RandomForest                      0:01:19       0.8310    0.8528\n",
            "        12   MaxAbsScaler LightGBM                          0:01:12       0.8038    0.8528\n",
            "        13   RobustScaler ExtremeRandomTrees                0:01:12       0.8302    0.8528\n",
            "        14   SparseNormalizer XGBoostClassifier             0:01:15       0.8172    0.8528\n",
            "        15   SparseNormalizer XGBoostClassifier             0:01:15       0.8125    0.8528\n",
            "        16   StandardScalerWrapper LightGBM                 0:01:12       0.8085    0.8528\n",
            "        17   MinMaxScaler LightGBM                          0:01:08       0.8304    0.8528\n",
            "        18   StandardScalerWrapper RandomForest             0:01:06       0.8170    0.8528\n",
            "        19   MinMaxScaler RandomForest                      0:01:12       0.8255    0.8528\n",
            "        20   RobustScaler RandomForest                      0:01:16       0.8215    0.8528\n",
            "        21   StandardScalerWrapper XGBoostClassifier        0:01:20       0.7941    0.8528\n",
            "        22   RobustScaler KNN                               0:01:20       0.6077    0.8528\n",
            "        23   MinMaxScaler LightGBM                          0:01:06       0.8209    0.8528\n",
            "        24   MaxAbsScaler LightGBM                          0:01:24       0.8034    0.8528\n",
            "        25   PCA XGBoostClassifier                          0:01:22       0.6253    0.8528\n",
            "        26   SparseNormalizer ExtremeRandomTrees            0:01:14       0.7504    0.8528\n",
            "        27   MaxAbsScaler ExtremeRandomTrees                0:01:14       0.8304    0.8528\n",
            "        28   MaxAbsScaler RandomForest                      0:01:03       0.8121    0.8528\n",
            "        29   StandardScalerWrapper XGBoostClassifier        0:01:06       0.8259    0.8528\n",
            "        30   StandardScalerWrapper RandomForest             0:01:08       0.8168    0.8528\n",
            "        31   SparseNormalizer LightGBM                      0:01:05       0.8126    0.8528\n",
            "        32   StandardScalerWrapper ExtremeRandomTrees       0:01:04       0.8257    0.8528\n",
            "        33   RobustScaler LightGBM                          0:00:41       0.8255    0.8528\n",
            "        34   PCA XGBoostClassifier                          0:00:37          nan    0.8528\n",
            "        35   RobustScaler LightGBM                          0:00:39          nan    0.8528\n",
            "        36    VotingEnsemble                                0:01:58       0.8662    0.8662\n",
            "        37    StackEnsemble                                 0:01:58       0.8526    0.8662\n"
          ]
        },
        {
          "output_type": "execute_result",
          "execution_count": 10,
          "data": {
            "text/plain": "{'runId': 'AutoML_26783b1a-8a29-4a5e-abc9-26a03657ff6c',\n 'target': 'auto-ml',\n 'status': 'Completed',\n 'startTimeUtc': '2021-02-11T04:15:47.624927Z',\n 'endTimeUtc': '2021-02-11T04:44:37.434635Z',\n 'properties': {'num_iterations': '1000',\n  'training_type': 'TrainFull',\n  'acquisition_function': 'EI',\n  'primary_metric': 'accuracy',\n  'train_split': '0',\n  'acquisition_parameter': '0',\n  'num_cross_validation': None,\n  'target': 'auto-ml',\n  'AMLSettingsJsonString': '{\"path\":null,\"name\":\"ml-experiment-1\",\"subscription_id\":\"cdbe0b43-92a0-4715-838a-f2648cc7ad21\",\"resource_group\":\"aml-quickstarts-138479\",\"workspace_name\":\"quick-starts-ws-138479\",\"region\":\"southcentralus\",\"compute_target\":\"auto-ml\",\"spark_service\":null,\"azure_service\":\"remote\",\"many_models\":false,\"pipeline_fetch_max_batch_size\":1,\"iterations\":1000,\"primary_metric\":\"accuracy\",\"task_type\":\"classification\",\"data_script\":null,\"validation_size\":0.0,\"n_cross_validations\":null,\"y_min\":null,\"y_max\":null,\"num_classes\":null,\"featurization\":\"auto\",\"_ignore_package_version_incompatibilities\":false,\"is_timeseries\":false,\"max_cores_per_iteration\":1,\"max_concurrent_iterations\":4,\"iteration_timeout_minutes\":5,\"mem_in_mb\":null,\"enforce_time_on_windows\":false,\"experiment_timeout_minutes\":20,\"experiment_exit_score\":null,\"whitelist_models\":null,\"blacklist_algos\":[\"TensorFlowLinearClassifier\",\"TensorFlowDNN\"],\"supported_models\":[\"DecisionTree\",\"TensorFlowDNN\",\"LogisticRegression\",\"GradientBoosting\",\"LightGBM\",\"AveragedPerceptronClassifier\",\"RandomForest\",\"SGD\",\"MultinomialNaiveBayes\",\"SVM\",\"ExtremeRandomTrees\",\"KNN\",\"BernoulliNaiveBayes\",\"LinearSVM\",\"TensorFlowLinearClassifier\",\"XGBoostClassifier\"],\"auto_blacklist\":true,\"blacklist_samples_reached\":false,\"exclude_nan_labels\":true,\"verbosity\":20,\"_debug_log\":\"azureml_automl.log\",\"show_warnings\":false,\"model_explainability\":true,\"service_url\":null,\"sdk_url\":null,\"sdk_packages\":null,\"enable_onnx_compatible_models\":false,\"enable_split_onnx_featurizer_estimator_models\":false,\"vm_type\":\"STANDARD_D2_V2\",\"telemetry_verbosity\":20,\"send_telemetry\":true,\"enable_dnn\":false,\"scenario\":\"SDK-1.13.0\",\"environment_label\":null,\"force_text_dnn\":false,\"enable_feature_sweeping\":true,\"enable_early_stopping\":true,\"early_stopping_n_iters\":10,\"metrics\":null,\"enable_ensembling\":true,\"enable_stack_ensembling\":true,\"ensemble_iterations\":15,\"enable_tf\":false,\"enable_subsampling\":null,\"subsample_seed\":null,\"enable_nimbusml\":false,\"enable_streaming\":false,\"force_streaming\":false,\"track_child_runs\":true,\"allowed_private_models\":[],\"label_column_name\":\"DEATH_EVENT\",\"weight_column_name\":null,\"cv_split_column_names\":null,\"enable_local_managed\":false,\"_local_managed_run_id\":null,\"cost_mode\":1,\"lag_length\":0,\"metric_operation\":\"maximize\",\"preprocess\":true}',\n  'DataPrepJsonString': '{\\\\\"training_data\\\\\": \\\\\"{\\\\\\\\\\\\\"blocks\\\\\\\\\\\\\": [{\\\\\\\\\\\\\"id\\\\\\\\\\\\\": \\\\\\\\\\\\\"b5aed9c1-b4ba-4b35-b634-f96b181a8c37\\\\\\\\\\\\\", \\\\\\\\\\\\\"type\\\\\\\\\\\\\": \\\\\\\\\\\\\"Microsoft.DPrep.GetDatastoreFilesBlock\\\\\\\\\\\\\", \\\\\\\\\\\\\"arguments\\\\\\\\\\\\\": {\\\\\\\\\\\\\"datastores\\\\\\\\\\\\\": [{\\\\\\\\\\\\\"datastoreName\\\\\\\\\\\\\": \\\\\\\\\\\\\"workspaceblobstore\\\\\\\\\\\\\", \\\\\\\\\\\\\"path\\\\\\\\\\\\\": \\\\\\\\\\\\\"train.csv\\\\\\\\\\\\\", \\\\\\\\\\\\\"resourceGroup\\\\\\\\\\\\\": \\\\\\\\\\\\\"aml-quickstarts-138479\\\\\\\\\\\\\", \\\\\\\\\\\\\"subscription\\\\\\\\\\\\\": \\\\\\\\\\\\\"cdbe0b43-92a0-4715-838a-f2648cc7ad21\\\\\\\\\\\\\", \\\\\\\\\\\\\"workspaceName\\\\\\\\\\\\\": \\\\\\\\\\\\\"quick-starts-ws-138479\\\\\\\\\\\\\"}]}, \\\\\\\\\\\\\"localData\\\\\\\\\\\\\": {}, \\\\\\\\\\\\\"isEnabled\\\\\\\\\\\\\": true, \\\\\\\\\\\\\"name\\\\\\\\\\\\\": null, \\\\\\\\\\\\\"annotation\\\\\\\\\\\\\": null}, {\\\\\\\\\\\\\"id\\\\\\\\\\\\\": \\\\\\\\\\\\\"2e489c6c-1227-4fb8-bd5c-bc7e7f54e322\\\\\\\\\\\\\", \\\\\\\\\\\\\"type\\\\\\\\\\\\\": \\\\\\\\\\\\\"Microsoft.DPrep.ParseDelimitedBlock\\\\\\\\\\\\\", \\\\\\\\\\\\\"arguments\\\\\\\\\\\\\": {\\\\\\\\\\\\\"columnHeadersMode\\\\\\\\\\\\\": 3, \\\\\\\\\\\\\"fileEncoding\\\\\\\\\\\\\": 0, \\\\\\\\\\\\\"handleQuotedLineBreaks\\\\\\\\\\\\\": false, \\\\\\\\\\\\\"preview\\\\\\\\\\\\\": false, \\\\\\\\\\\\\"separator\\\\\\\\\\\\\": \\\\\\\\\\\\\",\\\\\\\\\\\\\", \\\\\\\\\\\\\"skipRows\\\\\\\\\\\\\": 0, \\\\\\\\\\\\\"skipRowsMode\\\\\\\\\\\\\": 0}, \\\\\\\\\\\\\"localData\\\\\\\\\\\\\": {}, \\\\\\\\\\\\\"isEnabled\\\\\\\\\\\\\": true, \\\\\\\\\\\\\"name\\\\\\\\\\\\\": null, \\\\\\\\\\\\\"annotation\\\\\\\\\\\\\": null}, {\\\\\\\\\\\\\"id\\\\\\\\\\\\\": \\\\\\\\\\\\\"07876ee8-3e9d-456f-9839-a4e393e3b305\\\\\\\\\\\\\", \\\\\\\\\\\\\"type\\\\\\\\\\\\\": \\\\\\\\\\\\\"Microsoft.DPrep.DropColumnsBlock\\\\\\\\\\\\\", \\\\\\\\\\\\\"arguments\\\\\\\\\\\\\": {\\\\\\\\\\\\\"columns\\\\\\\\\\\\\": {\\\\\\\\\\\\\"type\\\\\\\\\\\\\": 0, \\\\\\\\\\\\\"details\\\\\\\\\\\\\": {\\\\\\\\\\\\\"selectedColumns\\\\\\\\\\\\\": [\\\\\\\\\\\\\"Path\\\\\\\\\\\\\"]}}}, \\\\\\\\\\\\\"localData\\\\\\\\\\\\\": {}, \\\\\\\\\\\\\"isEnabled\\\\\\\\\\\\\": true, \\\\\\\\\\\\\"name\\\\\\\\\\\\\": null, \\\\\\\\\\\\\"annotation\\\\\\\\\\\\\": null}, {\\\\\\\\\\\\\"id\\\\\\\\\\\\\": \\\\\\\\\\\\\"0e5cdfcf-d9f6-447b-afb1-990f6223fef5\\\\\\\\\\\\\", \\\\\\\\\\\\\"type\\\\\\\\\\\\\": \\\\\\\\\\\\\"Microsoft.DPrep.SetColumnTypesBlock\\\\\\\\\\\\\", \\\\\\\\\\\\\"arguments\\\\\\\\\\\\\": {\\\\\\\\\\\\\"columnConversion\\\\\\\\\\\\\": [{\\\\\\\\\\\\\"column\\\\\\\\\\\\\": {\\\\\\\\\\\\\"type\\\\\\\\\\\\\": 2, \\\\\\\\\\\\\"details\\\\\\\\\\\\\": {\\\\\\\\\\\\\"selectedColumn\\\\\\\\\\\\\": \\\\\\\\\\\\\"age\\\\\\\\\\\\\"}}, \\\\\\\\\\\\\"typeProperty\\\\\\\\\\\\\": 3}, {\\\\\\\\\\\\\"column\\\\\\\\\\\\\": {\\\\\\\\\\\\\"type\\\\\\\\\\\\\": 2, \\\\\\\\\\\\\"details\\\\\\\\\\\\\": {\\\\\\\\\\\\\"selectedColumn\\\\\\\\\\\\\": \\\\\\\\\\\\\"anaemia\\\\\\\\\\\\\"}}, \\\\\\\\\\\\\"typeProperty\\\\\\\\\\\\\": 2}, {\\\\\\\\\\\\\"column\\\\\\\\\\\\\": {\\\\\\\\\\\\\"type\\\\\\\\\\\\\": 2, \\\\\\\\\\\\\"details\\\\\\\\\\\\\": {\\\\\\\\\\\\\"selectedColumn\\\\\\\\\\\\\": \\\\\\\\\\\\\"creatinine_phosphokinase\\\\\\\\\\\\\"}}, \\\\\\\\\\\\\"typeProperty\\\\\\\\\\\\\": 2}, {\\\\\\\\\\\\\"column\\\\\\\\\\\\\": {\\\\\\\\\\\\\"type\\\\\\\\\\\\\": 2, \\\\\\\\\\\\\"details\\\\\\\\\\\\\": {\\\\\\\\\\\\\"selectedColumn\\\\\\\\\\\\\": \\\\\\\\\\\\\"diabetes\\\\\\\\\\\\\"}}, \\\\\\\\\\\\\"typeProperty\\\\\\\\\\\\\": 2}, {\\\\\\\\\\\\\"column\\\\\\\\\\\\\": {\\\\\\\\\\\\\"type\\\\\\\\\\\\\": 2, \\\\\\\\\\\\\"details\\\\\\\\\\\\\": {\\\\\\\\\\\\\"selectedColumn\\\\\\\\\\\\\": \\\\\\\\\\\\\"ejection_fraction\\\\\\\\\\\\\"}}, \\\\\\\\\\\\\"typeProperty\\\\\\\\\\\\\": 2}, {\\\\\\\\\\\\\"column\\\\\\\\\\\\\": {\\\\\\\\\\\\\"type\\\\\\\\\\\\\": 2, \\\\\\\\\\\\\"details\\\\\\\\\\\\\": {\\\\\\\\\\\\\"selectedColumn\\\\\\\\\\\\\": \\\\\\\\\\\\\"high_blood_pressure\\\\\\\\\\\\\"}}, \\\\\\\\\\\\\"typeProperty\\\\\\\\\\\\\": 2}, {\\\\\\\\\\\\\"column\\\\\\\\\\\\\": {\\\\\\\\\\\\\"type\\\\\\\\\\\\\": 2, \\\\\\\\\\\\\"details\\\\\\\\\\\\\": {\\\\\\\\\\\\\"selectedColumn\\\\\\\\\\\\\": \\\\\\\\\\\\\"platelets\\\\\\\\\\\\\"}}, \\\\\\\\\\\\\"typeProperty\\\\\\\\\\\\\": 3}, {\\\\\\\\\\\\\"column\\\\\\\\\\\\\": {\\\\\\\\\\\\\"type\\\\\\\\\\\\\": 2, \\\\\\\\\\\\\"details\\\\\\\\\\\\\": {\\\\\\\\\\\\\"selectedColumn\\\\\\\\\\\\\": \\\\\\\\\\\\\"serum_creatinine\\\\\\\\\\\\\"}}, \\\\\\\\\\\\\"typeProperty\\\\\\\\\\\\\": 3}, {\\\\\\\\\\\\\"column\\\\\\\\\\\\\": {\\\\\\\\\\\\\"type\\\\\\\\\\\\\": 2, \\\\\\\\\\\\\"details\\\\\\\\\\\\\": {\\\\\\\\\\\\\"selectedColumn\\\\\\\\\\\\\": \\\\\\\\\\\\\"serum_sodium\\\\\\\\\\\\\"}}, \\\\\\\\\\\\\"typeProperty\\\\\\\\\\\\\": 2}, {\\\\\\\\\\\\\"column\\\\\\\\\\\\\": {\\\\\\\\\\\\\"type\\\\\\\\\\\\\": 2, \\\\\\\\\\\\\"details\\\\\\\\\\\\\": {\\\\\\\\\\\\\"selectedColumn\\\\\\\\\\\\\": \\\\\\\\\\\\\"sex\\\\\\\\\\\\\"}}, \\\\\\\\\\\\\"typeProperty\\\\\\\\\\\\\": 2}, {\\\\\\\\\\\\\"column\\\\\\\\\\\\\": {\\\\\\\\\\\\\"type\\\\\\\\\\\\\": 2, \\\\\\\\\\\\\"details\\\\\\\\\\\\\": {\\\\\\\\\\\\\"selectedColumn\\\\\\\\\\\\\": \\\\\\\\\\\\\"smoking\\\\\\\\\\\\\"}}, \\\\\\\\\\\\\"typeProperty\\\\\\\\\\\\\": 2}, {\\\\\\\\\\\\\"column\\\\\\\\\\\\\": {\\\\\\\\\\\\\"type\\\\\\\\\\\\\": 2, \\\\\\\\\\\\\"details\\\\\\\\\\\\\": {\\\\\\\\\\\\\"selectedColumn\\\\\\\\\\\\\": \\\\\\\\\\\\\"time\\\\\\\\\\\\\"}}, \\\\\\\\\\\\\"typeProperty\\\\\\\\\\\\\": 2}, {\\\\\\\\\\\\\"column\\\\\\\\\\\\\": {\\\\\\\\\\\\\"type\\\\\\\\\\\\\": 2, \\\\\\\\\\\\\"details\\\\\\\\\\\\\": {\\\\\\\\\\\\\"selectedColumn\\\\\\\\\\\\\": \\\\\\\\\\\\\"DEATH_EVENT\\\\\\\\\\\\\"}}, \\\\\\\\\\\\\"typeProperty\\\\\\\\\\\\\": 2}]}, \\\\\\\\\\\\\"localData\\\\\\\\\\\\\": {}, \\\\\\\\\\\\\"isEnabled\\\\\\\\\\\\\": true, \\\\\\\\\\\\\"name\\\\\\\\\\\\\": null, \\\\\\\\\\\\\"annotation\\\\\\\\\\\\\": null}], \\\\\\\\\\\\\"inspectors\\\\\\\\\\\\\": [], \\\\\\\\\\\\\"meta\\\\\\\\\\\\\": {\\\\\\\\\\\\\"savedDatasetId\\\\\\\\\\\\\": \\\\\\\\\\\\\"e47605c6-5c1a-4806-8d61-54d2bf1d5f1e\\\\\\\\\\\\\", \\\\\\\\\\\\\"datasetType\\\\\\\\\\\\\": \\\\\\\\\\\\\"tabular\\\\\\\\\\\\\", \\\\\\\\\\\\\"subscriptionId\\\\\\\\\\\\\": \\\\\\\\\\\\\"cdbe0b43-92a0-4715-838a-f2648cc7ad21\\\\\\\\\\\\\", \\\\\\\\\\\\\"workspaceId\\\\\\\\\\\\\": \\\\\\\\\\\\\"d8fd2536-5f84-4a11-951d-e4b3dea3a0bd\\\\\\\\\\\\\", \\\\\\\\\\\\\"workspaceLocation\\\\\\\\\\\\\": \\\\\\\\\\\\\"southcentralus\\\\\\\\\\\\\"}}\\\\\", \\\\\"activities\\\\\": 0}',\n  'EnableSubsampling': None,\n  'runTemplate': 'AutoML',\n  'azureml.runsource': 'automl',\n  'display_task_type': 'classification',\n  'dependencies_versions': '{\"azureml-widgets\": \"1.20.0\", \"azureml-train\": \"1.20.0\", \"azureml-train-restclients-hyperdrive\": \"1.20.0\", \"azureml-train-core\": \"1.20.0\", \"azureml-train-automl\": \"1.20.0\", \"azureml-train-automl-runtime\": \"1.20.0\", \"azureml-train-automl-client\": \"1.20.0\", \"azureml-tensorboard\": \"1.20.0\", \"azureml-telemetry\": \"1.20.0\", \"azureml-sdk\": \"1.20.0\", \"azureml-samples\": \"0+unknown\", \"azureml-pipeline\": \"1.20.0\", \"azureml-pipeline-steps\": \"1.20.0\", \"azureml-pipeline-core\": \"1.20.0\", \"azureml-opendatasets\": \"1.20.0\", \"azureml-model-management-sdk\": \"1.0.1b6.post1\", \"azureml-mlflow\": \"1.20.0.post1\", \"azureml-interpret\": \"1.20.0\", \"azureml-explain-model\": \"1.20.0\", \"azureml-defaults\": \"1.20.0\", \"azureml-dataset-runtime\": \"1.20.0\", \"azureml-dataprep\": \"2.7.3\", \"azureml-dataprep-rslex\": \"1.5.0\", \"azureml-dataprep-native\": \"27.0.0\", \"azureml-datadrift\": \"1.20.0\", \"azureml-core\": \"1.20.0\", \"azureml-contrib-services\": \"1.20.0\", \"azureml-contrib-server\": \"1.20.0\", \"azureml-contrib-reinforcementlearning\": \"1.20.0\", \"azureml-contrib-pipeline-steps\": \"1.20.0\", \"azureml-contrib-notebook\": \"1.20.0\", \"azureml-contrib-interpret\": \"1.20.0\", \"azureml-contrib-gbdt\": \"1.20.0\", \"azureml-contrib-fairness\": \"1.20.0\", \"azureml-contrib-dataset\": \"1.20.0\", \"azureml-cli-common\": \"1.20.0\", \"azureml-automl-runtime\": \"1.20.0\", \"azureml-automl-core\": \"1.20.0\", \"azureml-accel-models\": \"1.20.0\"}',\n  '_aml_system_scenario_identification': 'Remote.Parent',\n  'ClientType': 'SDK',\n  'environment_cpu_name': 'AzureML-AutoML',\n  'environment_cpu_label': 'prod',\n  'environment_gpu_name': 'AzureML-AutoML-GPU',\n  'environment_gpu_label': 'prod',\n  'root_attribution': 'automl',\n  'attribution': 'AutoML',\n  'Orchestrator': 'AutoML',\n  'CancelUri': 'https://southcentralus.experiments.azureml.net/jasmine/v1.0/subscriptions/cdbe0b43-92a0-4715-838a-f2648cc7ad21/resourceGroups/aml-quickstarts-138479/providers/Microsoft.MachineLearningServices/workspaces/quick-starts-ws-138479/experimentids/e6bf90e8-a9d8-43f7-a4ab-d9c1421773e7/cancel/AutoML_26783b1a-8a29-4a5e-abc9-26a03657ff6c',\n  'ClientSdkVersion': '1.21.0',\n  'snapshotId': '00000000-0000-0000-0000-000000000000',\n  'SetupRunId': 'AutoML_26783b1a-8a29-4a5e-abc9-26a03657ff6c_setup',\n  'SetupRunContainerId': 'dcid.AutoML_26783b1a-8a29-4a5e-abc9-26a03657ff6c_setup',\n  'FeaturizationRunJsonPath': 'featurizer_container.json',\n  'FeaturizationRunId': 'AutoML_26783b1a-8a29-4a5e-abc9-26a03657ff6c_featurize',\n  'ProblemInfoJsonString': '{\"dataset_num_categorical\": 0, \"is_sparse\": false, \"subsampling\": false, \"dataset_classes\": 2, \"dataset_features\": 12, \"dataset_samples\": 224, \"single_frequency_class_detected\": false}',\n  'ModelExplainRunId': 'AutoML_26783b1a-8a29-4a5e-abc9-26a03657ff6c_ModelExplain'},\n 'inputDatasets': [{'dataset': {'id': 'e47605c6-5c1a-4806-8d61-54d2bf1d5f1e'}, 'consumptionDetails': {'type': 'RunInput', 'inputName': 'training_data', 'mechanism': 'Direct'}}],\n 'outputDatasets': [],\n 'logFiles': {},\n 'submittedBy': 'ODL_User 138479'}"
          },
          "metadata": {}
        }
      ],
      "execution_count": 10,
      "metadata": {
        "gather": {
          "logged": 1613019120600
        }
      }
    },
    {
      "cell_type": "markdown",
      "source": [
        "## Results \n",
        "Run Details¶\n",
        "OPTIONAL: Write about the different models trained and their performance. Why do you think some models did better than others?\n",
        "\n",
        "TODO: In the cell below, use the RunDetails widget to show the different experiments."
      ],
      "metadata": {}
    },
    {
      "cell_type": "code",
      "source": [
        "from azureml.widgets import RunDetails\n",
        "RunDetails(remote_run).show()"
      ],
      "outputs": [
        {
          "output_type": "display_data",
          "data": {
            "text/plain": "_AutoMLWidget(widget_settings={'childWidgetDisplay': 'popup', 'send_telemetry': False, 'log_level': 'INFO', 's…",
            "application/vnd.jupyter.widget-view+json": {
              "version_major": 2,
              "version_minor": 0,
              "model_id": "84bc93db8a49442badf7fb366bf2d2e7"
            }
          },
          "metadata": {}
        },
        {
          "output_type": "display_data",
          "data": {
            "application/aml.mini.widget.v1": "{\"status\": \"Completed\", \"workbench_run_details_uri\": \"https://ml.azure.com/experiments/ml-experiment-1/runs/AutoML_26783b1a-8a29-4a5e-abc9-26a03657ff6c?wsid=/subscriptions/cdbe0b43-92a0-4715-838a-f2648cc7ad21/resourcegroups/aml-quickstarts-138479/workspaces/quick-starts-ws-138479\", \"run_id\": \"AutoML_26783b1a-8a29-4a5e-abc9-26a03657ff6c\", \"run_properties\": {\"run_id\": \"AutoML_26783b1a-8a29-4a5e-abc9-26a03657ff6c\", \"created_utc\": \"2021-02-11T04:15:30.571051Z\", \"properties\": {\"num_iterations\": \"1000\", \"training_type\": \"TrainFull\", \"acquisition_function\": \"EI\", \"primary_metric\": \"accuracy\", \"train_split\": \"0\", \"acquisition_parameter\": \"0\", \"num_cross_validation\": null, \"target\": \"auto-ml\", \"AMLSettingsJsonString\": \"{\\\"path\\\":null,\\\"name\\\":\\\"ml-experiment-1\\\",\\\"subscription_id\\\":\\\"cdbe0b43-92a0-4715-838a-f2648cc7ad21\\\",\\\"resource_group\\\":\\\"aml-quickstarts-138479\\\",\\\"workspace_name\\\":\\\"quick-starts-ws-138479\\\",\\\"region\\\":\\\"southcentralus\\\",\\\"compute_target\\\":\\\"auto-ml\\\",\\\"spark_service\\\":null,\\\"azure_service\\\":\\\"remote\\\",\\\"many_models\\\":false,\\\"pipeline_fetch_max_batch_size\\\":1,\\\"iterations\\\":1000,\\\"primary_metric\\\":\\\"accuracy\\\",\\\"task_type\\\":\\\"classification\\\",\\\"data_script\\\":null,\\\"validation_size\\\":0.0,\\\"n_cross_validations\\\":null,\\\"y_min\\\":null,\\\"y_max\\\":null,\\\"num_classes\\\":null,\\\"featurization\\\":\\\"auto\\\",\\\"_ignore_package_version_incompatibilities\\\":false,\\\"is_timeseries\\\":false,\\\"max_cores_per_iteration\\\":1,\\\"max_concurrent_iterations\\\":4,\\\"iteration_timeout_minutes\\\":5,\\\"mem_in_mb\\\":null,\\\"enforce_time_on_windows\\\":false,\\\"experiment_timeout_minutes\\\":20,\\\"experiment_exit_score\\\":null,\\\"whitelist_models\\\":null,\\\"blacklist_algos\\\":[\\\"TensorFlowLinearClassifier\\\",\\\"TensorFlowDNN\\\"],\\\"supported_models\\\":[\\\"DecisionTree\\\",\\\"TensorFlowDNN\\\",\\\"LogisticRegression\\\",\\\"GradientBoosting\\\",\\\"LightGBM\\\",\\\"AveragedPerceptronClassifier\\\",\\\"RandomForest\\\",\\\"SGD\\\",\\\"MultinomialNaiveBayes\\\",\\\"SVM\\\",\\\"ExtremeRandomTrees\\\",\\\"KNN\\\",\\\"BernoulliNaiveBayes\\\",\\\"LinearSVM\\\",\\\"TensorFlowLinearClassifier\\\",\\\"XGBoostClassifier\\\"],\\\"auto_blacklist\\\":true,\\\"blacklist_samples_reached\\\":false,\\\"exclude_nan_labels\\\":true,\\\"verbosity\\\":20,\\\"_debug_log\\\":\\\"azureml_automl.log\\\",\\\"show_warnings\\\":false,\\\"model_explainability\\\":true,\\\"service_url\\\":null,\\\"sdk_url\\\":null,\\\"sdk_packages\\\":null,\\\"enable_onnx_compatible_models\\\":false,\\\"enable_split_onnx_featurizer_estimator_models\\\":false,\\\"vm_type\\\":\\\"STANDARD_D2_V2\\\",\\\"telemetry_verbosity\\\":20,\\\"send_telemetry\\\":true,\\\"enable_dnn\\\":false,\\\"scenario\\\":\\\"SDK-1.13.0\\\",\\\"environment_label\\\":null,\\\"force_text_dnn\\\":false,\\\"enable_feature_sweeping\\\":true,\\\"enable_early_stopping\\\":true,\\\"early_stopping_n_iters\\\":10,\\\"metrics\\\":null,\\\"enable_ensembling\\\":true,\\\"enable_stack_ensembling\\\":true,\\\"ensemble_iterations\\\":15,\\\"enable_tf\\\":false,\\\"enable_subsampling\\\":null,\\\"subsample_seed\\\":null,\\\"enable_nimbusml\\\":false,\\\"enable_streaming\\\":false,\\\"force_streaming\\\":false,\\\"track_child_runs\\\":true,\\\"allowed_private_models\\\":[],\\\"label_column_name\\\":\\\"DEATH_EVENT\\\",\\\"weight_column_name\\\":null,\\\"cv_split_column_names\\\":null,\\\"enable_local_managed\\\":false,\\\"_local_managed_run_id\\\":null,\\\"cost_mode\\\":1,\\\"lag_length\\\":0,\\\"metric_operation\\\":\\\"maximize\\\",\\\"preprocess\\\":true}\", \"DataPrepJsonString\": \"{\\\\\\\"training_data\\\\\\\": \\\\\\\"{\\\\\\\\\\\\\\\"blocks\\\\\\\\\\\\\\\": [{\\\\\\\\\\\\\\\"id\\\\\\\\\\\\\\\": \\\\\\\\\\\\\\\"b5aed9c1-b4ba-4b35-b634-f96b181a8c37\\\\\\\\\\\\\\\", \\\\\\\\\\\\\\\"type\\\\\\\\\\\\\\\": \\\\\\\\\\\\\\\"Microsoft.DPrep.GetDatastoreFilesBlock\\\\\\\\\\\\\\\", \\\\\\\\\\\\\\\"arguments\\\\\\\\\\\\\\\": {\\\\\\\\\\\\\\\"datastores\\\\\\\\\\\\\\\": [{\\\\\\\\\\\\\\\"datastoreName\\\\\\\\\\\\\\\": \\\\\\\\\\\\\\\"workspaceblobstore\\\\\\\\\\\\\\\", \\\\\\\\\\\\\\\"path\\\\\\\\\\\\\\\": \\\\\\\\\\\\\\\"train.csv\\\\\\\\\\\\\\\", \\\\\\\\\\\\\\\"resourceGroup\\\\\\\\\\\\\\\": \\\\\\\\\\\\\\\"aml-quickstarts-138479\\\\\\\\\\\\\\\", \\\\\\\\\\\\\\\"subscription\\\\\\\\\\\\\\\": \\\\\\\\\\\\\\\"cdbe0b43-92a0-4715-838a-f2648cc7ad21\\\\\\\\\\\\\\\", \\\\\\\\\\\\\\\"workspaceName\\\\\\\\\\\\\\\": \\\\\\\\\\\\\\\"quick-starts-ws-138479\\\\\\\\\\\\\\\"}]}, \\\\\\\\\\\\\\\"localData\\\\\\\\\\\\\\\": {}, \\\\\\\\\\\\\\\"isEnabled\\\\\\\\\\\\\\\": true, \\\\\\\\\\\\\\\"name\\\\\\\\\\\\\\\": null, \\\\\\\\\\\\\\\"annotation\\\\\\\\\\\\\\\": null}, {\\\\\\\\\\\\\\\"id\\\\\\\\\\\\\\\": \\\\\\\\\\\\\\\"2e489c6c-1227-4fb8-bd5c-bc7e7f54e322\\\\\\\\\\\\\\\", \\\\\\\\\\\\\\\"type\\\\\\\\\\\\\\\": \\\\\\\\\\\\\\\"Microsoft.DPrep.ParseDelimitedBlock\\\\\\\\\\\\\\\", \\\\\\\\\\\\\\\"arguments\\\\\\\\\\\\\\\": {\\\\\\\\\\\\\\\"columnHeadersMode\\\\\\\\\\\\\\\": 3, \\\\\\\\\\\\\\\"fileEncoding\\\\\\\\\\\\\\\": 0, \\\\\\\\\\\\\\\"handleQuotedLineBreaks\\\\\\\\\\\\\\\": false, \\\\\\\\\\\\\\\"preview\\\\\\\\\\\\\\\": false, \\\\\\\\\\\\\\\"separator\\\\\\\\\\\\\\\": \\\\\\\\\\\\\\\",\\\\\\\\\\\\\\\", \\\\\\\\\\\\\\\"skipRows\\\\\\\\\\\\\\\": 0, \\\\\\\\\\\\\\\"skipRowsMode\\\\\\\\\\\\\\\": 0}, \\\\\\\\\\\\\\\"localData\\\\\\\\\\\\\\\": {}, \\\\\\\\\\\\\\\"isEnabled\\\\\\\\\\\\\\\": true, \\\\\\\\\\\\\\\"name\\\\\\\\\\\\\\\": null, \\\\\\\\\\\\\\\"annotation\\\\\\\\\\\\\\\": null}, {\\\\\\\\\\\\\\\"id\\\\\\\\\\\\\\\": \\\\\\\\\\\\\\\"07876ee8-3e9d-456f-9839-a4e393e3b305\\\\\\\\\\\\\\\", \\\\\\\\\\\\\\\"type\\\\\\\\\\\\\\\": \\\\\\\\\\\\\\\"Microsoft.DPrep.DropColumnsBlock\\\\\\\\\\\\\\\", \\\\\\\\\\\\\\\"arguments\\\\\\\\\\\\\\\": {\\\\\\\\\\\\\\\"columns\\\\\\\\\\\\\\\": {\\\\\\\\\\\\\\\"type\\\\\\\\\\\\\\\": 0, \\\\\\\\\\\\\\\"details\\\\\\\\\\\\\\\": {\\\\\\\\\\\\\\\"selectedColumns\\\\\\\\\\\\\\\": [\\\\\\\\\\\\\\\"Path\\\\\\\\\\\\\\\"]}}}, \\\\\\\\\\\\\\\"localData\\\\\\\\\\\\\\\": {}, \\\\\\\\\\\\\\\"isEnabled\\\\\\\\\\\\\\\": true, \\\\\\\\\\\\\\\"name\\\\\\\\\\\\\\\": null, \\\\\\\\\\\\\\\"annotation\\\\\\\\\\\\\\\": null}, {\\\\\\\\\\\\\\\"id\\\\\\\\\\\\\\\": \\\\\\\\\\\\\\\"0e5cdfcf-d9f6-447b-afb1-990f6223fef5\\\\\\\\\\\\\\\", \\\\\\\\\\\\\\\"type\\\\\\\\\\\\\\\": \\\\\\\\\\\\\\\"Microsoft.DPrep.SetColumnTypesBlock\\\\\\\\\\\\\\\", \\\\\\\\\\\\\\\"arguments\\\\\\\\\\\\\\\": {\\\\\\\\\\\\\\\"columnConversion\\\\\\\\\\\\\\\": [{\\\\\\\\\\\\\\\"column\\\\\\\\\\\\\\\": {\\\\\\\\\\\\\\\"type\\\\\\\\\\\\\\\": 2, \\\\\\\\\\\\\\\"details\\\\\\\\\\\\\\\": {\\\\\\\\\\\\\\\"selectedColumn\\\\\\\\\\\\\\\": \\\\\\\\\\\\\\\"age\\\\\\\\\\\\\\\"}}, \\\\\\\\\\\\\\\"typeProperty\\\\\\\\\\\\\\\": 3}, {\\\\\\\\\\\\\\\"column\\\\\\\\\\\\\\\": {\\\\\\\\\\\\\\\"type\\\\\\\\\\\\\\\": 2, \\\\\\\\\\\\\\\"details\\\\\\\\\\\\\\\": {\\\\\\\\\\\\\\\"selectedColumn\\\\\\\\\\\\\\\": \\\\\\\\\\\\\\\"anaemia\\\\\\\\\\\\\\\"}}, \\\\\\\\\\\\\\\"typeProperty\\\\\\\\\\\\\\\": 2}, {\\\\\\\\\\\\\\\"column\\\\\\\\\\\\\\\": {\\\\\\\\\\\\\\\"type\\\\\\\\\\\\\\\": 2, \\\\\\\\\\\\\\\"details\\\\\\\\\\\\\\\": {\\\\\\\\\\\\\\\"selectedColumn\\\\\\\\\\\\\\\": \\\\\\\\\\\\\\\"creatinine_phosphokinase\\\\\\\\\\\\\\\"}}, \\\\\\\\\\\\\\\"typeProperty\\\\\\\\\\\\\\\": 2}, {\\\\\\\\\\\\\\\"column\\\\\\\\\\\\\\\": {\\\\\\\\\\\\\\\"type\\\\\\\\\\\\\\\": 2, \\\\\\\\\\\\\\\"details\\\\\\\\\\\\\\\": {\\\\\\\\\\\\\\\"selectedColumn\\\\\\\\\\\\\\\": \\\\\\\\\\\\\\\"diabetes\\\\\\\\\\\\\\\"}}, \\\\\\\\\\\\\\\"typeProperty\\\\\\\\\\\\\\\": 2}, {\\\\\\\\\\\\\\\"column\\\\\\\\\\\\\\\": {\\\\\\\\\\\\\\\"type\\\\\\\\\\\\\\\": 2, \\\\\\\\\\\\\\\"details\\\\\\\\\\\\\\\": {\\\\\\\\\\\\\\\"selectedColumn\\\\\\\\\\\\\\\": \\\\\\\\\\\\\\\"ejection_fraction\\\\\\\\\\\\\\\"}}, \\\\\\\\\\\\\\\"typeProperty\\\\\\\\\\\\\\\": 2}, {\\\\\\\\\\\\\\\"column\\\\\\\\\\\\\\\": {\\\\\\\\\\\\\\\"type\\\\\\\\\\\\\\\": 2, \\\\\\\\\\\\\\\"details\\\\\\\\\\\\\\\": {\\\\\\\\\\\\\\\"selectedColumn\\\\\\\\\\\\\\\": \\\\\\\\\\\\\\\"high_blood_pressure\\\\\\\\\\\\\\\"}}, \\\\\\\\\\\\\\\"typeProperty\\\\\\\\\\\\\\\": 2}, {\\\\\\\\\\\\\\\"column\\\\\\\\\\\\\\\": {\\\\\\\\\\\\\\\"type\\\\\\\\\\\\\\\": 2, \\\\\\\\\\\\\\\"details\\\\\\\\\\\\\\\": {\\\\\\\\\\\\\\\"selectedColumn\\\\\\\\\\\\\\\": \\\\\\\\\\\\\\\"platelets\\\\\\\\\\\\\\\"}}, \\\\\\\\\\\\\\\"typeProperty\\\\\\\\\\\\\\\": 3}, {\\\\\\\\\\\\\\\"column\\\\\\\\\\\\\\\": {\\\\\\\\\\\\\\\"type\\\\\\\\\\\\\\\": 2, \\\\\\\\\\\\\\\"details\\\\\\\\\\\\\\\": {\\\\\\\\\\\\\\\"selectedColumn\\\\\\\\\\\\\\\": \\\\\\\\\\\\\\\"serum_creatinine\\\\\\\\\\\\\\\"}}, \\\\\\\\\\\\\\\"typeProperty\\\\\\\\\\\\\\\": 3}, {\\\\\\\\\\\\\\\"column\\\\\\\\\\\\\\\": {\\\\\\\\\\\\\\\"type\\\\\\\\\\\\\\\": 2, \\\\\\\\\\\\\\\"details\\\\\\\\\\\\\\\": {\\\\\\\\\\\\\\\"selectedColumn\\\\\\\\\\\\\\\": \\\\\\\\\\\\\\\"serum_sodium\\\\\\\\\\\\\\\"}}, \\\\\\\\\\\\\\\"typeProperty\\\\\\\\\\\\\\\": 2}, {\\\\\\\\\\\\\\\"column\\\\\\\\\\\\\\\": {\\\\\\\\\\\\\\\"type\\\\\\\\\\\\\\\": 2, \\\\\\\\\\\\\\\"details\\\\\\\\\\\\\\\": {\\\\\\\\\\\\\\\"selectedColumn\\\\\\\\\\\\\\\": \\\\\\\\\\\\\\\"sex\\\\\\\\\\\\\\\"}}, \\\\\\\\\\\\\\\"typeProperty\\\\\\\\\\\\\\\": 2}, {\\\\\\\\\\\\\\\"column\\\\\\\\\\\\\\\": {\\\\\\\\\\\\\\\"type\\\\\\\\\\\\\\\": 2, \\\\\\\\\\\\\\\"details\\\\\\\\\\\\\\\": {\\\\\\\\\\\\\\\"selectedColumn\\\\\\\\\\\\\\\": \\\\\\\\\\\\\\\"smoking\\\\\\\\\\\\\\\"}}, \\\\\\\\\\\\\\\"typeProperty\\\\\\\\\\\\\\\": 2}, {\\\\\\\\\\\\\\\"column\\\\\\\\\\\\\\\": {\\\\\\\\\\\\\\\"type\\\\\\\\\\\\\\\": 2, \\\\\\\\\\\\\\\"details\\\\\\\\\\\\\\\": {\\\\\\\\\\\\\\\"selectedColumn\\\\\\\\\\\\\\\": \\\\\\\\\\\\\\\"time\\\\\\\\\\\\\\\"}}, \\\\\\\\\\\\\\\"typeProperty\\\\\\\\\\\\\\\": 2}, {\\\\\\\\\\\\\\\"column\\\\\\\\\\\\\\\": {\\\\\\\\\\\\\\\"type\\\\\\\\\\\\\\\": 2, \\\\\\\\\\\\\\\"details\\\\\\\\\\\\\\\": {\\\\\\\\\\\\\\\"selectedColumn\\\\\\\\\\\\\\\": \\\\\\\\\\\\\\\"DEATH_EVENT\\\\\\\\\\\\\\\"}}, \\\\\\\\\\\\\\\"typeProperty\\\\\\\\\\\\\\\": 2}]}, \\\\\\\\\\\\\\\"localData\\\\\\\\\\\\\\\": {}, \\\\\\\\\\\\\\\"isEnabled\\\\\\\\\\\\\\\": true, \\\\\\\\\\\\\\\"name\\\\\\\\\\\\\\\": null, \\\\\\\\\\\\\\\"annotation\\\\\\\\\\\\\\\": null}], \\\\\\\\\\\\\\\"inspectors\\\\\\\\\\\\\\\": [], \\\\\\\\\\\\\\\"meta\\\\\\\\\\\\\\\": {\\\\\\\\\\\\\\\"savedDatasetId\\\\\\\\\\\\\\\": \\\\\\\\\\\\\\\"e47605c6-5c1a-4806-8d61-54d2bf1d5f1e\\\\\\\\\\\\\\\", \\\\\\\\\\\\\\\"datasetType\\\\\\\\\\\\\\\": \\\\\\\\\\\\\\\"tabular\\\\\\\\\\\\\\\", \\\\\\\\\\\\\\\"subscriptionId\\\\\\\\\\\\\\\": \\\\\\\\\\\\\\\"cdbe0b43-92a0-4715-838a-f2648cc7ad21\\\\\\\\\\\\\\\", \\\\\\\\\\\\\\\"workspaceId\\\\\\\\\\\\\\\": \\\\\\\\\\\\\\\"d8fd2536-5f84-4a11-951d-e4b3dea3a0bd\\\\\\\\\\\\\\\", \\\\\\\\\\\\\\\"workspaceLocation\\\\\\\\\\\\\\\": \\\\\\\\\\\\\\\"southcentralus\\\\\\\\\\\\\\\"}}\\\\\\\", \\\\\\\"activities\\\\\\\": 0}\", \"EnableSubsampling\": null, \"runTemplate\": \"AutoML\", \"azureml.runsource\": \"automl\", \"display_task_type\": \"classification\", \"dependencies_versions\": \"{\\\"azureml-widgets\\\": \\\"1.20.0\\\", \\\"azureml-train\\\": \\\"1.20.0\\\", \\\"azureml-train-restclients-hyperdrive\\\": \\\"1.20.0\\\", \\\"azureml-train-core\\\": \\\"1.20.0\\\", \\\"azureml-train-automl\\\": \\\"1.20.0\\\", \\\"azureml-train-automl-runtime\\\": \\\"1.20.0\\\", \\\"azureml-train-automl-client\\\": \\\"1.20.0\\\", \\\"azureml-tensorboard\\\": \\\"1.20.0\\\", \\\"azureml-telemetry\\\": \\\"1.20.0\\\", \\\"azureml-sdk\\\": \\\"1.20.0\\\", \\\"azureml-samples\\\": \\\"0+unknown\\\", \\\"azureml-pipeline\\\": \\\"1.20.0\\\", \\\"azureml-pipeline-steps\\\": \\\"1.20.0\\\", \\\"azureml-pipeline-core\\\": \\\"1.20.0\\\", \\\"azureml-opendatasets\\\": \\\"1.20.0\\\", \\\"azureml-model-management-sdk\\\": \\\"1.0.1b6.post1\\\", \\\"azureml-mlflow\\\": \\\"1.20.0.post1\\\", \\\"azureml-interpret\\\": \\\"1.20.0\\\", \\\"azureml-explain-model\\\": \\\"1.20.0\\\", \\\"azureml-defaults\\\": \\\"1.20.0\\\", \\\"azureml-dataset-runtime\\\": \\\"1.20.0\\\", \\\"azureml-dataprep\\\": \\\"2.7.3\\\", \\\"azureml-dataprep-rslex\\\": \\\"1.5.0\\\", \\\"azureml-dataprep-native\\\": \\\"27.0.0\\\", \\\"azureml-datadrift\\\": \\\"1.20.0\\\", \\\"azureml-core\\\": \\\"1.20.0\\\", \\\"azureml-contrib-services\\\": \\\"1.20.0\\\", \\\"azureml-contrib-server\\\": \\\"1.20.0\\\", \\\"azureml-contrib-reinforcementlearning\\\": \\\"1.20.0\\\", \\\"azureml-contrib-pipeline-steps\\\": \\\"1.20.0\\\", \\\"azureml-contrib-notebook\\\": \\\"1.20.0\\\", \\\"azureml-contrib-interpret\\\": \\\"1.20.0\\\", \\\"azureml-contrib-gbdt\\\": \\\"1.20.0\\\", \\\"azureml-contrib-fairness\\\": \\\"1.20.0\\\", \\\"azureml-contrib-dataset\\\": \\\"1.20.0\\\", \\\"azureml-cli-common\\\": \\\"1.20.0\\\", \\\"azureml-automl-runtime\\\": \\\"1.20.0\\\", \\\"azureml-automl-core\\\": \\\"1.20.0\\\", \\\"azureml-accel-models\\\": \\\"1.20.0\\\"}\", \"_aml_system_scenario_identification\": \"Remote.Parent\", \"ClientType\": \"SDK\", \"environment_cpu_name\": \"AzureML-AutoML\", \"environment_cpu_label\": \"prod\", \"environment_gpu_name\": \"AzureML-AutoML-GPU\", \"environment_gpu_label\": \"prod\", \"root_attribution\": \"automl\", \"attribution\": \"AutoML\", \"Orchestrator\": \"AutoML\", \"CancelUri\": \"https://southcentralus.experiments.azureml.net/jasmine/v1.0/subscriptions/cdbe0b43-92a0-4715-838a-f2648cc7ad21/resourceGroups/aml-quickstarts-138479/providers/Microsoft.MachineLearningServices/workspaces/quick-starts-ws-138479/experimentids/e6bf90e8-a9d8-43f7-a4ab-d9c1421773e7/cancel/AutoML_26783b1a-8a29-4a5e-abc9-26a03657ff6c\", \"ClientSdkVersion\": \"1.21.0\", \"snapshotId\": \"00000000-0000-0000-0000-000000000000\", \"SetupRunId\": \"AutoML_26783b1a-8a29-4a5e-abc9-26a03657ff6c_setup\", \"SetupRunContainerId\": \"dcid.AutoML_26783b1a-8a29-4a5e-abc9-26a03657ff6c_setup\", \"FeaturizationRunJsonPath\": \"featurizer_container.json\", \"FeaturizationRunId\": \"AutoML_26783b1a-8a29-4a5e-abc9-26a03657ff6c_featurize\", \"ProblemInfoJsonString\": \"{\\\"dataset_num_categorical\\\": 0, \\\"is_sparse\\\": false, \\\"subsampling\\\": false, \\\"dataset_classes\\\": 2, \\\"dataset_features\\\": 12, \\\"dataset_samples\\\": 224, \\\"single_frequency_class_detected\\\": false}\", \"ModelExplainRunId\": \"AutoML_26783b1a-8a29-4a5e-abc9-26a03657ff6c_ModelExplain\"}, \"tags\": {\"model_explain_run\": \"best_run\", \"_aml_system_azureml.automlComponent\": \"AutoML\", \"pipeline_id\": \"\", \"score\": \"\", \"predicted_cost\": \"\", \"fit_time\": \"\", \"training_percent\": \"\", \"iteration\": \"\", \"run_preprocessor\": \"\", \"run_algorithm\": \"\", \"dynamic_whitelisting_iterations\": \"<25>;<29>;<34>;\", \"automl_best_child_run_id\": \"AutoML_26783b1a-8a29-4a5e-abc9-26a03657ff6c_36\", \"model_explain_best_run_child_id\": \"AutoML_26783b1a-8a29-4a5e-abc9-26a03657ff6c_36\"}, \"end_time_utc\": \"2021-02-11T04:44:37.434635Z\", \"status\": \"Completed\", \"log_files\": {}, \"log_groups\": [], \"run_duration\": \"0:29:06\"}, \"child_runs\": [{\"run_id\": \"AutoML_26783b1a-8a29-4a5e-abc9-26a03657ff6c_0\", \"run_number\": 5, \"metric\": null, \"status\": \"Completed\", \"run_type\": \"azureml.scriptrun\", \"training_percent\": \"100\", \"start_time\": \"2021-02-11T04:28:37.819453Z\", \"end_time\": \"2021-02-11T04:32:24.985238Z\", \"created_time\": \"2021-02-11T04:24:53.287778Z\", \"created_time_dt\": \"2021-02-11T04:24:53.287778Z\", \"duration\": \"0:07:31\", \"iteration\": \"0\", \"goal\": \"accuracy_max\", \"run_name\": \"MaxAbsScaler, LightGBM\", \"run_properties\": \"copy=True\", \"primary_metric\": 0.79426877, \"best_metric\": 0.79426877}, {\"run_id\": \"AutoML_26783b1a-8a29-4a5e-abc9-26a03657ff6c_3\", \"run_number\": 6, \"metric\": null, \"status\": \"Completed\", \"run_type\": \"azureml.scriptrun\", \"training_percent\": \"100\", \"start_time\": \"2021-02-11T04:25:08.437973Z\", \"end_time\": \"2021-02-11T04:26:14.119082Z\", \"created_time\": \"2021-02-11T04:24:53.600601Z\", \"created_time_dt\": \"2021-02-11T04:24:53.600601Z\", \"duration\": \"0:01:20\", \"iteration\": \"3\", \"goal\": \"accuracy_max\", \"run_name\": \"MinMaxScaler, RandomForest\", \"run_properties\": \"copy=True, feature_range=(0, 1\", \"primary_metric\": 0.81679842, \"best_metric\": 0.81679842}, {\"run_id\": \"AutoML_26783b1a-8a29-4a5e-abc9-26a03657ff6c_2\", \"run_number\": 7, \"metric\": null, \"status\": \"Completed\", \"run_type\": \"azureml.scriptrun\", \"training_percent\": \"100\", \"start_time\": \"2021-02-11T04:26:15.392058Z\", \"end_time\": \"2021-02-11T04:27:32.340512Z\", \"created_time\": \"2021-02-11T04:24:53.615385Z\", \"created_time_dt\": \"2021-02-11T04:24:53.615385Z\", \"duration\": \"0:02:38\", \"iteration\": \"2\", \"goal\": \"accuracy_max\", \"run_name\": \"MinMaxScaler, RandomForest\", \"run_properties\": \"copy=True, feature_range=(0, 1\", \"primary_metric\": 0.81660079, \"best_metric\": 0.81660079}, {\"run_id\": \"AutoML_26783b1a-8a29-4a5e-abc9-26a03657ff6c_1\", \"run_number\": 8, \"metric\": null, \"status\": \"Completed\", \"run_type\": \"azureml.scriptrun\", \"training_percent\": \"100\", \"start_time\": \"2021-02-11T04:27:40.118577Z\", \"end_time\": \"2021-02-11T04:28:51.916208Z\", \"created_time\": \"2021-02-11T04:24:53.621815Z\", \"created_time_dt\": \"2021-02-11T04:24:53.621815Z\", \"duration\": \"0:03:58\", \"iteration\": \"1\", \"goal\": \"accuracy_max\", \"run_name\": \"MaxAbsScaler, XGBoostClassifier\", \"run_properties\": \"copy=True\", \"primary_metric\": 0.79881423, \"best_metric\": 0.79881423}, {\"run_id\": \"AutoML_26783b1a-8a29-4a5e-abc9-26a03657ff6c_4\", \"run_number\": 9, \"metric\": null, \"status\": \"Completed\", \"run_type\": \"azureml.scriptrun\", \"training_percent\": \"100\", \"start_time\": \"2021-02-11T04:28:37.807871Z\", \"end_time\": \"2021-02-11T04:32:30.368623Z\", \"created_time\": \"2021-02-11T04:26:17.697839Z\", \"created_time_dt\": \"2021-02-11T04:26:17.697839Z\", \"duration\": \"0:06:12\", \"iteration\": \"4\", \"goal\": \"accuracy_max\", \"run_name\": \"MinMaxScaler, RandomForest\", \"run_properties\": \"copy=True, feature_range=(0, 1\", \"primary_metric\": 0.84822134, \"best_metric\": 0.84822134}, {\"run_id\": \"AutoML_26783b1a-8a29-4a5e-abc9-26a03657ff6c_5\", \"run_number\": 10, \"metric\": null, \"status\": \"Completed\", \"run_type\": \"azureml.scriptrun\", \"training_percent\": \"100\", \"start_time\": \"2021-02-11T04:28:37.739044Z\", \"end_time\": \"2021-02-11T04:32:41.379983Z\", \"created_time\": \"2021-02-11T04:27:34.715909Z\", \"created_time_dt\": \"2021-02-11T04:27:34.715909Z\", \"duration\": \"0:05:06\", \"iteration\": \"5\", \"goal\": \"accuracy_max\", \"run_name\": \"MinMaxScaler, SVM\", \"run_properties\": \"copy=True, feature_range=(0, 1\", \"primary_metric\": 0.71047431, \"best_metric\": 0.84822134}, {\"run_id\": \"AutoML_26783b1a-8a29-4a5e-abc9-26a03657ff6c_6\", \"run_number\": 11, \"metric\": null, \"status\": \"Completed\", \"run_type\": \"azureml.scriptrun\", \"training_percent\": \"100\", \"start_time\": \"2021-02-11T04:29:10.301321Z\", \"end_time\": \"2021-02-11T04:30:28.950253Z\", \"created_time\": \"2021-02-11T04:28:55.500056Z\", \"created_time_dt\": \"2021-02-11T04:28:55.500056Z\", \"duration\": \"0:01:33\", \"iteration\": \"6\", \"goal\": \"accuracy_max\", \"run_name\": \"MinMaxScaler, SVM\", \"run_properties\": \"copy=True, feature_range=(0, 1\", \"primary_metric\": 0.71007905, \"best_metric\": 0.84822134}, {\"run_id\": \"AutoML_26783b1a-8a29-4a5e-abc9-26a03657ff6c_7\", \"run_number\": 12, \"metric\": null, \"status\": \"Completed\", \"run_type\": \"azureml.scriptrun\", \"training_percent\": \"100\", \"start_time\": \"2021-02-11T04:30:44.655997Z\", \"end_time\": \"2021-02-11T04:31:57.675867Z\", \"created_time\": \"2021-02-11T04:30:31.892344Z\", \"created_time_dt\": \"2021-02-11T04:30:31.892344Z\", \"duration\": \"0:01:25\", \"iteration\": \"7\", \"goal\": \"accuracy_max\", \"run_name\": \"MaxAbsScaler, GradientBoosting\", \"run_properties\": \"copy=True\", \"primary_metric\": 0.82549407, \"best_metric\": 0.84822134}, {\"run_id\": \"AutoML_26783b1a-8a29-4a5e-abc9-26a03657ff6c_8\", \"run_number\": 13, \"metric\": null, \"status\": \"Completed\", \"run_type\": \"azureml.scriptrun\", \"training_percent\": \"100\", \"start_time\": \"2021-02-11T04:32:13.383615Z\", \"end_time\": \"2021-02-11T04:33:18.215468Z\", \"created_time\": \"2021-02-11T04:32:00.311059Z\", \"created_time_dt\": \"2021-02-11T04:32:00.311059Z\", \"duration\": \"0:01:17\", \"iteration\": \"8\", \"goal\": \"accuracy_max\", \"run_name\": \"SparseNormalizer, XGBoostClassifier\", \"run_properties\": \"<azureml.automl.runtime.shared.model_wrappers.SparseNormalizer object at 0x7f4f482a7ef0\", \"primary_metric\": 0.8527668, \"best_metric\": 0.8527668}, {\"run_id\": \"AutoML_26783b1a-8a29-4a5e-abc9-26a03657ff6c_9\", \"run_number\": 14, \"metric\": null, \"status\": \"Completed\", \"run_type\": \"azureml.scriptrun\", \"training_percent\": \"100\", \"start_time\": \"2021-02-11T04:32:42.71784Z\", \"end_time\": \"2021-02-11T04:34:02.181461Z\", \"created_time\": \"2021-02-11T04:32:27.460205Z\", \"created_time_dt\": \"2021-02-11T04:32:27.460205Z\", \"duration\": \"0:01:34\", \"iteration\": \"9\", \"goal\": \"accuracy_max\", \"run_name\": \"RobustScaler, RandomForest\", \"run_properties\": \"copy=True, quantile_range=[10, 90], with_centering=True,\\n             with_scaling=True\", \"primary_metric\": 0.83102767, \"best_metric\": 0.8527668}, {\"run_id\": \"AutoML_26783b1a-8a29-4a5e-abc9-26a03657ff6c_10\", \"run_number\": 15, \"metric\": null, \"status\": \"Completed\", \"run_type\": \"azureml.scriptrun\", \"training_percent\": \"100\", \"start_time\": \"2021-02-11T04:32:45.314283Z\", \"end_time\": \"2021-02-11T04:33:55.368495Z\", \"created_time\": \"2021-02-11T04:32:32.691141Z\", \"created_time_dt\": \"2021-02-11T04:32:32.691141Z\", \"duration\": \"0:01:22\", \"iteration\": \"10\", \"goal\": \"accuracy_max\", \"run_name\": \"MinMaxScaler, LightGBM\", \"run_properties\": \"copy=True, feature_range=(0, 1\", \"primary_metric\": 0.79387352, \"best_metric\": 0.8527668}, {\"run_id\": \"AutoML_26783b1a-8a29-4a5e-abc9-26a03657ff6c_11\", \"run_number\": 16, \"metric\": null, \"status\": \"Completed\", \"run_type\": \"azureml.scriptrun\", \"training_percent\": \"100\", \"start_time\": \"2021-02-11T04:32:56.162137Z\", \"end_time\": \"2021-02-11T04:33:58.813716Z\", \"created_time\": \"2021-02-11T04:32:43.812045Z\", \"created_time_dt\": \"2021-02-11T04:32:43.812045Z\", \"duration\": \"0:01:15\", \"iteration\": \"11\", \"goal\": \"accuracy_max\", \"run_name\": \"RobustScaler, GradientBoosting\", \"run_properties\": \"copy=True, quantile_range=[25, 75], with_centering=False,\\n             with_scaling=False\", \"primary_metric\": 0.84347826, \"best_metric\": 0.8527668}, {\"run_id\": \"AutoML_26783b1a-8a29-4a5e-abc9-26a03657ff6c_12\", \"run_number\": 17, \"metric\": null, \"status\": \"Completed\", \"run_type\": \"azureml.scriptrun\", \"training_percent\": \"100\", \"start_time\": \"2021-02-11T04:33:36.203141Z\", \"end_time\": \"2021-02-11T04:34:48.021975Z\", \"created_time\": \"2021-02-11T04:33:21.524873Z\", \"created_time_dt\": \"2021-02-11T04:33:21.524873Z\", \"duration\": \"0:01:26\", \"iteration\": \"12\", \"goal\": \"accuracy_max\", \"run_name\": \"MaxAbsScaler, LightGBM\", \"run_properties\": \"copy=True\", \"primary_metric\": 0.80375494, \"best_metric\": 0.8527668}, {\"run_id\": \"AutoML_26783b1a-8a29-4a5e-abc9-26a03657ff6c_13\", \"run_number\": 18, \"metric\": null, \"status\": \"Completed\", \"run_type\": \"azureml.scriptrun\", \"training_percent\": \"100\", \"start_time\": \"2021-02-11T04:34:12.688155Z\", \"end_time\": \"2021-02-11T04:35:24.791269Z\", \"created_time\": \"2021-02-11T04:33:57.665803Z\", \"created_time_dt\": \"2021-02-11T04:33:57.665803Z\", \"duration\": \"0:01:27\", \"iteration\": \"13\", \"goal\": \"accuracy_max\", \"run_name\": \"RobustScaler, ExtremeRandomTrees\", \"run_properties\": \"copy=True, quantile_range=[25, 75], with_centering=True,\\n             with_scaling=False\", \"primary_metric\": 0.83023715, \"best_metric\": 0.8527668}, {\"run_id\": \"AutoML_26783b1a-8a29-4a5e-abc9-26a03657ff6c_14\", \"run_number\": 19, \"metric\": null, \"status\": \"Completed\", \"run_type\": \"azureml.scriptrun\", \"training_percent\": \"100\", \"start_time\": \"2021-02-11T04:34:17.835889Z\", \"end_time\": \"2021-02-11T04:35:32.705728Z\", \"created_time\": \"2021-02-11T04:34:03.628987Z\", \"created_time_dt\": \"2021-02-11T04:34:03.628987Z\", \"duration\": \"0:01:29\", \"iteration\": \"14\", \"goal\": \"accuracy_max\", \"run_name\": \"SparseNormalizer, XGBoostClassifier\", \"run_properties\": \"<azureml.automl.runtime.shared.model_wrappers.SparseNormalizer object at 0x7fcf284a8be0\", \"primary_metric\": 0.81719368, \"best_metric\": 0.8527668}, {\"run_id\": \"AutoML_26783b1a-8a29-4a5e-abc9-26a03657ff6c_15\", \"run_number\": 20, \"metric\": null, \"status\": \"Completed\", \"run_type\": \"azureml.scriptrun\", \"training_percent\": \"100\", \"start_time\": \"2021-02-11T04:34:23.622316Z\", \"end_time\": \"2021-02-11T04:35:38.687025Z\", \"created_time\": \"2021-02-11T04:34:09.694374Z\", \"created_time_dt\": \"2021-02-11T04:34:09.694374Z\", \"duration\": \"0:01:28\", \"iteration\": \"15\", \"goal\": \"accuracy_max\", \"run_name\": \"SparseNormalizer, XGBoostClassifier\", \"run_properties\": \"<azureml.automl.runtime.shared.model_wrappers.SparseNormalizer object at 0x7f12045255c0\", \"primary_metric\": 0.81245059, \"best_metric\": 0.8527668}, {\"run_id\": \"AutoML_26783b1a-8a29-4a5e-abc9-26a03657ff6c_16\", \"run_number\": 21, \"metric\": null, \"status\": \"Completed\", \"run_type\": \"azureml.scriptrun\", \"training_percent\": \"100\", \"start_time\": \"2021-02-11T04:35:06.569503Z\", \"end_time\": \"2021-02-11T04:36:18.21596Z\", \"created_time\": \"2021-02-11T04:34:52.198207Z\", \"created_time_dt\": \"2021-02-11T04:34:52.198207Z\", \"duration\": \"0:01:26\", \"iteration\": \"16\", \"goal\": \"accuracy_max\", \"run_name\": \"StandardScalerWrapper, LightGBM\", \"run_properties\": \"<azureml.automl.runtime.shared.model_wrappers.StandardScalerWrapper object at 0x7fad593120b8\", \"primary_metric\": 0.80849802, \"best_metric\": 0.8527668}, {\"run_id\": \"AutoML_26783b1a-8a29-4a5e-abc9-26a03657ff6c_17\", \"run_number\": 22, \"metric\": null, \"status\": \"Completed\", \"run_type\": \"azureml.scriptrun\", \"training_percent\": \"100\", \"start_time\": \"2021-02-11T04:35:40.473572Z\", \"end_time\": \"2021-02-11T04:36:48.477564Z\", \"created_time\": \"2021-02-11T04:35:27.632136Z\", \"created_time_dt\": \"2021-02-11T04:35:27.632136Z\", \"duration\": \"0:01:20\", \"iteration\": \"17\", \"goal\": \"accuracy_max\", \"run_name\": \"MinMaxScaler, LightGBM\", \"run_properties\": \"copy=True, feature_range=(0, 1\", \"primary_metric\": 0.83043478, \"best_metric\": 0.8527668}, {\"run_id\": \"AutoML_26783b1a-8a29-4a5e-abc9-26a03657ff6c_18\", \"run_number\": 23, \"metric\": null, \"status\": \"Completed\", \"run_type\": \"azureml.scriptrun\", \"training_percent\": \"100\", \"start_time\": \"2021-02-11T04:35:46.27108Z\", \"end_time\": \"2021-02-11T04:36:52.204005Z\", \"created_time\": \"2021-02-11T04:35:35.02066Z\", \"created_time_dt\": \"2021-02-11T04:35:35.02066Z\", \"duration\": \"0:01:17\", \"iteration\": \"18\", \"goal\": \"accuracy_max\", \"run_name\": \"StandardScalerWrapper, RandomForest\", \"run_properties\": \"<azureml.automl.runtime.shared.model_wrappers.StandardScalerWrapper object at 0x7f43184af470\", \"primary_metric\": 0.81699605, \"best_metric\": 0.8527668}, {\"run_id\": \"AutoML_26783b1a-8a29-4a5e-abc9-26a03657ff6c_19\", \"run_number\": 24, \"metric\": null, \"status\": \"Completed\", \"run_type\": \"azureml.scriptrun\", \"training_percent\": \"100\", \"start_time\": \"2021-02-11T04:35:54.330035Z\", \"end_time\": \"2021-02-11T04:37:05.943945Z\", \"created_time\": \"2021-02-11T04:35:41.042133Z\", \"created_time_dt\": \"2021-02-11T04:35:41.042133Z\", \"duration\": \"0:01:24\", \"iteration\": \"19\", \"goal\": \"accuracy_max\", \"run_name\": \"MinMaxScaler, RandomForest\", \"run_properties\": \"copy=True, feature_range=(0, 1\", \"primary_metric\": 0.82549407, \"best_metric\": 0.8527668}, {\"run_id\": \"AutoML_26783b1a-8a29-4a5e-abc9-26a03657ff6c_20\", \"run_number\": 25, \"metric\": null, \"status\": \"Completed\", \"run_type\": \"azureml.scriptrun\", \"training_percent\": \"100\", \"start_time\": \"2021-02-11T04:36:32.150885Z\", \"end_time\": \"2021-02-11T04:37:48.431548Z\", \"created_time\": \"2021-02-11T04:36:20.696868Z\", \"created_time_dt\": \"2021-02-11T04:36:20.696868Z\", \"duration\": \"0:01:27\", \"iteration\": \"20\", \"goal\": \"accuracy_max\", \"run_name\": \"RobustScaler, RandomForest\", \"run_properties\": \"copy=True, quantile_range=[25, 75], with_centering=True,\\n             with_scaling=False\", \"primary_metric\": 0.8215415, \"best_metric\": 0.8527668}, {\"run_id\": \"AutoML_26783b1a-8a29-4a5e-abc9-26a03657ff6c_21\", \"run_number\": 26, \"metric\": null, \"status\": \"Completed\", \"run_type\": \"azureml.scriptrun\", \"training_percent\": \"100\", \"start_time\": \"2021-02-11T04:37:02.642335Z\", \"end_time\": \"2021-02-11T04:38:22.466109Z\", \"created_time\": \"2021-02-11T04:36:51.092682Z\", \"created_time_dt\": \"2021-02-11T04:36:51.092682Z\", \"duration\": \"0:01:31\", \"iteration\": \"21\", \"goal\": \"accuracy_max\", \"run_name\": \"StandardScalerWrapper, XGBoostClassifier\", \"run_properties\": \"<azureml.automl.runtime.shared.model_wrappers.StandardScalerWrapper object at 0x7fda34b7a978\", \"primary_metric\": 0.79407115, \"best_metric\": 0.8527668}, {\"run_id\": \"AutoML_26783b1a-8a29-4a5e-abc9-26a03657ff6c_22\", \"run_number\": 27, \"metric\": null, \"status\": \"Completed\", \"run_type\": \"azureml.scriptrun\", \"training_percent\": \"100\", \"start_time\": \"2021-02-11T04:37:06.278371Z\", \"end_time\": \"2021-02-11T04:38:26.621048Z\", \"created_time\": \"2021-02-11T04:36:55.692503Z\", \"created_time_dt\": \"2021-02-11T04:36:55.692503Z\", \"duration\": \"0:01:30\", \"iteration\": \"22\", \"goal\": \"accuracy_max\", \"run_name\": \"RobustScaler, KNN\", \"run_properties\": \"copy=True, quantile_range=[10, 90], with_centering=False,\\n             with_scaling=False\", \"primary_metric\": 0.60770751, \"best_metric\": 0.8527668}, {\"run_id\": \"AutoML_26783b1a-8a29-4a5e-abc9-26a03657ff6c_23\", \"run_number\": 28, \"metric\": null, \"status\": \"Completed\", \"run_type\": \"azureml.scriptrun\", \"training_percent\": \"100\", \"start_time\": \"2021-02-11T04:37:18.732465Z\", \"end_time\": \"2021-02-11T04:38:24.507229Z\", \"created_time\": \"2021-02-11T04:37:08.28377Z\", \"created_time_dt\": \"2021-02-11T04:37:08.28377Z\", \"duration\": \"0:01:16\", \"iteration\": \"23\", \"goal\": \"accuracy_max\", \"run_name\": \"MinMaxScaler, LightGBM\", \"run_properties\": \"copy=True, feature_range=(0, 1\", \"primary_metric\": 0.82094862, \"best_metric\": 0.8527668}, {\"run_id\": \"AutoML_26783b1a-8a29-4a5e-abc9-26a03657ff6c_24\", \"run_number\": 29, \"metric\": null, \"status\": \"Completed\", \"run_type\": \"azureml.scriptrun\", \"training_percent\": \"100\", \"start_time\": \"2021-02-11T04:38:03.464151Z\", \"end_time\": \"2021-02-11T04:39:27.498057Z\", \"created_time\": \"2021-02-11T04:37:51.107337Z\", \"created_time_dt\": \"2021-02-11T04:37:51.107337Z\", \"duration\": \"0:01:36\", \"iteration\": \"24\", \"goal\": \"accuracy_max\", \"run_name\": \"MaxAbsScaler, LightGBM\", \"run_properties\": \"copy=True\", \"primary_metric\": 0.80335968, \"best_metric\": 0.8527668}, {\"run_id\": \"AutoML_26783b1a-8a29-4a5e-abc9-26a03657ff6c_25\", \"run_number\": 30, \"metric\": null, \"status\": \"Completed\", \"run_type\": \"azureml.scriptrun\", \"training_percent\": \"100\", \"start_time\": \"2021-02-11T04:38:38.584274Z\", \"end_time\": \"2021-02-11T04:40:00.111491Z\", \"created_time\": \"2021-02-11T04:38:25.653521Z\", \"created_time_dt\": \"2021-02-11T04:38:25.653521Z\", \"duration\": \"0:01:34\", \"iteration\": \"25\", \"goal\": \"accuracy_max\", \"run_name\": \"PCA, XGBoostClassifier\", \"run_properties\": \"copy=True, iterated_power='auto', n_components=0.6531578947368422,\\n    random_state=None, svd_solver='auto', tol=0.0, whiten=False\", \"primary_metric\": 0.62529644, \"best_metric\": 0.8527668}, {\"run_id\": \"AutoML_26783b1a-8a29-4a5e-abc9-26a03657ff6c_26\", \"run_number\": 31, \"metric\": null, \"status\": \"Completed\", \"run_type\": \"azureml.scriptrun\", \"training_percent\": \"100\", \"start_time\": \"2021-02-11T04:38:40.94272Z\", \"end_time\": \"2021-02-11T04:39:54.915573Z\", \"created_time\": \"2021-02-11T04:38:30.148763Z\", \"created_time_dt\": \"2021-02-11T04:38:30.148763Z\", \"duration\": \"0:01:24\", \"iteration\": \"26\", \"goal\": \"accuracy_max\", \"run_name\": \"SparseNormalizer, ExtremeRandomTrees\", \"run_properties\": \"<azureml.automl.runtime.shared.model_wrappers.SparseNormalizer object at 0x7f92c814b0f0\", \"primary_metric\": 0.75039526, \"best_metric\": 0.8527668}, {\"run_id\": \"AutoML_26783b1a-8a29-4a5e-abc9-26a03657ff6c_27\", \"run_number\": 32, \"metric\": null, \"status\": \"Completed\", \"run_type\": \"azureml.scriptrun\", \"training_percent\": \"100\", \"start_time\": \"2021-02-11T04:38:40.77074Z\", \"end_time\": \"2021-02-11T04:39:54.487722Z\", \"created_time\": \"2021-02-11T04:38:30.285902Z\", \"created_time_dt\": \"2021-02-11T04:38:30.285902Z\", \"duration\": \"0:01:24\", \"iteration\": \"27\", \"goal\": \"accuracy_max\", \"run_name\": \"MaxAbsScaler, ExtremeRandomTrees\", \"run_properties\": \"copy=True\", \"primary_metric\": 0.83043478, \"best_metric\": 0.8527668}, {\"run_id\": \"AutoML_26783b1a-8a29-4a5e-abc9-26a03657ff6c_28\", \"run_number\": 33, \"metric\": null, \"status\": \"Completed\", \"run_type\": \"azureml.scriptrun\", \"training_percent\": \"100\", \"start_time\": \"2021-02-11T04:39:41.944098Z\", \"end_time\": \"2021-02-11T04:40:45.346314Z\", \"created_time\": \"2021-02-11T04:39:29.871266Z\", \"created_time_dt\": \"2021-02-11T04:39:29.871266Z\", \"duration\": \"0:01:15\", \"iteration\": \"28\", \"goal\": \"accuracy_max\", \"run_name\": \"MaxAbsScaler, RandomForest\", \"run_properties\": \"copy=True\", \"primary_metric\": 0.81205534, \"best_metric\": 0.8527668}, {\"run_id\": \"AutoML_26783b1a-8a29-4a5e-abc9-26a03657ff6c_29\", \"run_number\": 34, \"metric\": null, \"status\": \"Completed\", \"run_type\": \"azureml.scriptrun\", \"training_percent\": \"100\", \"start_time\": \"2021-02-11T04:40:09.931512Z\", \"end_time\": \"2021-02-11T04:41:16.263402Z\", \"created_time\": \"2021-02-11T04:39:59.05502Z\", \"created_time_dt\": \"2021-02-11T04:39:59.05502Z\", \"duration\": \"0:01:17\", \"iteration\": \"29\", \"goal\": \"accuracy_max\", \"run_name\": \"StandardScalerWrapper, XGBoostClassifier\", \"run_properties\": \"<azureml.automl.runtime.shared.model_wrappers.StandardScalerWrapper object at 0x7ff989656ef0\", \"primary_metric\": 0.82588933, \"best_metric\": 0.8527668}, {\"run_id\": \"AutoML_26783b1a-8a29-4a5e-abc9-26a03657ff6c_30\", \"run_number\": 35, \"metric\": null, \"status\": \"Completed\", \"run_type\": \"azureml.scriptrun\", \"training_percent\": \"100\", \"start_time\": \"2021-02-11T04:40:12.219698Z\", \"end_time\": \"2021-02-11T04:41:19.899615Z\", \"created_time\": \"2021-02-11T04:39:59.215738Z\", \"created_time_dt\": \"2021-02-11T04:39:59.215738Z\", \"duration\": \"0:01:20\", \"iteration\": \"30\", \"goal\": \"accuracy_max\", \"run_name\": \"StandardScalerWrapper, RandomForest\", \"run_properties\": \"<azureml.automl.runtime.shared.model_wrappers.StandardScalerWrapper object at 0x7fe8bf691be0\", \"primary_metric\": 0.81679842, \"best_metric\": 0.8527668}, {\"run_id\": \"AutoML_26783b1a-8a29-4a5e-abc9-26a03657ff6c_31\", \"run_number\": 36, \"metric\": null, \"status\": \"Completed\", \"run_type\": \"azureml.scriptrun\", \"training_percent\": \"100\", \"start_time\": \"2021-02-11T04:40:16.04122Z\", \"end_time\": \"2021-02-11T04:41:20.832498Z\", \"created_time\": \"2021-02-11T04:40:03.723911Z\", \"created_time_dt\": \"2021-02-11T04:40:03.723911Z\", \"duration\": \"0:01:17\", \"iteration\": \"31\", \"goal\": \"accuracy_max\", \"run_name\": \"SparseNormalizer, LightGBM\", \"run_properties\": \"<azureml.automl.runtime.shared.model_wrappers.SparseNormalizer object at 0x7efe04411eb8\", \"primary_metric\": 0.81264822, \"best_metric\": 0.8527668}, {\"run_id\": \"AutoML_26783b1a-8a29-4a5e-abc9-26a03657ff6c_32\", \"run_number\": 37, \"metric\": null, \"status\": \"Completed\", \"run_type\": \"azureml.scriptrun\", \"training_percent\": \"100\", \"start_time\": \"2021-02-11T04:41:00.863652Z\", \"end_time\": \"2021-02-11T04:42:05.271311Z\", \"created_time\": \"2021-02-11T04:40:47.669268Z\", \"created_time_dt\": \"2021-02-11T04:40:47.669268Z\", \"duration\": \"0:01:17\", \"iteration\": \"32\", \"goal\": \"accuracy_max\", \"run_name\": \"StandardScalerWrapper, ExtremeRandomTrees\", \"run_properties\": \"<azureml.automl.runtime.shared.model_wrappers.StandardScalerWrapper object at 0x7f949c33dac8\", \"primary_metric\": 0.8256917, \"best_metric\": 0.8527668}, {\"run_id\": \"AutoML_26783b1a-8a29-4a5e-abc9-26a03657ff6c_33\", \"run_number\": 38, \"metric\": null, \"status\": \"Canceled\", \"run_type\": \"azureml.scriptrun\", \"training_percent\": \"100\", \"start_time\": \"2021-02-11T04:41:31.479326Z\", \"end_time\": \"2021-02-11T04:42:12.412305Z\", \"created_time\": \"2021-02-11T04:41:18.675511Z\", \"created_time_dt\": \"2021-02-11T04:41:18.675511Z\", \"duration\": \"0:00:53\", \"iteration\": \"33\", \"goal\": \"accuracy_max\", \"run_name\": \"RobustScaler, LightGBM\", \"run_properties\": \"copy=True, quantile_range=[10, 90], with_centering=True,\\n             with_scaling=False\", \"primary_metric\": 0.82549407, \"best_metric\": 0.8527668}, {\"run_id\": \"AutoML_26783b1a-8a29-4a5e-abc9-26a03657ff6c_35\", \"run_number\": 39, \"metric\": null, \"status\": \"Canceled\", \"run_type\": \"azureml.scriptrun\", \"training_percent\": \"100\", \"start_time\": \"2021-02-11T04:41:34.696388Z\", \"end_time\": \"2021-02-11T04:42:14.192079Z\", \"created_time\": \"2021-02-11T04:41:24.063332Z\", \"created_time_dt\": \"2021-02-11T04:41:24.063332Z\", \"duration\": \"0:00:50\", \"iteration\": \"35\", \"goal\": null, \"run_name\": \"RobustScaler, LightGBM\", \"run_properties\": null}, {\"run_id\": \"AutoML_26783b1a-8a29-4a5e-abc9-26a03657ff6c_34\", \"run_number\": 40, \"metric\": null, \"status\": \"Canceled\", \"run_type\": \"azureml.scriptrun\", \"training_percent\": \"100\", \"start_time\": \"2021-02-11T04:41:36.31598Z\", \"end_time\": \"2021-02-11T04:42:13.617691Z\", \"created_time\": \"2021-02-11T04:41:24.083929Z\", \"created_time_dt\": \"2021-02-11T04:41:24.083929Z\", \"duration\": \"0:00:49\", \"iteration\": \"34\", \"goal\": null, \"run_name\": \"PCA, XGBoostClassifier\", \"run_properties\": null}, {\"run_id\": \"AutoML_26783b1a-8a29-4a5e-abc9-26a03657ff6c_36\", \"run_number\": 41, \"metric\": null, \"status\": \"Completed\", \"run_type\": \"azureml.scriptrun\", \"training_percent\": \"100\", \"start_time\": \"2021-02-11T04:42:28.802548Z\", \"end_time\": \"2021-02-11T04:44:27.256308Z\", \"created_time\": \"2021-02-11T04:42:15.718756Z\", \"created_time_dt\": \"2021-02-11T04:42:15.718756Z\", \"duration\": \"0:02:11\", \"iteration\": \"36\", \"goal\": \"accuracy_max\", \"run_name\": \"VotingEnsemble\", \"run_properties\": \"classification_labels=None,\\n                              estimators=[('8',\\n                                           Pipeline(memory=None,\\n                                                    steps=[('sparsenormalizer',\\n                                                            <azureml.automl.runtime.shared.model_wrappers.SparseNormalizer object at 0x7f6311452c50>\", \"primary_metric\": 0.86620553, \"best_metric\": 0.86620553}, {\"run_id\": \"AutoML_26783b1a-8a29-4a5e-abc9-26a03657ff6c_37\", \"run_number\": 42, \"metric\": null, \"status\": \"Completed\", \"run_type\": \"azureml.scriptrun\", \"training_percent\": \"100\", \"start_time\": \"2021-02-11T04:42:29.496417Z\", \"end_time\": \"2021-02-11T04:44:27.662714Z\", \"created_time\": \"2021-02-11T04:42:15.882981Z\", \"created_time_dt\": \"2021-02-11T04:42:15.882981Z\", \"duration\": \"0:02:11\", \"iteration\": \"37\", \"goal\": \"accuracy_max\", \"run_name\": \"StackEnsemble\", \"run_properties\": \"base_learners=[('8',\\n                                        Pipeline(memory=None,\\n                                                 steps=[('sparsenormalizer',\\n                                                         <azureml.automl.runtime.shared.model_wrappers.SparseNormalizer object at 0x7f79adedc2b0>\", \"primary_metric\": 0.85256917, \"best_metric\": 0.86620553}], \"children_metrics\": {\"categories\": [0], \"series\": {\"accuracy\": [{\"categories\": [\"0\", \"1\", \"2\", \"3\", \"4\", \"5\", \"6\", \"7\", \"8\", \"9\", \"10\", \"11\", \"12\", \"13\", \"14\", \"15\", \"16\", \"17\", \"18\", \"19\", \"20\", \"21\", \"22\", \"23\", \"24\", \"25\", \"26\", \"27\", \"28\", \"29\", \"30\", \"31\", \"32\", \"33\", \"36\", \"37\"], \"mode\": \"markers\", \"name\": \"accuracy\", \"stepped\": false, \"type\": \"scatter\", \"data\": [0.7942687747035573, 0.7988142292490119, 0.8166007905138339, 0.8167984189723321, 0.8482213438735178, 0.7104743083003953, 0.7100790513833993, 0.8254940711462451, 0.8527667984189723, 0.8310276679841897, 0.7938735177865612, 0.8434782608695652, 0.8037549407114624, 0.8302371541501976, 0.8171936758893281, 0.8124505928853756, 0.8084980237154149, 0.8304347826086957, 0.8169960474308301, 0.825494071146245, 0.8215415019762846, 0.7940711462450593, 0.607707509881423, 0.8209486166007904, 0.8033596837944664, 0.625296442687747, 0.750395256916996, 0.8304347826086957, 0.8120553359683795, 0.825889328063241, 0.8167984189723321, 0.8126482213438735, 0.8256916996047432, 0.825494071146245, 0.8662055335968379, 0.8525691699604744]}, {\"categories\": [\"0\", \"1\", \"2\", \"3\", \"4\", \"5\", \"6\", \"7\", \"8\", \"9\", \"10\", \"11\", \"12\", \"13\", \"14\", \"15\", \"16\", \"17\", \"18\", \"19\", \"20\", \"21\", \"22\", \"23\", \"24\", \"25\", \"26\", \"27\", \"28\", \"29\", \"30\", \"31\", \"32\", \"33\", \"36\", \"37\"], \"mode\": \"lines\", \"name\": \"accuracy_max\", \"stepped\": true, \"type\": \"scatter\", \"data\": [0.7942687747035573, 0.7988142292490119, 0.8166007905138339, 0.8167984189723321, 0.8482213438735178, 0.8482213438735178, 0.8482213438735178, 0.8482213438735178, 0.8527667984189723, 0.8527667984189723, 0.8527667984189723, 0.8527667984189723, 0.8527667984189723, 0.8527667984189723, 0.8527667984189723, 0.8527667984189723, 0.8527667984189723, 0.8527667984189723, 0.8527667984189723, 0.8527667984189723, 0.8527667984189723, 0.8527667984189723, 0.8527667984189723, 0.8527667984189723, 0.8527667984189723, 0.8527667984189723, 0.8527667984189723, 0.8527667984189723, 0.8527667984189723, 0.8527667984189723, 0.8527667984189723, 0.8527667984189723, 0.8527667984189723, 0.8527667984189723, 0.8662055335968379, 0.8662055335968379]}], \"recall_score_weighted\": [{\"categories\": [\"0\", \"1\", \"2\", \"3\", \"4\", \"5\", \"6\", \"7\", \"8\", \"9\", \"10\", \"11\", \"12\", \"13\", \"14\", \"15\", \"16\", \"17\", \"18\", \"19\", \"20\", \"21\", \"22\", \"23\", \"24\", \"25\", \"26\", \"27\", \"28\", \"29\", \"30\", \"31\", \"32\", \"33\", \"36\", \"37\"], \"mode\": \"markers\", \"name\": \"recall_score_weighted\", \"stepped\": false, \"type\": \"scatter\", \"data\": [0.7942687747035573, 0.7988142292490119, 0.8166007905138339, 0.8167984189723321, 0.8482213438735178, 0.7104743083003953, 0.7100790513833993, 0.8254940711462451, 0.8527667984189723, 0.8310276679841897, 0.7938735177865612, 0.8434782608695652, 0.8037549407114624, 0.8302371541501976, 0.8171936758893281, 0.8124505928853756, 0.8084980237154149, 0.8304347826086957, 0.8169960474308301, 0.825494071146245, 0.8215415019762846, 0.7940711462450593, 0.607707509881423, 0.8209486166007904, 0.8033596837944664, 0.625296442687747, 0.750395256916996, 0.8304347826086957, 0.8120553359683795, 0.825889328063241, 0.8167984189723321, 0.8126482213438735, 0.8256916996047432, 0.825494071146245, 0.8662055335968379, 0.8525691699604744]}, {\"categories\": [\"0\", \"1\", \"2\", \"3\", \"4\", \"5\", \"6\", \"7\", \"8\", \"9\", \"10\", \"11\", \"12\", \"13\", \"14\", \"15\", \"16\", \"17\", \"18\", \"19\", \"20\", \"21\", \"22\", \"23\", \"24\", \"25\", \"26\", \"27\", \"28\", \"29\", \"30\", \"31\", \"32\", \"33\", \"36\", \"37\"], \"mode\": \"lines\", \"name\": \"recall_score_weighted_max\", \"stepped\": true, \"type\": \"scatter\", \"data\": [0.7942687747035573, 0.7988142292490119, 0.8166007905138339, 0.8167984189723321, 0.8482213438735178, 0.8482213438735178, 0.8482213438735178, 0.8482213438735178, 0.8527667984189723, 0.8527667984189723, 0.8527667984189723, 0.8527667984189723, 0.8527667984189723, 0.8527667984189723, 0.8527667984189723, 0.8527667984189723, 0.8527667984189723, 0.8527667984189723, 0.8527667984189723, 0.8527667984189723, 0.8527667984189723, 0.8527667984189723, 0.8527667984189723, 0.8527667984189723, 0.8527667984189723, 0.8527667984189723, 0.8527667984189723, 0.8527667984189723, 0.8527667984189723, 0.8527667984189723, 0.8527667984189723, 0.8527667984189723, 0.8527667984189723, 0.8527667984189723, 0.8662055335968379, 0.8662055335968379]}], \"recall_score_macro\": [{\"categories\": [\"0\", \"1\", \"2\", \"3\", \"4\", \"5\", \"6\", \"7\", \"8\", \"9\", \"10\", \"11\", \"12\", \"13\", \"14\", \"15\", \"16\", \"17\", \"18\", \"19\", \"20\", \"21\", \"22\", \"23\", \"24\", \"25\", \"26\", \"27\", \"28\", \"29\", \"30\", \"31\", \"32\", \"33\", \"36\", \"37\"], \"mode\": \"markers\", \"name\": \"recall_score_macro\", \"stepped\": false, \"type\": \"scatter\", \"data\": [0.7635372339648655, 0.7438609124793335, 0.7689117644051855, 0.7662384143634144, 0.8317949667291773, 0.6057306582306582, 0.6134767133451344, 0.7866054778554779, 0.8238157237499342, 0.7935324397824399, 0.708688212372423, 0.8014770646020646, 0.7548258247600353, 0.775958139083139, 0.7973772316864423, 0.7850122611306821, 0.7558296126388233, 0.7864993595585701, 0.7835353352787563, 0.773476618410829, 0.7858334720834721, 0.7327854345946452, 0.5070022849957061, 0.7707484438076544, 0.766252592436803, 0.47457264957264955, 0.7351741825426036, 0.8202554645646751, 0.7757695338287445, 0.7769984438076544, 0.7689609257701363, 0.7558619852369852, 0.7816588966588967, 0.8017801898394004, 0.8340669053169053, 0.8223419635919637]}, {\"categories\": [\"0\", \"1\", \"2\", \"3\", \"4\", \"5\", \"6\", \"7\", \"8\", \"9\", \"10\", \"11\", \"12\", \"13\", \"14\", \"15\", \"16\", \"17\", \"18\", \"19\", \"20\", \"21\", \"22\", \"23\", \"24\", \"25\", \"26\", \"27\", \"28\", \"29\", \"30\", \"31\", \"32\", \"33\", \"36\", \"37\"], \"mode\": \"lines\", \"name\": \"recall_score_macro_max\", \"stepped\": true, \"type\": \"scatter\", \"data\": [0.7635372339648655, 0.7635372339648655, 0.7689117644051855, 0.7689117644051855, 0.8317949667291773, 0.8317949667291773, 0.8317949667291773, 0.8317949667291773, 0.8317949667291773, 0.8317949667291773, 0.8317949667291773, 0.8317949667291773, 0.8317949667291773, 0.8317949667291773, 0.8317949667291773, 0.8317949667291773, 0.8317949667291773, 0.8317949667291773, 0.8317949667291773, 0.8317949667291773, 0.8317949667291773, 0.8317949667291773, 0.8317949667291773, 0.8317949667291773, 0.8317949667291773, 0.8317949667291773, 0.8317949667291773, 0.8317949667291773, 0.8317949667291773, 0.8317949667291773, 0.8317949667291773, 0.8317949667291773, 0.8317949667291773, 0.8317949667291773, 0.8340669053169053, 0.8340669053169053]}], \"f1_score_micro\": [{\"categories\": [\"0\", \"1\", \"2\", \"3\", \"4\", \"5\", \"6\", \"7\", \"8\", \"9\", \"10\", \"11\", \"12\", \"13\", \"14\", \"15\", \"16\", \"17\", \"18\", \"19\", \"20\", \"21\", \"22\", \"23\", \"24\", \"25\", \"26\", \"27\", \"28\", \"29\", \"30\", \"31\", \"32\", \"33\", \"36\", \"37\"], \"mode\": \"markers\", \"name\": \"f1_score_micro\", \"stepped\": false, \"type\": \"scatter\", \"data\": [0.7942687747035573, 0.7988142292490119, 0.8166007905138339, 0.8167984189723321, 0.8482213438735178, 0.7104743083003953, 0.7100790513833993, 0.8254940711462451, 0.8527667984189723, 0.8310276679841897, 0.7938735177865612, 0.8434782608695652, 0.8037549407114624, 0.8302371541501976, 0.8171936758893281, 0.8124505928853756, 0.8084980237154149, 0.8304347826086957, 0.8169960474308301, 0.825494071146245, 0.8215415019762846, 0.7940711462450593, 0.607707509881423, 0.8209486166007904, 0.8033596837944664, 0.625296442687747, 0.750395256916996, 0.8304347826086957, 0.8120553359683795, 0.825889328063241, 0.8167984189723321, 0.8126482213438735, 0.8256916996047432, 0.825494071146245, 0.8662055335968379, 0.8525691699604744]}, {\"categories\": [\"0\", \"1\", \"2\", \"3\", \"4\", \"5\", \"6\", \"7\", \"8\", \"9\", \"10\", \"11\", \"12\", \"13\", \"14\", \"15\", \"16\", \"17\", \"18\", \"19\", \"20\", \"21\", \"22\", \"23\", \"24\", \"25\", \"26\", \"27\", \"28\", \"29\", \"30\", \"31\", \"32\", \"33\", \"36\", \"37\"], \"mode\": \"lines\", \"name\": \"f1_score_micro_max\", \"stepped\": true, \"type\": \"scatter\", \"data\": [0.7942687747035573, 0.7988142292490119, 0.8166007905138339, 0.8167984189723321, 0.8482213438735178, 0.8482213438735178, 0.8482213438735178, 0.8482213438735178, 0.8527667984189723, 0.8527667984189723, 0.8527667984189723, 0.8527667984189723, 0.8527667984189723, 0.8527667984189723, 0.8527667984189723, 0.8527667984189723, 0.8527667984189723, 0.8527667984189723, 0.8527667984189723, 0.8527667984189723, 0.8527667984189723, 0.8527667984189723, 0.8527667984189723, 0.8527667984189723, 0.8527667984189723, 0.8527667984189723, 0.8527667984189723, 0.8527667984189723, 0.8527667984189723, 0.8527667984189723, 0.8527667984189723, 0.8527667984189723, 0.8527667984189723, 0.8527667984189723, 0.8662055335968379, 0.8662055335968379]}], \"AUC_macro\": [{\"categories\": [\"0\", \"1\", \"2\", \"3\", \"4\", \"5\", \"6\", \"7\", \"8\", \"9\", \"10\", \"11\", \"12\", \"13\", \"14\", \"15\", \"16\", \"17\", \"18\", \"19\", \"20\", \"21\", \"22\", \"23\", \"24\", \"25\", \"26\", \"27\", \"28\", \"29\", \"30\", \"31\", \"32\", \"33\", \"36\", \"37\"], \"mode\": \"markers\", \"name\": \"AUC_macro\", \"stepped\": false, \"type\": \"scatter\", \"data\": [0.8719250854807074, 0.8466964879883541, 0.8836553445225693, 0.8927010804851715, 0.9149438125006306, 0.6767539448191362, 0.6791525529892756, 0.90076800724528, 0.8927735419152883, 0.8911117102594375, 0.880846084736635, 0.8980687368187368, 0.862693540178588, 0.8843882947860221, 0.8905092697706335, 0.839776829696088, 0.8814274305572152, 0.8916863240427835, 0.8932765290929167, 0.8979512957802431, 0.8987143601348148, 0.8729600045090475, 0.5022085367450201, 0.8880452359310016, 0.8814352390698084, 0.4361823900116364, 0.8270901264471838, 0.8802972343313253, 0.8858169913552688, 0.8949751053040526, 0.8925850710958366, 0.8603132032109304, 0.883432880251062, 0.8733452011173302, 0.9193286196127106, 0.9180579962966327]}, {\"categories\": [\"0\", \"1\", \"2\", \"3\", \"4\", \"5\", \"6\", \"7\", \"8\", \"9\", \"10\", \"11\", \"12\", \"13\", \"14\", \"15\", \"16\", \"17\", \"18\", \"19\", \"20\", \"21\", \"22\", \"23\", \"24\", \"25\", \"26\", \"27\", \"28\", \"29\", \"30\", \"31\", \"32\", \"33\", \"36\", \"37\"], \"mode\": \"lines\", \"name\": \"AUC_macro_max\", \"stepped\": true, \"type\": \"scatter\", \"data\": [0.8719250854807074, 0.8719250854807074, 0.8836553445225693, 0.8927010804851715, 0.9149438125006306, 0.9149438125006306, 0.9149438125006306, 0.9149438125006306, 0.9149438125006306, 0.9149438125006306, 0.9149438125006306, 0.9149438125006306, 0.9149438125006306, 0.9149438125006306, 0.9149438125006306, 0.9149438125006306, 0.9149438125006306, 0.9149438125006306, 0.9149438125006306, 0.9149438125006306, 0.9149438125006306, 0.9149438125006306, 0.9149438125006306, 0.9149438125006306, 0.9149438125006306, 0.9149438125006306, 0.9149438125006306, 0.9149438125006306, 0.9149438125006306, 0.9149438125006306, 0.9149438125006306, 0.9149438125006306, 0.9149438125006306, 0.9149438125006306, 0.9193286196127106, 0.9193286196127106]}], \"precision_score_micro\": [{\"categories\": [\"0\", \"1\", \"2\", \"3\", \"4\", \"5\", \"6\", \"7\", \"8\", \"9\", \"10\", \"11\", \"12\", \"13\", \"14\", \"15\", \"16\", \"17\", \"18\", \"19\", \"20\", \"21\", \"22\", \"23\", \"24\", \"25\", \"26\", \"27\", \"28\", \"29\", \"30\", \"31\", \"32\", \"33\", \"36\", \"37\"], \"mode\": \"markers\", \"name\": \"precision_score_micro\", \"stepped\": false, \"type\": \"scatter\", \"data\": [0.7942687747035573, 0.7988142292490119, 0.8166007905138339, 0.8167984189723321, 0.8482213438735178, 0.7104743083003953, 0.7100790513833993, 0.8254940711462451, 0.8527667984189723, 0.8310276679841897, 0.7938735177865612, 0.8434782608695652, 0.8037549407114624, 0.8302371541501976, 0.8171936758893281, 0.8124505928853756, 0.8084980237154149, 0.8304347826086957, 0.8169960474308301, 0.825494071146245, 0.8215415019762846, 0.7940711462450593, 0.607707509881423, 0.8209486166007904, 0.8033596837944664, 0.625296442687747, 0.750395256916996, 0.8304347826086957, 0.8120553359683795, 0.825889328063241, 0.8167984189723321, 0.8126482213438735, 0.8256916996047432, 0.825494071146245, 0.8662055335968379, 0.8525691699604744]}, {\"categories\": [\"0\", \"1\", \"2\", \"3\", \"4\", \"5\", \"6\", \"7\", \"8\", \"9\", \"10\", \"11\", \"12\", \"13\", \"14\", \"15\", \"16\", \"17\", \"18\", \"19\", \"20\", \"21\", \"22\", \"23\", \"24\", \"25\", \"26\", \"27\", \"28\", \"29\", \"30\", \"31\", \"32\", \"33\", \"36\", \"37\"], \"mode\": \"lines\", \"name\": \"precision_score_micro_max\", \"stepped\": true, \"type\": \"scatter\", \"data\": [0.7942687747035573, 0.7988142292490119, 0.8166007905138339, 0.8167984189723321, 0.8482213438735178, 0.8482213438735178, 0.8482213438735178, 0.8482213438735178, 0.8527667984189723, 0.8527667984189723, 0.8527667984189723, 0.8527667984189723, 0.8527667984189723, 0.8527667984189723, 0.8527667984189723, 0.8527667984189723, 0.8527667984189723, 0.8527667984189723, 0.8527667984189723, 0.8527667984189723, 0.8527667984189723, 0.8527667984189723, 0.8527667984189723, 0.8527667984189723, 0.8527667984189723, 0.8527667984189723, 0.8527667984189723, 0.8527667984189723, 0.8527667984189723, 0.8527667984189723, 0.8527667984189723, 0.8527667984189723, 0.8527667984189723, 0.8527667984189723, 0.8662055335968379, 0.8662055335968379]}], \"balanced_accuracy\": [{\"categories\": [\"0\", \"1\", \"2\", \"3\", \"4\", \"5\", \"6\", \"7\", \"8\", \"9\", \"10\", \"11\", \"12\", \"13\", \"14\", \"15\", \"16\", \"17\", \"18\", \"19\", \"20\", \"21\", \"22\", \"23\", \"24\", \"25\", \"26\", \"27\", \"28\", \"29\", \"30\", \"31\", \"32\", \"33\", \"36\", \"37\"], \"mode\": \"markers\", \"name\": \"balanced_accuracy\", \"stepped\": false, \"type\": \"scatter\", \"data\": [0.7635372339648655, 0.7438609124793335, 0.7689117644051855, 0.7662384143634144, 0.8317949667291773, 0.6057306582306582, 0.6134767133451344, 0.7866054778554779, 0.8238157237499342, 0.7935324397824399, 0.708688212372423, 0.8014770646020646, 0.7548258247600353, 0.775958139083139, 0.7973772316864423, 0.7850122611306821, 0.7558296126388233, 0.7864993595585701, 0.7835353352787563, 0.773476618410829, 0.7858334720834721, 0.7327854345946452, 0.5070022849957061, 0.7707484438076544, 0.766252592436803, 0.47457264957264955, 0.7351741825426036, 0.8202554645646751, 0.7757695338287445, 0.7769984438076544, 0.7689609257701363, 0.7558619852369852, 0.7816588966588967, 0.8017801898394004, 0.8340669053169053, 0.8223419635919637]}, {\"categories\": [\"0\", \"1\", \"2\", \"3\", \"4\", \"5\", \"6\", \"7\", \"8\", \"9\", \"10\", \"11\", \"12\", \"13\", \"14\", \"15\", \"16\", \"17\", \"18\", \"19\", \"20\", \"21\", \"22\", \"23\", \"24\", \"25\", \"26\", \"27\", \"28\", \"29\", \"30\", \"31\", \"32\", \"33\", \"36\", \"37\"], \"mode\": \"lines\", \"name\": \"balanced_accuracy_max\", \"stepped\": true, \"type\": \"scatter\", \"data\": [0.7635372339648655, 0.7635372339648655, 0.7689117644051855, 0.7689117644051855, 0.8317949667291773, 0.8317949667291773, 0.8317949667291773, 0.8317949667291773, 0.8317949667291773, 0.8317949667291773, 0.8317949667291773, 0.8317949667291773, 0.8317949667291773, 0.8317949667291773, 0.8317949667291773, 0.8317949667291773, 0.8317949667291773, 0.8317949667291773, 0.8317949667291773, 0.8317949667291773, 0.8317949667291773, 0.8317949667291773, 0.8317949667291773, 0.8317949667291773, 0.8317949667291773, 0.8317949667291773, 0.8317949667291773, 0.8317949667291773, 0.8317949667291773, 0.8317949667291773, 0.8317949667291773, 0.8317949667291773, 0.8317949667291773, 0.8317949667291773, 0.8340669053169053, 0.8340669053169053]}], \"recall_score_micro\": [{\"categories\": [\"0\", \"1\", \"2\", \"3\", \"4\", \"5\", \"6\", \"7\", \"8\", \"9\", \"10\", \"11\", \"12\", \"13\", \"14\", \"15\", \"16\", \"17\", \"18\", \"19\", \"20\", \"21\", \"22\", \"23\", \"24\", \"25\", \"26\", \"27\", \"28\", \"29\", \"30\", \"31\", \"32\", \"33\", \"36\", \"37\"], \"mode\": \"markers\", \"name\": \"recall_score_micro\", \"stepped\": false, \"type\": \"scatter\", \"data\": [0.7942687747035573, 0.7988142292490119, 0.8166007905138339, 0.8167984189723321, 0.8482213438735178, 0.7104743083003953, 0.7100790513833993, 0.8254940711462451, 0.8527667984189723, 0.8310276679841897, 0.7938735177865612, 0.8434782608695652, 0.8037549407114624, 0.8302371541501976, 0.8171936758893281, 0.8124505928853756, 0.8084980237154149, 0.8304347826086957, 0.8169960474308301, 0.825494071146245, 0.8215415019762846, 0.7940711462450593, 0.607707509881423, 0.8209486166007904, 0.8033596837944664, 0.625296442687747, 0.750395256916996, 0.8304347826086957, 0.8120553359683795, 0.825889328063241, 0.8167984189723321, 0.8126482213438735, 0.8256916996047432, 0.825494071146245, 0.8662055335968379, 0.8525691699604744]}, {\"categories\": [\"0\", \"1\", \"2\", \"3\", \"4\", \"5\", \"6\", \"7\", \"8\", \"9\", \"10\", \"11\", \"12\", \"13\", \"14\", \"15\", \"16\", \"17\", \"18\", \"19\", \"20\", \"21\", \"22\", \"23\", \"24\", \"25\", \"26\", \"27\", \"28\", \"29\", \"30\", \"31\", \"32\", \"33\", \"36\", \"37\"], \"mode\": \"lines\", \"name\": \"recall_score_micro_max\", \"stepped\": true, \"type\": \"scatter\", \"data\": [0.7942687747035573, 0.7988142292490119, 0.8166007905138339, 0.8167984189723321, 0.8482213438735178, 0.8482213438735178, 0.8482213438735178, 0.8482213438735178, 0.8527667984189723, 0.8527667984189723, 0.8527667984189723, 0.8527667984189723, 0.8527667984189723, 0.8527667984189723, 0.8527667984189723, 0.8527667984189723, 0.8527667984189723, 0.8527667984189723, 0.8527667984189723, 0.8527667984189723, 0.8527667984189723, 0.8527667984189723, 0.8527667984189723, 0.8527667984189723, 0.8527667984189723, 0.8527667984189723, 0.8527667984189723, 0.8527667984189723, 0.8527667984189723, 0.8527667984189723, 0.8527667984189723, 0.8527667984189723, 0.8527667984189723, 0.8527667984189723, 0.8662055335968379, 0.8662055335968379]}], \"average_precision_score_macro\": [{\"categories\": [\"0\", \"1\", \"2\", \"3\", \"4\", \"5\", \"6\", \"7\", \"8\", \"9\", \"10\", \"11\", \"12\", \"13\", \"14\", \"15\", \"16\", \"17\", \"18\", \"19\", \"20\", \"21\", \"22\", \"23\", \"24\", \"25\", \"26\", \"27\", \"28\", \"29\", \"30\", \"31\", \"32\", \"33\", \"36\", \"37\"], \"mode\": \"markers\", \"name\": \"average_precision_score_macro\", \"stepped\": false, \"type\": \"scatter\", \"data\": [0.8619542663543494, 0.8434191996155913, 0.8622063920342333, 0.8848495203568595, 0.9115423403837987, 0.696632119172642, 0.7023773804028816, 0.9032131630232886, 0.8882603255359349, 0.8885587693891612, 0.8663273507600338, 0.8989293618495011, 0.8199951218158887, 0.88520803137321, 0.8840915760118726, 0.8284878481181733, 0.8760572824668642, 0.8851736198833995, 0.8657673560449594, 0.8884731810498957, 0.8970540527674741, 0.8610236872237543, 0.5883221793020149, 0.8815318348164137, 0.8826816700118844, 0.5094407104467611, 0.8199959098813558, 0.8824319197447419, 0.8683206618934097, 0.8872496040691988, 0.8828885951597567, 0.8640070133481726, 0.8844972479051849, 0.8699308627264932, 0.9116539012187335, 0.912061346423178]}, {\"categories\": [\"0\", \"1\", \"2\", \"3\", \"4\", \"5\", \"6\", \"7\", \"8\", \"9\", \"10\", \"11\", \"12\", \"13\", \"14\", \"15\", \"16\", \"17\", \"18\", \"19\", \"20\", \"21\", \"22\", \"23\", \"24\", \"25\", \"26\", \"27\", \"28\", \"29\", \"30\", \"31\", \"32\", \"33\", \"36\", \"37\"], \"mode\": \"lines\", \"name\": \"average_precision_score_macro_max\", \"stepped\": true, \"type\": \"scatter\", \"data\": [0.8619542663543494, 0.8619542663543494, 0.8622063920342333, 0.8848495203568595, 0.9115423403837987, 0.9115423403837987, 0.9115423403837987, 0.9115423403837987, 0.9115423403837987, 0.9115423403837987, 0.9115423403837987, 0.9115423403837987, 0.9115423403837987, 0.9115423403837987, 0.9115423403837987, 0.9115423403837987, 0.9115423403837987, 0.9115423403837987, 0.9115423403837987, 0.9115423403837987, 0.9115423403837987, 0.9115423403837987, 0.9115423403837987, 0.9115423403837987, 0.9115423403837987, 0.9115423403837987, 0.9115423403837987, 0.9115423403837987, 0.9115423403837987, 0.9115423403837987, 0.9115423403837987, 0.9115423403837987, 0.9115423403837987, 0.9115423403837987, 0.9116539012187335, 0.912061346423178]}], \"weighted_accuracy\": [{\"categories\": [\"0\", \"1\", \"2\", \"3\", \"4\", \"5\", \"6\", \"7\", \"8\", \"9\", \"10\", \"11\", \"12\", \"13\", \"14\", \"15\", \"16\", \"17\", \"18\", \"19\", \"20\", \"21\", \"22\", \"23\", \"24\", \"25\", \"26\", \"27\", \"28\", \"29\", \"30\", \"31\", \"32\", \"33\", \"36\", \"37\"], \"mode\": \"markers\", \"name\": \"weighted_accuracy\", \"stepped\": false, \"type\": \"scatter\", \"data\": [0.8164179381167326, 0.8305681338789797, 0.8445237270277263, 0.8454747149870571, 0.8633303226420009, 0.7711824314512141, 0.7665287217010051, 0.850214176818271, 0.8712199825835889, 0.8582999625859768, 0.8420017980790655, 0.8702509375535239, 0.8355253344999669, 0.8666159433533028, 0.8353694705565724, 0.8353609230098076, 0.8433561990015921, 0.8545353388464048, 0.8393209622521953, 0.8554538064220297, 0.847306224683831, 0.8318281987582828, 0.673002893081574, 0.8494290488977821, 0.8266645156904298, 0.7215221271507664, 0.7653352645082379, 0.8398800861324214, 0.8353695080012429, 0.8575720569631111, 0.8472607258317749, 0.8496513232909543, 0.8598642745935898, 0.845219175479017, 0.8907388014938531, 0.8755188943936542]}, {\"categories\": [\"0\", \"1\", \"2\", \"3\", \"4\", \"5\", \"6\", \"7\", \"8\", \"9\", \"10\", \"11\", \"12\", \"13\", \"14\", \"15\", \"16\", \"17\", \"18\", \"19\", \"20\", \"21\", \"22\", \"23\", \"24\", \"25\", \"26\", \"27\", \"28\", \"29\", \"30\", \"31\", \"32\", \"33\", \"36\", \"37\"], \"mode\": \"lines\", \"name\": \"weighted_accuracy_max\", \"stepped\": true, \"type\": \"scatter\", \"data\": [0.8164179381167326, 0.8305681338789797, 0.8445237270277263, 0.8454747149870571, 0.8633303226420009, 0.8633303226420009, 0.8633303226420009, 0.8633303226420009, 0.8712199825835889, 0.8712199825835889, 0.8712199825835889, 0.8712199825835889, 0.8712199825835889, 0.8712199825835889, 0.8712199825835889, 0.8712199825835889, 0.8712199825835889, 0.8712199825835889, 0.8712199825835889, 0.8712199825835889, 0.8712199825835889, 0.8712199825835889, 0.8712199825835889, 0.8712199825835889, 0.8712199825835889, 0.8712199825835889, 0.8712199825835889, 0.8712199825835889, 0.8712199825835889, 0.8712199825835889, 0.8712199825835889, 0.8712199825835889, 0.8712199825835889, 0.8712199825835889, 0.8907388014938531, 0.8907388014938531]}], \"precision_score_weighted\": [{\"categories\": [\"0\", \"1\", \"2\", \"3\", \"4\", \"5\", \"6\", \"7\", \"8\", \"9\", \"10\", \"11\", \"12\", \"13\", \"14\", \"15\", \"16\", \"17\", \"18\", \"19\", \"20\", \"21\", \"22\", \"23\", \"24\", \"25\", \"26\", \"27\", \"28\", \"29\", \"30\", \"31\", \"32\", \"33\", \"36\", \"37\"], \"mode\": \"markers\", \"name\": \"precision_score_weighted\", \"stepped\": false, \"type\": \"scatter\", \"data\": [0.8079093040378206, 0.810913697286695, 0.8244248707388093, 0.8335901672922134, 0.8594320353559484, 0.6950590068027263, 0.7199605754339736, 0.8344319601256942, 0.8622607145625049, 0.8424875218446022, 0.7982903059982747, 0.8553823843257146, 0.8185673022069239, 0.8519527967209353, 0.8348212394312139, 0.8356390448142367, 0.8327132372607874, 0.8417905096821338, 0.8305863761842023, 0.8310954216996418, 0.8310422849536458, 0.8075392377323997, 0.581823967226444, 0.8301442078807808, 0.8106761716544326, 0.4388978194678216, 0.7739104946985382, 0.8441883961449179, 0.8265328845635752, 0.8464735826720953, 0.8267169701008374, 0.8190460267735137, 0.846886241366656, 0.8337322715647524, 0.8762151429637802, 0.861205434534954]}, {\"categories\": [\"0\", \"1\", \"2\", \"3\", \"4\", \"5\", \"6\", \"7\", \"8\", \"9\", \"10\", \"11\", \"12\", \"13\", \"14\", \"15\", \"16\", \"17\", \"18\", \"19\", \"20\", \"21\", \"22\", \"23\", \"24\", \"25\", \"26\", \"27\", \"28\", \"29\", \"30\", \"31\", \"32\", \"33\", \"36\", \"37\"], \"mode\": \"lines\", \"name\": \"precision_score_weighted_max\", \"stepped\": true, \"type\": \"scatter\", \"data\": [0.8079093040378206, 0.810913697286695, 0.8244248707388093, 0.8335901672922134, 0.8594320353559484, 0.8594320353559484, 0.8594320353559484, 0.8594320353559484, 0.8622607145625049, 0.8622607145625049, 0.8622607145625049, 0.8622607145625049, 0.8622607145625049, 0.8622607145625049, 0.8622607145625049, 0.8622607145625049, 0.8622607145625049, 0.8622607145625049, 0.8622607145625049, 0.8622607145625049, 0.8622607145625049, 0.8622607145625049, 0.8622607145625049, 0.8622607145625049, 0.8622607145625049, 0.8622607145625049, 0.8622607145625049, 0.8622607145625049, 0.8622607145625049, 0.8622607145625049, 0.8622607145625049, 0.8622607145625049, 0.8622607145625049, 0.8622607145625049, 0.8762151429637802, 0.8762151429637802]}], \"f1_score_weighted\": [{\"categories\": [\"0\", \"1\", \"2\", \"3\", \"4\", \"5\", \"6\", \"7\", \"8\", \"9\", \"10\", \"11\", \"12\", \"13\", \"14\", \"15\", \"16\", \"17\", \"18\", \"19\", \"20\", \"21\", \"22\", \"23\", \"24\", \"25\", \"26\", \"27\", \"28\", \"29\", \"30\", \"31\", \"32\", \"33\", \"36\", \"37\"], \"mode\": \"markers\", \"name\": \"f1_score_weighted\", \"stepped\": false, \"type\": \"scatter\", \"data\": [0.7928293927559735, 0.7961444403446623, 0.8118595121972243, 0.811687005135985, 0.8469205978739447, 0.6787536759102596, 0.6813852332560051, 0.8226382276629213, 0.8520959307344089, 0.8247882852086816, 0.7796427113641111, 0.8403823461062393, 0.795616062620492, 0.8176489496449971, 0.8163307809832151, 0.8111644129367501, 0.7927598800193936, 0.8273770283018692, 0.8153582605361009, 0.8207566481543462, 0.8172573495666147, 0.7827314600305245, 0.5672407307264823, 0.8164696884618232, 0.8031472973088196, 0.5112177783900869, 0.7496035701821258, 0.8311424786649194, 0.8096244004614626, 0.8181853739589352, 0.8118814601817739, 0.8028865606125255, 0.8111931711240012, 0.8229627558888755, 0.8624978266373562, 0.8497143993896993]}, {\"categories\": [\"0\", \"1\", \"2\", \"3\", \"4\", \"5\", \"6\", \"7\", \"8\", \"9\", \"10\", \"11\", \"12\", \"13\", \"14\", \"15\", \"16\", \"17\", \"18\", \"19\", \"20\", \"21\", \"22\", \"23\", \"24\", \"25\", \"26\", \"27\", \"28\", \"29\", \"30\", \"31\", \"32\", \"33\", \"36\", \"37\"], \"mode\": \"lines\", \"name\": \"f1_score_weighted_max\", \"stepped\": true, \"type\": \"scatter\", \"data\": [0.7928293927559735, 0.7961444403446623, 0.8118595121972243, 0.8118595121972243, 0.8469205978739447, 0.8469205978739447, 0.8469205978739447, 0.8469205978739447, 0.8520959307344089, 0.8520959307344089, 0.8520959307344089, 0.8520959307344089, 0.8520959307344089, 0.8520959307344089, 0.8520959307344089, 0.8520959307344089, 0.8520959307344089, 0.8520959307344089, 0.8520959307344089, 0.8520959307344089, 0.8520959307344089, 0.8520959307344089, 0.8520959307344089, 0.8520959307344089, 0.8520959307344089, 0.8520959307344089, 0.8520959307344089, 0.8520959307344089, 0.8520959307344089, 0.8520959307344089, 0.8520959307344089, 0.8520959307344089, 0.8520959307344089, 0.8520959307344089, 0.8624978266373562, 0.8624978266373562]}], \"precision_score_macro\": [{\"categories\": [\"0\", \"1\", \"2\", \"3\", \"4\", \"5\", \"6\", \"7\", \"8\", \"9\", \"10\", \"11\", \"12\", \"13\", \"14\", \"15\", \"16\", \"17\", \"18\", \"19\", \"20\", \"21\", \"22\", \"23\", \"24\", \"25\", \"26\", \"27\", \"28\", \"29\", \"30\", \"31\", \"32\", \"33\", \"36\", \"37\"], \"mode\": \"markers\", \"name\": \"precision_score_macro\", \"stepped\": false, \"type\": \"scatter\", \"data\": [0.7678501400560225, 0.775532581453634, 0.7913527384638066, 0.8260830509359922, 0.8377075702075703, 0.6422363171743977, 0.6851337149692412, 0.8203025120304532, 0.8373816308820178, 0.8310100004914245, 0.768686176224876, 0.8463015121703202, 0.7967460931741118, 0.8509019484986977, 0.8046216365334014, 0.801548786181139, 0.8150135365150846, 0.8115493697478993, 0.7955681818181819, 0.8035988562091504, 0.8179353644291723, 0.7867799707602339, 0.5147497420020639, 0.7998721988795519, 0.7768218842560948, 0.3240869796361787, 0.7297779304029304, 0.8099435286935288, 0.797004544732873, 0.8297766475011057, 0.8063719819911771, 0.8087624419783863, 0.8473520670076397, 0.8036974789915966, 0.8677675053274898, 0.8500219298245615]}, {\"categories\": [\"0\", \"1\", \"2\", \"3\", \"4\", \"5\", \"6\", \"7\", \"8\", \"9\", \"10\", \"11\", \"12\", \"13\", \"14\", \"15\", \"16\", \"17\", \"18\", \"19\", \"20\", \"21\", \"22\", \"23\", \"24\", \"25\", \"26\", \"27\", \"28\", \"29\", \"30\", \"31\", \"32\", \"33\", \"36\", \"37\"], \"mode\": \"lines\", \"name\": \"precision_score_macro_max\", \"stepped\": true, \"type\": \"scatter\", \"data\": [0.7678501400560225, 0.775532581453634, 0.7913527384638066, 0.8260830509359922, 0.8377075702075703, 0.8377075702075703, 0.8377075702075703, 0.8377075702075703, 0.8377075702075703, 0.8377075702075703, 0.8377075702075703, 0.8463015121703202, 0.8463015121703202, 0.8509019484986977, 0.8509019484986977, 0.8509019484986977, 0.8509019484986977, 0.8509019484986977, 0.8509019484986977, 0.8509019484986977, 0.8509019484986977, 0.8509019484986977, 0.8509019484986977, 0.8509019484986977, 0.8509019484986977, 0.8509019484986977, 0.8509019484986977, 0.8509019484986977, 0.8509019484986977, 0.8509019484986977, 0.8509019484986977, 0.8509019484986977, 0.8509019484986977, 0.8509019484986977, 0.8677675053274898, 0.8677675053274898]}], \"AUC_weighted\": [{\"categories\": [\"0\", \"1\", \"2\", \"3\", \"4\", \"5\", \"6\", \"7\", \"8\", \"9\", \"10\", \"11\", \"12\", \"13\", \"14\", \"15\", \"16\", \"17\", \"18\", \"19\", \"20\", \"21\", \"22\", \"23\", \"24\", \"25\", \"26\", \"27\", \"28\", \"29\", \"30\", \"31\", \"32\", \"33\", \"36\", \"37\"], \"mode\": \"markers\", \"name\": \"AUC_weighted\", \"stepped\": false, \"type\": \"scatter\", \"data\": [0.8719250854807074, 0.8466964879883541, 0.8836553445225694, 0.8927010804851714, 0.9149438125006307, 0.6767539448191362, 0.6791525529892756, 0.90076800724528, 0.8927735419152885, 0.8911117102594375, 0.880846084736635, 0.8980687368187367, 0.862693540178588, 0.8843882947860221, 0.8905092697706335, 0.839776829696088, 0.8814274305572154, 0.8916863240427835, 0.8932765290929169, 0.8979512957802431, 0.8987143601348148, 0.8729600045090476, 0.5022085367450201, 0.8880452359310015, 0.8814352390698085, 0.4361823900116364, 0.8270901264471838, 0.8802972343313253, 0.8858169913552688, 0.8949751053040528, 0.8925850710958366, 0.8603132032109304, 0.883432880251062, 0.8733452011173302, 0.9193286196127106, 0.9180579962966329]}, {\"categories\": [\"0\", \"1\", \"2\", \"3\", \"4\", \"5\", \"6\", \"7\", \"8\", \"9\", \"10\", \"11\", \"12\", \"13\", \"14\", \"15\", \"16\", \"17\", \"18\", \"19\", \"20\", \"21\", \"22\", \"23\", \"24\", \"25\", \"26\", \"27\", \"28\", \"29\", \"30\", \"31\", \"32\", \"33\", \"36\", \"37\"], \"mode\": \"lines\", \"name\": \"AUC_weighted_max\", \"stepped\": true, \"type\": \"scatter\", \"data\": [0.8719250854807074, 0.8719250854807074, 0.8836553445225694, 0.8927010804851714, 0.9149438125006307, 0.9149438125006307, 0.9149438125006307, 0.9149438125006307, 0.9149438125006307, 0.9149438125006307, 0.9149438125006307, 0.9149438125006307, 0.9149438125006307, 0.9149438125006307, 0.9149438125006307, 0.9149438125006307, 0.9149438125006307, 0.9149438125006307, 0.9149438125006307, 0.9149438125006307, 0.9149438125006307, 0.9149438125006307, 0.9149438125006307, 0.9149438125006307, 0.9149438125006307, 0.9149438125006307, 0.9149438125006307, 0.9149438125006307, 0.9149438125006307, 0.9149438125006307, 0.9149438125006307, 0.9149438125006307, 0.9149438125006307, 0.9149438125006307, 0.9193286196127106, 0.9193286196127106]}], \"average_precision_score_weighted\": [{\"categories\": [\"0\", \"1\", \"2\", \"3\", \"4\", \"5\", \"6\", \"7\", \"8\", \"9\", \"10\", \"11\", \"12\", \"13\", \"14\", \"15\", \"16\", \"17\", \"18\", \"19\", \"20\", \"21\", \"22\", \"23\", \"24\", \"25\", \"26\", \"27\", \"28\", \"29\", \"30\", \"31\", \"32\", \"33\", \"36\", \"37\"], \"mode\": \"markers\", \"name\": \"average_precision_score_weighted\", \"stepped\": false, \"type\": \"scatter\", \"data\": [0.8952716704551188, 0.8828026775724984, 0.9002106534387255, 0.9064578315908174, 0.9263035191463631, 0.7511351909198752, 0.7554424233963065, 0.9189834567312571, 0.9068347649242545, 0.9067250997385286, 0.8994034566111211, 0.9137203220959599, 0.8642742669477016, 0.9040768190167808, 0.9006685505918013, 0.8670216615300912, 0.9015420838273235, 0.912465967729011, 0.9066643201031143, 0.9127759905787354, 0.9148759104003445, 0.892664916524484, 0.6443915594598086, 0.9068236410883163, 0.9077692790868582, 0.5792742906972049, 0.8532012720282962, 0.9008369881164764, 0.900840945343868, 0.9067888060983913, 0.9063242551100178, 0.8835897950885439, 0.9019636039507184, 0.8962706716559478, 0.9277085510193783, 0.9282790428425548]}, {\"categories\": [\"0\", \"1\", \"2\", \"3\", \"4\", \"5\", \"6\", \"7\", \"8\", \"9\", \"10\", \"11\", \"12\", \"13\", \"14\", \"15\", \"16\", \"17\", \"18\", \"19\", \"20\", \"21\", \"22\", \"23\", \"24\", \"25\", \"26\", \"27\", \"28\", \"29\", \"30\", \"31\", \"32\", \"33\", \"36\", \"37\"], \"mode\": \"lines\", \"name\": \"average_precision_score_weighted_max\", \"stepped\": true, \"type\": \"scatter\", \"data\": [0.8952716704551188, 0.8952716704551188, 0.9002106534387255, 0.9064578315908174, 0.9263035191463631, 0.9263035191463631, 0.9263035191463631, 0.9263035191463631, 0.9263035191463631, 0.9263035191463631, 0.9263035191463631, 0.9263035191463631, 0.9263035191463631, 0.9263035191463631, 0.9263035191463631, 0.9263035191463631, 0.9263035191463631, 0.9263035191463631, 0.9263035191463631, 0.9263035191463631, 0.9263035191463631, 0.9263035191463631, 0.9263035191463631, 0.9263035191463631, 0.9263035191463631, 0.9263035191463631, 0.9263035191463631, 0.9263035191463631, 0.9263035191463631, 0.9263035191463631, 0.9263035191463631, 0.9263035191463631, 0.9263035191463631, 0.9263035191463631, 0.9277085510193783, 0.9282790428425548]}], \"norm_macro_recall\": [{\"categories\": [\"0\", \"1\", \"2\", \"3\", \"4\", \"5\", \"6\", \"7\", \"8\", \"9\", \"10\", \"11\", \"12\", \"13\", \"14\", \"15\", \"16\", \"17\", \"18\", \"19\", \"20\", \"21\", \"22\", \"23\", \"24\", \"25\", \"26\", \"27\", \"28\", \"29\", \"30\", \"31\", \"32\", \"33\", \"36\", \"37\"], \"mode\": \"markers\", \"name\": \"norm_macro_recall\", \"stepped\": false, \"type\": \"scatter\", \"data\": [0.5270744679297312, 0.48772182495866706, 0.537823528810371, 0.5324768287268288, 0.6635899334583545, 0.21684593184593184, 0.2428643578643578, 0.5732109557109556, 0.6476314474998685, 0.5870648795648796, 0.4226395826395827, 0.6029541292041293, 0.5096516495200707, 0.5519162781662781, 0.5947544633728844, 0.5700245222613644, 0.5116592252776464, 0.5729987191171402, 0.5670706705575126, 0.546953236821658, 0.5716669441669443, 0.46557086918929025, 0.062382719619561766, 0.5414968876153086, 0.532505184873606, 0.0, 0.4703483650852072, 0.6405109291293503, 0.5515390676574887, 0.5539968876153087, 0.5379218515402726, 0.5117239704739706, 0.5633177933177933, 0.6035603796788008, 0.6681338106338106, 0.6446839271839272]}, {\"categories\": [\"0\", \"1\", \"2\", \"3\", \"4\", \"5\", \"6\", \"7\", \"8\", \"9\", \"10\", \"11\", \"12\", \"13\", \"14\", \"15\", \"16\", \"17\", \"18\", \"19\", \"20\", \"21\", \"22\", \"23\", \"24\", \"25\", \"26\", \"27\", \"28\", \"29\", \"30\", \"31\", \"32\", \"33\", \"36\", \"37\"], \"mode\": \"lines\", \"name\": \"norm_macro_recall_max\", \"stepped\": true, \"type\": \"scatter\", \"data\": [0.5270744679297312, 0.5270744679297312, 0.537823528810371, 0.537823528810371, 0.6635899334583545, 0.6635899334583545, 0.6635899334583545, 0.6635899334583545, 0.6635899334583545, 0.6635899334583545, 0.6635899334583545, 0.6635899334583545, 0.6635899334583545, 0.6635899334583545, 0.6635899334583545, 0.6635899334583545, 0.6635899334583545, 0.6635899334583545, 0.6635899334583545, 0.6635899334583545, 0.6635899334583545, 0.6635899334583545, 0.6635899334583545, 0.6635899334583545, 0.6635899334583545, 0.6635899334583545, 0.6635899334583545, 0.6635899334583545, 0.6635899334583545, 0.6635899334583545, 0.6635899334583545, 0.6635899334583545, 0.6635899334583545, 0.6635899334583545, 0.6681338106338106, 0.6681338106338106]}], \"average_precision_score_micro\": [{\"categories\": [\"0\", \"1\", \"2\", \"3\", \"4\", \"5\", \"6\", \"7\", \"8\", \"9\", \"10\", \"11\", \"12\", \"13\", \"14\", \"15\", \"16\", \"17\", \"18\", \"19\", \"20\", \"21\", \"22\", \"23\", \"24\", \"25\", \"26\", \"27\", \"28\", \"29\", \"30\", \"31\", \"32\", \"33\", \"36\", \"37\"], \"mode\": \"markers\", \"name\": \"average_precision_score_micro\", \"stepped\": false, \"type\": \"scatter\", \"data\": [0.8801476760638085, 0.8681716468923042, 0.8980329267406729, 0.8993657291069155, 0.9070390737049665, 0.7511965473269863, 0.7531106384093784, 0.9053943768105105, 0.8934366977916482, 0.8976587983451388, 0.8838583272679846, 0.9033097077215093, 0.8665801682644206, 0.8926353477937914, 0.8859475559765692, 0.8573969727854223, 0.8738630318893088, 0.9102336344001392, 0.9018574472731078, 0.90974235382872, 0.9026336320553829, 0.8863772797698667, 0.6461351358126686, 0.9045343410157376, 0.9006405272778519, 0.6207903475788265, 0.832095999632152, 0.8843082255812338, 0.8962132988198601, 0.8926960084597001, 0.8944472754711201, 0.8724485997017919, 0.8837045315451096, 0.8866921401269382, 0.9167273171192323, 0.9130638591356623]}, {\"categories\": [\"0\", \"1\", \"2\", \"3\", \"4\", \"5\", \"6\", \"7\", \"8\", \"9\", \"10\", \"11\", \"12\", \"13\", \"14\", \"15\", \"16\", \"17\", \"18\", \"19\", \"20\", \"21\", \"22\", \"23\", \"24\", \"25\", \"26\", \"27\", \"28\", \"29\", \"30\", \"31\", \"32\", \"33\", \"36\", \"37\"], \"mode\": \"lines\", \"name\": \"average_precision_score_micro_max\", \"stepped\": true, \"type\": \"scatter\", \"data\": [0.8801476760638085, 0.8801476760638085, 0.8980329267406729, 0.8993657291069155, 0.9070390737049665, 0.9070390737049665, 0.9070390737049665, 0.9070390737049665, 0.9070390737049665, 0.9070390737049665, 0.9070390737049665, 0.9070390737049665, 0.9070390737049665, 0.9070390737049665, 0.9070390737049665, 0.9070390737049665, 0.9070390737049665, 0.9102336344001392, 0.9102336344001392, 0.9102336344001392, 0.9102336344001392, 0.9102336344001392, 0.9102336344001392, 0.9102336344001392, 0.9102336344001392, 0.9102336344001392, 0.9102336344001392, 0.9102336344001392, 0.9102336344001392, 0.9102336344001392, 0.9102336344001392, 0.9102336344001392, 0.9102336344001392, 0.9102336344001392, 0.9167273171192323, 0.9167273171192323]}], \"f1_score_macro\": [{\"categories\": [\"0\", \"1\", \"2\", \"3\", \"4\", \"5\", \"6\", \"7\", \"8\", \"9\", \"10\", \"11\", \"12\", \"13\", \"14\", \"15\", \"16\", \"17\", \"18\", \"19\", \"20\", \"21\", \"22\", \"23\", \"24\", \"25\", \"26\", \"27\", \"28\", \"29\", \"30\", \"31\", \"32\", \"33\", \"36\", \"37\"], \"mode\": \"markers\", \"name\": \"f1_score_macro\", \"stepped\": false, \"type\": \"scatter\", \"data\": [0.7549267040920296, 0.7485809033232168, 0.7703162300375923, 0.774306414339294, 0.8252512324520438, 0.5957577132655189, 0.6053004155079582, 0.7930756453373087, 0.8239371620648311, 0.797522696825766, 0.7186328943530111, 0.8107271733896907, 0.7571642806286994, 0.7848242035742036, 0.7887690650896093, 0.7769181798479093, 0.753188290415858, 0.7885572109260324, 0.7789333227628229, 0.7787483332240366, 0.7904806463190566, 0.7386010992361612, 0.48060238561193575, 0.7741838518645394, 0.7670638028626179, 0.38179915867496095, 0.7161199156440192, 0.8071379864655116, 0.774809495289238, 0.782481554456472, 0.7753328598650715, 0.7665035250697017, 0.7846501782531196, 0.7942011355405453, 0.8393662007645274, 0.8264836707286689]}, {\"categories\": [\"0\", \"1\", \"2\", \"3\", \"4\", \"5\", \"6\", \"7\", \"8\", \"9\", \"10\", \"11\", \"12\", \"13\", \"14\", \"15\", \"16\", \"17\", \"18\", \"19\", \"20\", \"21\", \"22\", \"23\", \"24\", \"25\", \"26\", \"27\", \"28\", \"29\", \"30\", \"31\", \"32\", \"33\", \"36\", \"37\"], \"mode\": \"lines\", \"name\": \"f1_score_macro_max\", \"stepped\": true, \"type\": \"scatter\", \"data\": [0.7549267040920296, 0.7549267040920296, 0.7703162300375923, 0.774306414339294, 0.8252512324520438, 0.8252512324520438, 0.8252512324520438, 0.8252512324520438, 0.8252512324520438, 0.8252512324520438, 0.8252512324520438, 0.8252512324520438, 0.8252512324520438, 0.8252512324520438, 0.8252512324520438, 0.8252512324520438, 0.8252512324520438, 0.8252512324520438, 0.8252512324520438, 0.8252512324520438, 0.8252512324520438, 0.8252512324520438, 0.8252512324520438, 0.8252512324520438, 0.8252512324520438, 0.8252512324520438, 0.8252512324520438, 0.8252512324520438, 0.8252512324520438, 0.8252512324520438, 0.8252512324520438, 0.8252512324520438, 0.8252512324520438, 0.8252512324520438, 0.8393662007645274, 0.8393662007645274]}], \"matthews_correlation\": [{\"categories\": [\"0\", \"1\", \"2\", \"3\", \"4\", \"5\", \"6\", \"7\", \"8\", \"9\", \"10\", \"11\", \"12\", \"13\", \"14\", \"15\", \"16\", \"17\", \"18\", \"19\", \"20\", \"21\", \"22\", \"23\", \"24\", \"25\", \"26\", \"27\", \"28\", \"29\", \"30\", \"31\", \"32\", \"33\", \"36\", \"37\"], \"mode\": \"markers\", \"name\": \"matthews_correlation\", \"stepped\": false, \"type\": \"scatter\", \"data\": [0.529096869910842, 0.5164305160948855, 0.5589070776751789, 0.5822514709533533, 0.6669642092384969, 0.24963258856449225, 0.2827299325771935, 0.603837144612336, 0.6600489309950793, 0.6200581454965901, 0.4731073634044072, 0.6432236174786014, 0.5456125073552799, 0.618281578087098, 0.5995155955529242, 0.5824126973089305, 0.5575827186505966, 0.5960093455272232, 0.5765719568455777, 0.574607422593581, 0.6003166614253488, 0.5145677591372435, 0.018388035052845017, 0.5682706166682582, 0.5424446015909884, -0.0608401039044568, 0.46092315670036044, 0.6286347083106169, 0.5705571135826131, 0.6016329244813037, 0.5717829026096957, 0.5606514429126415, 0.619022118785584, 0.6038049656779221, 0.6983646715108085, 0.6693220249298786]}, {\"categories\": [\"0\", \"1\", \"2\", \"3\", \"4\", \"5\", \"6\", \"7\", \"8\", \"9\", \"10\", \"11\", \"12\", \"13\", \"14\", \"15\", \"16\", \"17\", \"18\", \"19\", \"20\", \"21\", \"22\", \"23\", \"24\", \"25\", \"26\", \"27\", \"28\", \"29\", \"30\", \"31\", \"32\", \"33\", \"36\", \"37\"], \"mode\": \"lines\", \"name\": \"matthews_correlation_max\", \"stepped\": true, \"type\": \"scatter\", \"data\": [0.529096869910842, 0.529096869910842, 0.5589070776751789, 0.5822514709533533, 0.6669642092384969, 0.6669642092384969, 0.6669642092384969, 0.6669642092384969, 0.6669642092384969, 0.6669642092384969, 0.6669642092384969, 0.6669642092384969, 0.6669642092384969, 0.6669642092384969, 0.6669642092384969, 0.6669642092384969, 0.6669642092384969, 0.6669642092384969, 0.6669642092384969, 0.6669642092384969, 0.6669642092384969, 0.6669642092384969, 0.6669642092384969, 0.6669642092384969, 0.6669642092384969, 0.6669642092384969, 0.6669642092384969, 0.6669642092384969, 0.6669642092384969, 0.6669642092384969, 0.6669642092384969, 0.6669642092384969, 0.6669642092384969, 0.6669642092384969, 0.6983646715108085, 0.6983646715108085]}], \"AUC_micro\": [{\"categories\": [\"0\", \"1\", \"2\", \"3\", \"4\", \"5\", \"6\", \"7\", \"8\", \"9\", \"10\", \"11\", \"12\", \"13\", \"14\", \"15\", \"16\", \"17\", \"18\", \"19\", \"20\", \"21\", \"22\", \"23\", \"24\", \"25\", \"26\", \"27\", \"28\", \"29\", \"30\", \"31\", \"32\", \"33\", \"36\", \"37\"], \"mode\": \"markers\", \"name\": \"AUC_micro\", \"stepped\": false, \"type\": \"scatter\", \"data\": [0.8762857566904655, 0.86526504085363, 0.8893444671843023, 0.8939449921104844, 0.9037088534424846, 0.7555191457451296, 0.7551565014294864, 0.9007588776578294, 0.8907446609070598, 0.8947187114312051, 0.8783698386164446, 0.9023941945663891, 0.865119748785327, 0.8899838303988503, 0.8869990938774235, 0.8563979284163166, 0.8677178209314315, 0.9037174459841586, 0.8947358965145525, 0.903686590948148, 0.8971671952381696, 0.8814205814807293, 0.6332090018591134, 0.8978268680966739, 0.8954705588276649, 0.6329063100501491, 0.8275426111953006, 0.8805410176693902, 0.893369291818338, 0.8927799215735286, 0.8925115999312597, 0.8662805230514458, 0.8806597509725196, 0.8845549063412959, 0.9141624615288475, 0.9097970597884671]}, {\"categories\": [\"0\", \"1\", \"2\", \"3\", \"4\", \"5\", \"6\", \"7\", \"8\", \"9\", \"10\", \"11\", \"12\", \"13\", \"14\", \"15\", \"16\", \"17\", \"18\", \"19\", \"20\", \"21\", \"22\", \"23\", \"24\", \"25\", \"26\", \"27\", \"28\", \"29\", \"30\", \"31\", \"32\", \"33\", \"36\", \"37\"], \"mode\": \"lines\", \"name\": \"AUC_micro_max\", \"stepped\": true, \"type\": \"scatter\", \"data\": [0.8762857566904655, 0.8762857566904655, 0.8893444671843023, 0.8939449921104844, 0.9037088534424846, 0.9037088534424846, 0.9037088534424846, 0.9037088534424846, 0.9037088534424846, 0.9037088534424846, 0.9037088534424846, 0.9037088534424846, 0.9037088534424846, 0.9037088534424846, 0.9037088534424846, 0.9037088534424846, 0.9037088534424846, 0.9037174459841586, 0.9037174459841586, 0.9037174459841586, 0.9037174459841586, 0.9037174459841586, 0.9037174459841586, 0.9037174459841586, 0.9037174459841586, 0.9037174459841586, 0.9037174459841586, 0.9037174459841586, 0.9037174459841586, 0.9037174459841586, 0.9037174459841586, 0.9037174459841586, 0.9037174459841586, 0.9037174459841586, 0.9141624615288475, 0.9141624615288475]}], \"log_loss\": [{\"categories\": [\"0\", \"1\", \"2\", \"3\", \"4\", \"5\", \"6\", \"7\", \"8\", \"9\", \"10\", \"11\", \"12\", \"13\", \"14\", \"15\", \"16\", \"17\", \"18\", \"19\", \"20\", \"21\", \"22\", \"23\", \"24\", \"25\", \"26\", \"27\", \"28\", \"29\", \"30\", \"31\", \"32\", \"33\", \"36\", \"37\"], \"mode\": \"markers\", \"name\": \"log_loss\", \"stepped\": false, \"type\": \"scatter\", \"data\": [0.5767265938216758, 0.517633345017106, 0.411665253877772, 0.42106914524933153, 0.4060478982033531, 0.6106629765517303, 0.6086070876293602, 0.39880550248923324, 0.4280760782965377, 0.40694378935223696, 0.4541437075566777, 0.3992100686731011, 0.48561270077691354, 0.4359008242176083, 0.43481348371916145, 0.5135654476889153, 0.4953494116098433, 0.3934425376666895, 0.4121680588063546, 0.4097073143998305, 0.4194474054850262, 0.5032495142062962, 0.7603697674657391, 0.4084324576972912, 0.4140773614073341, 0.6679821385536002, 0.6219694990191854, 0.49327181944895415, 0.5169747562695239, 0.4511011933228769, 0.41626845871326734, 0.44474281132848015, 0.45995912979548076, 0.4229687467417852, 0.41534566641153425, 0.39205082249572276]}, {\"categories\": [\"0\", \"1\", \"2\", \"3\", \"4\", \"5\", \"6\", \"7\", \"8\", \"9\", \"10\", \"11\", \"12\", \"13\", \"14\", \"15\", \"16\", \"17\", \"18\", \"19\", \"20\", \"21\", \"22\", \"23\", \"24\", \"25\", \"26\", \"27\", \"28\", \"29\", \"30\", \"31\", \"32\", \"33\", \"36\", \"37\"], \"mode\": \"lines\", \"name\": \"log_loss_min\", \"stepped\": true, \"type\": \"scatter\", \"data\": [0.5767265938216758, 0.517633345017106, 0.411665253877772, 0.411665253877772, 0.4060478982033531, 0.4060478982033531, 0.4060478982033531, 0.39880550248923324, 0.39880550248923324, 0.39880550248923324, 0.39880550248923324, 0.39880550248923324, 0.39880550248923324, 0.39880550248923324, 0.39880550248923324, 0.39880550248923324, 0.39880550248923324, 0.3934425376666895, 0.3934425376666895, 0.3934425376666895, 0.3934425376666895, 0.3934425376666895, 0.3934425376666895, 0.3934425376666895, 0.3934425376666895, 0.3934425376666895, 0.3934425376666895, 0.3934425376666895, 0.3934425376666895, 0.3934425376666895, 0.3934425376666895, 0.3934425376666895, 0.3934425376666895, 0.3934425376666895, 0.3934425376666895, 0.39205082249572276]}]}, \"metricName\": null, \"primaryMetricName\": \"accuracy\", \"showLegend\": false}, \"run_metrics\": [{\"name\": \"experiment_status\", \"run_id\": \"AutoML_26783b1a-8a29-4a5e-abc9-26a03657ff6c\", \"categories\": [0, 1, 2, 3, 4, 5, 6, 7, 8, 9, 10, 11, 12, 13], \"series\": [{\"data\": [\"DatasetEvaluation\", \"FeaturesGeneration\", \"DatasetFeaturization\", \"DatasetFeaturizationCompleted\", \"DatasetCrossValidationSplit\", \"ModelSelection\", \"BestRunExplainModel\", \"ModelExplanationDataSetSetup\", \"PickSurrogateModel\", \"EngineeredFeatureExplanations\", \"EngineeredFeatureExplanations\", \"RawFeaturesExplanations\", \"RawFeaturesExplanations\", \"BestRunExplainModel\"]}]}, {\"name\": \"experiment_status_description\", \"run_id\": \"AutoML_26783b1a-8a29-4a5e-abc9-26a03657ff6c\", \"categories\": [0, 1, 2, 3, 4, 5, 6, 7, 8, 9, 10, 11, 12, 13], \"series\": [{\"data\": [\"Gathering dataset statistics.\", \"Generating features for the dataset.\", \"Beginning to fit featurizers and featurize the dataset.\", \"Completed fit featurizers and featurizing the dataset.\", \"Generating individually featurized CV splits.\", \"Beginning model selection.\", \"Best run model explanations started\", \"Model explanations data setup completed\", \"Choosing LightGBM as the surrogate model for explanations\", \"Computation of engineered features started\", \"Computation of engineered features completed\", \"Computation of raw features started\", \"Computation of raw features completed\", \"Best run model explanations completed\"]}]}, {\"name\": \"AUC_weighted\", \"run_id\": \"AutoML_26783b1a-8a29-4a5e-abc9-26a03657ff6c\", \"categories\": [0], \"series\": [{\"data\": [0.9193286196127106]}]}, {\"name\": \"balanced_accuracy\", \"run_id\": \"AutoML_26783b1a-8a29-4a5e-abc9-26a03657ff6c\", \"categories\": [0], \"series\": [{\"data\": [0.8340669053169053]}]}, {\"name\": \"matthews_correlation\", \"run_id\": \"AutoML_26783b1a-8a29-4a5e-abc9-26a03657ff6c\", \"categories\": [0], \"series\": [{\"data\": [0.6983646715108085]}]}, {\"name\": \"f1_score_weighted\", \"run_id\": \"AutoML_26783b1a-8a29-4a5e-abc9-26a03657ff6c\", \"categories\": [0], \"series\": [{\"data\": [0.8624978266373562]}]}, {\"name\": \"recall_score_weighted\", \"run_id\": \"AutoML_26783b1a-8a29-4a5e-abc9-26a03657ff6c\", \"categories\": [0], \"series\": [{\"data\": [0.8662055335968379]}]}, {\"name\": \"weighted_accuracy\", \"run_id\": \"AutoML_26783b1a-8a29-4a5e-abc9-26a03657ff6c\", \"categories\": [0], \"series\": [{\"data\": [0.8907388014938531]}]}, {\"name\": \"average_precision_score_macro\", \"run_id\": \"AutoML_26783b1a-8a29-4a5e-abc9-26a03657ff6c\", \"categories\": [0], \"series\": [{\"data\": [0.9116539012187335]}]}, {\"name\": \"average_precision_score_weighted\", \"run_id\": \"AutoML_26783b1a-8a29-4a5e-abc9-26a03657ff6c\", \"categories\": [0], \"series\": [{\"data\": [0.9277085510193783]}]}, {\"name\": \"accuracy\", \"run_id\": \"AutoML_26783b1a-8a29-4a5e-abc9-26a03657ff6c\", \"categories\": [0], \"series\": [{\"data\": [0.8662055335968379]}]}, {\"name\": \"precision_score_weighted\", \"run_id\": \"AutoML_26783b1a-8a29-4a5e-abc9-26a03657ff6c\", \"categories\": [0], \"series\": [{\"data\": [0.8762151429637802]}]}, {\"name\": \"precision_score_macro\", \"run_id\": \"AutoML_26783b1a-8a29-4a5e-abc9-26a03657ff6c\", \"categories\": [0], \"series\": [{\"data\": [0.8677675053274898]}]}, {\"name\": \"norm_macro_recall\", \"run_id\": \"AutoML_26783b1a-8a29-4a5e-abc9-26a03657ff6c\", \"categories\": [0], \"series\": [{\"data\": [0.6681338106338106]}]}, {\"name\": \"log_loss\", \"run_id\": \"AutoML_26783b1a-8a29-4a5e-abc9-26a03657ff6c\", \"categories\": [0], \"series\": [{\"data\": [0.41534566641153425]}]}, {\"name\": \"f1_score_macro\", \"run_id\": \"AutoML_26783b1a-8a29-4a5e-abc9-26a03657ff6c\", \"categories\": [0], \"series\": [{\"data\": [0.8393662007645274]}]}, {\"name\": \"AUC_macro\", \"run_id\": \"AutoML_26783b1a-8a29-4a5e-abc9-26a03657ff6c\", \"categories\": [0], \"series\": [{\"data\": [0.9193286196127106]}]}, {\"name\": \"precision_score_micro\", \"run_id\": \"AutoML_26783b1a-8a29-4a5e-abc9-26a03657ff6c\", \"categories\": [0], \"series\": [{\"data\": [0.8662055335968379]}]}, {\"name\": \"AUC_micro\", \"run_id\": \"AutoML_26783b1a-8a29-4a5e-abc9-26a03657ff6c\", \"categories\": [0], \"series\": [{\"data\": [0.9141624615288475]}]}, {\"name\": \"f1_score_micro\", \"run_id\": \"AutoML_26783b1a-8a29-4a5e-abc9-26a03657ff6c\", \"categories\": [0], \"series\": [{\"data\": [0.8662055335968379]}]}, {\"name\": \"recall_score_micro\", \"run_id\": \"AutoML_26783b1a-8a29-4a5e-abc9-26a03657ff6c\", \"categories\": [0], \"series\": [{\"data\": [0.8662055335968379]}]}, {\"name\": \"recall_score_macro\", \"run_id\": \"AutoML_26783b1a-8a29-4a5e-abc9-26a03657ff6c\", \"categories\": [0], \"series\": [{\"data\": [0.8340669053169053]}]}, {\"name\": \"average_precision_score_micro\", \"run_id\": \"AutoML_26783b1a-8a29-4a5e-abc9-26a03657ff6c\", \"categories\": [0], \"series\": [{\"data\": [0.9167273171192323]}]}], \"run_logs\": \"\\nRun is completed.\", \"graph\": {}, \"widget_settings\": {\"childWidgetDisplay\": \"popup\", \"send_telemetry\": false, \"log_level\": \"INFO\", \"sdk_version\": \"1.20.0\"}, \"loading\": false}"
          },
          "metadata": {}
        }
      ],
      "execution_count": 11,
      "metadata": {
        "gather": {
          "logged": 1613019244180
        }
      }
    },
    {
      "cell_type": "markdown",
      "source": [
        "## Retrieve the Best Model's explanation¶\n",
        "Retrieve the explanation from the best_run which includes explanations for engineered features and raw features. Make sure that the run for generating explanations for the best model is completed."
      ],
      "metadata": {}
    },
    {
      "cell_type": "code",
      "source": [
        "Best Model¶\n",
        "TODO: In the cell below, get the best model from the automl experiments and display all the properties of the model."
      ],
      "outputs": [],
      "execution_count": null,
      "metadata": {}
    },
    {
      "cell_type": "code",
      "source": [
        "# Wait for the best model explanation run to complete\n",
        "from azureml.core.run import Run\n",
        "model_explainability_run_id = remote_run.id + \"_\" + \"ModelExplain\"\n",
        "print(model_explainability_run_id)\n",
        "#model_explainability_run = Run(experiment=experiment, run_id=model_explainability_run_id)\n",
        "#model_explainability_run.wait_for_completion()\n",
        "\n",
        "# Get the best run object\n",
        "best_run, fitted_model = remote_run.get_output()\n",
        "print(remote_run.get_output())"
      ],
      "outputs": [
        {
          "output_type": "stream",
          "name": "stderr",
          "text": [
            "WARNING:root:The version of the SDK does not match the version the model was trained on.\n",
            "WARNING:root:The consistency in the result may not be guaranteed.\n",
            "WARNING:root:Package:azureml-automl-core, training version:1.21.0, current version:1.20.0\n",
            "Package:azureml-automl-runtime, training version:1.21.0, current version:1.20.0\n",
            "Package:azureml-core, training version:1.21.0.post1, current version:1.20.0\n",
            "Package:azureml-dataprep, training version:2.8.2, current version:2.7.3\n",
            "Package:azureml-dataprep-native, training version:28.0.0, current version:27.0.0\n",
            "Package:azureml-dataprep-rslex, training version:1.6.0, current version:1.5.0\n",
            "Package:azureml-dataset-runtime, training version:1.21.0, current version:1.20.0\n",
            "Package:azureml-defaults, training version:1.21.0, current version:1.20.0\n",
            "Package:azureml-interpret, training version:1.21.0, current version:1.20.0\n",
            "Package:azureml-pipeline-core, training version:1.21.0, current version:1.20.0\n",
            "Package:azureml-telemetry, training version:1.21.0, current version:1.20.0\n",
            "Package:azureml-train-automl-client, training version:1.21.0, current version:1.20.0\n",
            "Package:azureml-train-automl-runtime, training version:1.21.0, current version:1.20.0\n",
            "WARNING:root:Please ensure the version of your local conda dependencies match the version on which your model was trained in order to properly retrieve your model.\n",
            "WARNING:root:The version of the SDK does not match the version the model was trained on.\n",
            "WARNING:root:The consistency in the result may not be guaranteed.\n",
            "WARNING:root:Package:azureml-automl-core, training version:1.21.0, current version:1.20.0\n",
            "Package:azureml-automl-runtime, training version:1.21.0, current version:1.20.0\n",
            "Package:azureml-core, training version:1.21.0.post1, current version:1.20.0\n",
            "Package:azureml-dataprep, training version:2.8.2, current version:2.7.3\n",
            "Package:azureml-dataprep-native, training version:28.0.0, current version:27.0.0\n",
            "Package:azureml-dataprep-rslex, training version:1.6.0, current version:1.5.0\n",
            "Package:azureml-dataset-runtime, training version:1.21.0, current version:1.20.0\n",
            "Package:azureml-defaults, training version:1.21.0, current version:1.20.0\n",
            "Package:azureml-interpret, training version:1.21.0, current version:1.20.0\n",
            "Package:azureml-pipeline-core, training version:1.21.0, current version:1.20.0\n",
            "Package:azureml-telemetry, training version:1.21.0, current version:1.20.0\n",
            "Package:azureml-train-automl-client, training version:1.21.0, current version:1.20.0\n",
            "Package:azureml-train-automl-runtime, training version:1.21.0, current version:1.20.0\n",
            "WARNING:root:Please ensure the version of your local conda dependencies match the version on which your model was trained in order to properly retrieve your model.\n"
          ]
        },
        {
          "output_type": "stream",
          "name": "stdout",
          "text": [
            "AutoML_26783b1a-8a29-4a5e-abc9-26a03657ff6c_ModelExplain\n",
            "(Run(Experiment: ml-experiment-1,\n",
            "Id: AutoML_26783b1a-8a29-4a5e-abc9-26a03657ff6c_36,\n",
            "Type: azureml.scriptrun,\n",
            "Status: Completed), Pipeline(memory=None,\n",
            "         steps=[('datatransformer',\n",
            "                 DataTransformer(enable_dnn=None, enable_feature_sweeping=None,\n",
            "                                 feature_sweeping_config=None,\n",
            "                                 feature_sweeping_timeout=None,\n",
            "                                 featurization_config=None, force_text_dnn=None,\n",
            "                                 is_cross_validation=None,\n",
            "                                 is_onnx_compatible=None, logger=None,\n",
            "                                 observer=None, task=None, working_dir=None)),\n",
            "                ('prefittedsoftvotingclassifier',...\n",
            "                                                                                               min_child_weight=1,\n",
            "                                                                                               missing=nan,\n",
            "                                                                                               n_estimators=10,\n",
            "                                                                                               n_jobs=1,\n",
            "                                                                                               nthread=None,\n",
            "                                                                                               objective='reg:logistic',\n",
            "                                                                                               random_state=0,\n",
            "                                                                                               reg_alpha=0.3125,\n",
            "                                                                                               reg_lambda=0.4166666666666667,\n",
            "                                                                                               scale_pos_weight=1,\n",
            "                                                                                               seed=None,\n",
            "                                                                                               silent=None,\n",
            "                                                                                               subsample=0.5,\n",
            "                                                                                               tree_method='hist',\n",
            "                                                                                               verbose=-10,\n",
            "                                                                                               verbosity=0))],\n",
            "                                                                     verbose=False))],\n",
            "                                               flatten_transform=None,\n",
            "                                               weights=[0.375, 0.125, 0.125,\n",
            "                                                        0.125, 0.125,\n",
            "                                                        0.125]))],\n",
            "         verbose=False))\n"
          ]
        }
      ],
      "execution_count": 12,
      "metadata": {
        "gather": {
          "logged": 1613019356039
        }
      }
    },
    {
      "cell_type": "code",
      "source": [],
      "outputs": [],
      "execution_count": null,
      "metadata": {
        "collapsed": true,
        "jupyter": {
          "source_hidden": false,
          "outputs_hidden": false
        },
        "nteract": {
          "transient": {
            "deleting": false
          }
        }
      }
    },
    {
      "cell_type": "code",
      "source": [
        "print(\"Best Run:\", best_run)"
      ],
      "outputs": [
        {
          "output_type": "stream",
          "name": "stdout",
          "text": [
            "Best Run: Run(Experiment: ml-experiment-1,\n",
            "Id: AutoML_26783b1a-8a29-4a5e-abc9-26a03657ff6c_36,\n",
            "Type: azureml.scriptrun,\n",
            "Status: Completed)\n"
          ]
        }
      ],
      "execution_count": 13,
      "metadata": {
        "gather": {
          "logged": 1613019529463
        }
      }
    },
    {
      "cell_type": "code",
      "source": [
        "print(\"Best Model:\", fitted_model)"
      ],
      "outputs": [
        {
          "output_type": "stream",
          "name": "stdout",
          "text": [
            "Best Model: Pipeline(memory=None,\n",
            "         steps=[('datatransformer',\n",
            "                 DataTransformer(enable_dnn=None, enable_feature_sweeping=None,\n",
            "                                 feature_sweeping_config=None,\n",
            "                                 feature_sweeping_timeout=None,\n",
            "                                 featurization_config=None, force_text_dnn=None,\n",
            "                                 is_cross_validation=None,\n",
            "                                 is_onnx_compatible=None, logger=None,\n",
            "                                 observer=None, task=None, working_dir=None)),\n",
            "                ('prefittedsoftvotingclassifier',...\n",
            "                                                                                               min_child_weight=1,\n",
            "                                                                                               missing=nan,\n",
            "                                                                                               n_estimators=10,\n",
            "                                                                                               n_jobs=1,\n",
            "                                                                                               nthread=None,\n",
            "                                                                                               objective='reg:logistic',\n",
            "                                                                                               random_state=0,\n",
            "                                                                                               reg_alpha=0.3125,\n",
            "                                                                                               reg_lambda=0.4166666666666667,\n",
            "                                                                                               scale_pos_weight=1,\n",
            "                                                                                               seed=None,\n",
            "                                                                                               silent=None,\n",
            "                                                                                               subsample=0.5,\n",
            "                                                                                               tree_method='hist',\n",
            "                                                                                               verbose=-10,\n",
            "                                                                                               verbosity=0))],\n",
            "                                                                     verbose=False))],\n",
            "                                               flatten_transform=None,\n",
            "                                               weights=[0.375, 0.125, 0.125,\n",
            "                                                        0.125, 0.125,\n",
            "                                                        0.125]))],\n",
            "         verbose=False)\n"
          ]
        }
      ],
      "execution_count": 14,
      "metadata": {
        "gather": {
          "logged": 1613019539460
        }
      }
    },
    {
      "cell_type": "code",
      "source": [
        "\n",
        "best_run.get_tags()"
      ],
      "outputs": [
        {
          "output_type": "execute_result",
          "execution_count": 15,
          "data": {
            "text/plain": "{'_aml_system_azureml.automlComponent': 'AutoML',\n '_aml_system_ComputeTargetStatus': '{\"AllocationState\":\"resizing\",\"PreparingNodeCount\":0,\"RunningNodeCount\":1,\"CurrentNodeCount\":1}',\n '_aml_system_automl_is_child_run_end_telemetry_event_logged': 'True'}"
          },
          "metadata": {}
        }
      ],
      "execution_count": 15,
      "metadata": {
        "gather": {
          "logged": 1612306399469
        }
      }
    },
    {
      "cell_type": "code",
      "source": [
        "best_run.get_file_names()"
      ],
      "outputs": [
        {
          "output_type": "execute_result",
          "execution_count": 16,
          "data": {
            "text/plain": "['accuracy_table',\n 'automl_driver.py',\n 'azureml-logs/55_azureml-execution-tvmps_bac91bf52a386f14fe1da922405920938dc019b7cd2799fcaff7edb7b071c882_d.txt',\n 'azureml-logs/65_job_prep-tvmps_bac91bf52a386f14fe1da922405920938dc019b7cd2799fcaff7edb7b071c882_d.txt',\n 'azureml-logs/70_driver_log.txt',\n 'azureml-logs/75_job_post-tvmps_bac91bf52a386f14fe1da922405920938dc019b7cd2799fcaff7edb7b071c882_d.txt',\n 'azureml-logs/process_info.json',\n 'azureml-logs/process_status.json',\n 'confusion_matrix',\n 'logs/azureml/104_azureml.log',\n 'logs/azureml/azureml_automl.log',\n 'logs/azureml/job_prep_azureml.log',\n 'logs/azureml/job_release_azureml.log',\n 'outputs/conda_env_v_1_0_0.yml',\n 'outputs/env_dependencies.json',\n 'outputs/internal_cross_validated_models.pkl',\n 'outputs/model.pkl',\n 'outputs/pipeline_graph.json',\n 'outputs/scoring_file_v_1_0_0.py']"
          },
          "metadata": {}
        }
      ],
      "execution_count": 16,
      "metadata": {
        "gather": {
          "logged": 1612306405027
        }
      }
    },
    {
      "cell_type": "code",
      "source": [
        "\n",
        "best_run.get_metrics(name='accuracy')"
      ],
      "outputs": [
        {
          "output_type": "execute_result",
          "execution_count": 15,
          "data": {
            "text/plain": "{'accuracy': 0.8662055335968379}"
          },
          "metadata": {}
        }
      ],
      "execution_count": 15,
      "metadata": {
        "gather": {
          "logged": 1613019572617
        }
      }
    },
    {
      "cell_type": "code",
      "source": [
        "best_run.get_metrics()"
      ],
      "outputs": [
        {
          "output_type": "execute_result",
          "execution_count": 16,
          "data": {
            "text/plain": "{'AUC_micro': 0.9141624615288475,\n 'recall_score_macro': 0.8340669053169053,\n 'average_precision_score_micro': 0.9167273171192323,\n 'f1_score_micro': 0.8662055335968379,\n 'precision_score_micro': 0.8662055335968379,\n 'recall_score_micro': 0.8662055335968379,\n 'accuracy': 0.8662055335968379,\n 'AUC_macro': 0.9193286196127106,\n 'precision_score_macro': 0.8677675053274898,\n 'f1_score_macro': 0.8393662007645274,\n 'norm_macro_recall': 0.6681338106338106,\n 'average_precision_score_weighted': 0.9277085510193783,\n 'log_loss': 0.41534566641153425,\n 'precision_score_weighted': 0.8762151429637802,\n 'average_precision_score_macro': 0.9116539012187335,\n 'f1_score_weighted': 0.8624978266373562,\n 'AUC_weighted': 0.9193286196127106,\n 'weighted_accuracy': 0.8907388014938531,\n 'matthews_correlation': 0.6983646715108085,\n 'balanced_accuracy': 0.8340669053169053,\n 'recall_score_weighted': 0.8662055335968379,\n 'confusion_matrix': 'aml://artifactId/ExperimentRun/dcid.AutoML_26783b1a-8a29-4a5e-abc9-26a03657ff6c_36/confusion_matrix',\n 'accuracy_table': 'aml://artifactId/ExperimentRun/dcid.AutoML_26783b1a-8a29-4a5e-abc9-26a03657ff6c_36/accuracy_table'}"
          },
          "metadata": {}
        }
      ],
      "execution_count": 16,
      "metadata": {
        "gather": {
          "logged": 1613019598912
        }
      }
    },
    {
      "cell_type": "code",
      "source": [
        "#TODO: Save the best model"
      ],
      "outputs": [],
      "execution_count": null,
      "metadata": {}
    },
    {
      "cell_type": "markdown",
      "source": [
        "## Deploy\n",
        "Retrieve the Best Model\n",
        "Below we select the best pipeline from our iterations. The get_output method returns the best run and the fitted model. Overloads on get_output allow you to retrieve the best run and fitted model for any logged metric or for a particular iteration.\n",
        "\n",
        "Widget for Monitoring Runs\n",
        "The widget will first report a \"loading\" status while running the first iteration. After completing the first iteration, an auto-updating graph and table will be shown. The widget will refresh once per minute, so you should see the graph update as child runs complete.\n",
        "\n",
        "Note: The widget displays a link at the bottom. Use this link to open a web interface to explore the individual run details"
      ],
      "metadata": {}
    },
    {
      "cell_type": "markdown",
      "source": [
        "## Model Deployment\n",
        "Remember you have to deploy only one of the two models you trained.. Perform the steps in the rest of this notebook only if you wish to deploy this model.\n",
        "\n",
        "TODO: In the cell below, register the model, create an inference config and deploy the model as a web service."
      ],
      "metadata": {}
    },
    {
      "cell_type": "code",
      "source": [
        "best_run, fitted_model = remote_run.get_output()\r\n",
        "fitted_model.steps[1][1].estimators"
      ],
      "outputs": [
        {
          "output_type": "stream",
          "name": "stderr",
          "text": [
            "WARNING:root:The version of the SDK does not match the version the model was trained on.\n",
            "WARNING:root:The consistency in the result may not be guaranteed.\n",
            "WARNING:root:Package:azureml-automl-core, training version:1.21.0, current version:1.20.0\n",
            "Package:azureml-automl-runtime, training version:1.21.0, current version:1.20.0\n",
            "Package:azureml-core, training version:1.21.0.post1, current version:1.20.0\n",
            "Package:azureml-dataprep, training version:2.8.2, current version:2.7.3\n",
            "Package:azureml-dataprep-native, training version:28.0.0, current version:27.0.0\n",
            "Package:azureml-dataprep-rslex, training version:1.6.0, current version:1.5.0\n",
            "Package:azureml-dataset-runtime, training version:1.21.0, current version:1.20.0\n",
            "Package:azureml-defaults, training version:1.21.0, current version:1.20.0\n",
            "Package:azureml-interpret, training version:1.21.0, current version:1.20.0\n",
            "Package:azureml-pipeline-core, training version:1.21.0, current version:1.20.0\n",
            "Package:azureml-telemetry, training version:1.21.0, current version:1.20.0\n",
            "Package:azureml-train-automl-client, training version:1.21.0, current version:1.20.0\n",
            "Package:azureml-train-automl-runtime, training version:1.21.0, current version:1.20.0\n",
            "WARNING:root:Please ensure the version of your local conda dependencies match the version on which your model was trained in order to properly retrieve your model.\n"
          ]
        },
        {
          "output_type": "execute_result",
          "execution_count": 17,
          "data": {
            "text/plain": "[('8',\n  Pipeline(memory=None,\n           steps=[('sparsenormalizer',\n                   <azureml.automl.runtime.shared.model_wrappers.SparseNormalizer object at 0x7f9b7b6cd9e8>),\n                  ('xgboostclassifier',\n                   XGBoostClassifier(base_score=0.5, booster='gbtree',\n                                     colsample_bylevel=1, colsample_bynode=1,\n                                     colsample_bytree=0.9, eta=0.3, gamma=0,\n                                     learning_rate=0.1, max_delta_step=0,\n                                     max_depth=10, max_leaves=15,\n                                     min_child_weight=1, missing=nan,\n                                     n_estimators=25, n_jobs=1, nthread=None,\n                                     objective='reg:logistic', random_state=0,\n                                     reg_alpha=0, reg_lambda=0.5208333333333334,\n                                     scale_pos_weight=1, seed=None, silent=None,\n                                     subsample=0.6, tree_method='auto',\n                                     verbose=-10, verbosity=0))],\n           verbose=False)),\n ('4',\n  Pipeline(memory=None,\n           steps=[('minmaxscaler', MinMaxScaler(copy=True, feature_range=(0, 1))),\n                  ('randomforestclassifier',\n                   RandomForestClassifier(bootstrap=True, ccp_alpha=0.0,\n                                          class_weight='balanced',\n                                          criterion='gini', max_depth=None,\n                                          max_features='log2',\n                                          max_leaf_nodes=None, max_samples=None,\n                                          min_impurity_decrease=0.0,\n                                          min_impurity_split=None,\n                                          min_samples_leaf=0.01,\n                                          min_samples_split=0.01,\n                                          min_weight_fraction_leaf=0.0,\n                                          n_estimators=25, n_jobs=1,\n                                          oob_score=True, random_state=None,\n                                          verbose=0, warm_start=False))],\n           verbose=False)),\n ('11',\n  Pipeline(memory=None,\n           steps=[('robustscaler',\n                   RobustScaler(copy=True, quantile_range=[25, 75],\n                                with_centering=False, with_scaling=False)),\n                  ('gradientboostingclassifier',\n                   GradientBoostingClassifier(ccp_alpha=0.0,\n                                              criterion='friedman_mse', init=None,\n                                              learning_rate=0.1, loss='deviance',\n                                              max_depth=1, max_features=0.6,\n                                              max_leaf_nodes=None,\n                                              min_impurity_decrease=0.0,\n                                              min_impurity_split=None,\n                                              min_samples_leaf=0.13894736842105262,\n                                              min_samples_split=0.29105263157894734,\n                                              min_weight_fraction_leaf=0.0,\n                                              n_estimators=50,\n                                              n_iter_no_change=None,\n                                              presort='deprecated',\n                                              random_state=None,\n                                              subsample=0.7631578947368421,\n                                              tol=0.0001, validation_fraction=0.1,\n                                              verbose=0, warm_start=False))],\n           verbose=False)),\n ('9',\n  Pipeline(memory=None,\n           steps=[('robustscaler',\n                   RobustScaler(copy=True, quantile_range=[10, 90],\n                                with_centering=True, with_scaling=True)),\n                  ('randomforestclassifier',\n                   RandomForestClassifier(bootstrap=True, ccp_alpha=0.0,\n                                          class_weight=None, criterion='entropy',\n                                          max_depth=None, max_features=0.6,\n                                          max_leaf_nodes=None, max_samples=None,\n                                          min_impurity_decrease=0.0,\n                                          min_impurity_split=None,\n                                          min_samples_leaf=0.035789473684210524,\n                                          min_samples_split=0.10368421052631578,\n                                          min_weight_fraction_leaf=0.0,\n                                          n_estimators=25, n_jobs=1,\n                                          oob_score=False, random_state=None,\n                                          verbose=0, warm_start=False))],\n           verbose=False)),\n ('27',\n  Pipeline(memory=None,\n           steps=[('maxabsscaler', MaxAbsScaler(copy=True)),\n                  ('extratreesclassifier',\n                   ExtraTreesClassifier(bootstrap=False, ccp_alpha=0.0,\n                                        class_weight='balanced',\n                                        criterion='entropy', max_depth=None,\n                                        max_features=0.7, max_leaf_nodes=None,\n                                        max_samples=None,\n                                        min_impurity_decrease=0.0,\n                                        min_impurity_split=None,\n                                        min_samples_leaf=0.06157894736842105,\n                                        min_samples_split=0.2442105263157895,\n                                        min_weight_fraction_leaf=0.0,\n                                        n_estimators=100, n_jobs=1,\n                                        oob_score=False, random_state=None,\n                                        verbose=0, warm_start=False))],\n           verbose=False)),\n ('21',\n  Pipeline(memory=None,\n           steps=[('standardscalerwrapper',\n                   <azureml.automl.runtime.shared.model_wrappers.StandardScalerWrapper object at 0x7f9b7b5b5908>),\n                  ('xgboostclassifier',\n                   XGBoostClassifier(base_score=0.5, booster='gbtree',\n                                     colsample_bylevel=1, colsample_bynode=1,\n                                     colsample_bytree=0.6, eta=0.3, gamma=0,\n                                     grow_policy='lossguide', learning_rate=0.1,\n                                     max_bin=255, max_delta_step=0, max_depth=6,\n                                     max_leaves=0, min_child_weight=1,\n                                     missing=nan, n_estimators=10, n_jobs=1,\n                                     nthread=None, objective='reg:logistic',\n                                     random_state=0, reg_alpha=0.3125,\n                                     reg_lambda=0.4166666666666667,\n                                     scale_pos_weight=1, seed=None, silent=None,\n                                     subsample=0.5, tree_method='hist',\n                                     verbose=-10, verbosity=0))],\n           verbose=False))]"
          },
          "metadata": {}
        }
      ],
      "execution_count": 17,
      "metadata": {
        "gather": {
          "logged": 1613019693273
        }
      }
    },
    {
      "cell_type": "code",
      "source": [
        "X_test = test.drop(['DEATH_EVENT'], axis = 1)\n",
        "y_test = test['DEATH_EVENT']\n",
        "#y_test.take(5).to_pandas_dataframe()"
      ],
      "outputs": [],
      "execution_count": 18,
      "metadata": {
        "gather": {
          "logged": 1613019729220
        }
      }
    },
    {
      "cell_type": "code",
      "source": [
        "from sklearn.metrics import confusion_matrix\n",
        "ypred = fitted_model.predict(X_test)\n",
        "cm = confusion_matrix(y_test, ypred)"
      ],
      "outputs": [],
      "execution_count": 19,
      "metadata": {
        "gather": {
          "logged": 1613019732940
        }
      }
    },
    {
      "cell_type": "code",
      "source": [
        "pd.DataFrame(cm).style.background_gradient(cmap='Blues', low=0, high=0.9)"
      ],
      "outputs": [
        {
          "output_type": "execute_result",
          "execution_count": 20,
          "data": {
            "text/plain": "<pandas.io.formats.style.Styler at 0x7f9b7b63af28>",
            "text/html": "<style  type=\"text/css\" >\n    #T_4fafe8b6_6c26_11eb_8d0f_075a4cd0a344row0_col0 {\n            background-color:  #63a8d3;\n            color:  #000000;\n        }    #T_4fafe8b6_6c26_11eb_8d0f_075a4cd0a344row0_col1 {\n            background-color:  #f7fbff;\n            color:  #000000;\n        }    #T_4fafe8b6_6c26_11eb_8d0f_075a4cd0a344row1_col0 {\n            background-color:  #f7fbff;\n            color:  #000000;\n        }    #T_4fafe8b6_6c26_11eb_8d0f_075a4cd0a344row1_col1 {\n            background-color:  #63a8d3;\n            color:  #000000;\n        }</style><table id=\"T_4fafe8b6_6c26_11eb_8d0f_075a4cd0a344\" ><thead>    <tr>        <th class=\"blank level0\" ></th>        <th class=\"col_heading level0 col0\" >0</th>        <th class=\"col_heading level0 col1\" >1</th>    </tr></thead><tbody>\n                <tr>\n                        <th id=\"T_4fafe8b6_6c26_11eb_8d0f_075a4cd0a344level0_row0\" class=\"row_heading level0 row0\" >0</th>\n                        <td id=\"T_4fafe8b6_6c26_11eb_8d0f_075a4cd0a344row0_col0\" class=\"data row0 col0\" >51</td>\n                        <td id=\"T_4fafe8b6_6c26_11eb_8d0f_075a4cd0a344row0_col1\" class=\"data row0 col1\" >4</td>\n            </tr>\n            <tr>\n                        <th id=\"T_4fafe8b6_6c26_11eb_8d0f_075a4cd0a344level0_row1\" class=\"row_heading level0 row1\" >1</th>\n                        <td id=\"T_4fafe8b6_6c26_11eb_8d0f_075a4cd0a344row1_col0\" class=\"data row1 col0\" >3</td>\n                        <td id=\"T_4fafe8b6_6c26_11eb_8d0f_075a4cd0a344row1_col1\" class=\"data row1 col1\" >17</td>\n            </tr>\n    </tbody></table>"
          },
          "metadata": {}
        }
      ],
      "execution_count": 20,
      "metadata": {
        "collapsed": true,
        "gather": {
          "logged": 1613019738026
        },
        "jupyter": {
          "outputs_hidden": false,
          "source_hidden": false
        },
        "nteract": {
          "transient": {
            "deleting": false
          }
        }
      }
    },
    {
      "cell_type": "code",
      "source": [
        "#model_name = best_run.properties['model_name']\n",
        "\n",
        "script_file_name = 'inference/score.py'\n",
        "\n",
        "best_run.download_file('outputs/scoring_file_v_1_0_0.py', 'inference/score.py')"
      ],
      "outputs": [],
      "execution_count": 21,
      "metadata": {
        "gather": {
          "logged": 1613019897323
        }
      }
    },
    {
      "cell_type": "markdown",
      "source": [
        "## Register the Fitted Model for Deployment\n",
        "If neither metric nor iteration are specified in the register_model call, the iteration with the best primary metric is registered."
      ],
      "metadata": {}
    },
    {
      "cell_type": "code",
      "source": [
        "Deploy the model as a Web Service on Azure Container Instance¶"
      ],
      "outputs": [],
      "execution_count": null,
      "metadata": {}
    },
    {
      "cell_type": "code",
      "source": [
        "from azureml.core.model import Model\n",
        "description = 'AutoML Model trained on heart data to predict if there will be a cardic event ( heart attack)'\n",
        "tags = None\n",
        "model = remote_run.register_model(model_name = 'best_run_automl.pkl', description = description, tags = tags)\n",
        "\n",
        "print(remote_run.model_id) # This will be written to the script file later in the notebook."
      ],
      "outputs": [
        {
          "output_type": "stream",
          "name": "stdout",
          "text": [
            "best_run_automl.pkl\n"
          ]
        }
      ],
      "execution_count": 22,
      "metadata": {
        "gather": {
          "logged": 1613020047961
        }
      }
    },
    {
      "cell_type": "code",
      "source": [
        "from azureml.core.model import InferenceConfig\n",
        "from azureml.core.webservice import AciWebservice\n",
        "from azureml.core.webservice import Webservice\n",
        "from azureml.core.model import Model\n",
        "from azureml.core.environment import Environment\n",
        "\n",
        "environment = best_run.get_environment()\n",
        "\n",
        "inference_config = InferenceConfig(entry_script=script_file_name, environment = environment)\n",
        "\n",
        "aciconfig = AciWebservice.deploy_configuration(cpu_cores = 1, \n",
        "                                               memory_gb = 1, \n",
        "                                               enable_app_insights = True,\n",
        "                                               auth_enabled = True,\n",
        "                                               tags = {'area': \"bmData\", 'type': \"automl_classification\"}, \n",
        "                                               description = 'sample service for Automl Classification')\n",
        "\n",
        "aci_service_name = 'aci-automl-heart-service'\n",
        "print(aci_service_name)\n",
        "aci_service = Model.deploy(ws, aci_service_name, [model], inference_config, aciconfig)\n",
        "aci_service.wait_for_deployment(True)\n",
        "print(aci_service.state)"
      ],
      "outputs": [
        {
          "output_type": "stream",
          "name": "stdout",
          "text": [
            "aci-automl-heart-service\n",
            "Tips: You can try get_logs(): https://aka.ms/debugimage#dockerlog or local deployment: https://aka.ms/debugimage#debug-locally to debug if deployment takes longer than 10 minutes.\n",
            "Running.........................................\n",
            "Succeeded\n",
            "ACI service creation operation finished, operation \"Succeeded\"\n",
            "Healthy\n"
          ]
        }
      ],
      "execution_count": 26,
      "metadata": {
        "gather": {
          "logged": 1613020860421
        },
        "scrolled": true
      }
    },
    {
      "cell_type": "code",
      "source": [
        "#get scoring uri and primary authentication key\r\n",
        "primary, secondary = aci_service.get_keys()\r\n",
        "print ('Service state:' + aci_service.state)\r\n",
        "print ('Service scoring URI: ' + aci_service.scoring_uri)\r\n",
        "print ('Service Swagger URI:' + aci_service.swagger_uri)\r\n",
        "print ('Service primary authentication key:' + primary)"
      ],
      "outputs": [
        {
          "output_type": "stream",
          "name": "stdout",
          "text": [
            "Service state:Healthy\n",
            "Service scoring URI: http://03f074b7-b00f-4202-b072-ea3eb4427cd0.southcentralus.azurecontainer.io/score\n",
            "Service Swagger URI:http://03f074b7-b00f-4202-b072-ea3eb4427cd0.southcentralus.azurecontainer.io/swagger.json\n",
            "Service primary authentication key:x6WpaCh2SPfU4HIpGpVZq2x142mU88Is\n"
          ]
        }
      ],
      "execution_count": 30,
      "metadata": {
        "collapsed": true,
        "jupyter": {
          "source_hidden": false,
          "outputs_hidden": false
        },
        "nteract": {
          "transient": {
            "deleting": false
          }
        },
        "gather": {
          "logged": 1613021341484
        }
      }
    },
    {
      "cell_type": "code",
      "source": [
        "%run endpoint1.py"
      ],
      "outputs": [
        {
          "output_type": "stream",
          "name": "stdout",
          "text": [
            "\"{\\\"result\\\": [1, 1]}\"\n",
            "result: [1, 1], where '1' means the result in the 'DEATH_EVENT' column\n"
          ]
        }
      ],
      "execution_count": 40,
      "metadata": {
        "collapsed": true,
        "jupyter": {
          "source_hidden": false,
          "outputs_hidden": false
        },
        "nteract": {
          "transient": {
            "deleting": false
          }
        }
      }
    },
    {
      "cell_type": "code",
      "source": [
        "#Get Logs from a deployed web service\n",
        "print(aci_service.get_logs())"
      ],
      "outputs": [
        {
          "output_type": "stream",
          "name": "stdout",
          "text": [
            "2021-02-11T05:20:39,985671302+00:00 - iot-server/run \n",
            "2021-02-11T05:20:39,985814006+00:00 - rsyslog/run \n",
            "2021-02-11T05:20:39,993014777+00:00 - nginx/run \n",
            "2021-02-11T05:20:39,997575586+00:00 - gunicorn/run \n",
            "/usr/sbin/nginx: /azureml-envs/azureml_20a8278aa8b20dd48cc50f56a6d2586c/lib/libcrypto.so.1.0.0: no version information available (required by /usr/sbin/nginx)\n",
            "/usr/sbin/nginx: /azureml-envs/azureml_20a8278aa8b20dd48cc50f56a6d2586c/lib/libcrypto.so.1.0.0: no version information available (required by /usr/sbin/nginx)\n",
            "/usr/sbin/nginx: /azureml-envs/azureml_20a8278aa8b20dd48cc50f56a6d2586c/lib/libssl.so.1.0.0: no version information available (required by /usr/sbin/nginx)\n",
            "/usr/sbin/nginx: /azureml-envs/azureml_20a8278aa8b20dd48cc50f56a6d2586c/lib/libssl.so.1.0.0: no version information available (required by /usr/sbin/nginx)\n",
            "/usr/sbin/nginx: /azureml-envs/azureml_20a8278aa8b20dd48cc50f56a6d2586c/lib/libssl.so.1.0.0: no version information available (required by /usr/sbin/nginx)\n",
            "rsyslogd: /azureml-envs/azureml_20a8278aa8b20dd48cc50f56a6d2586c/lib/libuuid.so.1: no version information available (required by rsyslogd)\n",
            "EdgeHubConnectionString and IOTEDGE_IOTHUBHOSTNAME are not set. Exiting...\n",
            "2021-02-11T05:20:40,194062662+00:00 - iot-server/finish 1 0\n",
            "2021-02-11T05:20:40,195665500+00:00 - Exit code 1 is normal. Not restarting iot-server.\n",
            "Starting gunicorn 19.9.0\n",
            "Listening at: http://127.0.0.1:31311 (13)\n",
            "Using worker: sync\n",
            "worker timeout is set to 300\n",
            "Booting worker with pid: 41\n",
            "SPARK_HOME not set. Skipping PySpark Initialization.\n",
            "Generating new fontManager, this may take some time...\n",
            "Initializing logger\n",
            "2021-02-11 05:20:41,648 | root | INFO | Starting up app insights client\n",
            "2021-02-11 05:20:41,649 | root | INFO | Starting up request id generator\n",
            "2021-02-11 05:20:41,649 | root | INFO | Starting up app insight hooks\n",
            "2021-02-11 05:20:41,649 | root | INFO | Invoking user's init function\n",
            "2021-02-11 05:20:44,260 | root | INFO | Users's init has completed successfully\n",
            "2021-02-11 05:20:44,263 | root | INFO | Skipping middleware: dbg_model_info as it's not enabled.\n",
            "2021-02-11 05:20:44,263 | root | INFO | Skipping middleware: dbg_resource_usage as it's not enabled.\n",
            "2021-02-11 05:20:44,264 | root | INFO | Scoring timeout is found from os.environ: 60000 ms\n",
            "2021-02-11 05:20:58,905 | root | INFO | 200\n",
            "127.0.0.1 - - [11/Feb/2021:05:20:58 +0000] \"GET /swagger.json HTTP/1.0\" 200 2860 \"-\" \"Go-http-client/1.1\"\n",
            "2021-02-11 05:20:59,825 | root | INFO | 200\n",
            "127.0.0.1 - - [11/Feb/2021:05:20:59 +0000] \"GET /swagger.json HTTP/1.0\" 200 2860 \"-\" \"Go-http-client/1.1\"\n",
            "2021-02-11 05:29:26,780 | root | INFO | 200\n",
            "127.0.0.1 - - [11/Feb/2021:05:29:26 +0000] \"GET /swagger.json HTTP/1.0\" 200 2860 \"-\" \"Go-http-client/1.1\"\n",
            "2021-02-11 05:29:27,038 | root | INFO | 200\n",
            "127.0.0.1 - - [11/Feb/2021:05:29:27 +0000] \"GET /swagger.json HTTP/1.0\" 200 2860 \"-\" \"Go-http-client/1.1\"\n",
            "2021-02-11 05:31:12,003 | root | INFO | 200\n",
            "127.0.0.1 - - [11/Feb/2021:05:31:11 +0000] \"GET /swagger.json HTTP/1.0\" 200 2860 \"-\" \"Go-http-client/1.1\"\n",
            "2021-02-11 05:31:12,634 | root | INFO | 200\n",
            "127.0.0.1 - - [11/Feb/2021:05:31:12 +0000] \"GET /swagger.json HTTP/1.0\" 200 2860 \"-\" \"Go-http-client/1.1\"\n",
            "2021-02-11 05:59:13,143 | root | INFO | Validation Request Content-Type\n",
            "2021-02-11 05:59:13,144 | root | INFO | Scoring Timer is set to 60.0 seconds\n",
            "2021-02-11 05:59:13,303 | root | INFO | 200\n",
            "127.0.0.1 - - [11/Feb/2021:05:59:13 +0000] \"POST /score HTTP/1.0\" 200 22 \"-\" \"python-requests/2.25.1\"\n",
            "2021-02-11 06:00:55,375 | root | INFO | Validation Request Content-Type\n",
            "2021-02-11 06:00:55,376 | root | INFO | Scoring Timer is set to 60.0 seconds\n",
            "2021-02-11 06:00:55,506 | root | INFO | 200\n",
            "127.0.0.1 - - [11/Feb/2021:06:00:55 +0000] \"POST /score HTTP/1.0\" 200 22 \"-\" \"python-requests/2.25.1\"\n",
            "2021-02-11 06:01:53,099 | root | INFO | Validation Request Content-Type\n",
            "2021-02-11 06:01:53,099 | root | INFO | Scoring Timer is set to 60.0 seconds\n",
            "2021-02-11 06:01:53,216 | root | INFO | 200\n",
            "127.0.0.1 - - [11/Feb/2021:06:01:53 +0000] \"POST /score HTTP/1.0\" 200 22 \"-\" \"python-requests/2.25.1\"\n",
            "2021-02-11 06:02:21,566 | root | INFO | Validation Request Content-Type\n",
            "2021-02-11 06:02:21,566 | root | INFO | Scoring Timer is set to 60.0 seconds\n",
            "2021-02-11 06:02:21,706 | root | INFO | 200\n",
            "127.0.0.1 - - [11/Feb/2021:06:02:21 +0000] \"POST /score HTTP/1.0\" 200 22 \"-\" \"python-requests/2.25.1\"\n",
            "\n"
          ]
        }
      ],
      "execution_count": 41,
      "metadata": {
        "gather": {
          "logged": 1613023420174
        }
      }
    },
    {
      "cell_type": "markdown",
      "source": [
        "Test\n",
        "Now that the model is trained, run the test data through the trained model to get the predicted values. This calls the ACI web service to do the prediction.\n",
        "\n",
        "Note that the JSON passed to the ACI web service is an array of rows of data. Each row should either be an array of values in the same order that was used for training or a dictionary where the keys are the same as the column names used for training. The example below uses dictionary rows."
      ],
      "metadata": {}
    },
    {
      "cell_type": "code",
      "source": [
        "# Load the heart datasets.\n",
        "from numpy import array"
      ],
      "outputs": [],
      "execution_count": 27,
      "metadata": {
        "gather": {
          "logged": 1612310660052
        }
      }
    },
    {
      "cell_type": "markdown",
      "source": [
        "## Testing Our Best Fitted Model¶\n",
        "We will use confusion matrix to see how our model works."
      ],
      "metadata": {}
    },
    {
      "cell_type": "code",
      "source": [
        "tosend = test[:2].values.tolist()\n",
        "tosend1 = [tosend[0][:-1], tosend[1][:-1]]\n",
        "print (tosend)\n",
        "print (tosend1)\n"
      ],
      "outputs": [
        {
          "output_type": "stream",
          "name": "stdout",
          "text": [
            "[[69.0, 0.0, 1419.0, 0.0, 40.0, 0.0, 105000.0, 1.0, 135.0, 1.0, 1.0, 147.0, 0.0], [70.0, 0.0, 2695.0, 1.0, 40.0, 0.0, 241000.0, 1.0, 137.0, 1.0, 0.0, 247.0, 0.0]]\n",
            "[[69.0, 0.0, 1419.0, 0.0, 40.0, 0.0, 105000.0, 1.0, 135.0, 1.0, 1.0, 147.0], [70.0, 0.0, 2695.0, 1.0, 40.0, 0.0, 241000.0, 1.0, 137.0, 1.0, 0.0, 247.0]]\n"
          ]
        }
      ],
      "execution_count": 28,
      "metadata": {
        "gather": {
          "logged": 1612310666953
        }
      }
    },
    {
      "cell_type": "code",
      "source": [
        "import json\n",
        "\n",
        "\n",
        "input_payload = json.dumps({\n",
        " #   'data': test[:2].values.tolist(),\n",
        "    'data': tosend1,\n",
        "    'method': 'predict'  # If you have a classification model, you can get probabilities by changing this to 'predict_proba'.\n",
        "})\n",
        "\n",
        "output = aci_service.run(input_payload)\n",
        "\n",
        "print('Result of prediction is, where 0 is not heart disease, 1 is there is heart disease:', output)"
      ],
      "outputs": [
        {
          "output_type": "stream",
          "name": "stdout",
          "text": [
            "Result of prediction is, where 0 is not heart disease, 1 is there is heart disease: {\"result\": [0, 0]}\n"
          ]
        }
      ],
      "execution_count": 29,
      "metadata": {
        "collapsed": true,
        "gather": {
          "logged": 1612310677642
        },
        "jupyter": {
          "outputs_hidden": false,
          "source_hidden": false
        },
        "nteract": {
          "transient": {
            "deleting": false
          }
        }
      }
    },
    {
      "cell_type": "code",
      "source": [
        "aci_service.delete()"
      ],
      "outputs": [],
      "execution_count": 30,
      "metadata": {
        "gather": {
          "logged": 1612310688439
        }
      }
    }
  ],
  "metadata": {
    "order_index": 11,
    "exclude_from_index": false,
    "task": "Demonstrates the use of AutoMLStep",
    "deployment": [
      "None"
    ],
    "authors": [
      {
        "name": "sanpil"
      }
    ],
    "star_tag": [
      "featured"
    ],
    "kernel_info": {
      "name": "python3"
    },
    "language_info": {
      "name": "python",
      "version": "3.6.9",
      "mimetype": "text/x-python",
      "codemirror_mode": {
        "name": "ipython",
        "version": 3
      },
      "pygments_lexer": "ipython3",
      "nbconvert_exporter": "python",
      "file_extension": ".py"
    },
    "compute": [
      "AML Compute"
    ],
    "kernelspec": {
      "name": "python3",
      "language": "python",
      "display_name": "Python 3"
    },
    "tags": [
      "None"
    ],
    "datasets": [
      "Custom"
    ],
    "categories": [
      "how-to-use-azureml",
      "machine-learning-pipelines",
      "intro-to-pipelines"
    ],
    "category": "tutorial",
    "framework": [
      "Automated Machine Learning"
    ],
    "friendly_name": "How to use AutoMLStep with AML Pipelines",
    "nteract": {
      "version": "nteract-front-end@1.0.0"
    }
  },
  "nbformat": 4,
  "nbformat_minor": 2
}
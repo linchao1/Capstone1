{
  "cells": [
    {
      "cell_type": "markdown",
      "source": [
        "Copyright (c) Microsoft Corporation. All rights reserved.  \n",
        "Licensed under the MIT License."
      ],
      "metadata": {}
    },
    {
      "cell_type": "markdown",
      "source": [
        "![Impressions](https://PixelServer20190423114238.azurewebsites.net/api/impressions/NotebookVM/how-to-use-azureml/machine-learning-pipelines/intro-to-pipelines/aml-pipelines-with-automated-machine-learning-step.png)"
      ],
      "metadata": {}
    },
    {
      "cell_type": "markdown",
      "source": [
        "# Azure Machine Learning Pipeline with AutoMLStep\n",
        "This notebook demonstrates the use of AutoMLStep in Azure Machine Learning Pipeline."
      ],
      "metadata": {}
    },
    {
      "cell_type": "markdown",
      "source": [
        "## Introduction\n",
        "In this example we showcase how you can use AzureML Dataset to load data for AutoML via AML Pipeline. \n",
        "\n",
        "If you are using an Azure Machine Learning Notebook VM, you are all set. Otherwise, make sure you have executed the [configuration](https://aka.ms/pl-config) before running this notebook.\n",
        "\n",
        "In this notebook you will learn how to:\n",
        "1. Create an `Experiment` in an existing `Workspace`.\n",
        "2. Create or Attach existing AmlCompute to a workspace.\n",
        "3. Define data loading in a `TabularDataset`.\n",
        "4. Configure AutoML using `AutoMLConfig`.\n",
        "5. Use AutoMLStep\n",
        "6. Train the model using AmlCompute\n",
        "7. Explore the results.\n",
        "8. Test the best fitted model."
      ],
      "metadata": {}
    },
    {
      "cell_type": "markdown",
      "source": [
        "## Azure Machine Learning and Pipeline SDK-specific imports"
      ],
      "metadata": {}
    },
    {
      "cell_type": "code",
      "source": [
        "import logging\n",
        "import os\n",
        "import csv\n",
        "\n",
        "from matplotlib import pyplot as plt\n",
        "import numpy as np\n",
        "import pandas as pd\n",
        "from sklearn import datasets\n",
        "import pkg_resources\n",
        "\n",
        "import azureml.core\n",
        "from azureml.core.experiment import Experiment\n",
        "from azureml.core.workspace import Workspace\n",
        "from azureml.train.automl import AutoMLConfig\n",
        "from azureml.core.dataset import Dataset\n",
        "\n",
        "from azureml.pipeline.steps import AutoMLStep\n",
        "\n",
        "# Check core SDK version number\n",
        "print(\"SDK version:\", azureml.core.VERSION)"
      ],
      "outputs": [
        {
          "output_type": "stream",
          "name": "stdout",
          "text": [
            "SDK version: 1.20.0\n"
          ]
        }
      ],
      "execution_count": 1,
      "metadata": {
        "gather": {
          "logged": 1612305098368
        }
      }
    },
    {
      "cell_type": "markdown",
      "source": [
        "## Initialize Workspace\n",
        "Initialize a workspace object from persisted configuration. Make sure the config file is present at .\\config.json"
      ],
      "metadata": {}
    },
    {
      "cell_type": "code",
      "source": [
        "ws = Workspace.from_config()\n",
        "print(ws.name, ws.resource_group, ws.location, ws.subscription_id, sep = '\\n')"
      ],
      "outputs": [
        {
          "output_type": "stream",
          "name": "stdout",
          "text": [
            "quick-starts-ws-137008\n",
            "aml-quickstarts-137008\n",
            "southcentralus\n",
            "9a7511b8-150f-4a58-8528-3e7d50216c31\n"
          ]
        }
      ],
      "execution_count": 2,
      "metadata": {
        "gather": {
          "logged": 1612305122145
        }
      }
    },
    {
      "cell_type": "markdown",
      "source": [
        "## Create an Azure ML experiment\n",
        "Let's create an experiment named \"automlstep-classification\" and a folder to hold the training scripts. The script runs will be recorded under the experiment in Azure.\n",
        "\n",
        "The best practice is to use separate folders for scripts and its dependent files for each step and specify that folder as the `source_directory` for the step. This helps reduce the size of the snapshot created for the step (only the specific folder is snapshotted). Since changes in any files in the `source_directory` would trigger a re-upload of the snapshot, this helps keep the reuse of the step when there are no changes in the `source_directory` of the step.\n",
        "\n",
        "*Udacity Note:* There is no need to create an Azure ML experiment, this needs to re-use the experiment that was already created\n"
      ],
      "metadata": {}
    },
    {
      "cell_type": "code",
      "source": [
        "# Choose a name for the run history container in the workspace.\n",
        "# NOTE: update these to match your existing experiment name\n",
        "experiment_name = 'ml-experiment-1'\n",
        "project_folder = './pipeline-project'\n",
        "\n",
        "experiment = Experiment(ws, experiment_name)\n",
        "experiment"
      ],
      "outputs": [
        {
          "output_type": "execute_result",
          "execution_count": 3,
          "data": {
            "text/plain": "Experiment(Name: ml-experiment-1,\nWorkspace: quick-starts-ws-137008)",
            "text/html": "<table style=\"width:100%\"><tr><th>Name</th><th>Workspace</th><th>Report Page</th><th>Docs Page</th></tr><tr><td>ml-experiment-1</td><td>quick-starts-ws-137008</td><td><a href=\"https://ml.azure.com/experiments/ml-experiment-1?wsid=/subscriptions/9a7511b8-150f-4a58-8528-3e7d50216c31/resourcegroups/aml-quickstarts-137008/workspaces/quick-starts-ws-137008\" target=\"_blank\" rel=\"noopener\">Link to Azure Machine Learning studio</a></td><td><a href=\"https://docs.microsoft.com/en-us/python/api/azureml-core/azureml.core.experiment.Experiment?view=azure-ml-py\" target=\"_blank\" rel=\"noopener\">Link to Documentation</a></td></tr></table>"
          },
          "metadata": {}
        }
      ],
      "execution_count": 3,
      "metadata": {
        "gather": {
          "logged": 1612305128248
        }
      }
    },
    {
      "cell_type": "markdown",
      "source": [
        "### Create or Attach an AmlCompute cluster\n",
        "You will need to create a [compute target](https://docs.microsoft.com/azure/machine-learning/service/concept-azure-machine-learning-architecture#compute-target) for your AutoML run. In this tutorial, you get the default `AmlCompute` as your training compute resource.\n",
        "\n",
        "**Udacity Note** There is no need to create a new compute target, it can re-use the previous cluster"
      ],
      "metadata": {}
    },
    {
      "cell_type": "code",
      "source": [
        "from azureml.core.compute import AmlCompute\n",
        "from azureml.core.compute import ComputeTarget\n",
        "from azureml.core.compute_target import ComputeTargetException\n",
        "\n",
        "# NOTE: update the cluster name to match the existing cluster\n",
        "# Choose a name for your CPU cluster\n",
        "amlcompute_cluster_name = \"auto-ml\"\n",
        "\n",
        "# Verify that cluster does not exist already\n",
        "try:\n",
        "    compute_target = ComputeTarget(workspace=ws, name=amlcompute_cluster_name)\n",
        "    print('Found existing cluster, use it.')\n",
        "except ComputeTargetException:\n",
        "    compute_config = AmlCompute.provisioning_configuration(vm_size='STANDARD_D2_V2',# for GPU, use \"STANDARD_NC6\"\n",
        "                                                           #vm_priority = 'lowpriority', # optional\n",
        "                                                           max_nodes=4)\n",
        "    compute_target = ComputeTarget.create(ws, amlcompute_cluster_name, compute_config)\n",
        "\n",
        "compute_target.wait_for_completion(show_output=True, min_node_count = 1, timeout_in_minutes = 2)\n",
        "# For a more detailed view of current AmlCompute status, use get_status()."
      ],
      "outputs": [
        {
          "output_type": "stream",
          "name": "stdout",
          "text": [
            "Creating\n",
            "Succeeded....................\n",
            "AmlCompute wait for completion finished\n",
            "\n",
            "Wait timeout has been reached\n",
            "Current provisioning state of AmlCompute is \"Succeeded\" and current node count is \"0\"\n"
          ]
        }
      ],
      "execution_count": 4,
      "metadata": {
        "gather": {
          "logged": 1612305269889
        }
      }
    },
    {
      "cell_type": "markdown",
      "source": [
        "## Data\n",
        "\n",
        "**Udacity note:** Make sure the `key` is the same name as the dataset that is uploaded, and that the description matches. If it is hard to find or unknown, loop over the `ws.datasets.keys()` and `print()` them.\n",
        "If it *isn't* found because it was deleted, it can be recreated with the link that has the CSV "
      ],
      "metadata": {}
    },
    {
      "cell_type": "code",
      "source": [
        "# Try to load the dataset from the Workspace. Otherwise, create it from the file\n",
        "# NOTE: update the key to match the dataset name\n",
        "found = False\n",
        "key = \"Heartdataset\"\n",
        "description_text = \"Heart DataSet\"\n",
        "\n",
        "if key in ws.datasets.keys(): \n",
        "        found = True\n",
        "        dataset = ws.datasets[key]\n",
        "\n",
        "if not found:\n",
        "        # Create AML Dataset and register it into Workspace\n",
        "        data_url = 'https://archive.ics.uci.edu/ml/machine-learning-databases/00519/heart_failure_clinical_records_dataset.csv'\n",
        "        dataset = Dataset.Tabular.from_delimited_files(data_url)        \n",
        "        #Register Dataset in Workspace\n",
        "        dataset = dataset.register(workspace=ws,\n",
        "                                   name=key,\n",
        "                                   description=description_text)\n",
        "\n",
        "ds = dataset.to_pandas_dataframe()\n",
        "ds.describe()"
      ],
      "outputs": [
        {
          "output_type": "execute_result",
          "execution_count": 5,
          "data": {
            "text/plain": "              age     anaemia  creatinine_phosphokinase    diabetes  \\\ncount  299.000000  299.000000                299.000000  299.000000   \nmean    60.833893    0.431438                581.839465    0.418060   \nstd     11.894809    0.496107                970.287881    0.494067   \nmin     40.000000    0.000000                 23.000000    0.000000   \n25%     51.000000    0.000000                116.500000    0.000000   \n50%     60.000000    0.000000                250.000000    0.000000   \n75%     70.000000    1.000000                582.000000    1.000000   \nmax     95.000000    1.000000               7861.000000    1.000000   \n\n       ejection_fraction  high_blood_pressure      platelets  \\\ncount         299.000000           299.000000     299.000000   \nmean           38.083612             0.351171  263358.029264   \nstd            11.834841             0.478136   97804.236869   \nmin            14.000000             0.000000   25100.000000   \n25%            30.000000             0.000000  212500.000000   \n50%            38.000000             0.000000  262000.000000   \n75%            45.000000             1.000000  303500.000000   \nmax            80.000000             1.000000  850000.000000   \n\n       serum_creatinine  serum_sodium         sex    smoking        time  \\\ncount         299.00000    299.000000  299.000000  299.00000  299.000000   \nmean            1.39388    136.625418    0.648829    0.32107  130.260870   \nstd             1.03451      4.412477    0.478136    0.46767   77.614208   \nmin             0.50000    113.000000    0.000000    0.00000    4.000000   \n25%             0.90000    134.000000    0.000000    0.00000   73.000000   \n50%             1.10000    137.000000    1.000000    0.00000  115.000000   \n75%             1.40000    140.000000    1.000000    1.00000  203.000000   \nmax             9.40000    148.000000    1.000000    1.00000  285.000000   \n\n       DEATH_EVENT  \ncount    299.00000  \nmean       0.32107  \nstd        0.46767  \nmin        0.00000  \n25%        0.00000  \n50%        0.00000  \n75%        1.00000  \nmax        1.00000  ",
            "text/html": "<div>\n<style scoped>\n    .dataframe tbody tr th:only-of-type {\n        vertical-align: middle;\n    }\n\n    .dataframe tbody tr th {\n        vertical-align: top;\n    }\n\n    .dataframe thead th {\n        text-align: right;\n    }\n</style>\n<table border=\"1\" class=\"dataframe\">\n  <thead>\n    <tr style=\"text-align: right;\">\n      <th></th>\n      <th>age</th>\n      <th>anaemia</th>\n      <th>creatinine_phosphokinase</th>\n      <th>diabetes</th>\n      <th>ejection_fraction</th>\n      <th>high_blood_pressure</th>\n      <th>platelets</th>\n      <th>serum_creatinine</th>\n      <th>serum_sodium</th>\n      <th>sex</th>\n      <th>smoking</th>\n      <th>time</th>\n      <th>DEATH_EVENT</th>\n    </tr>\n  </thead>\n  <tbody>\n    <tr>\n      <th>count</th>\n      <td>299.000000</td>\n      <td>299.000000</td>\n      <td>299.000000</td>\n      <td>299.000000</td>\n      <td>299.000000</td>\n      <td>299.000000</td>\n      <td>299.000000</td>\n      <td>299.00000</td>\n      <td>299.000000</td>\n      <td>299.000000</td>\n      <td>299.00000</td>\n      <td>299.000000</td>\n      <td>299.00000</td>\n    </tr>\n    <tr>\n      <th>mean</th>\n      <td>60.833893</td>\n      <td>0.431438</td>\n      <td>581.839465</td>\n      <td>0.418060</td>\n      <td>38.083612</td>\n      <td>0.351171</td>\n      <td>263358.029264</td>\n      <td>1.39388</td>\n      <td>136.625418</td>\n      <td>0.648829</td>\n      <td>0.32107</td>\n      <td>130.260870</td>\n      <td>0.32107</td>\n    </tr>\n    <tr>\n      <th>std</th>\n      <td>11.894809</td>\n      <td>0.496107</td>\n      <td>970.287881</td>\n      <td>0.494067</td>\n      <td>11.834841</td>\n      <td>0.478136</td>\n      <td>97804.236869</td>\n      <td>1.03451</td>\n      <td>4.412477</td>\n      <td>0.478136</td>\n      <td>0.46767</td>\n      <td>77.614208</td>\n      <td>0.46767</td>\n    </tr>\n    <tr>\n      <th>min</th>\n      <td>40.000000</td>\n      <td>0.000000</td>\n      <td>23.000000</td>\n      <td>0.000000</td>\n      <td>14.000000</td>\n      <td>0.000000</td>\n      <td>25100.000000</td>\n      <td>0.50000</td>\n      <td>113.000000</td>\n      <td>0.000000</td>\n      <td>0.00000</td>\n      <td>4.000000</td>\n      <td>0.00000</td>\n    </tr>\n    <tr>\n      <th>25%</th>\n      <td>51.000000</td>\n      <td>0.000000</td>\n      <td>116.500000</td>\n      <td>0.000000</td>\n      <td>30.000000</td>\n      <td>0.000000</td>\n      <td>212500.000000</td>\n      <td>0.90000</td>\n      <td>134.000000</td>\n      <td>0.000000</td>\n      <td>0.00000</td>\n      <td>73.000000</td>\n      <td>0.00000</td>\n    </tr>\n    <tr>\n      <th>50%</th>\n      <td>60.000000</td>\n      <td>0.000000</td>\n      <td>250.000000</td>\n      <td>0.000000</td>\n      <td>38.000000</td>\n      <td>0.000000</td>\n      <td>262000.000000</td>\n      <td>1.10000</td>\n      <td>137.000000</td>\n      <td>1.000000</td>\n      <td>0.00000</td>\n      <td>115.000000</td>\n      <td>0.00000</td>\n    </tr>\n    <tr>\n      <th>75%</th>\n      <td>70.000000</td>\n      <td>1.000000</td>\n      <td>582.000000</td>\n      <td>1.000000</td>\n      <td>45.000000</td>\n      <td>1.000000</td>\n      <td>303500.000000</td>\n      <td>1.40000</td>\n      <td>140.000000</td>\n      <td>1.000000</td>\n      <td>1.00000</td>\n      <td>203.000000</td>\n      <td>1.00000</td>\n    </tr>\n    <tr>\n      <th>max</th>\n      <td>95.000000</td>\n      <td>1.000000</td>\n      <td>7861.000000</td>\n      <td>1.000000</td>\n      <td>80.000000</td>\n      <td>1.000000</td>\n      <td>850000.000000</td>\n      <td>9.40000</td>\n      <td>148.000000</td>\n      <td>1.000000</td>\n      <td>1.00000</td>\n      <td>285.000000</td>\n      <td>1.00000</td>\n    </tr>\n  </tbody>\n</table>\n</div>"
          },
          "metadata": {}
        }
      ],
      "execution_count": 5,
      "metadata": {
        "gather": {
          "logged": 1612305293319
        }
      }
    },
    {
      "cell_type": "markdown",
      "source": [
        "### Review the Dataset Result\n",
        "\n",
        "You can peek the result of a TabularDataset at any range using `skip(i)` and `take(j).to_pandas_dataframe()`. Doing so evaluates only `j` records for all the steps in the TabularDataset, which makes it fast even against large datasets.\n",
        "\n",
        "`TabularDataset` objects are composed of a list of transformation steps (optional)."
      ],
      "metadata": {}
    },
    {
      "cell_type": "code",
      "source": [
        "dataset.take(5).to_pandas_dataframe()"
      ],
      "outputs": [
        {
          "output_type": "execute_result",
          "execution_count": 6,
          "data": {
            "text/plain": "    age  anaemia  creatinine_phosphokinase  diabetes  ejection_fraction  \\\n0  75.0        0                       582         0                 20   \n1  55.0        0                      7861         0                 38   \n2  65.0        0                       146         0                 20   \n3  50.0        1                       111         0                 20   \n4  65.0        1                       160         1                 20   \n\n   high_blood_pressure  platelets  serum_creatinine  serum_sodium  sex  \\\n0                    1  265000.00               1.9           130    1   \n1                    0  263358.03               1.1           136    1   \n2                    0  162000.00               1.3           129    1   \n3                    0  210000.00               1.9           137    1   \n4                    0  327000.00               2.7           116    0   \n\n   smoking  time  DEATH_EVENT  \n0        0     4            1  \n1        0     6            1  \n2        1     7            1  \n3        0     7            1  \n4        0     8            1  ",
            "text/html": "<div>\n<style scoped>\n    .dataframe tbody tr th:only-of-type {\n        vertical-align: middle;\n    }\n\n    .dataframe tbody tr th {\n        vertical-align: top;\n    }\n\n    .dataframe thead th {\n        text-align: right;\n    }\n</style>\n<table border=\"1\" class=\"dataframe\">\n  <thead>\n    <tr style=\"text-align: right;\">\n      <th></th>\n      <th>age</th>\n      <th>anaemia</th>\n      <th>creatinine_phosphokinase</th>\n      <th>diabetes</th>\n      <th>ejection_fraction</th>\n      <th>high_blood_pressure</th>\n      <th>platelets</th>\n      <th>serum_creatinine</th>\n      <th>serum_sodium</th>\n      <th>sex</th>\n      <th>smoking</th>\n      <th>time</th>\n      <th>DEATH_EVENT</th>\n    </tr>\n  </thead>\n  <tbody>\n    <tr>\n      <th>0</th>\n      <td>75.0</td>\n      <td>0</td>\n      <td>582</td>\n      <td>0</td>\n      <td>20</td>\n      <td>1</td>\n      <td>265000.00</td>\n      <td>1.9</td>\n      <td>130</td>\n      <td>1</td>\n      <td>0</td>\n      <td>4</td>\n      <td>1</td>\n    </tr>\n    <tr>\n      <th>1</th>\n      <td>55.0</td>\n      <td>0</td>\n      <td>7861</td>\n      <td>0</td>\n      <td>38</td>\n      <td>0</td>\n      <td>263358.03</td>\n      <td>1.1</td>\n      <td>136</td>\n      <td>1</td>\n      <td>0</td>\n      <td>6</td>\n      <td>1</td>\n    </tr>\n    <tr>\n      <th>2</th>\n      <td>65.0</td>\n      <td>0</td>\n      <td>146</td>\n      <td>0</td>\n      <td>20</td>\n      <td>0</td>\n      <td>162000.00</td>\n      <td>1.3</td>\n      <td>129</td>\n      <td>1</td>\n      <td>1</td>\n      <td>7</td>\n      <td>1</td>\n    </tr>\n    <tr>\n      <th>3</th>\n      <td>50.0</td>\n      <td>1</td>\n      <td>111</td>\n      <td>0</td>\n      <td>20</td>\n      <td>0</td>\n      <td>210000.00</td>\n      <td>1.9</td>\n      <td>137</td>\n      <td>1</td>\n      <td>0</td>\n      <td>7</td>\n      <td>1</td>\n    </tr>\n    <tr>\n      <th>4</th>\n      <td>65.0</td>\n      <td>1</td>\n      <td>160</td>\n      <td>1</td>\n      <td>20</td>\n      <td>0</td>\n      <td>327000.00</td>\n      <td>2.7</td>\n      <td>116</td>\n      <td>0</td>\n      <td>0</td>\n      <td>8</td>\n      <td>1</td>\n    </tr>\n  </tbody>\n</table>\n</div>"
          },
          "metadata": {}
        }
      ],
      "execution_count": 6,
      "metadata": {
        "gather": {
          "logged": 1612305323535
        }
      }
    },
    {
      "cell_type": "markdown",
      "source": [
        "### Split data into train and test \n",
        "This creates a general AutoML settings object.\n",
        "**Udacity notes:** These inputs must match what was used when training in the portal. `label_column_name` has to be `DEATH_EVENT` for example."
      ],
      "metadata": {}
    },
    {
      "cell_type": "code",
      "source": [
        "from sklearn.model_selection import train_test_split\n",
        "# split into data and test sets\n",
        "ds = dataset.to_pandas_dataframe()\n",
        "# use split train, test\n",
        "train, test = train_test_split(ds, random_state=101, shuffle=True)\n",
        "\n",
        "# then write the train data to a file called train.csv and load to datastore\n",
        "train.to_csv('train.csv', index=False)\n",
        "datastore = ws.get_default_datastore()\n",
        "datastore.upload_files(files = ['./train.csv'])\n",
        "\n",
        "# then read to tabular dataset for automl\n",
        "train = Dataset.Tabular.from_delimited_files(path = [(datastore,'train.csv')])\n",
        "\n",
        "# write test to a file called test.csv and read to tabular dataset for automl\n",
        "test.to_csv('train.csv', index=False)\n",
        "#test = Dataset.Tabular.from_delimited_files(train.csv)"
      ],
      "outputs": [
        {
          "output_type": "stream",
          "name": "stdout",
          "text": [
            "Uploading an estimated of 1 files\n",
            "Uploading ./train.csv\n",
            "Uploaded ./train.csv, 1 files out of an estimated total of 1\n",
            "Uploaded 1 files\n"
          ]
        }
      ],
      "execution_count": 7,
      "metadata": {
        "gather": {
          "logged": 1612305355870
        }
      }
    },
    {
      "cell_type": "markdown",
      "source": [
        "AutoML Configuration¶\n",
        "TODO: Explain why you chose the automl settings and cofiguration you used below."
      ],
      "metadata": {}
    },
    {
      "cell_type": "code",
      "source": [
        "automl_settings = {\n",
        "    \"experiment_timeout_minutes\": 20,\n",
        "    \"max_concurrent_iterations\": 4,\n",
        "    \"primary_metric\" : 'accuracy',\n",
        "    \"iteration_timeout_minutes\": 5\n",
        "}\n",
        "automl_config = AutoMLConfig(compute_target=compute_target,\n",
        "                             task = \"classification\",\n",
        "                             training_data=train,\n",
        "                             label_column_name=\"DEATH_EVENT\",   \n",
        "                             path = project_folder,\n",
        "                             enable_early_stopping= True,\n",
        "                             featurization= 'auto',\n",
        "                             verbosity = logging.INFO,\n",
        "                             debug_log = \"automl_errors.log\",\n",
        "                             **automl_settings\n",
        "                            )\n"
      ],
      "outputs": [],
      "execution_count": 8,
      "metadata": {
        "gather": {
          "logged": 1612305365085
        }
      }
    },
    {
      "cell_type": "code",
      "source": [
        "#submit your experiment\n",
        "remote_run = experiment.submit(automl_config)"
      ],
      "outputs": [
        {
          "output_type": "stream",
          "name": "stdout",
          "text": [
            "Running on remote.\n"
          ]
        }
      ],
      "execution_count": 9,
      "metadata": {
        "gather": {
          "logged": 1612305404639
        },
        "scrolled": true
      }
    },
    {
      "cell_type": "code",
      "source": [
        "# Wait for the remote run to complete\n",
        "remote_run.wait_for_completion(show_output = True)"
      ],
      "outputs": [
        {
          "output_type": "stream",
          "name": "stdout",
          "text": [
            "\n",
            "Current status: FeaturesGeneration. Generating features for the dataset.\n",
            "Current status: DatasetCrossValidationSplit. Generating individually featurized CV splits.\n",
            "Current status: ModelSelection. Beginning model selection.\n",
            "\n",
            "****************************************************************************************************\n",
            "DATA GUARDRAILS: \n",
            "\n",
            "TYPE:         Cross validation\n",
            "STATUS:       DONE\n",
            "DESCRIPTION:  Each iteration of the trained model was validated through cross-validation.\n",
            "              \n",
            "DETAILS:      \n",
            "+---------------------------------+\n",
            "|Number of folds                  |\n",
            "+=================================+\n",
            "|10                               |\n",
            "+---------------------------------+\n",
            "\n",
            "****************************************************************************************************\n",
            "\n",
            "TYPE:         Class balancing detection\n",
            "STATUS:       PASSED\n",
            "DESCRIPTION:  Your inputs were analyzed, and all classes are balanced in your training data.\n",
            "              Learn more about imbalanced data: https://aka.ms/AutomatedMLImbalancedData\n",
            "\n",
            "****************************************************************************************************\n",
            "\n",
            "TYPE:         Missing feature values imputation\n",
            "STATUS:       PASSED\n",
            "DESCRIPTION:  No feature missing values were detected in the training data.\n",
            "              Learn more about missing value imputation: https://aka.ms/AutomatedMLFeaturization\n",
            "\n",
            "****************************************************************************************************\n",
            "\n",
            "TYPE:         High cardinality feature detection\n",
            "STATUS:       PASSED\n",
            "DESCRIPTION:  Your inputs were analyzed, and no high cardinality features were detected.\n",
            "              Learn more about high cardinality feature handling: https://aka.ms/AutomatedMLFeaturization\n",
            "\n",
            "****************************************************************************************************\n",
            "\n",
            "****************************************************************************************************\n",
            "ITERATION: The iteration being evaluated.\n",
            "PIPELINE: A summary description of the pipeline being evaluated.\n",
            "DURATION: Time taken for the current iteration.\n",
            "METRIC: The result of computing score on the fitted pipeline.\n",
            "BEST: The best observed score thus far.\n",
            "****************************************************************************************************\n",
            "\n",
            " ITERATION   PIPELINE                                       DURATION      METRIC      BEST\n",
            "         3   MinMaxScaler RandomForest                      0:01:03       0.8075    0.8075\n",
            "         2   MinMaxScaler RandomForest                      0:00:58       0.8217    0.8217\n",
            "         1   MaxAbsScaler XGBoostClassifier                 0:01:10       0.7988    0.8217\n",
            "         0   MaxAbsScaler LightGBM                          0:01:04       0.7943    0.8217\n",
            "         7   SparseNormalizer XGBoostClassifier             0:01:17       0.7816    0.8217\n",
            "         4   MinMaxScaler RandomForest                      0:03:30       0.8346    0.8346\n",
            "         5   MinMaxScaler SVM                               0:03:36       0.7059    0.8346\n",
            "         8   MinMaxScaler LogisticRegression                0:00:56       0.8083    0.8346\n",
            "         6   MinMaxScaler SVM                               0:03:55       0.7281    0.8346\n",
            "        10   StandardScalerWrapper RandomForest             0:00:50       0.8166    0.8346\n",
            "        11   StandardScalerWrapper LightGBM                 0:00:53       0.7988    0.8346\n",
            "         9   RobustScaler SVM                               0:00:56       0.7235    0.8346\n",
            "        12   MaxAbsScaler GradientBoosting                  0:00:51       0.8209    0.8346\n",
            "        14   SparseNormalizer XGBoostClassifier             0:00:56       0.8217    0.8346\n",
            "        15   MaxAbsScaler LightGBM                          0:00:52       0.7854    0.8346\n",
            "        13   MaxAbsScaler ExtremeRandomTrees                0:01:08       0.8168    0.8346\n",
            "        16   MinMaxScaler LightGBM                          0:00:52       0.8077    0.8346\n",
            "        18   MinMaxScaler LightGBM                          0:00:51       0.8126    0.8346\n",
            "        17   SparseNormalizer XGBoostClassifier             0:01:02       0.8528    0.8528\n",
            "        19   MinMaxScaler LightGBM                          0:00:43       0.8071    0.8528\n",
            "        20   SparseNormalizer XGBoostClassifier             0:00:57       0.8393    0.8528\n",
            "        21   StandardScalerWrapper LightGBM                 0:00:54       0.8085    0.8528\n",
            "        22   StandardScalerWrapper LightGBM                 0:00:54       0.7988    0.8528\n",
            "        23   SparseNormalizer XGBoostClassifier             0:00:54       0.7990    0.8528\n",
            "        24   StandardScalerWrapper ExtremeRandomTrees       0:01:10       0.7630    0.8528\n",
            "        26   StandardScalerWrapper XGBoostClassifier        0:00:52       0.7941    0.8528\n",
            "        25   SparseNormalizer XGBoostClassifier             0:00:58       0.6607    0.8528\n",
            "        27   SparseNormalizer XGBoostClassifier             0:00:51       0.8215    0.8528\n",
            "        28   StandardScalerWrapper XGBoostClassifier        0:01:00       0.7808    0.8528\n",
            "        29   MaxAbsScaler ExtremeRandomTrees                0:00:56       0.8261    0.8528\n",
            "        30   PCA XGBoostClassifier                          0:00:52       0.6607    0.8528\n",
            "        31   MinMaxScaler LightGBM                          0:00:53       0.8038    0.8528\n",
            "        32   MinMaxScaler LightGBM                          0:01:04       0.7939    0.8528\n",
            "        33   StandardScalerWrapper LightGBM                 0:00:42       0.8125    0.8528\n",
            "        34   StandardScalerWrapper XGBoostClassifier        0:00:38       0.8215    0.8528\n",
            "        35   SparseNormalizer XGBoostClassifier             0:00:40       0.8130    0.8528\n"
          ]
        }
      ],
      "execution_count": 14,
      "metadata": {}
    },
    {
      "cell_type": "markdown",
      "source": [
        "## Results \n",
        "Run Details¶\n",
        "OPTIONAL: Write about the different models trained and their performance. Why do you think some models did better than others?\n",
        "\n",
        "TODO: In the cell below, use the RunDetails widget to show the different experiments."
      ],
      "metadata": {}
    },
    {
      "cell_type": "code",
      "source": [
        "from azureml.widgets import RunDetails\n",
        "RunDetails(remote_run).show()"
      ],
      "outputs": [
        {
          "output_type": "display_data",
          "data": {
            "application/vnd.jupyter.widget-view+json": {
              "model_id": "394dc6f929ec4036b0686813d3d97b4d",
              "version_major": 2,
              "version_minor": 0
            },
            "text/plain": "_AutoMLWidget(widget_settings={'childWidgetDisplay': 'popup', 'send_telemetry': False, 'log_level': 'INFO', 's…"
          },
          "metadata": {}
        },
        {
          "output_type": "display_data",
          "data": {
            "application/aml.mini.widget.v1": "{\"status\": \"Completed\", \"workbench_run_details_uri\": \"https://ml.azure.com/experiments/ml-experiment-1/runs/AutoML_2a8bdc99-6da6-4d0b-932f-808fc7a11fd0?wsid=/subscriptions/976ee174-3882-4721-b90a-b5fef6b72f24/resourcegroups/aml-quickstarts-136431/workspaces/quick-starts-ws-136431\", \"run_id\": \"AutoML_2a8bdc99-6da6-4d0b-932f-808fc7a11fd0\", \"run_properties\": {\"run_id\": \"AutoML_2a8bdc99-6da6-4d0b-932f-808fc7a11fd0\", \"created_utc\": \"2021-01-28T21:25:08.756816Z\", \"properties\": {\"num_iterations\": \"1000\", \"training_type\": \"TrainFull\", \"acquisition_function\": \"EI\", \"primary_metric\": \"accuracy\", \"train_split\": \"0\", \"acquisition_parameter\": \"0\", \"num_cross_validation\": null, \"target\": \"auto-ml\", \"AMLSettingsJsonString\": \"{\\\"path\\\":null,\\\"name\\\":\\\"ml-experiment-1\\\",\\\"subscription_id\\\":\\\"976ee174-3882-4721-b90a-b5fef6b72f24\\\",\\\"resource_group\\\":\\\"aml-quickstarts-136431\\\",\\\"workspace_name\\\":\\\"quick-starts-ws-136431\\\",\\\"region\\\":\\\"southcentralus\\\",\\\"compute_target\\\":\\\"auto-ml\\\",\\\"spark_service\\\":null,\\\"azure_service\\\":\\\"remote\\\",\\\"many_models\\\":false,\\\"pipeline_fetch_max_batch_size\\\":1,\\\"iterations\\\":1000,\\\"primary_metric\\\":\\\"accuracy\\\",\\\"task_type\\\":\\\"classification\\\",\\\"data_script\\\":null,\\\"validation_size\\\":0.0,\\\"n_cross_validations\\\":null,\\\"y_min\\\":null,\\\"y_max\\\":null,\\\"num_classes\\\":null,\\\"featurization\\\":\\\"auto\\\",\\\"_ignore_package_version_incompatibilities\\\":false,\\\"is_timeseries\\\":false,\\\"max_cores_per_iteration\\\":1,\\\"max_concurrent_iterations\\\":4,\\\"iteration_timeout_minutes\\\":5,\\\"mem_in_mb\\\":null,\\\"enforce_time_on_windows\\\":false,\\\"experiment_timeout_minutes\\\":20,\\\"experiment_exit_score\\\":null,\\\"whitelist_models\\\":null,\\\"blacklist_algos\\\":[\\\"TensorFlowLinearClassifier\\\",\\\"TensorFlowDNN\\\"],\\\"supported_models\\\":[\\\"XGBoostClassifier\\\",\\\"DecisionTree\\\",\\\"SVM\\\",\\\"LogisticRegression\\\",\\\"TensorFlowDNN\\\",\\\"TensorFlowLinearClassifier\\\",\\\"ExtremeRandomTrees\\\",\\\"LightGBM\\\",\\\"AveragedPerceptronClassifier\\\",\\\"KNN\\\",\\\"BernoulliNaiveBayes\\\",\\\"RandomForest\\\",\\\"GradientBoosting\\\",\\\"MultinomialNaiveBayes\\\",\\\"SGD\\\",\\\"LinearSVM\\\"],\\\"auto_blacklist\\\":true,\\\"blacklist_samples_reached\\\":false,\\\"exclude_nan_labels\\\":true,\\\"verbosity\\\":20,\\\"_debug_log\\\":\\\"azureml_automl.log\\\",\\\"show_warnings\\\":false,\\\"model_explainability\\\":true,\\\"service_url\\\":null,\\\"sdk_url\\\":null,\\\"sdk_packages\\\":null,\\\"enable_onnx_compatible_models\\\":false,\\\"enable_split_onnx_featurizer_estimator_models\\\":false,\\\"vm_type\\\":\\\"STANDARD_D2_V2\\\",\\\"telemetry_verbosity\\\":20,\\\"send_telemetry\\\":true,\\\"enable_dnn\\\":false,\\\"scenario\\\":\\\"SDK-1.13.0\\\",\\\"environment_label\\\":null,\\\"force_text_dnn\\\":false,\\\"enable_feature_sweeping\\\":true,\\\"enable_early_stopping\\\":true,\\\"early_stopping_n_iters\\\":10,\\\"metrics\\\":null,\\\"enable_ensembling\\\":true,\\\"enable_stack_ensembling\\\":true,\\\"ensemble_iterations\\\":15,\\\"enable_tf\\\":false,\\\"enable_subsampling\\\":null,\\\"subsample_seed\\\":null,\\\"enable_nimbusml\\\":false,\\\"enable_streaming\\\":false,\\\"force_streaming\\\":false,\\\"track_child_runs\\\":true,\\\"allowed_private_models\\\":[],\\\"label_column_name\\\":\\\"DEATH_EVENT\\\",\\\"weight_column_name\\\":null,\\\"cv_split_column_names\\\":null,\\\"enable_local_managed\\\":false,\\\"_local_managed_run_id\\\":null,\\\"cost_mode\\\":1,\\\"lag_length\\\":0,\\\"metric_operation\\\":\\\"maximize\\\",\\\"preprocess\\\":true}\", \"DataPrepJsonString\": \"{\\\\\\\"training_data\\\\\\\": \\\\\\\"{\\\\\\\\\\\\\\\"blocks\\\\\\\\\\\\\\\": [{\\\\\\\\\\\\\\\"id\\\\\\\\\\\\\\\": \\\\\\\\\\\\\\\"94283be2-17f9-4aee-a7ec-a871e7eaad59\\\\\\\\\\\\\\\", \\\\\\\\\\\\\\\"type\\\\\\\\\\\\\\\": \\\\\\\\\\\\\\\"Microsoft.DPrep.GetDatastoreFilesBlock\\\\\\\\\\\\\\\", \\\\\\\\\\\\\\\"arguments\\\\\\\\\\\\\\\": {\\\\\\\\\\\\\\\"datastores\\\\\\\\\\\\\\\": [{\\\\\\\\\\\\\\\"datastoreName\\\\\\\\\\\\\\\": \\\\\\\\\\\\\\\"workspaceblobstore\\\\\\\\\\\\\\\", \\\\\\\\\\\\\\\"path\\\\\\\\\\\\\\\": \\\\\\\\\\\\\\\"train.csv\\\\\\\\\\\\\\\", \\\\\\\\\\\\\\\"resourceGroup\\\\\\\\\\\\\\\": \\\\\\\\\\\\\\\"aml-quickstarts-136431\\\\\\\\\\\\\\\", \\\\\\\\\\\\\\\"subscription\\\\\\\\\\\\\\\": \\\\\\\\\\\\\\\"976ee174-3882-4721-b90a-b5fef6b72f24\\\\\\\\\\\\\\\", \\\\\\\\\\\\\\\"workspaceName\\\\\\\\\\\\\\\": \\\\\\\\\\\\\\\"quick-starts-ws-136431\\\\\\\\\\\\\\\"}]}, \\\\\\\\\\\\\\\"localData\\\\\\\\\\\\\\\": {}, \\\\\\\\\\\\\\\"isEnabled\\\\\\\\\\\\\\\": true, \\\\\\\\\\\\\\\"name\\\\\\\\\\\\\\\": null, \\\\\\\\\\\\\\\"annotation\\\\\\\\\\\\\\\": null}, {\\\\\\\\\\\\\\\"id\\\\\\\\\\\\\\\": \\\\\\\\\\\\\\\"66eebd3a-362f-4932-9e74-9516425b17c9\\\\\\\\\\\\\\\", \\\\\\\\\\\\\\\"type\\\\\\\\\\\\\\\": \\\\\\\\\\\\\\\"Microsoft.DPrep.ParseDelimitedBlock\\\\\\\\\\\\\\\", \\\\\\\\\\\\\\\"arguments\\\\\\\\\\\\\\\": {\\\\\\\\\\\\\\\"columnHeadersMode\\\\\\\\\\\\\\\": 3, \\\\\\\\\\\\\\\"fileEncoding\\\\\\\\\\\\\\\": 0, \\\\\\\\\\\\\\\"handleQuotedLineBreaks\\\\\\\\\\\\\\\": false, \\\\\\\\\\\\\\\"preview\\\\\\\\\\\\\\\": false, \\\\\\\\\\\\\\\"separator\\\\\\\\\\\\\\\": \\\\\\\\\\\\\\\",\\\\\\\\\\\\\\\", \\\\\\\\\\\\\\\"skipRows\\\\\\\\\\\\\\\": 0, \\\\\\\\\\\\\\\"skipRowsMode\\\\\\\\\\\\\\\": 0}, \\\\\\\\\\\\\\\"localData\\\\\\\\\\\\\\\": {}, \\\\\\\\\\\\\\\"isEnabled\\\\\\\\\\\\\\\": true, \\\\\\\\\\\\\\\"name\\\\\\\\\\\\\\\": null, \\\\\\\\\\\\\\\"annotation\\\\\\\\\\\\\\\": null}, {\\\\\\\\\\\\\\\"id\\\\\\\\\\\\\\\": \\\\\\\\\\\\\\\"51586fd0-5f16-432c-b01a-0f190824ad4c\\\\\\\\\\\\\\\", \\\\\\\\\\\\\\\"type\\\\\\\\\\\\\\\": \\\\\\\\\\\\\\\"Microsoft.DPrep.DropColumnsBlock\\\\\\\\\\\\\\\", \\\\\\\\\\\\\\\"arguments\\\\\\\\\\\\\\\": {\\\\\\\\\\\\\\\"columns\\\\\\\\\\\\\\\": {\\\\\\\\\\\\\\\"type\\\\\\\\\\\\\\\": 0, \\\\\\\\\\\\\\\"details\\\\\\\\\\\\\\\": {\\\\\\\\\\\\\\\"selectedColumns\\\\\\\\\\\\\\\": [\\\\\\\\\\\\\\\"Path\\\\\\\\\\\\\\\"]}}}, \\\\\\\\\\\\\\\"localData\\\\\\\\\\\\\\\": {}, \\\\\\\\\\\\\\\"isEnabled\\\\\\\\\\\\\\\": true, \\\\\\\\\\\\\\\"name\\\\\\\\\\\\\\\": null, \\\\\\\\\\\\\\\"annotation\\\\\\\\\\\\\\\": null}, {\\\\\\\\\\\\\\\"id\\\\\\\\\\\\\\\": \\\\\\\\\\\\\\\"b89f10d6-a827-4ce8-9b6f-40a7c6cf278d\\\\\\\\\\\\\\\", \\\\\\\\\\\\\\\"type\\\\\\\\\\\\\\\": \\\\\\\\\\\\\\\"Microsoft.DPrep.SetColumnTypesBlock\\\\\\\\\\\\\\\", \\\\\\\\\\\\\\\"arguments\\\\\\\\\\\\\\\": {\\\\\\\\\\\\\\\"columnConversion\\\\\\\\\\\\\\\": [{\\\\\\\\\\\\\\\"column\\\\\\\\\\\\\\\": {\\\\\\\\\\\\\\\"type\\\\\\\\\\\\\\\": 2, \\\\\\\\\\\\\\\"details\\\\\\\\\\\\\\\": {\\\\\\\\\\\\\\\"selectedColumn\\\\\\\\\\\\\\\": \\\\\\\\\\\\\\\"age\\\\\\\\\\\\\\\"}}, \\\\\\\\\\\\\\\"typeProperty\\\\\\\\\\\\\\\": 3}, {\\\\\\\\\\\\\\\"column\\\\\\\\\\\\\\\": {\\\\\\\\\\\\\\\"type\\\\\\\\\\\\\\\": 2, \\\\\\\\\\\\\\\"details\\\\\\\\\\\\\\\": {\\\\\\\\\\\\\\\"selectedColumn\\\\\\\\\\\\\\\": \\\\\\\\\\\\\\\"anaemia\\\\\\\\\\\\\\\"}}, \\\\\\\\\\\\\\\"typeProperty\\\\\\\\\\\\\\\": 2}, {\\\\\\\\\\\\\\\"column\\\\\\\\\\\\\\\": {\\\\\\\\\\\\\\\"type\\\\\\\\\\\\\\\": 2, \\\\\\\\\\\\\\\"details\\\\\\\\\\\\\\\": {\\\\\\\\\\\\\\\"selectedColumn\\\\\\\\\\\\\\\": \\\\\\\\\\\\\\\"creatinine_phosphokinase\\\\\\\\\\\\\\\"}}, \\\\\\\\\\\\\\\"typeProperty\\\\\\\\\\\\\\\": 2}, {\\\\\\\\\\\\\\\"column\\\\\\\\\\\\\\\": {\\\\\\\\\\\\\\\"type\\\\\\\\\\\\\\\": 2, \\\\\\\\\\\\\\\"details\\\\\\\\\\\\\\\": {\\\\\\\\\\\\\\\"selectedColumn\\\\\\\\\\\\\\\": \\\\\\\\\\\\\\\"diabetes\\\\\\\\\\\\\\\"}}, \\\\\\\\\\\\\\\"typeProperty\\\\\\\\\\\\\\\": 2}, {\\\\\\\\\\\\\\\"column\\\\\\\\\\\\\\\": {\\\\\\\\\\\\\\\"type\\\\\\\\\\\\\\\": 2, \\\\\\\\\\\\\\\"details\\\\\\\\\\\\\\\": {\\\\\\\\\\\\\\\"selectedColumn\\\\\\\\\\\\\\\": \\\\\\\\\\\\\\\"ejection_fraction\\\\\\\\\\\\\\\"}}, \\\\\\\\\\\\\\\"typeProperty\\\\\\\\\\\\\\\": 2}, {\\\\\\\\\\\\\\\"column\\\\\\\\\\\\\\\": {\\\\\\\\\\\\\\\"type\\\\\\\\\\\\\\\": 2, \\\\\\\\\\\\\\\"details\\\\\\\\\\\\\\\": {\\\\\\\\\\\\\\\"selectedColumn\\\\\\\\\\\\\\\": \\\\\\\\\\\\\\\"high_blood_pressure\\\\\\\\\\\\\\\"}}, \\\\\\\\\\\\\\\"typeProperty\\\\\\\\\\\\\\\": 2}, {\\\\\\\\\\\\\\\"column\\\\\\\\\\\\\\\": {\\\\\\\\\\\\\\\"type\\\\\\\\\\\\\\\": 2, \\\\\\\\\\\\\\\"details\\\\\\\\\\\\\\\": {\\\\\\\\\\\\\\\"selectedColumn\\\\\\\\\\\\\\\": \\\\\\\\\\\\\\\"platelets\\\\\\\\\\\\\\\"}}, \\\\\\\\\\\\\\\"typeProperty\\\\\\\\\\\\\\\": 3}, {\\\\\\\\\\\\\\\"column\\\\\\\\\\\\\\\": {\\\\\\\\\\\\\\\"type\\\\\\\\\\\\\\\": 2, \\\\\\\\\\\\\\\"details\\\\\\\\\\\\\\\": {\\\\\\\\\\\\\\\"selectedColumn\\\\\\\\\\\\\\\": \\\\\\\\\\\\\\\"serum_creatinine\\\\\\\\\\\\\\\"}}, \\\\\\\\\\\\\\\"typeProperty\\\\\\\\\\\\\\\": 3}, {\\\\\\\\\\\\\\\"column\\\\\\\\\\\\\\\": {\\\\\\\\\\\\\\\"type\\\\\\\\\\\\\\\": 2, \\\\\\\\\\\\\\\"details\\\\\\\\\\\\\\\": {\\\\\\\\\\\\\\\"selectedColumn\\\\\\\\\\\\\\\": \\\\\\\\\\\\\\\"serum_sodium\\\\\\\\\\\\\\\"}}, \\\\\\\\\\\\\\\"typeProperty\\\\\\\\\\\\\\\": 2}, {\\\\\\\\\\\\\\\"column\\\\\\\\\\\\\\\": {\\\\\\\\\\\\\\\"type\\\\\\\\\\\\\\\": 2, \\\\\\\\\\\\\\\"details\\\\\\\\\\\\\\\": {\\\\\\\\\\\\\\\"selectedColumn\\\\\\\\\\\\\\\": \\\\\\\\\\\\\\\"sex\\\\\\\\\\\\\\\"}}, \\\\\\\\\\\\\\\"typeProperty\\\\\\\\\\\\\\\": 2}, {\\\\\\\\\\\\\\\"column\\\\\\\\\\\\\\\": {\\\\\\\\\\\\\\\"type\\\\\\\\\\\\\\\": 2, \\\\\\\\\\\\\\\"details\\\\\\\\\\\\\\\": {\\\\\\\\\\\\\\\"selectedColumn\\\\\\\\\\\\\\\": \\\\\\\\\\\\\\\"smoking\\\\\\\\\\\\\\\"}}, \\\\\\\\\\\\\\\"typeProperty\\\\\\\\\\\\\\\": 2}, {\\\\\\\\\\\\\\\"column\\\\\\\\\\\\\\\": {\\\\\\\\\\\\\\\"type\\\\\\\\\\\\\\\": 2, \\\\\\\\\\\\\\\"details\\\\\\\\\\\\\\\": {\\\\\\\\\\\\\\\"selectedColumn\\\\\\\\\\\\\\\": \\\\\\\\\\\\\\\"time\\\\\\\\\\\\\\\"}}, \\\\\\\\\\\\\\\"typeProperty\\\\\\\\\\\\\\\": 2}, {\\\\\\\\\\\\\\\"column\\\\\\\\\\\\\\\": {\\\\\\\\\\\\\\\"type\\\\\\\\\\\\\\\": 2, \\\\\\\\\\\\\\\"details\\\\\\\\\\\\\\\": {\\\\\\\\\\\\\\\"selectedColumn\\\\\\\\\\\\\\\": \\\\\\\\\\\\\\\"DEATH_EVENT\\\\\\\\\\\\\\\"}}, \\\\\\\\\\\\\\\"typeProperty\\\\\\\\\\\\\\\": 2}]}, \\\\\\\\\\\\\\\"localData\\\\\\\\\\\\\\\": {}, \\\\\\\\\\\\\\\"isEnabled\\\\\\\\\\\\\\\": true, \\\\\\\\\\\\\\\"name\\\\\\\\\\\\\\\": null, \\\\\\\\\\\\\\\"annotation\\\\\\\\\\\\\\\": null}], \\\\\\\\\\\\\\\"inspectors\\\\\\\\\\\\\\\": [], \\\\\\\\\\\\\\\"meta\\\\\\\\\\\\\\\": {\\\\\\\\\\\\\\\"savedDatasetId\\\\\\\\\\\\\\\": \\\\\\\\\\\\\\\"306f7761-27a3-4715-a983-abe3d4c0dee5\\\\\\\\\\\\\\\", \\\\\\\\\\\\\\\"datasetType\\\\\\\\\\\\\\\": \\\\\\\\\\\\\\\"tabular\\\\\\\\\\\\\\\", \\\\\\\\\\\\\\\"subscriptionId\\\\\\\\\\\\\\\": \\\\\\\\\\\\\\\"976ee174-3882-4721-b90a-b5fef6b72f24\\\\\\\\\\\\\\\", \\\\\\\\\\\\\\\"workspaceId\\\\\\\\\\\\\\\": \\\\\\\\\\\\\\\"b48283f6-49fc-4905-a116-82c3db14cd20\\\\\\\\\\\\\\\", \\\\\\\\\\\\\\\"workspaceLocation\\\\\\\\\\\\\\\": \\\\\\\\\\\\\\\"southcentralus\\\\\\\\\\\\\\\"}}\\\\\\\", \\\\\\\"activities\\\\\\\": 0}\", \"EnableSubsampling\": null, \"runTemplate\": \"AutoML\", \"azureml.runsource\": \"automl\", \"display_task_type\": \"classification\", \"dependencies_versions\": \"{\\\"azureml-widgets\\\": \\\"1.20.0\\\", \\\"azureml-train\\\": \\\"1.20.0\\\", \\\"azureml-train-restclients-hyperdrive\\\": \\\"1.20.0\\\", \\\"azureml-train-core\\\": \\\"1.20.0\\\", \\\"azureml-train-automl\\\": \\\"1.20.0\\\", \\\"azureml-train-automl-runtime\\\": \\\"1.20.0\\\", \\\"azureml-train-automl-client\\\": \\\"1.20.0\\\", \\\"azureml-tensorboard\\\": \\\"1.20.0\\\", \\\"azureml-telemetry\\\": \\\"1.20.0\\\", \\\"azureml-sdk\\\": \\\"1.20.0\\\", \\\"azureml-samples\\\": \\\"0+unknown\\\", \\\"azureml-pipeline\\\": \\\"1.20.0\\\", \\\"azureml-pipeline-steps\\\": \\\"1.20.0\\\", \\\"azureml-pipeline-core\\\": \\\"1.20.0\\\", \\\"azureml-opendatasets\\\": \\\"1.20.0\\\", \\\"azureml-model-management-sdk\\\": \\\"1.0.1b6.post1\\\", \\\"azureml-mlflow\\\": \\\"1.20.0.post1\\\", \\\"azureml-interpret\\\": \\\"1.20.0\\\", \\\"azureml-explain-model\\\": \\\"1.20.0\\\", \\\"azureml-defaults\\\": \\\"1.20.0\\\", \\\"azureml-dataset-runtime\\\": \\\"1.20.0\\\", \\\"azureml-dataprep\\\": \\\"2.7.3\\\", \\\"azureml-dataprep-rslex\\\": \\\"1.5.0\\\", \\\"azureml-dataprep-native\\\": \\\"27.0.0\\\", \\\"azureml-datadrift\\\": \\\"1.20.0\\\", \\\"azureml-core\\\": \\\"1.20.0\\\", \\\"azureml-contrib-services\\\": \\\"1.20.0\\\", \\\"azureml-contrib-server\\\": \\\"1.20.0\\\", \\\"azureml-contrib-reinforcementlearning\\\": \\\"1.20.0\\\", \\\"azureml-contrib-pipeline-steps\\\": \\\"1.20.0\\\", \\\"azureml-contrib-notebook\\\": \\\"1.20.0\\\", \\\"azureml-contrib-interpret\\\": \\\"1.20.0\\\", \\\"azureml-contrib-gbdt\\\": \\\"1.20.0\\\", \\\"azureml-contrib-fairness\\\": \\\"1.20.0\\\", \\\"azureml-contrib-dataset\\\": \\\"1.20.0\\\", \\\"azureml-cli-common\\\": \\\"1.20.0\\\", \\\"azureml-automl-runtime\\\": \\\"1.20.0\\\", \\\"azureml-automl-core\\\": \\\"1.20.0\\\", \\\"azureml-accel-models\\\": \\\"1.20.0\\\"}\", \"_aml_system_scenario_identification\": \"Remote.Parent\", \"ClientType\": \"SDK\", \"environment_cpu_name\": \"AzureML-AutoML\", \"environment_cpu_label\": \"prod\", \"environment_gpu_name\": \"AzureML-AutoML-GPU\", \"environment_gpu_label\": \"prod\", \"root_attribution\": \"automl\", \"attribution\": \"AutoML\", \"Orchestrator\": \"AutoML\", \"CancelUri\": \"https://southcentralus.experiments.azureml.net/jasmine/v1.0/subscriptions/976ee174-3882-4721-b90a-b5fef6b72f24/resourceGroups/aml-quickstarts-136431/providers/Microsoft.MachineLearningServices/workspaces/quick-starts-ws-136431/experimentids/f900ed8b-5fae-4977-8c97-eea2f6fd8656/cancel/AutoML_2a8bdc99-6da6-4d0b-932f-808fc7a11fd0\", \"ClientSdkVersion\": \"1.20.0.post1\", \"snapshotId\": \"00000000-0000-0000-0000-000000000000\", \"SetupRunId\": \"AutoML_2a8bdc99-6da6-4d0b-932f-808fc7a11fd0_setup\", \"SetupRunContainerId\": \"dcid.AutoML_2a8bdc99-6da6-4d0b-932f-808fc7a11fd0_setup\", \"FeaturizationRunJsonPath\": \"featurizer_container.json\", \"FeaturizationRunId\": \"AutoML_2a8bdc99-6da6-4d0b-932f-808fc7a11fd0_featurize\", \"ProblemInfoJsonString\": \"{\\\"dataset_num_categorical\\\": 0, \\\"is_sparse\\\": false, \\\"subsampling\\\": false, \\\"dataset_classes\\\": 2, \\\"dataset_features\\\": 12, \\\"dataset_samples\\\": 224, \\\"single_frequency_class_detected\\\": false}\", \"ModelExplainRunId\": \"AutoML_2a8bdc99-6da6-4d0b-932f-808fc7a11fd0_ModelExplain\"}, \"tags\": {\"model_explain_run\": \"best_run\", \"_aml_system_azureml.automlComponent\": \"AutoML\", \"pipeline_id\": \"\", \"score\": \"\", \"predicted_cost\": \"\", \"fit_time\": \"\", \"training_percent\": \"\", \"iteration\": \"\", \"run_preprocessor\": \"\", \"run_algorithm\": \"\", \"dynamic_whitelisting_iterations\": \"<25>;<30>;<34>;\", \"automl_best_child_run_id\": \"AutoML_2a8bdc99-6da6-4d0b-932f-808fc7a11fd0_36\", \"model_explain_best_run_child_id\": \"AutoML_2a8bdc99-6da6-4d0b-932f-808fc7a11fd0_36\"}, \"end_time_utc\": \"2021-01-28T21:51:42.372737Z\", \"status\": \"Completed\", \"log_files\": {}, \"log_groups\": [], \"run_duration\": \"0:26:33\"}, \"child_runs\": [{\"run_id\": \"AutoML_2a8bdc99-6da6-4d0b-932f-808fc7a11fd0_0\", \"run_number\": 5, \"metric\": null, \"status\": \"Completed\", \"run_type\": \"azureml.scriptrun\", \"training_percent\": \"100\", \"start_time\": \"2021-01-28T21:37:41.691472Z\", \"end_time\": \"2021-01-28T21:38:45.347284Z\", \"created_time\": \"2021-01-28T21:34:05.762143Z\", \"created_time_dt\": \"2021-01-28T21:34:05.762143Z\", \"duration\": \"0:04:39\", \"iteration\": \"0\", \"goal\": \"accuracy_max\", \"run_name\": \"MaxAbsScaler, LightGBM\", \"run_properties\": \"copy=True\", \"primary_metric\": 0.79426877, \"best_metric\": 0.79426877}, {\"run_id\": \"AutoML_2a8bdc99-6da6-4d0b-932f-808fc7a11fd0_1\", \"run_number\": 6, \"metric\": null, \"status\": \"Completed\", \"run_type\": \"azureml.scriptrun\", \"training_percent\": \"100\", \"start_time\": \"2021-01-28T21:36:25.216141Z\", \"end_time\": \"2021-01-28T21:37:35.497233Z\", \"created_time\": \"2021-01-28T21:34:05.936715Z\", \"created_time_dt\": \"2021-01-28T21:34:05.936715Z\", \"duration\": \"0:03:29\", \"iteration\": \"1\", \"goal\": \"accuracy_max\", \"run_name\": \"MaxAbsScaler, XGBoostClassifier\", \"run_properties\": \"copy=True\", \"primary_metric\": 0.79881423, \"best_metric\": 0.79881423}, {\"run_id\": \"AutoML_2a8bdc99-6da6-4d0b-932f-808fc7a11fd0_2\", \"run_number\": 7, \"metric\": null, \"status\": \"Completed\", \"run_type\": \"azureml.scriptrun\", \"training_percent\": \"100\", \"start_time\": \"2021-01-28T21:35:24.118176Z\", \"end_time\": \"2021-01-28T21:36:22.180504Z\", \"created_time\": \"2021-01-28T21:34:05.960563Z\", \"created_time_dt\": \"2021-01-28T21:34:05.960563Z\", \"duration\": \"0:02:16\", \"iteration\": \"2\", \"goal\": \"accuracy_max\", \"run_name\": \"MinMaxScaler, RandomForest\", \"run_properties\": \"copy=True, feature_range=(0, 1\", \"primary_metric\": 0.82173913, \"best_metric\": 0.82173913}, {\"run_id\": \"AutoML_2a8bdc99-6da6-4d0b-932f-808fc7a11fd0_3\", \"run_number\": 8, \"metric\": null, \"status\": \"Completed\", \"run_type\": \"azureml.scriptrun\", \"training_percent\": \"100\", \"start_time\": \"2021-01-28T21:34:17.131827Z\", \"end_time\": \"2021-01-28T21:35:20.043134Z\", \"created_time\": \"2021-01-28T21:34:05.96208Z\", \"created_time_dt\": \"2021-01-28T21:34:05.96208Z\", \"duration\": \"0:01:14\", \"iteration\": \"3\", \"goal\": \"accuracy_max\", \"run_name\": \"MinMaxScaler, RandomForest\", \"run_properties\": \"copy=True, feature_range=(0, 1\", \"primary_metric\": 0.80750988, \"best_metric\": 0.82173913}, {\"run_id\": \"AutoML_2a8bdc99-6da6-4d0b-932f-808fc7a11fd0_4\", \"run_number\": 9, \"metric\": null, \"status\": \"Completed\", \"run_type\": \"azureml.scriptrun\", \"training_percent\": \"100\", \"start_time\": \"2021-01-28T21:37:55.888749Z\", \"end_time\": \"2021-01-28T21:41:25.89965Z\", \"created_time\": \"2021-01-28T21:35:23.320302Z\", \"created_time_dt\": \"2021-01-28T21:35:23.320302Z\", \"duration\": \"0:06:02\", \"iteration\": \"4\", \"goal\": \"accuracy_max\", \"run_name\": \"MinMaxScaler, RandomForest\", \"run_properties\": \"copy=True, feature_range=(0, 1\", \"primary_metric\": 0.83458498, \"best_metric\": 0.83458498}, {\"run_id\": \"AutoML_2a8bdc99-6da6-4d0b-932f-808fc7a11fd0_5\", \"run_number\": 10, \"metric\": null, \"status\": \"Completed\", \"run_type\": \"azureml.scriptrun\", \"training_percent\": \"100\", \"start_time\": \"2021-01-28T21:37:55.889875Z\", \"end_time\": \"2021-01-28T21:41:31.87523Z\", \"created_time\": \"2021-01-28T21:36:25.282355Z\", \"created_time_dt\": \"2021-01-28T21:36:25.282355Z\", \"duration\": \"0:05:06\", \"iteration\": \"5\", \"goal\": \"accuracy_max\", \"run_name\": \"MinMaxScaler, SVM\", \"run_properties\": \"copy=True, feature_range=(0, 1\", \"primary_metric\": 0.70592885, \"best_metric\": 0.83458498}, {\"run_id\": \"AutoML_2a8bdc99-6da6-4d0b-932f-808fc7a11fd0_6\", \"run_number\": 11, \"metric\": null, \"status\": \"Completed\", \"run_type\": \"azureml.scriptrun\", \"training_percent\": \"100\", \"start_time\": \"2021-01-28T21:38:00.506772Z\", \"end_time\": \"2021-01-28T21:41:55.047862Z\", \"created_time\": \"2021-01-28T21:37:38.483539Z\", \"created_time_dt\": \"2021-01-28T21:37:38.483539Z\", \"duration\": \"0:04:16\", \"iteration\": \"6\", \"goal\": \"accuracy_max\", \"run_name\": \"MinMaxScaler, SVM\", \"run_properties\": \"copy=True, feature_range=(0, 1\", \"primary_metric\": 0.72806324, \"best_metric\": 0.83458498}, {\"run_id\": \"AutoML_2a8bdc99-6da6-4d0b-932f-808fc7a11fd0_7\", \"run_number\": 12, \"metric\": null, \"status\": \"Completed\", \"run_type\": \"azureml.scriptrun\", \"training_percent\": \"100\", \"start_time\": \"2021-01-28T21:39:00.529209Z\", \"end_time\": \"2021-01-28T21:40:17.598687Z\", \"created_time\": \"2021-01-28T21:38:48.097808Z\", \"created_time_dt\": \"2021-01-28T21:38:48.097808Z\", \"duration\": \"0:01:29\", \"iteration\": \"7\", \"goal\": \"accuracy_max\", \"run_name\": \"SparseNormalizer, XGBoostClassifier\", \"run_properties\": \"<azureml.automl.runtime.shared.model_wrappers.SparseNormalizer object at 0x7f5f8e735668\", \"primary_metric\": 0.78162055, \"best_metric\": 0.83458498}, {\"run_id\": \"AutoML_2a8bdc99-6da6-4d0b-932f-808fc7a11fd0_8\", \"run_number\": 13, \"metric\": null, \"status\": \"Completed\", \"run_type\": \"azureml.scriptrun\", \"training_percent\": \"100\", \"start_time\": \"2021-01-28T21:40:32.180673Z\", \"end_time\": \"2021-01-28T21:41:28.477007Z\", \"created_time\": \"2021-01-28T21:40:20.840643Z\", \"created_time_dt\": \"2021-01-28T21:40:20.840643Z\", \"duration\": \"0:01:07\", \"iteration\": \"8\", \"goal\": \"accuracy_max\", \"run_name\": \"MinMaxScaler, LogisticRegression\", \"run_properties\": \"copy=True, feature_range=(0, 1\", \"primary_metric\": 0.8083004, \"best_metric\": 0.83458498}, {\"run_id\": \"AutoML_2a8bdc99-6da6-4d0b-932f-808fc7a11fd0_9\", \"run_number\": 14, \"metric\": null, \"status\": \"Completed\", \"run_type\": \"azureml.scriptrun\", \"training_percent\": \"100\", \"start_time\": \"2021-01-28T21:41:37.769528Z\", \"end_time\": \"2021-01-28T21:42:33.99035Z\", \"created_time\": \"2021-01-28T21:41:27.501016Z\", \"created_time_dt\": \"2021-01-28T21:41:27.501016Z\", \"duration\": \"0:01:06\", \"iteration\": \"9\", \"goal\": \"accuracy_max\", \"run_name\": \"RobustScaler, SVM\", \"run_properties\": \"copy=True, quantile_range=[10, 90], with_centering=True,\\n             with_scaling=True\", \"primary_metric\": 0.72351779, \"best_metric\": 0.83458498}, {\"run_id\": \"AutoML_2a8bdc99-6da6-4d0b-932f-808fc7a11fd0_10\", \"run_number\": 15, \"metric\": null, \"status\": \"Completed\", \"run_type\": \"azureml.scriptrun\", \"training_percent\": \"100\", \"start_time\": \"2021-01-28T21:41:43.071575Z\", \"end_time\": \"2021-01-28T21:42:33.554361Z\", \"created_time\": \"2021-01-28T21:41:30.576455Z\", \"created_time_dt\": \"2021-01-28T21:41:30.576455Z\", \"duration\": \"0:01:02\", \"iteration\": \"10\", \"goal\": \"accuracy_max\", \"run_name\": \"StandardScalerWrapper, RandomForest\", \"run_properties\": \"<azureml.automl.runtime.shared.model_wrappers.StandardScalerWrapper object at 0x7fef4c46e5f8\", \"primary_metric\": 0.81660079, \"best_metric\": 0.83458498}, {\"run_id\": \"AutoML_2a8bdc99-6da6-4d0b-932f-808fc7a11fd0_11\", \"run_number\": 16, \"metric\": null, \"status\": \"Completed\", \"run_type\": \"azureml.scriptrun\", \"training_percent\": \"100\", \"start_time\": \"2021-01-28T21:41:44.345331Z\", \"end_time\": \"2021-01-28T21:42:37.569078Z\", \"created_time\": \"2021-01-28T21:41:34.200932Z\", \"created_time_dt\": \"2021-01-28T21:41:34.200932Z\", \"duration\": \"0:01:03\", \"iteration\": \"11\", \"goal\": \"accuracy_max\", \"run_name\": \"StandardScalerWrapper, LightGBM\", \"run_properties\": \"<azureml.automl.runtime.shared.model_wrappers.StandardScalerWrapper object at 0x7f0dfc334a20\", \"primary_metric\": 0.79881423, \"best_metric\": 0.83458498}, {\"run_id\": \"AutoML_2a8bdc99-6da6-4d0b-932f-808fc7a11fd0_12\", \"run_number\": 17, \"metric\": null, \"status\": \"Completed\", \"run_type\": \"azureml.scriptrun\", \"training_percent\": \"100\", \"start_time\": \"2021-01-28T21:42:08.672225Z\", \"end_time\": \"2021-01-28T21:42:59.213255Z\", \"created_time\": \"2021-01-28T21:41:56.827848Z\", \"created_time_dt\": \"2021-01-28T21:41:56.827848Z\", \"duration\": \"0:01:02\", \"iteration\": \"12\", \"goal\": \"accuracy_max\", \"run_name\": \"MaxAbsScaler, GradientBoosting\", \"run_properties\": \"copy=True\", \"primary_metric\": 0.82094862, \"best_metric\": 0.83458498}, {\"run_id\": \"AutoML_2a8bdc99-6da6-4d0b-932f-808fc7a11fd0_13\", \"run_number\": 18, \"metric\": null, \"status\": \"Completed\", \"run_type\": \"azureml.scriptrun\", \"training_percent\": \"100\", \"start_time\": \"2021-01-28T21:42:48.719915Z\", \"end_time\": \"2021-01-28T21:43:56.371054Z\", \"created_time\": \"2021-01-28T21:42:35.295201Z\", \"created_time_dt\": \"2021-01-28T21:42:35.295201Z\", \"duration\": \"0:01:21\", \"iteration\": \"13\", \"goal\": \"accuracy_max\", \"run_name\": \"MaxAbsScaler, ExtremeRandomTrees\", \"run_properties\": \"copy=True\", \"primary_metric\": 0.81679842, \"best_metric\": 0.83458498}, {\"run_id\": \"AutoML_2a8bdc99-6da6-4d0b-932f-808fc7a11fd0_14\", \"run_number\": 19, \"metric\": null, \"status\": \"Completed\", \"run_type\": \"azureml.scriptrun\", \"training_percent\": \"100\", \"start_time\": \"2021-01-28T21:42:50.06827Z\", \"end_time\": \"2021-01-28T21:43:46.36895Z\", \"created_time\": \"2021-01-28T21:42:38.556955Z\", \"created_time_dt\": \"2021-01-28T21:42:38.556955Z\", \"duration\": \"0:01:07\", \"iteration\": \"14\", \"goal\": \"accuracy_max\", \"run_name\": \"SparseNormalizer, XGBoostClassifier\", \"run_properties\": \"<azureml.automl.runtime.shared.model_wrappers.SparseNormalizer object at 0x7fb341c3bf98\", \"primary_metric\": 0.82173913, \"best_metric\": 0.83458498}, {\"run_id\": \"AutoML_2a8bdc99-6da6-4d0b-932f-808fc7a11fd0_15\", \"run_number\": 20, \"metric\": null, \"status\": \"Completed\", \"run_type\": \"azureml.scriptrun\", \"training_percent\": \"100\", \"start_time\": \"2021-01-28T21:42:51.861605Z\", \"end_time\": \"2021-01-28T21:43:43.404744Z\", \"created_time\": \"2021-01-28T21:42:42.124836Z\", \"created_time_dt\": \"2021-01-28T21:42:42.124836Z\", \"duration\": \"0:01:01\", \"iteration\": \"15\", \"goal\": \"accuracy_max\", \"run_name\": \"MaxAbsScaler, LightGBM\", \"run_properties\": \"copy=True\", \"primary_metric\": 0.78537549, \"best_metric\": 0.83458498}, {\"run_id\": \"AutoML_2a8bdc99-6da6-4d0b-932f-808fc7a11fd0_16\", \"run_number\": 21, \"metric\": null, \"status\": \"Completed\", \"run_type\": \"azureml.scriptrun\", \"training_percent\": \"100\", \"start_time\": \"2021-01-28T21:43:13.478718Z\", \"end_time\": \"2021-01-28T21:44:05.633727Z\", \"created_time\": \"2021-01-28T21:43:00.734104Z\", \"created_time_dt\": \"2021-01-28T21:43:00.734104Z\", \"duration\": \"0:01:04\", \"iteration\": \"16\", \"goal\": \"accuracy_max\", \"run_name\": \"MinMaxScaler, LightGBM\", \"run_properties\": \"copy=True, feature_range=(0, 1\", \"primary_metric\": 0.80770751, \"best_metric\": 0.83458498}, {\"run_id\": \"AutoML_2a8bdc99-6da6-4d0b-932f-808fc7a11fd0_17\", \"run_number\": 22, \"metric\": null, \"status\": \"Completed\", \"run_type\": \"azureml.scriptrun\", \"training_percent\": \"100\", \"start_time\": \"2021-01-28T21:43:58.375863Z\", \"end_time\": \"2021-01-28T21:45:00.863065Z\", \"created_time\": \"2021-01-28T21:43:45.825284Z\", \"created_time_dt\": \"2021-01-28T21:43:45.825284Z\", \"duration\": \"0:01:15\", \"iteration\": \"17\", \"goal\": \"accuracy_max\", \"run_name\": \"SparseNormalizer, XGBoostClassifier\", \"run_properties\": \"<azureml.automl.runtime.shared.model_wrappers.SparseNormalizer object at 0x7f3be8d995c0\", \"primary_metric\": 0.8527668, \"best_metric\": 0.8527668}, {\"run_id\": \"AutoML_2a8bdc99-6da6-4d0b-932f-808fc7a11fd0_18\", \"run_number\": 23, \"metric\": null, \"status\": \"Completed\", \"run_type\": \"azureml.scriptrun\", \"training_percent\": \"100\", \"start_time\": \"2021-01-28T21:44:02.109587Z\", \"end_time\": \"2021-01-28T21:44:52.624294Z\", \"created_time\": \"2021-01-28T21:43:50.98595Z\", \"created_time_dt\": \"2021-01-28T21:43:50.98595Z\", \"duration\": \"0:01:01\", \"iteration\": \"18\", \"goal\": \"accuracy_max\", \"run_name\": \"MinMaxScaler, LightGBM\", \"run_properties\": \"copy=True, feature_range=(0, 1\", \"primary_metric\": 0.81264822, \"best_metric\": 0.8527668}, {\"run_id\": \"AutoML_2a8bdc99-6da6-4d0b-932f-808fc7a11fd0_19\", \"run_number\": 24, \"metric\": null, \"status\": \"Completed\", \"run_type\": \"azureml.scriptrun\", \"training_percent\": \"100\", \"start_time\": \"2021-01-28T21:44:22.166792Z\", \"end_time\": \"2021-01-28T21:45:05.152647Z\", \"created_time\": \"2021-01-28T21:43:59.721112Z\", \"created_time_dt\": \"2021-01-28T21:43:59.721112Z\", \"duration\": \"0:01:05\", \"iteration\": \"19\", \"goal\": \"accuracy_max\", \"run_name\": \"MinMaxScaler, LightGBM\", \"run_properties\": \"copy=True, feature_range=(0, 1\", \"primary_metric\": 0.80711462, \"best_metric\": 0.8527668}, {\"run_id\": \"AutoML_2a8bdc99-6da6-4d0b-932f-808fc7a11fd0_20\", \"run_number\": 25, \"metric\": null, \"status\": \"Completed\", \"run_type\": \"azureml.scriptrun\", \"training_percent\": \"100\", \"start_time\": \"2021-01-28T21:44:19.769601Z\", \"end_time\": \"2021-01-28T21:45:16.871018Z\", \"created_time\": \"2021-01-28T21:44:08.820451Z\", \"created_time_dt\": \"2021-01-28T21:44:08.820451Z\", \"duration\": \"0:01:08\", \"iteration\": \"20\", \"goal\": \"accuracy_max\", \"run_name\": \"SparseNormalizer, XGBoostClassifier\", \"run_properties\": \"<azureml.automl.runtime.shared.model_wrappers.SparseNormalizer object at 0x7fbe46279710\", \"primary_metric\": 0.83932806, \"best_metric\": 0.8527668}, {\"run_id\": \"AutoML_2a8bdc99-6da6-4d0b-932f-808fc7a11fd0_21\", \"run_number\": 26, \"metric\": null, \"status\": \"Completed\", \"run_type\": \"azureml.scriptrun\", \"training_percent\": \"100\", \"start_time\": \"2021-01-28T21:45:09.289832Z\", \"end_time\": \"2021-01-28T21:46:03.744591Z\", \"created_time\": \"2021-01-28T21:44:56.331536Z\", \"created_time_dt\": \"2021-01-28T21:44:56.331536Z\", \"duration\": \"0:01:07\", \"iteration\": \"21\", \"goal\": \"accuracy_max\", \"run_name\": \"StandardScalerWrapper, LightGBM\", \"run_properties\": \"<azureml.automl.runtime.shared.model_wrappers.StandardScalerWrapper object at 0x7faff0fa1c88\", \"primary_metric\": 0.80849802, \"best_metric\": 0.8527668}, {\"run_id\": \"AutoML_2a8bdc99-6da6-4d0b-932f-808fc7a11fd0_22\", \"run_number\": 27, \"metric\": null, \"status\": \"Completed\", \"run_type\": \"azureml.scriptrun\", \"training_percent\": \"100\", \"start_time\": \"2021-01-28T21:45:16.988029Z\", \"end_time\": \"2021-01-28T21:46:10.768064Z\", \"created_time\": \"2021-01-28T21:45:04.28019Z\", \"created_time_dt\": \"2021-01-28T21:45:04.28019Z\", \"duration\": \"0:01:06\", \"iteration\": \"22\", \"goal\": \"accuracy_max\", \"run_name\": \"StandardScalerWrapper, LightGBM\", \"run_properties\": \"<azureml.automl.runtime.shared.model_wrappers.StandardScalerWrapper object at 0x7f2103fb0048\", \"primary_metric\": 0.79881423, \"best_metric\": 0.8527668}, {\"run_id\": \"AutoML_2a8bdc99-6da6-4d0b-932f-808fc7a11fd0_23\", \"run_number\": 28, \"metric\": null, \"status\": \"Completed\", \"run_type\": \"azureml.scriptrun\", \"training_percent\": \"100\", \"start_time\": \"2021-01-28T21:45:23.173054Z\", \"end_time\": \"2021-01-28T21:46:17.651864Z\", \"created_time\": \"2021-01-28T21:45:10.002119Z\", \"created_time_dt\": \"2021-01-28T21:45:10.002119Z\", \"duration\": \"0:01:07\", \"iteration\": \"23\", \"goal\": \"accuracy_max\", \"run_name\": \"SparseNormalizer, XGBoostClassifier\", \"run_properties\": \"<azureml.automl.runtime.shared.model_wrappers.SparseNormalizer object at 0x7fe192a022e8\", \"primary_metric\": 0.79901186, \"best_metric\": 0.8527668}, {\"run_id\": \"AutoML_2a8bdc99-6da6-4d0b-932f-808fc7a11fd0_24\", \"run_number\": 29, \"metric\": null, \"status\": \"Completed\", \"run_type\": \"azureml.scriptrun\", \"training_percent\": \"100\", \"start_time\": \"2021-01-28T21:45:31.821665Z\", \"end_time\": \"2021-01-28T21:46:42.049491Z\", \"created_time\": \"2021-01-28T21:45:19.81496Z\", \"created_time_dt\": \"2021-01-28T21:45:19.81496Z\", \"duration\": \"0:01:22\", \"iteration\": \"24\", \"goal\": \"accuracy_max\", \"run_name\": \"StandardScalerWrapper, ExtremeRandomTrees\", \"run_properties\": \"<azureml.automl.runtime.shared.model_wrappers.StandardScalerWrapper object at 0x7fceb9115c18\", \"primary_metric\": 0.76304348, \"best_metric\": 0.8527668}, {\"run_id\": \"AutoML_2a8bdc99-6da6-4d0b-932f-808fc7a11fd0_25\", \"run_number\": 30, \"metric\": null, \"status\": \"Completed\", \"run_type\": \"azureml.scriptrun\", \"training_percent\": \"100\", \"start_time\": \"2021-01-28T21:46:22.025799Z\", \"end_time\": \"2021-01-28T21:47:19.560179Z\", \"created_time\": \"2021-01-28T21:46:08.436567Z\", \"created_time_dt\": \"2021-01-28T21:46:08.436567Z\", \"duration\": \"0:01:11\", \"iteration\": \"25\", \"goal\": \"accuracy_max\", \"run_name\": \"SparseNormalizer, XGBoostClassifier\", \"run_properties\": \"<azureml.automl.runtime.shared.model_wrappers.SparseNormalizer object at 0x7f0bf6926470\", \"primary_metric\": 0.66067194, \"best_metric\": 0.8527668}, {\"run_id\": \"AutoML_2a8bdc99-6da6-4d0b-932f-808fc7a11fd0_26\", \"run_number\": 31, \"metric\": null, \"status\": \"Completed\", \"run_type\": \"azureml.scriptrun\", \"training_percent\": \"100\", \"start_time\": \"2021-01-28T21:46:25.902641Z\", \"end_time\": \"2021-01-28T21:47:18.186971Z\", \"created_time\": \"2021-01-28T21:46:13.736522Z\", \"created_time_dt\": \"2021-01-28T21:46:13.736522Z\", \"duration\": \"0:01:04\", \"iteration\": \"26\", \"goal\": \"accuracy_max\", \"run_name\": \"StandardScalerWrapper, XGBoostClassifier\", \"run_properties\": \"<azureml.automl.runtime.shared.model_wrappers.StandardScalerWrapper object at 0x7ff5c5a07da0\", \"primary_metric\": 0.79407115, \"best_metric\": 0.8527668}, {\"run_id\": \"AutoML_2a8bdc99-6da6-4d0b-932f-808fc7a11fd0_27\", \"run_number\": 32, \"metric\": null, \"status\": \"Completed\", \"run_type\": \"azureml.scriptrun\", \"training_percent\": \"100\", \"start_time\": \"2021-01-28T21:46:32.083588Z\", \"end_time\": \"2021-01-28T21:47:23.23861Z\", \"created_time\": \"2021-01-28T21:46:20.718542Z\", \"created_time_dt\": \"2021-01-28T21:46:20.718542Z\", \"duration\": \"0:01:02\", \"iteration\": \"27\", \"goal\": \"accuracy_max\", \"run_name\": \"SparseNormalizer, XGBoostClassifier\", \"run_properties\": \"<azureml.automl.runtime.shared.model_wrappers.SparseNormalizer object at 0x7fea34898be0\", \"primary_metric\": 0.8215415, \"best_metric\": 0.8527668}, {\"run_id\": \"AutoML_2a8bdc99-6da6-4d0b-932f-808fc7a11fd0_28\", \"run_number\": 33, \"metric\": null, \"status\": \"Completed\", \"run_type\": \"azureml.scriptrun\", \"training_percent\": \"100\", \"start_time\": \"2021-01-28T21:46:57.113872Z\", \"end_time\": \"2021-01-28T21:47:57.57048Z\", \"created_time\": \"2021-01-28T21:46:45.189082Z\", \"created_time_dt\": \"2021-01-28T21:46:45.189082Z\", \"duration\": \"0:01:12\", \"iteration\": \"28\", \"goal\": \"accuracy_max\", \"run_name\": \"StandardScalerWrapper, XGBoostClassifier\", \"run_properties\": \"<azureml.automl.runtime.shared.model_wrappers.StandardScalerWrapper object at 0x7f02605f5ef0\", \"primary_metric\": 0.78083004, \"best_metric\": 0.8527668}, {\"run_id\": \"AutoML_2a8bdc99-6da6-4d0b-932f-808fc7a11fd0_29\", \"run_number\": 34, \"metric\": null, \"status\": \"Completed\", \"run_type\": \"azureml.scriptrun\", \"training_percent\": \"100\", \"start_time\": \"2021-01-28T21:47:32.076457Z\", \"end_time\": \"2021-01-28T21:48:27.693661Z\", \"created_time\": \"2021-01-28T21:47:19.862628Z\", \"created_time_dt\": \"2021-01-28T21:47:19.862628Z\", \"duration\": \"0:01:07\", \"iteration\": \"29\", \"goal\": \"accuracy_max\", \"run_name\": \"MaxAbsScaler, ExtremeRandomTrees\", \"run_properties\": \"copy=True\", \"primary_metric\": 0.82608696, \"best_metric\": 0.8527668}, {\"run_id\": \"AutoML_2a8bdc99-6da6-4d0b-932f-808fc7a11fd0_30\", \"run_number\": 35, \"metric\": null, \"status\": \"Completed\", \"run_type\": \"azureml.scriptrun\", \"training_percent\": \"100\", \"start_time\": \"2021-01-28T21:47:37.20332Z\", \"end_time\": \"2021-01-28T21:48:29.290729Z\", \"created_time\": \"2021-01-28T21:47:24.497821Z\", \"created_time_dt\": \"2021-01-28T21:47:24.497821Z\", \"duration\": \"0:01:04\", \"iteration\": \"30\", \"goal\": \"accuracy_max\", \"run_name\": \"PCA, XGBoostClassifier\", \"run_properties\": \"copy=True, iterated_power='auto', n_components=0.2573684210526316,\\n    random_state=None, svd_solver='auto', tol=0.0, whiten=True\", \"primary_metric\": 0.66067194, \"best_metric\": 0.8527668}, {\"run_id\": \"AutoML_2a8bdc99-6da6-4d0b-932f-808fc7a11fd0_31\", \"run_number\": 36, \"metric\": null, \"status\": \"Completed\", \"run_type\": \"azureml.scriptrun\", \"training_percent\": \"100\", \"start_time\": \"2021-01-28T21:47:38.356219Z\", \"end_time\": \"2021-01-28T21:48:31.552407Z\", \"created_time\": \"2021-01-28T21:47:28.565265Z\", \"created_time_dt\": \"2021-01-28T21:47:28.565265Z\", \"duration\": \"0:01:02\", \"iteration\": \"31\", \"goal\": \"accuracy_max\", \"run_name\": \"MinMaxScaler, LightGBM\", \"run_properties\": \"copy=True, feature_range=(0, 1\", \"primary_metric\": 0.80375494, \"best_metric\": 0.8527668}, {\"run_id\": \"AutoML_2a8bdc99-6da6-4d0b-932f-808fc7a11fd0_32\", \"run_number\": 37, \"metric\": null, \"status\": \"Completed\", \"run_type\": \"azureml.scriptrun\", \"training_percent\": \"100\", \"start_time\": \"2021-01-28T21:48:12.667265Z\", \"end_time\": \"2021-01-28T21:49:16.438755Z\", \"created_time\": \"2021-01-28T21:47:59.420099Z\", \"created_time_dt\": \"2021-01-28T21:47:59.420099Z\", \"duration\": \"0:01:17\", \"iteration\": \"32\", \"goal\": \"accuracy_max\", \"run_name\": \"MinMaxScaler, LightGBM\", \"run_properties\": \"copy=True, feature_range=(0, 1\", \"primary_metric\": 0.79387352, \"best_metric\": 0.8527668}, {\"run_id\": \"AutoML_2a8bdc99-6da6-4d0b-932f-808fc7a11fd0_33\", \"run_number\": 38, \"metric\": null, \"status\": \"Canceled\", \"run_type\": \"azureml.scriptrun\", \"training_percent\": \"100\", \"start_time\": \"2021-01-28T21:48:42.027767Z\", \"end_time\": \"2021-01-28T21:49:23.573056Z\", \"created_time\": \"2021-01-28T21:48:29.77318Z\", \"created_time_dt\": \"2021-01-28T21:48:29.77318Z\", \"duration\": \"0:00:53\", \"iteration\": \"33\", \"goal\": \"accuracy_max\", \"run_name\": \"StandardScalerWrapper, LightGBM\", \"run_properties\": \"<azureml.automl.runtime.shared.model_wrappers.StandardScalerWrapper object at 0x7fcbedf76198\", \"primary_metric\": 0.81245059, \"best_metric\": 0.8527668}, {\"run_id\": \"AutoML_2a8bdc99-6da6-4d0b-932f-808fc7a11fd0_34\", \"run_number\": 39, \"metric\": null, \"status\": \"Canceled\", \"run_type\": \"azureml.scriptrun\", \"training_percent\": \"100\", \"start_time\": \"2021-01-28T21:48:45.799631Z\", \"end_time\": \"2021-01-28T21:49:23.59198Z\", \"created_time\": \"2021-01-28T21:48:33.960601Z\", \"created_time_dt\": \"2021-01-28T21:48:33.960601Z\", \"duration\": \"0:00:49\", \"iteration\": \"34\", \"goal\": \"accuracy_max\", \"run_name\": \"StandardScalerWrapper, XGBoostClassifier\", \"run_properties\": \"<azureml.automl.runtime.shared.model_wrappers.StandardScalerWrapper object at 0x7f5aff4b93c8\", \"primary_metric\": 0.8215415, \"best_metric\": 0.8527668}, {\"run_id\": \"AutoML_2a8bdc99-6da6-4d0b-932f-808fc7a11fd0_35\", \"run_number\": 40, \"metric\": null, \"status\": \"Canceled\", \"run_type\": \"azureml.scriptrun\", \"training_percent\": \"100\", \"start_time\": \"2021-01-28T21:48:45.5476Z\", \"end_time\": \"2021-01-28T21:49:25.675105Z\", \"created_time\": \"2021-01-28T21:48:33.98902Z\", \"created_time_dt\": \"2021-01-28T21:48:33.98902Z\", \"duration\": \"0:00:51\", \"iteration\": \"35\", \"goal\": \"accuracy_max\", \"run_name\": \"SparseNormalizer, XGBoostClassifier\", \"run_properties\": \"<azureml.automl.runtime.shared.model_wrappers.SparseNormalizer object at 0x7f7bf85d6e10\", \"primary_metric\": 0.81304348, \"best_metric\": 0.8527668}, {\"run_id\": \"AutoML_2a8bdc99-6da6-4d0b-932f-808fc7a11fd0_36\", \"run_number\": 41, \"metric\": null, \"status\": \"Completed\", \"run_type\": \"azureml.scriptrun\", \"training_percent\": \"100\", \"start_time\": \"2021-01-28T21:49:40.96091Z\", \"end_time\": \"2021-01-28T21:51:35.13626Z\", \"created_time\": \"2021-01-28T21:49:26.525336Z\", \"created_time_dt\": \"2021-01-28T21:49:26.525336Z\", \"duration\": \"0:02:08\", \"iteration\": \"36\", \"goal\": \"accuracy_max\", \"run_name\": \"VotingEnsemble\", \"run_properties\": \"classification_labels=None,\\n                              estimators=[('17',\\n                                           Pipeline(memory=None,\\n                                                    steps=[('sparsenormalizer',\\n                                                            <azureml.automl.runtime.shared.model_wrappers.SparseNormalizer object at 0x7f827317f7b8>\", \"primary_metric\": 0.86146245, \"best_metric\": 0.86146245}, {\"run_id\": \"AutoML_2a8bdc99-6da6-4d0b-932f-808fc7a11fd0_37\", \"run_number\": 42, \"metric\": null, \"status\": \"Completed\", \"run_type\": \"azureml.scriptrun\", \"training_percent\": \"100\", \"start_time\": \"2021-01-28T21:49:38.946525Z\", \"end_time\": \"2021-01-28T21:51:35.342634Z\", \"created_time\": \"2021-01-28T21:49:26.543172Z\", \"created_time_dt\": \"2021-01-28T21:49:26.543172Z\", \"duration\": \"0:02:08\", \"iteration\": \"37\", \"goal\": \"accuracy_max\", \"run_name\": \"StackEnsemble\", \"run_properties\": \"base_learners=[('17',\\n                                        Pipeline(memory=None,\\n                                                 steps=[('sparsenormalizer',\\n                                                         <azureml.automl.runtime.shared.model_wrappers.SparseNormalizer object at 0x7f6d2d033e10>\", \"primary_metric\": 0.84347826, \"best_metric\": 0.86146245}], \"children_metrics\": {\"categories\": [0], \"series\": {\"average_precision_score_macro\": [{\"categories\": [\"0\", \"1\", \"2\", \"3\", \"4\", \"5\", \"6\", \"7\", \"8\", \"9\", \"10\", \"11\", \"12\", \"13\", \"14\", \"15\", \"16\", \"17\", \"18\", \"19\", \"20\", \"21\", \"22\", \"23\", \"24\", \"25\", \"26\", \"27\", \"28\", \"29\", \"30\", \"31\", \"32\", \"33\", \"34\", \"35\", \"36\", \"37\"], \"mode\": \"markers\", \"name\": \"average_precision_score_macro\", \"stepped\": false, \"type\": \"scatter\", \"data\": [0.8619542663543494, 0.8434191996155913, 0.9037060175089708, 0.8646640315037489, 0.902625702808834, 0.6968173043578274, 0.7023773804028816, 0.8652511811075861, 0.8635703568566916, 0.767547718449751, 0.8961535852167805, 0.8729066545430015, 0.9010140539211804, 0.8827631444003557, 0.8729555344744491, 0.8369720827195646, 0.8836596235956424, 0.8882603255359349, 0.8857850562373049, 0.8488276142601612, 0.8676941376602926, 0.8760572824668642, 0.8439072535808775, 0.8494737200909516, 0.8706664210562283, 0.5, 0.8610236872237543, 0.8569042522953841, 0.8509230080148408, 0.8806963814676786, 0.4901059308648444, 0.8245093953134441, 0.8663273507600338, 0.8915297096008205, 0.8438606578236916, 0.8742783318536999, 0.915307794320151, 0.9051863639103803]}, {\"categories\": [\"0\", \"1\", \"2\", \"3\", \"4\", \"5\", \"6\", \"7\", \"8\", \"9\", \"10\", \"11\", \"12\", \"13\", \"14\", \"15\", \"16\", \"17\", \"18\", \"19\", \"20\", \"21\", \"22\", \"23\", \"24\", \"25\", \"26\", \"27\", \"28\", \"29\", \"30\", \"31\", \"32\", \"33\", \"34\", \"35\", \"36\", \"37\"], \"mode\": \"lines\", \"name\": \"average_precision_score_macro_max\", \"stepped\": true, \"type\": \"scatter\", \"data\": [0.8619542663543494, 0.8619542663543494, 0.9037060175089708, 0.9037060175089708, 0.9037060175089708, 0.9037060175089708, 0.9037060175089708, 0.9037060175089708, 0.9037060175089708, 0.9037060175089708, 0.9037060175089708, 0.9037060175089708, 0.9037060175089708, 0.9037060175089708, 0.9037060175089708, 0.9037060175089708, 0.9037060175089708, 0.9037060175089708, 0.9037060175089708, 0.9037060175089708, 0.9037060175089708, 0.9037060175089708, 0.9037060175089708, 0.9037060175089708, 0.9037060175089708, 0.9037060175089708, 0.9037060175089708, 0.9037060175089708, 0.9037060175089708, 0.9037060175089708, 0.9037060175089708, 0.9037060175089708, 0.9037060175089708, 0.9037060175089708, 0.9037060175089708, 0.9037060175089708, 0.915307794320151, 0.915307794320151]}], \"recall_score_weighted\": [{\"categories\": [\"0\", \"1\", \"2\", \"3\", \"4\", \"5\", \"6\", \"7\", \"8\", \"9\", \"10\", \"11\", \"12\", \"13\", \"14\", \"15\", \"16\", \"17\", \"18\", \"19\", \"20\", \"21\", \"22\", \"23\", \"24\", \"25\", \"26\", \"27\", \"28\", \"29\", \"30\", \"31\", \"32\", \"33\", \"34\", \"35\", \"36\", \"37\"], \"mode\": \"markers\", \"name\": \"recall_score_weighted\", \"stepped\": false, \"type\": \"scatter\", \"data\": [0.7942687747035573, 0.7988142292490119, 0.8217391304347826, 0.8075098814229248, 0.8345849802371541, 0.7059288537549407, 0.7280632411067194, 0.7816205533596838, 0.808300395256917, 0.7235177865612649, 0.8166007905138339, 0.7988142292490119, 0.8209486166007904, 0.8167984189723321, 0.8217391304347826, 0.7853754940711463, 0.8077075098814228, 0.8527667984189723, 0.8126482213438735, 0.8071146245059289, 0.8393280632411069, 0.8084980237154149, 0.7988142292490119, 0.7990118577075099, 0.7630434782608695, 0.6606719367588932, 0.7940711462450593, 0.8215415019762846, 0.7808300395256917, 0.826086956521739, 0.6606719367588932, 0.8037549407114624, 0.7938735177865612, 0.8124505928853754, 0.8215415019762846, 0.8130434782608698, 0.8614624505928854, 0.8434782608695652]}, {\"categories\": [\"0\", \"1\", \"2\", \"3\", \"4\", \"5\", \"6\", \"7\", \"8\", \"9\", \"10\", \"11\", \"12\", \"13\", \"14\", \"15\", \"16\", \"17\", \"18\", \"19\", \"20\", \"21\", \"22\", \"23\", \"24\", \"25\", \"26\", \"27\", \"28\", \"29\", \"30\", \"31\", \"32\", \"33\", \"34\", \"35\", \"36\", \"37\"], \"mode\": \"lines\", \"name\": \"recall_score_weighted_max\", \"stepped\": true, \"type\": \"scatter\", \"data\": [0.7942687747035573, 0.7988142292490119, 0.8217391304347826, 0.8217391304347826, 0.8345849802371541, 0.8345849802371541, 0.8345849802371541, 0.8345849802371541, 0.8345849802371541, 0.8345849802371541, 0.8345849802371541, 0.8345849802371541, 0.8345849802371541, 0.8345849802371541, 0.8345849802371541, 0.8345849802371541, 0.8345849802371541, 0.8527667984189723, 0.8527667984189723, 0.8527667984189723, 0.8527667984189723, 0.8527667984189723, 0.8527667984189723, 0.8527667984189723, 0.8527667984189723, 0.8527667984189723, 0.8527667984189723, 0.8527667984189723, 0.8527667984189723, 0.8527667984189723, 0.8527667984189723, 0.8527667984189723, 0.8527667984189723, 0.8527667984189723, 0.8527667984189723, 0.8527667984189723, 0.8614624505928854, 0.8614624505928854]}], \"recall_score_micro\": [{\"categories\": [\"0\", \"1\", \"2\", \"3\", \"4\", \"5\", \"6\", \"7\", \"8\", \"9\", \"10\", \"11\", \"12\", \"13\", \"14\", \"15\", \"16\", \"17\", \"18\", \"19\", \"20\", \"21\", \"22\", \"23\", \"24\", \"25\", \"26\", \"27\", \"28\", \"29\", \"30\", \"31\", \"32\", \"33\", \"34\", \"35\", \"36\", \"37\"], \"mode\": \"markers\", \"name\": \"recall_score_micro\", \"stepped\": false, \"type\": \"scatter\", \"data\": [0.7942687747035573, 0.7988142292490119, 0.8217391304347826, 0.8075098814229248, 0.8345849802371541, 0.7059288537549407, 0.7280632411067194, 0.7816205533596838, 0.808300395256917, 0.7235177865612649, 0.8166007905138339, 0.7988142292490119, 0.8209486166007904, 0.8167984189723321, 0.8217391304347826, 0.7853754940711463, 0.8077075098814228, 0.8527667984189723, 0.8126482213438735, 0.8071146245059289, 0.8393280632411069, 0.8084980237154149, 0.7988142292490119, 0.7990118577075099, 0.7630434782608695, 0.6606719367588932, 0.7940711462450593, 0.8215415019762846, 0.7808300395256917, 0.826086956521739, 0.6606719367588932, 0.8037549407114624, 0.7938735177865612, 0.8124505928853754, 0.8215415019762846, 0.8130434782608698, 0.8614624505928854, 0.8434782608695652]}, {\"categories\": [\"0\", \"1\", \"2\", \"3\", \"4\", \"5\", \"6\", \"7\", \"8\", \"9\", \"10\", \"11\", \"12\", \"13\", \"14\", \"15\", \"16\", \"17\", \"18\", \"19\", \"20\", \"21\", \"22\", \"23\", \"24\", \"25\", \"26\", \"27\", \"28\", \"29\", \"30\", \"31\", \"32\", \"33\", \"34\", \"35\", \"36\", \"37\"], \"mode\": \"lines\", \"name\": \"recall_score_micro_max\", \"stepped\": true, \"type\": \"scatter\", \"data\": [0.7942687747035573, 0.7988142292490119, 0.8217391304347826, 0.8217391304347826, 0.8345849802371541, 0.8345849802371541, 0.8345849802371541, 0.8345849802371541, 0.8345849802371541, 0.8345849802371541, 0.8345849802371541, 0.8345849802371541, 0.8345849802371541, 0.8345849802371541, 0.8345849802371541, 0.8345849802371541, 0.8345849802371541, 0.8527667984189723, 0.8527667984189723, 0.8527667984189723, 0.8527667984189723, 0.8527667984189723, 0.8527667984189723, 0.8527667984189723, 0.8527667984189723, 0.8527667984189723, 0.8527667984189723, 0.8527667984189723, 0.8527667984189723, 0.8527667984189723, 0.8527667984189723, 0.8527667984189723, 0.8527667984189723, 0.8527667984189723, 0.8527667984189723, 0.8527667984189723, 0.8614624505928854, 0.8614624505928854]}], \"log_loss\": [{\"categories\": [\"0\", \"1\", \"2\", \"3\", \"4\", \"5\", \"6\", \"7\", \"8\", \"9\", \"10\", \"11\", \"12\", \"13\", \"14\", \"15\", \"16\", \"17\", \"18\", \"19\", \"20\", \"21\", \"22\", \"23\", \"24\", \"25\", \"26\", \"27\", \"28\", \"29\", \"30\", \"31\", \"32\", \"33\", \"34\", \"35\", \"36\", \"37\"], \"mode\": \"markers\", \"name\": \"log_loss\", \"stepped\": false, \"type\": \"scatter\", \"data\": [0.5767265938216758, 0.517633345017106, 0.3983268757874859, 0.4449940423177604, 0.4130669604172225, 0.6129702127642366, 0.6079084528599592, 0.4578293993304715, 0.4447210714432347, 0.552586089790546, 0.42351592722269854, 0.4170593599545507, 0.4014218898454633, 0.4589942691958089, 0.4470899070833421, 0.4745063789878795, 0.40982425286429286, 0.4280760782965377, 0.4502735939905341, 0.4561244263229164, 0.4341275358580912, 0.4953494116098433, 0.5008112556297392, 0.5322467323815255, 0.4994062853123986, 0.6463033603516245, 0.5032495142062962, 0.4431305372966531, 0.5436445518030547, 0.4332942273742222, 0.649586404528345, 0.49727484072896083, 0.4541437075566777, 0.41585461213583425, 0.499043402909062, 0.4382448385505562, 0.4070817742440112, 0.39960414837425307]}, {\"categories\": [\"0\", \"1\", \"2\", \"3\", \"4\", \"5\", \"6\", \"7\", \"8\", \"9\", \"10\", \"11\", \"12\", \"13\", \"14\", \"15\", \"16\", \"17\", \"18\", \"19\", \"20\", \"21\", \"22\", \"23\", \"24\", \"25\", \"26\", \"27\", \"28\", \"29\", \"30\", \"31\", \"32\", \"33\", \"34\", \"35\", \"36\", \"37\"], \"mode\": \"lines\", \"name\": \"log_loss_min\", \"stepped\": true, \"type\": \"scatter\", \"data\": [0.5767265938216758, 0.517633345017106, 0.3983268757874859, 0.3983268757874859, 0.3983268757874859, 0.3983268757874859, 0.3983268757874859, 0.3983268757874859, 0.3983268757874859, 0.3983268757874859, 0.3983268757874859, 0.3983268757874859, 0.3983268757874859, 0.3983268757874859, 0.3983268757874859, 0.3983268757874859, 0.3983268757874859, 0.3983268757874859, 0.3983268757874859, 0.3983268757874859, 0.3983268757874859, 0.3983268757874859, 0.3983268757874859, 0.3983268757874859, 0.3983268757874859, 0.3983268757874859, 0.3983268757874859, 0.3983268757874859, 0.3983268757874859, 0.3983268757874859, 0.3983268757874859, 0.3983268757874859, 0.3983268757874859, 0.3983268757874859, 0.3983268757874859, 0.3983268757874859, 0.3983268757874859, 0.3983268757874859]}], \"average_precision_score_micro\": [{\"categories\": [\"0\", \"1\", \"2\", \"3\", \"4\", \"5\", \"6\", \"7\", \"8\", \"9\", \"10\", \"11\", \"12\", \"13\", \"14\", \"15\", \"16\", \"17\", \"18\", \"19\", \"20\", \"21\", \"22\", \"23\", \"24\", \"25\", \"26\", \"27\", \"28\", \"29\", \"30\", \"31\", \"32\", \"33\", \"34\", \"35\", \"36\", \"37\"], \"mode\": \"markers\", \"name\": \"average_precision_score_micro\", \"stepped\": false, \"type\": \"scatter\", \"data\": [0.8801476760638085, 0.8681716468923042, 0.9125299503668339, 0.8832637328433552, 0.9126264966123969, 0.7519800960985404, 0.7543655384942871, 0.8766167134840996, 0.8732350760237079, 0.8081247554573487, 0.9095786496306868, 0.8943464743803231, 0.9035605412663237, 0.8828605497295714, 0.8796700283809035, 0.8678344469950494, 0.9011438728220537, 0.8934366977916482, 0.8871496881033034, 0.8800969549350584, 0.8769554994851608, 0.8738630318893088, 0.8675852707513302, 0.8762481574277976, 0.8615955000804976, 0.6171046259119811, 0.8863772797698667, 0.8730570917722081, 0.8662706614831894, 0.8857881732108048, 0.6094821946046326, 0.8584128470019406, 0.8838583272679846, 0.9018447140222285, 0.8651173790987039, 0.8866388359946432, 0.9212788722821174, 0.9080319329799961]}, {\"categories\": [\"0\", \"1\", \"2\", \"3\", \"4\", \"5\", \"6\", \"7\", \"8\", \"9\", \"10\", \"11\", \"12\", \"13\", \"14\", \"15\", \"16\", \"17\", \"18\", \"19\", \"20\", \"21\", \"22\", \"23\", \"24\", \"25\", \"26\", \"27\", \"28\", \"29\", \"30\", \"31\", \"32\", \"33\", \"34\", \"35\", \"36\", \"37\"], \"mode\": \"lines\", \"name\": \"average_precision_score_micro_max\", \"stepped\": true, \"type\": \"scatter\", \"data\": [0.8801476760638085, 0.8801476760638085, 0.9125299503668339, 0.9125299503668339, 0.9126264966123969, 0.9126264966123969, 0.9126264966123969, 0.9126264966123969, 0.9126264966123969, 0.9126264966123969, 0.9126264966123969, 0.9126264966123969, 0.9126264966123969, 0.9126264966123969, 0.9126264966123969, 0.9126264966123969, 0.9126264966123969, 0.9126264966123969, 0.9126264966123969, 0.9126264966123969, 0.9126264966123969, 0.9126264966123969, 0.9126264966123969, 0.9126264966123969, 0.9126264966123969, 0.9126264966123969, 0.9126264966123969, 0.9126264966123969, 0.9126264966123969, 0.9126264966123969, 0.9126264966123969, 0.9126264966123969, 0.9126264966123969, 0.9126264966123969, 0.9126264966123969, 0.9126264966123969, 0.9212788722821174, 0.9212788722821174]}], \"accuracy\": [{\"categories\": [\"0\", \"1\", \"2\", \"3\", \"4\", \"5\", \"6\", \"7\", \"8\", \"9\", \"10\", \"11\", \"12\", \"13\", \"14\", \"15\", \"16\", \"17\", \"18\", \"19\", \"20\", \"21\", \"22\", \"23\", \"24\", \"25\", \"26\", \"27\", \"28\", \"29\", \"30\", \"31\", \"32\", \"33\", \"34\", \"35\", \"36\", \"37\"], \"mode\": \"markers\", \"name\": \"accuracy\", \"stepped\": false, \"type\": \"scatter\", \"data\": [0.7942687747035573, 0.7988142292490119, 0.8217391304347826, 0.8075098814229248, 0.8345849802371541, 0.7059288537549407, 0.7280632411067194, 0.7816205533596838, 0.808300395256917, 0.7235177865612649, 0.8166007905138339, 0.7988142292490119, 0.8209486166007904, 0.8167984189723321, 0.8217391304347826, 0.7853754940711463, 0.8077075098814228, 0.8527667984189723, 0.8126482213438735, 0.8071146245059289, 0.8393280632411069, 0.8084980237154149, 0.7988142292490119, 0.7990118577075099, 0.7630434782608695, 0.6606719367588932, 0.7940711462450593, 0.8215415019762846, 0.7808300395256917, 0.826086956521739, 0.6606719367588932, 0.8037549407114624, 0.7938735177865612, 0.8124505928853754, 0.8215415019762846, 0.8130434782608698, 0.8614624505928854, 0.8434782608695652]}, {\"categories\": [\"0\", \"1\", \"2\", \"3\", \"4\", \"5\", \"6\", \"7\", \"8\", \"9\", \"10\", \"11\", \"12\", \"13\", \"14\", \"15\", \"16\", \"17\", \"18\", \"19\", \"20\", \"21\", \"22\", \"23\", \"24\", \"25\", \"26\", \"27\", \"28\", \"29\", \"30\", \"31\", \"32\", \"33\", \"34\", \"35\", \"36\", \"37\"], \"mode\": \"lines\", \"name\": \"accuracy_max\", \"stepped\": true, \"type\": \"scatter\", \"data\": [0.7942687747035573, 0.7988142292490119, 0.8217391304347826, 0.8217391304347826, 0.8345849802371541, 0.8345849802371541, 0.8345849802371541, 0.8345849802371541, 0.8345849802371541, 0.8345849802371541, 0.8345849802371541, 0.8345849802371541, 0.8345849802371541, 0.8345849802371541, 0.8345849802371541, 0.8345849802371541, 0.8345849802371541, 0.8527667984189723, 0.8527667984189723, 0.8527667984189723, 0.8527667984189723, 0.8527667984189723, 0.8527667984189723, 0.8527667984189723, 0.8527667984189723, 0.8527667984189723, 0.8527667984189723, 0.8527667984189723, 0.8527667984189723, 0.8527667984189723, 0.8527667984189723, 0.8527667984189723, 0.8527667984189723, 0.8527667984189723, 0.8527667984189723, 0.8527667984189723, 0.8614624505928854, 0.8614624505928854]}], \"precision_score_macro\": [{\"categories\": [\"0\", \"1\", \"2\", \"3\", \"4\", \"5\", \"6\", \"7\", \"8\", \"9\", \"10\", \"11\", \"12\", \"13\", \"14\", \"15\", \"16\", \"17\", \"18\", \"19\", \"20\", \"21\", \"22\", \"23\", \"24\", \"25\", \"26\", \"27\", \"28\", \"29\", \"30\", \"31\", \"32\", \"33\", \"34\", \"35\", \"36\", \"37\"], \"mode\": \"markers\", \"name\": \"precision_score_macro\", \"stepped\": false, \"type\": \"scatter\", \"data\": [0.7678501400560225, 0.775532581453634, 0.8081828987575893, 0.805519353152867, 0.8185285139696903, 0.6386053647934453, 0.6887076592997645, 0.7689237186102511, 0.8032679289664584, 0.6830486756105951, 0.822709524093038, 0.7829117217062264, 0.8180406072685485, 0.8362094881812375, 0.8180944423223835, 0.7675825481707835, 0.8012771134094663, 0.8373816308820178, 0.8199379883532361, 0.8112838468720822, 0.8334644562953386, 0.8150135365150846, 0.771650281907635, 0.799250700280112, 0.8043550747498116, 0.3303359683794466, 0.7867799707602339, 0.8006711017740429, 0.7890176893969464, 0.8386838112437957, 0.3303359683794466, 0.8073343284682295, 0.768686176224876, 0.8000989606368865, 0.8159179245247357, 0.8133850864907366, 0.8649966242477852, 0.8356845238095237]}, {\"categories\": [\"0\", \"1\", \"2\", \"3\", \"4\", \"5\", \"6\", \"7\", \"8\", \"9\", \"10\", \"11\", \"12\", \"13\", \"14\", \"15\", \"16\", \"17\", \"18\", \"19\", \"20\", \"21\", \"22\", \"23\", \"24\", \"25\", \"26\", \"27\", \"28\", \"29\", \"30\", \"31\", \"32\", \"33\", \"34\", \"35\", \"36\", \"37\"], \"mode\": \"lines\", \"name\": \"precision_score_macro_max\", \"stepped\": true, \"type\": \"scatter\", \"data\": [0.7678501400560225, 0.775532581453634, 0.8081828987575893, 0.8081828987575893, 0.8185285139696903, 0.8185285139696903, 0.8185285139696903, 0.8185285139696903, 0.8185285139696903, 0.8185285139696903, 0.822709524093038, 0.822709524093038, 0.822709524093038, 0.8362094881812375, 0.8362094881812375, 0.8362094881812375, 0.8362094881812375, 0.8373816308820178, 0.8373816308820178, 0.8373816308820178, 0.8373816308820178, 0.8373816308820178, 0.8373816308820178, 0.8373816308820178, 0.8373816308820178, 0.8373816308820178, 0.8373816308820178, 0.8373816308820178, 0.8373816308820178, 0.8386838112437957, 0.8386838112437957, 0.8386838112437957, 0.8386838112437957, 0.8386838112437957, 0.8386838112437957, 0.8386838112437957, 0.8649966242477852, 0.8649966242477852]}], \"balanced_accuracy\": [{\"categories\": [\"0\", \"1\", \"2\", \"3\", \"4\", \"5\", \"6\", \"7\", \"8\", \"9\", \"10\", \"11\", \"12\", \"13\", \"14\", \"15\", \"16\", \"17\", \"18\", \"19\", \"20\", \"21\", \"22\", \"23\", \"24\", \"25\", \"26\", \"27\", \"28\", \"29\", \"30\", \"31\", \"32\", \"33\", \"34\", \"35\", \"36\", \"37\"], \"mode\": \"markers\", \"name\": \"balanced_accuracy\", \"stepped\": false, \"type\": \"scatter\", \"data\": [0.7635372339648655, 0.7438609124793335, 0.7860124415058627, 0.7465192446442447, 0.8202783583375689, 0.6023973248973249, 0.6271096264846264, 0.7468793961886068, 0.770586704961705, 0.65912439899282, 0.7564981546231546, 0.7506486824578931, 0.7699388111888112, 0.7737801087801087, 0.7820226995226995, 0.701805095489306, 0.7548215673215672, 0.8238157237499342, 0.7600268481518482, 0.7401422882672882, 0.809592143967144, 0.7558296126388233, 0.7533458464050569, 0.7531170218670219, 0.6761827061827062, 0.5, 0.7327854345946452, 0.8061958691892903, 0.7110679160021265, 0.7877321289821289, 0.5, 0.7536137035479142, 0.708688212372423, 0.776571856506067, 0.7708296126388233, 0.7631356143856143, 0.8281009962259962, 0.8139722083472083]}, {\"categories\": [\"0\", \"1\", \"2\", \"3\", \"4\", \"5\", \"6\", \"7\", \"8\", \"9\", \"10\", \"11\", \"12\", \"13\", \"14\", \"15\", \"16\", \"17\", \"18\", \"19\", \"20\", \"21\", \"22\", \"23\", \"24\", \"25\", \"26\", \"27\", \"28\", \"29\", \"30\", \"31\", \"32\", \"33\", \"34\", \"35\", \"36\", \"37\"], \"mode\": \"lines\", \"name\": \"balanced_accuracy_max\", \"stepped\": true, \"type\": \"scatter\", \"data\": [0.7635372339648655, 0.7635372339648655, 0.7860124415058627, 0.7860124415058627, 0.8202783583375689, 0.8202783583375689, 0.8202783583375689, 0.8202783583375689, 0.8202783583375689, 0.8202783583375689, 0.8202783583375689, 0.8202783583375689, 0.8202783583375689, 0.8202783583375689, 0.8202783583375689, 0.8202783583375689, 0.8202783583375689, 0.8238157237499342, 0.8238157237499342, 0.8238157237499342, 0.8238157237499342, 0.8238157237499342, 0.8238157237499342, 0.8238157237499342, 0.8238157237499342, 0.8238157237499342, 0.8238157237499342, 0.8238157237499342, 0.8238157237499342, 0.8238157237499342, 0.8238157237499342, 0.8238157237499342, 0.8238157237499342, 0.8238157237499342, 0.8238157237499342, 0.8238157237499342, 0.8281009962259962, 0.8281009962259962]}], \"recall_score_macro\": [{\"categories\": [\"0\", \"1\", \"2\", \"3\", \"4\", \"5\", \"6\", \"7\", \"8\", \"9\", \"10\", \"11\", \"12\", \"13\", \"14\", \"15\", \"16\", \"17\", \"18\", \"19\", \"20\", \"21\", \"22\", \"23\", \"24\", \"25\", \"26\", \"27\", \"28\", \"29\", \"30\", \"31\", \"32\", \"33\", \"34\", \"35\", \"36\", \"37\"], \"mode\": \"markers\", \"name\": \"recall_score_macro\", \"stepped\": false, \"type\": \"scatter\", \"data\": [0.7635372339648655, 0.7438609124793335, 0.7860124415058627, 0.7465192446442447, 0.8202783583375689, 0.6023973248973249, 0.6271096264846264, 0.7468793961886068, 0.770586704961705, 0.65912439899282, 0.7564981546231546, 0.7506486824578931, 0.7699388111888112, 0.7737801087801087, 0.7820226995226995, 0.701805095489306, 0.7548215673215672, 0.8238157237499342, 0.7600268481518482, 0.7401422882672882, 0.809592143967144, 0.7558296126388233, 0.7533458464050569, 0.7531170218670219, 0.6761827061827062, 0.5, 0.7327854345946452, 0.8061958691892903, 0.7110679160021265, 0.7877321289821289, 0.5, 0.7536137035479142, 0.708688212372423, 0.776571856506067, 0.7708296126388233, 0.7631356143856143, 0.8281009962259962, 0.8139722083472083]}, {\"categories\": [\"0\", \"1\", \"2\", \"3\", \"4\", \"5\", \"6\", \"7\", \"8\", \"9\", \"10\", \"11\", \"12\", \"13\", \"14\", \"15\", \"16\", \"17\", \"18\", \"19\", \"20\", \"21\", \"22\", \"23\", \"24\", \"25\", \"26\", \"27\", \"28\", \"29\", \"30\", \"31\", \"32\", \"33\", \"34\", \"35\", \"36\", \"37\"], \"mode\": \"lines\", \"name\": \"recall_score_macro_max\", \"stepped\": true, \"type\": \"scatter\", \"data\": [0.7635372339648655, 0.7635372339648655, 0.7860124415058627, 0.7860124415058627, 0.8202783583375689, 0.8202783583375689, 0.8202783583375689, 0.8202783583375689, 0.8202783583375689, 0.8202783583375689, 0.8202783583375689, 0.8202783583375689, 0.8202783583375689, 0.8202783583375689, 0.8202783583375689, 0.8202783583375689, 0.8202783583375689, 0.8238157237499342, 0.8238157237499342, 0.8238157237499342, 0.8238157237499342, 0.8238157237499342, 0.8238157237499342, 0.8238157237499342, 0.8238157237499342, 0.8238157237499342, 0.8238157237499342, 0.8238157237499342, 0.8238157237499342, 0.8238157237499342, 0.8238157237499342, 0.8238157237499342, 0.8238157237499342, 0.8238157237499342, 0.8238157237499342, 0.8238157237499342, 0.8281009962259962, 0.8281009962259962]}], \"average_precision_score_weighted\": [{\"categories\": [\"0\", \"1\", \"2\", \"3\", \"4\", \"5\", \"6\", \"7\", \"8\", \"9\", \"10\", \"11\", \"12\", \"13\", \"14\", \"15\", \"16\", \"17\", \"18\", \"19\", \"20\", \"21\", \"22\", \"23\", \"24\", \"25\", \"26\", \"27\", \"28\", \"29\", \"30\", \"31\", \"32\", \"33\", \"34\", \"35\", \"36\", \"37\"], \"mode\": \"markers\", \"name\": \"average_precision_score_weighted\", \"stepped\": false, \"type\": \"scatter\", \"data\": [0.8952716704551188, 0.8828026775724984, 0.925797901122191, 0.8868840663806798, 0.9181376177833475, 0.7512801184561072, 0.7554424233963065, 0.8871655837242022, 0.8824864898426042, 0.8107011277321738, 0.9171839269572585, 0.8971162365393777, 0.9203933391941076, 0.9007541618435123, 0.8932356367486667, 0.8784734499238394, 0.906028338281884, 0.9068347649242545, 0.9015340945544678, 0.8810599662494342, 0.8845324668234273, 0.9015420838273235, 0.880574348372068, 0.8806694821465081, 0.8902282386563082, 0.573537315065069, 0.892664916524484, 0.8782735275028912, 0.8788893750933561, 0.8993995127302405, 0.5608353133680183, 0.8641090255053584, 0.8994034566111211, 0.907983990900869, 0.8718294427566748, 0.9000067666691629, 0.9311256009312843, 0.9232154745706522]}, {\"categories\": [\"0\", \"1\", \"2\", \"3\", \"4\", \"5\", \"6\", \"7\", \"8\", \"9\", \"10\", \"11\", \"12\", \"13\", \"14\", \"15\", \"16\", \"17\", \"18\", \"19\", \"20\", \"21\", \"22\", \"23\", \"24\", \"25\", \"26\", \"27\", \"28\", \"29\", \"30\", \"31\", \"32\", \"33\", \"34\", \"35\", \"36\", \"37\"], \"mode\": \"lines\", \"name\": \"average_precision_score_weighted_max\", \"stepped\": true, \"type\": \"scatter\", \"data\": [0.8952716704551188, 0.8952716704551188, 0.925797901122191, 0.925797901122191, 0.925797901122191, 0.925797901122191, 0.925797901122191, 0.925797901122191, 0.925797901122191, 0.925797901122191, 0.925797901122191, 0.925797901122191, 0.925797901122191, 0.925797901122191, 0.925797901122191, 0.925797901122191, 0.925797901122191, 0.925797901122191, 0.925797901122191, 0.925797901122191, 0.925797901122191, 0.925797901122191, 0.925797901122191, 0.925797901122191, 0.925797901122191, 0.925797901122191, 0.925797901122191, 0.925797901122191, 0.925797901122191, 0.925797901122191, 0.925797901122191, 0.925797901122191, 0.925797901122191, 0.925797901122191, 0.925797901122191, 0.925797901122191, 0.9311256009312843, 0.9311256009312843]}], \"weighted_accuracy\": [{\"categories\": [\"0\", \"1\", \"2\", \"3\", \"4\", \"5\", \"6\", \"7\", \"8\", \"9\", \"10\", \"11\", \"12\", \"13\", \"14\", \"15\", \"16\", \"17\", \"18\", \"19\", \"20\", \"21\", \"22\", \"23\", \"24\", \"25\", \"26\", \"27\", \"28\", \"29\", \"30\", \"31\", \"32\", \"33\", \"34\", \"35\", \"36\", \"37\"], \"mode\": \"markers\", \"name\": \"weighted_accuracy\", \"stepped\": false, \"type\": \"scatter\", \"data\": [0.8164179381167326, 0.8305681338789797, 0.8498822591949564, 0.8429557758742373, 0.8481054160417518, 0.7657079788964697, 0.7859358027015287, 0.8109842343224756, 0.8325512493169628, 0.7668484000483046, 0.8516134790840779, 0.8301662238083967, 0.8494033660074601, 0.8506296015709609, 0.8478075508849839, 0.8337461892895301, 0.836794524093467, 0.8712199825835889, 0.8463747459204812, 0.8465372371183971, 0.8626219764656818, 0.8433561990015921, 0.8249483995669019, 0.8295870598343628, 0.8190992391835007, 0.7629100927668122, 0.8318281987582828, 0.836464000727523, 0.8256550259654297, 0.8560778048561059, 0.7629100927668122, 0.8364543325092569, 0.8420017980790655, 0.8397762240188984, 0.8545086153584693, 0.8455567185129969, 0.8868937940422883, 0.8661485332479506]}, {\"categories\": [\"0\", \"1\", \"2\", \"3\", \"4\", \"5\", \"6\", \"7\", \"8\", \"9\", \"10\", \"11\", \"12\", \"13\", \"14\", \"15\", \"16\", \"17\", \"18\", \"19\", \"20\", \"21\", \"22\", \"23\", \"24\", \"25\", \"26\", \"27\", \"28\", \"29\", \"30\", \"31\", \"32\", \"33\", \"34\", \"35\", \"36\", \"37\"], \"mode\": \"lines\", \"name\": \"weighted_accuracy_max\", \"stepped\": true, \"type\": \"scatter\", \"data\": [0.8164179381167326, 0.8305681338789797, 0.8498822591949564, 0.8498822591949564, 0.8498822591949564, 0.8498822591949564, 0.8498822591949564, 0.8498822591949564, 0.8498822591949564, 0.8498822591949564, 0.8516134790840779, 0.8516134790840779, 0.8516134790840779, 0.8516134790840779, 0.8516134790840779, 0.8516134790840779, 0.8516134790840779, 0.8712199825835889, 0.8712199825835889, 0.8712199825835889, 0.8712199825835889, 0.8712199825835889, 0.8712199825835889, 0.8712199825835889, 0.8712199825835889, 0.8712199825835889, 0.8712199825835889, 0.8712199825835889, 0.8712199825835889, 0.8712199825835889, 0.8712199825835889, 0.8712199825835889, 0.8712199825835889, 0.8712199825835889, 0.8712199825835889, 0.8712199825835889, 0.8868937940422883, 0.8868937940422883]}], \"precision_score_weighted\": [{\"categories\": [\"0\", \"1\", \"2\", \"3\", \"4\", \"5\", \"6\", \"7\", \"8\", \"9\", \"10\", \"11\", \"12\", \"13\", \"14\", \"15\", \"16\", \"17\", \"18\", \"19\", \"20\", \"21\", \"22\", \"23\", \"24\", \"25\", \"26\", \"27\", \"28\", \"29\", \"30\", \"31\", \"32\", \"33\", \"34\", \"35\", \"36\", \"37\"], \"mode\": \"markers\", \"name\": \"precision_score_weighted\", \"stepped\": false, \"type\": \"scatter\", \"data\": [0.8079093040378206, 0.810913697286695, 0.8344384243712046, 0.8146800608568681, 0.8454338276812701, 0.6920557600494794, 0.7234376755158948, 0.7978079310741008, 0.8172993211676076, 0.7181067438417015, 0.8288962447193704, 0.8054283610677473, 0.8305250337187677, 0.8379736741100989, 0.8345808975764217, 0.7998833789115118, 0.8198258848994143, 0.8622607145625049, 0.8273767917818262, 0.8148895905529537, 0.8480868378566587, 0.8327132372607874, 0.8073346050440039, 0.8142650311112588, 0.7978345243619843, 0.44744059429142774, 0.8075392377323997, 0.8389103009451475, 0.8081718334760467, 0.8466829259267679, 0.44744059429142774, 0.8276047353620042, 0.7982903059982747, 0.8243786998885263, 0.8342261128926562, 0.8257802741615334, 0.8712589312300748, 0.8511654197252023]}, {\"categories\": [\"0\", \"1\", \"2\", \"3\", \"4\", \"5\", \"6\", \"7\", \"8\", \"9\", \"10\", \"11\", \"12\", \"13\", \"14\", \"15\", \"16\", \"17\", \"18\", \"19\", \"20\", \"21\", \"22\", \"23\", \"24\", \"25\", \"26\", \"27\", \"28\", \"29\", \"30\", \"31\", \"32\", \"33\", \"34\", \"35\", \"36\", \"37\"], \"mode\": \"lines\", \"name\": \"precision_score_weighted_max\", \"stepped\": true, \"type\": \"scatter\", \"data\": [0.8079093040378206, 0.810913697286695, 0.8344384243712046, 0.8344384243712046, 0.8454338276812701, 0.8454338276812701, 0.8454338276812701, 0.8454338276812701, 0.8454338276812701, 0.8454338276812701, 0.8454338276812701, 0.8454338276812701, 0.8454338276812701, 0.8454338276812701, 0.8454338276812701, 0.8454338276812701, 0.8454338276812701, 0.8622607145625049, 0.8622607145625049, 0.8622607145625049, 0.8622607145625049, 0.8622607145625049, 0.8622607145625049, 0.8622607145625049, 0.8622607145625049, 0.8622607145625049, 0.8622607145625049, 0.8622607145625049, 0.8622607145625049, 0.8622607145625049, 0.8622607145625049, 0.8622607145625049, 0.8622607145625049, 0.8622607145625049, 0.8622607145625049, 0.8622607145625049, 0.8712589312300748, 0.8712589312300748]}], \"f1_score_macro\": [{\"categories\": [\"0\", \"1\", \"2\", \"3\", \"4\", \"5\", \"6\", \"7\", \"8\", \"9\", \"10\", \"11\", \"12\", \"13\", \"14\", \"15\", \"16\", \"17\", \"18\", \"19\", \"20\", \"21\", \"22\", \"23\", \"24\", \"25\", \"26\", \"27\", \"28\", \"29\", \"30\", \"31\", \"32\", \"33\", \"34\", \"35\", \"36\", \"37\"], \"mode\": \"markers\", \"name\": \"f1_score_macro\", \"stepped\": false, \"type\": \"scatter\", \"data\": [0.7549267040920296, 0.7485809033232168, 0.7821074586896088, 0.7560336069159599, 0.8107616955012066, 0.5921452337909704, 0.6188833376411433, 0.738140032175745, 0.7763564241708258, 0.656875139578241, 0.7662908544809791, 0.7565832924395598, 0.7768576966193599, 0.7779527039388026, 0.7869615379340646, 0.7041079916815212, 0.7610120202700322, 0.8239371620648311, 0.7708035481865602, 0.7550126279003492, 0.8122868110427819, 0.753188290415858, 0.7531027104615815, 0.7598003774526709, 0.6755862193362194, 0.3954833437310973, 0.7386010992361612, 0.7922672835948245, 0.713100274567305, 0.787936811210805, 0.3954833437310973, 0.754312721540289, 0.7186328943530111, 0.774373887625062, 0.7766210382236057, 0.7699627543690427, 0.8347270898754164, 0.8169144112407658]}, {\"categories\": [\"0\", \"1\", \"2\", \"3\", \"4\", \"5\", \"6\", \"7\", \"8\", \"9\", \"10\", \"11\", \"12\", \"13\", \"14\", \"15\", \"16\", \"17\", \"18\", \"19\", \"20\", \"21\", \"22\", \"23\", \"24\", \"25\", \"26\", \"27\", \"28\", \"29\", \"30\", \"31\", \"32\", \"33\", \"34\", \"35\", \"36\", \"37\"], \"mode\": \"lines\", \"name\": \"f1_score_macro_max\", \"stepped\": true, \"type\": \"scatter\", \"data\": [0.7549267040920296, 0.7549267040920296, 0.7821074586896088, 0.7821074586896088, 0.8107616955012066, 0.8107616955012066, 0.8107616955012066, 0.8107616955012066, 0.8107616955012066, 0.8107616955012066, 0.8107616955012066, 0.8107616955012066, 0.8107616955012066, 0.8107616955012066, 0.8107616955012066, 0.8107616955012066, 0.8107616955012066, 0.8239371620648311, 0.8239371620648311, 0.8239371620648311, 0.8239371620648311, 0.8239371620648311, 0.8239371620648311, 0.8239371620648311, 0.8239371620648311, 0.8239371620648311, 0.8239371620648311, 0.8239371620648311, 0.8239371620648311, 0.8239371620648311, 0.8239371620648311, 0.8239371620648311, 0.8239371620648311, 0.8239371620648311, 0.8239371620648311, 0.8239371620648311, 0.8347270898754164, 0.8347270898754164]}], \"f1_score_weighted\": [{\"categories\": [\"0\", \"1\", \"2\", \"3\", \"4\", \"5\", \"6\", \"7\", \"8\", \"9\", \"10\", \"11\", \"12\", \"13\", \"14\", \"15\", \"16\", \"17\", \"18\", \"19\", \"20\", \"21\", \"22\", \"23\", \"24\", \"25\", \"26\", \"27\", \"28\", \"29\", \"30\", \"31\", \"32\", \"33\", \"34\", \"35\", \"36\", \"37\"], \"mode\": \"markers\", \"name\": \"f1_score_weighted\", \"stepped\": false, \"type\": \"scatter\", \"data\": [0.7928293927559735, 0.7961444403446623, 0.8175610265791278, 0.7995155334861217, 0.8333821597351688, 0.6748665285748363, 0.6967391423542242, 0.7731137997357781, 0.8046467804270921, 0.7090402272919859, 0.8085294956260636, 0.7934743761098847, 0.8164435889682826, 0.8051089977553628, 0.8179533691353302, 0.765917200872444, 0.803562208574515, 0.8520959307344089, 0.8048985977465819, 0.7980928236062244, 0.8356933260089845, 0.7927598800193936, 0.7955089966134847, 0.7928491954621585, 0.7301647331588043, 0.5303771860555921, 0.7827314600305245, 0.8222854010305006, 0.7630760361639245, 0.8152597299671113, 0.5303771860555921, 0.7927616837711973, 0.7796427113641111, 0.8076886598126404, 0.8141058830501793, 0.8045545131186251, 0.8574506998510989, 0.8408382635462383]}, {\"categories\": [\"0\", \"1\", \"2\", \"3\", \"4\", \"5\", \"6\", \"7\", \"8\", \"9\", \"10\", \"11\", \"12\", \"13\", \"14\", \"15\", \"16\", \"17\", \"18\", \"19\", \"20\", \"21\", \"22\", \"23\", \"24\", \"25\", \"26\", \"27\", \"28\", \"29\", \"30\", \"31\", \"32\", \"33\", \"34\", \"35\", \"36\", \"37\"], \"mode\": \"lines\", \"name\": \"f1_score_weighted_max\", \"stepped\": true, \"type\": \"scatter\", \"data\": [0.7928293927559735, 0.7961444403446623, 0.8175610265791278, 0.8175610265791278, 0.8333821597351688, 0.8333821597351688, 0.8333821597351688, 0.8333821597351688, 0.8333821597351688, 0.8333821597351688, 0.8333821597351688, 0.8333821597351688, 0.8333821597351688, 0.8333821597351688, 0.8333821597351688, 0.8333821597351688, 0.8333821597351688, 0.8520959307344089, 0.8520959307344089, 0.8520959307344089, 0.8520959307344089, 0.8520959307344089, 0.8520959307344089, 0.8520959307344089, 0.8520959307344089, 0.8520959307344089, 0.8520959307344089, 0.8520959307344089, 0.8520959307344089, 0.8520959307344089, 0.8520959307344089, 0.8520959307344089, 0.8520959307344089, 0.8520959307344089, 0.8520959307344089, 0.8520959307344089, 0.8574506998510989, 0.8574506998510989]}], \"AUC_macro\": [{\"categories\": [\"0\", \"1\", \"2\", \"3\", \"4\", \"5\", \"6\", \"7\", \"8\", \"9\", \"10\", \"11\", \"12\", \"13\", \"14\", \"15\", \"16\", \"17\", \"18\", \"19\", \"20\", \"21\", \"22\", \"23\", \"24\", \"25\", \"26\", \"27\", \"28\", \"29\", \"30\", \"31\", \"32\", \"33\", \"34\", \"35\", \"36\", \"37\"], \"mode\": \"markers\", \"name\": \"AUC_macro\", \"stepped\": false, \"type\": \"scatter\", \"data\": [0.8719250854807074, 0.8466964879883541, 0.9104695540371377, 0.8651257793243439, 0.9040419302919304, 0.6767539448191362, 0.6791525529892756, 0.8742441586191587, 0.8651317352902282, 0.7683399588184276, 0.9010609765035603, 0.8820021020977957, 0.9041279932189022, 0.8818631116358391, 0.8776093351093353, 0.842003534078893, 0.885023314670444, 0.8927735419152883, 0.8884236281395375, 0.8565690722090243, 0.8644554120122301, 0.8814274305572152, 0.8524600934020791, 0.8638608660079952, 0.8790213660608398, 0.5, 0.8729600045090475, 0.8642874699064891, 0.8582720402935713, 0.8800499437431256, 0.4576098499453762, 0.8616464926288492, 0.880846084736635, 0.8905658356794721, 0.8577151438739357, 0.8787548695323814, 0.918366355866356, 0.9100437441346534]}, {\"categories\": [\"0\", \"1\", \"2\", \"3\", \"4\", \"5\", \"6\", \"7\", \"8\", \"9\", \"10\", \"11\", \"12\", \"13\", \"14\", \"15\", \"16\", \"17\", \"18\", \"19\", \"20\", \"21\", \"22\", \"23\", \"24\", \"25\", \"26\", \"27\", \"28\", \"29\", \"30\", \"31\", \"32\", \"33\", \"34\", \"35\", \"36\", \"37\"], \"mode\": \"lines\", \"name\": \"AUC_macro_max\", \"stepped\": true, \"type\": \"scatter\", \"data\": [0.8719250854807074, 0.8719250854807074, 0.9104695540371377, 0.9104695540371377, 0.9104695540371377, 0.9104695540371377, 0.9104695540371377, 0.9104695540371377, 0.9104695540371377, 0.9104695540371377, 0.9104695540371377, 0.9104695540371377, 0.9104695540371377, 0.9104695540371377, 0.9104695540371377, 0.9104695540371377, 0.9104695540371377, 0.9104695540371377, 0.9104695540371377, 0.9104695540371377, 0.9104695540371377, 0.9104695540371377, 0.9104695540371377, 0.9104695540371377, 0.9104695540371377, 0.9104695540371377, 0.9104695540371377, 0.9104695540371377, 0.9104695540371377, 0.9104695540371377, 0.9104695540371377, 0.9104695540371377, 0.9104695540371377, 0.9104695540371377, 0.9104695540371377, 0.9104695540371377, 0.918366355866356, 0.918366355866356]}], \"matthews_correlation\": [{\"categories\": [\"0\", \"1\", \"2\", \"3\", \"4\", \"5\", \"6\", \"7\", \"8\", \"9\", \"10\", \"11\", \"12\", \"13\", \"14\", \"15\", \"16\", \"17\", \"18\", \"19\", \"20\", \"21\", \"22\", \"23\", \"24\", \"25\", \"26\", \"27\", \"28\", \"29\", \"30\", \"31\", \"32\", \"33\", \"34\", \"35\", \"36\", \"37\"], \"mode\": \"markers\", \"name\": \"matthews_correlation\", \"stepped\": false, \"type\": \"scatter\", \"data\": [0.529096869910842, 0.5164305160948855, 0.5893269743000287, 0.5422339518951325, 0.6369312658238091, 0.24266350129355754, 0.308183487172916, 0.5116035793686302, 0.5710199056111238, 0.3397272558050207, 0.5680113832116279, 0.5313229521942726, 0.5791718667734413, 0.6019477481609979, 0.5967773101839297, 0.46107991616853355, 0.547941318769444, 0.6600489309950793, 0.5739953040582194, 0.5418982917555646, 0.6415669571742343, 0.5575827186505966, 0.5231517038182818, 0.5487943092453331, 0.4515556934504604, 0.0, 0.5145677591372435, 0.6041183435592618, 0.4883657650846153, 0.6191538014104281, 0.0, 0.553982173562287, 0.4731073634044072, 0.572784115961423, 0.5819909510749826, 0.5715746664443798, 0.689553190356986, 0.6480390180420706]}, {\"categories\": [\"0\", \"1\", \"2\", \"3\", \"4\", \"5\", \"6\", \"7\", \"8\", \"9\", \"10\", \"11\", \"12\", \"13\", \"14\", \"15\", \"16\", \"17\", \"18\", \"19\", \"20\", \"21\", \"22\", \"23\", \"24\", \"25\", \"26\", \"27\", \"28\", \"29\", \"30\", \"31\", \"32\", \"33\", \"34\", \"35\", \"36\", \"37\"], \"mode\": \"lines\", \"name\": \"matthews_correlation_max\", \"stepped\": true, \"type\": \"scatter\", \"data\": [0.529096869910842, 0.529096869910842, 0.5893269743000287, 0.5893269743000287, 0.6369312658238091, 0.6369312658238091, 0.6369312658238091, 0.6369312658238091, 0.6369312658238091, 0.6369312658238091, 0.6369312658238091, 0.6369312658238091, 0.6369312658238091, 0.6369312658238091, 0.6369312658238091, 0.6369312658238091, 0.6369312658238091, 0.6600489309950793, 0.6600489309950793, 0.6600489309950793, 0.6600489309950793, 0.6600489309950793, 0.6600489309950793, 0.6600489309950793, 0.6600489309950793, 0.6600489309950793, 0.6600489309950793, 0.6600489309950793, 0.6600489309950793, 0.6600489309950793, 0.6600489309950793, 0.6600489309950793, 0.6600489309950793, 0.6600489309950793, 0.6600489309950793, 0.6600489309950793, 0.689553190356986, 0.689553190356986]}], \"AUC_micro\": [{\"categories\": [\"0\", \"1\", \"2\", \"3\", \"4\", \"5\", \"6\", \"7\", \"8\", \"9\", \"10\", \"11\", \"12\", \"13\", \"14\", \"15\", \"16\", \"17\", \"18\", \"19\", \"20\", \"21\", \"22\", \"23\", \"24\", \"25\", \"26\", \"27\", \"28\", \"29\", \"30\", \"31\", \"32\", \"33\", \"34\", \"35\", \"36\", \"37\"], \"mode\": \"markers\", \"name\": \"AUC_micro\", \"stepped\": false, \"type\": \"scatter\", \"data\": [0.8762857566904655, 0.86526504085363, 0.9056867003077691, 0.877389898295552, 0.9047153525285505, 0.7560444624974613, 0.7582644628099173, 0.8714458123076442, 0.8706892780702713, 0.8034491243418893, 0.9055242231561186, 0.8944109422112515, 0.899831273727132, 0.8809147932322017, 0.8782948491618366, 0.8591768345076474, 0.8950440563045822, 0.8907446609070598, 0.8884805261760065, 0.8758510521957849, 0.8780972207033386, 0.8677178209314315, 0.8691332468871564, 0.8709708790951274, 0.8595412363886329, 0.6606719367588932, 0.8814205814807293, 0.8757936383946007, 0.8603153462794293, 0.8831039385086473, 0.6392362792732271, 0.8566178193691512, 0.8783698386164446, 0.8980639441328563, 0.8692738521145464, 0.8807081816619536, 0.9143249386804981, 0.9036690152947242]}, {\"categories\": [\"0\", \"1\", \"2\", \"3\", \"4\", \"5\", \"6\", \"7\", \"8\", \"9\", \"10\", \"11\", \"12\", \"13\", \"14\", \"15\", \"16\", \"17\", \"18\", \"19\", \"20\", \"21\", \"22\", \"23\", \"24\", \"25\", \"26\", \"27\", \"28\", \"29\", \"30\", \"31\", \"32\", \"33\", \"34\", \"35\", \"36\", \"37\"], \"mode\": \"lines\", \"name\": \"AUC_micro_max\", \"stepped\": true, \"type\": \"scatter\", \"data\": [0.8762857566904655, 0.8762857566904655, 0.9056867003077691, 0.9056867003077691, 0.9056867003077691, 0.9056867003077691, 0.9056867003077691, 0.9056867003077691, 0.9056867003077691, 0.9056867003077691, 0.9056867003077691, 0.9056867003077691, 0.9056867003077691, 0.9056867003077691, 0.9056867003077691, 0.9056867003077691, 0.9056867003077691, 0.9056867003077691, 0.9056867003077691, 0.9056867003077691, 0.9056867003077691, 0.9056867003077691, 0.9056867003077691, 0.9056867003077691, 0.9056867003077691, 0.9056867003077691, 0.9056867003077691, 0.9056867003077691, 0.9056867003077691, 0.9056867003077691, 0.9056867003077691, 0.9056867003077691, 0.9056867003077691, 0.9056867003077691, 0.9056867003077691, 0.9056867003077691, 0.9143249386804981, 0.9143249386804981]}], \"precision_score_micro\": [{\"categories\": [\"0\", \"1\", \"2\", \"3\", \"4\", \"5\", \"6\", \"7\", \"8\", \"9\", \"10\", \"11\", \"12\", \"13\", \"14\", \"15\", \"16\", \"17\", \"18\", \"19\", \"20\", \"21\", \"22\", \"23\", \"24\", \"25\", \"26\", \"27\", \"28\", \"29\", \"30\", \"31\", \"32\", \"33\", \"34\", \"35\", \"36\", \"37\"], \"mode\": \"markers\", \"name\": \"precision_score_micro\", \"stepped\": false, \"type\": \"scatter\", \"data\": [0.7942687747035573, 0.7988142292490119, 0.8217391304347826, 0.8075098814229248, 0.8345849802371541, 0.7059288537549407, 0.7280632411067194, 0.7816205533596838, 0.808300395256917, 0.7235177865612649, 0.8166007905138339, 0.7988142292490119, 0.8209486166007904, 0.8167984189723321, 0.8217391304347826, 0.7853754940711463, 0.8077075098814228, 0.8527667984189723, 0.8126482213438735, 0.8071146245059289, 0.8393280632411069, 0.8084980237154149, 0.7988142292490119, 0.7990118577075099, 0.7630434782608695, 0.6606719367588932, 0.7940711462450593, 0.8215415019762846, 0.7808300395256917, 0.826086956521739, 0.6606719367588932, 0.8037549407114624, 0.7938735177865612, 0.8124505928853754, 0.8215415019762846, 0.8130434782608698, 0.8614624505928854, 0.8434782608695652]}, {\"categories\": [\"0\", \"1\", \"2\", \"3\", \"4\", \"5\", \"6\", \"7\", \"8\", \"9\", \"10\", \"11\", \"12\", \"13\", \"14\", \"15\", \"16\", \"17\", \"18\", \"19\", \"20\", \"21\", \"22\", \"23\", \"24\", \"25\", \"26\", \"27\", \"28\", \"29\", \"30\", \"31\", \"32\", \"33\", \"34\", \"35\", \"36\", \"37\"], \"mode\": \"lines\", \"name\": \"precision_score_micro_max\", \"stepped\": true, \"type\": \"scatter\", \"data\": [0.7942687747035573, 0.7988142292490119, 0.8217391304347826, 0.8217391304347826, 0.8345849802371541, 0.8345849802371541, 0.8345849802371541, 0.8345849802371541, 0.8345849802371541, 0.8345849802371541, 0.8345849802371541, 0.8345849802371541, 0.8345849802371541, 0.8345849802371541, 0.8345849802371541, 0.8345849802371541, 0.8345849802371541, 0.8527667984189723, 0.8527667984189723, 0.8527667984189723, 0.8527667984189723, 0.8527667984189723, 0.8527667984189723, 0.8527667984189723, 0.8527667984189723, 0.8527667984189723, 0.8527667984189723, 0.8527667984189723, 0.8527667984189723, 0.8527667984189723, 0.8527667984189723, 0.8527667984189723, 0.8527667984189723, 0.8527667984189723, 0.8527667984189723, 0.8527667984189723, 0.8614624505928854, 0.8614624505928854]}], \"f1_score_micro\": [{\"categories\": [\"0\", \"1\", \"2\", \"3\", \"4\", \"5\", \"6\", \"7\", \"8\", \"9\", \"10\", \"11\", \"12\", \"13\", \"14\", \"15\", \"16\", \"17\", \"18\", \"19\", \"20\", \"21\", \"22\", \"23\", \"24\", \"25\", \"26\", \"27\", \"28\", \"29\", \"30\", \"31\", \"32\", \"33\", \"34\", \"35\", \"36\", \"37\"], \"mode\": \"markers\", \"name\": \"f1_score_micro\", \"stepped\": false, \"type\": \"scatter\", \"data\": [0.7942687747035573, 0.7988142292490119, 0.8217391304347826, 0.8075098814229248, 0.8345849802371541, 0.7059288537549407, 0.7280632411067194, 0.7816205533596838, 0.808300395256917, 0.7235177865612649, 0.8166007905138339, 0.7988142292490119, 0.8209486166007904, 0.8167984189723321, 0.8217391304347826, 0.7853754940711463, 0.8077075098814228, 0.8527667984189723, 0.8126482213438735, 0.8071146245059289, 0.8393280632411069, 0.8084980237154149, 0.7988142292490119, 0.7990118577075099, 0.7630434782608695, 0.6606719367588932, 0.7940711462450593, 0.8215415019762846, 0.7808300395256917, 0.826086956521739, 0.6606719367588932, 0.8037549407114624, 0.7938735177865612, 0.8124505928853754, 0.8215415019762844, 0.8130434782608695, 0.8614624505928854, 0.8434782608695652]}, {\"categories\": [\"0\", \"1\", \"2\", \"3\", \"4\", \"5\", \"6\", \"7\", \"8\", \"9\", \"10\", \"11\", \"12\", \"13\", \"14\", \"15\", \"16\", \"17\", \"18\", \"19\", \"20\", \"21\", \"22\", \"23\", \"24\", \"25\", \"26\", \"27\", \"28\", \"29\", \"30\", \"31\", \"32\", \"33\", \"34\", \"35\", \"36\", \"37\"], \"mode\": \"lines\", \"name\": \"f1_score_micro_max\", \"stepped\": true, \"type\": \"scatter\", \"data\": [0.7942687747035573, 0.7988142292490119, 0.8217391304347826, 0.8217391304347826, 0.8345849802371541, 0.8345849802371541, 0.8345849802371541, 0.8345849802371541, 0.8345849802371541, 0.8345849802371541, 0.8345849802371541, 0.8345849802371541, 0.8345849802371541, 0.8345849802371541, 0.8345849802371541, 0.8345849802371541, 0.8345849802371541, 0.8527667984189723, 0.8527667984189723, 0.8527667984189723, 0.8527667984189723, 0.8527667984189723, 0.8527667984189723, 0.8527667984189723, 0.8527667984189723, 0.8527667984189723, 0.8527667984189723, 0.8527667984189723, 0.8527667984189723, 0.8527667984189723, 0.8527667984189723, 0.8527667984189723, 0.8527667984189723, 0.8527667984189723, 0.8527667984189723, 0.8527667984189723, 0.8614624505928854, 0.8614624505928854]}], \"AUC_weighted\": [{\"categories\": [\"0\", \"1\", \"2\", \"3\", \"4\", \"5\", \"6\", \"7\", \"8\", \"9\", \"10\", \"11\", \"12\", \"13\", \"14\", \"15\", \"16\", \"17\", \"18\", \"19\", \"20\", \"21\", \"22\", \"23\", \"24\", \"25\", \"26\", \"27\", \"28\", \"29\", \"30\", \"31\", \"32\", \"33\", \"34\", \"35\", \"36\", \"37\"], \"mode\": \"markers\", \"name\": \"AUC_weighted\", \"stepped\": false, \"type\": \"scatter\", \"data\": [0.8719250854807074, 0.8466964879883541, 0.9104695540371377, 0.865125779324344, 0.9040419302919303, 0.6767539448191362, 0.6791525529892756, 0.8742441586191587, 0.8651317352902282, 0.7683399588184276, 0.9010609765035602, 0.8820021020977957, 0.9041279932189022, 0.8818631116358391, 0.8776093351093353, 0.842003534078893, 0.8850233146704438, 0.8927735419152885, 0.8884236281395372, 0.8565690722090243, 0.8644554120122303, 0.8814274305572154, 0.8524600934020791, 0.8638608660079952, 0.8790213660608398, 0.5, 0.8729600045090476, 0.8642874699064891, 0.8582720402935713, 0.8800499437431256, 0.4576098499453762, 0.8616464926288492, 0.880846084736635, 0.8905658356794719, 0.8577151438739357, 0.8787548695323814, 0.918366355866356, 0.9100437441346534]}, {\"categories\": [\"0\", \"1\", \"2\", \"3\", \"4\", \"5\", \"6\", \"7\", \"8\", \"9\", \"10\", \"11\", \"12\", \"13\", \"14\", \"15\", \"16\", \"17\", \"18\", \"19\", \"20\", \"21\", \"22\", \"23\", \"24\", \"25\", \"26\", \"27\", \"28\", \"29\", \"30\", \"31\", \"32\", \"33\", \"34\", \"35\", \"36\", \"37\"], \"mode\": \"lines\", \"name\": \"AUC_weighted_max\", \"stepped\": true, \"type\": \"scatter\", \"data\": [0.8719250854807074, 0.8719250854807074, 0.9104695540371377, 0.9104695540371377, 0.9104695540371377, 0.9104695540371377, 0.9104695540371377, 0.9104695540371377, 0.9104695540371377, 0.9104695540371377, 0.9104695540371377, 0.9104695540371377, 0.9104695540371377, 0.9104695540371377, 0.9104695540371377, 0.9104695540371377, 0.9104695540371377, 0.9104695540371377, 0.9104695540371377, 0.9104695540371377, 0.9104695540371377, 0.9104695540371377, 0.9104695540371377, 0.9104695540371377, 0.9104695540371377, 0.9104695540371377, 0.9104695540371377, 0.9104695540371377, 0.9104695540371377, 0.9104695540371377, 0.9104695540371377, 0.9104695540371377, 0.9104695540371377, 0.9104695540371377, 0.9104695540371377, 0.9104695540371377, 0.918366355866356, 0.918366355866356]}], \"norm_macro_recall\": [{\"categories\": [\"0\", \"1\", \"2\", \"3\", \"4\", \"5\", \"6\", \"7\", \"8\", \"9\", \"10\", \"11\", \"12\", \"13\", \"14\", \"15\", \"16\", \"17\", \"18\", \"19\", \"20\", \"21\", \"22\", \"23\", \"24\", \"25\", \"26\", \"27\", \"28\", \"29\", \"30\", \"31\", \"32\", \"33\", \"34\", \"35\", \"36\", \"37\"], \"mode\": \"markers\", \"name\": \"norm_macro_recall\", \"stepped\": false, \"type\": \"scatter\", \"data\": [0.5270744679297312, 0.48772182495866706, 0.5720248830117252, 0.4930384892884893, 0.6405567166751377, 0.21017926517926516, 0.2596038683538683, 0.4937587923772135, 0.5411734099234099, 0.31824879798564015, 0.5129963092463091, 0.501297364915786, 0.5398776223776224, 0.5475602175602174, 0.5640453990453991, 0.40887334887334886, 0.5096431346431346, 0.6476314474998685, 0.5200536963036964, 0.4802845765345765, 0.6191842879342879, 0.5116592252776464, 0.506691692810114, 0.5062340437340437, 0.3523654123654124, 0.0, 0.46557086918929025, 0.6123917383785805, 0.4221358320042531, 0.5754642579642579, 0.0, 0.5072274070958283, 0.4226395826395827, 0.5531437130121342, 0.5416592252776463, 0.5262712287712288, 0.6562019924519924, 0.6279444166944167]}, {\"categories\": [\"0\", \"1\", \"2\", \"3\", \"4\", \"5\", \"6\", \"7\", \"8\", \"9\", \"10\", \"11\", \"12\", \"13\", \"14\", \"15\", \"16\", \"17\", \"18\", \"19\", \"20\", \"21\", \"22\", \"23\", \"24\", \"25\", \"26\", \"27\", \"28\", \"29\", \"30\", \"31\", \"32\", \"33\", \"34\", \"35\", \"36\", \"37\"], \"mode\": \"lines\", \"name\": \"norm_macro_recall_max\", \"stepped\": true, \"type\": \"scatter\", \"data\": [0.5270744679297312, 0.5270744679297312, 0.5720248830117252, 0.5720248830117252, 0.6405567166751377, 0.6405567166751377, 0.6405567166751377, 0.6405567166751377, 0.6405567166751377, 0.6405567166751377, 0.6405567166751377, 0.6405567166751377, 0.6405567166751377, 0.6405567166751377, 0.6405567166751377, 0.6405567166751377, 0.6405567166751377, 0.6476314474998685, 0.6476314474998685, 0.6476314474998685, 0.6476314474998685, 0.6476314474998685, 0.6476314474998685, 0.6476314474998685, 0.6476314474998685, 0.6476314474998685, 0.6476314474998685, 0.6476314474998685, 0.6476314474998685, 0.6476314474998685, 0.6476314474998685, 0.6476314474998685, 0.6476314474998685, 0.6476314474998685, 0.6476314474998685, 0.6476314474998685, 0.6562019924519924, 0.6562019924519924]}]}, \"metricName\": null, \"primaryMetricName\": \"accuracy\", \"showLegend\": false}, \"run_metrics\": [{\"name\": \"experiment_status\", \"run_id\": \"AutoML_2a8bdc99-6da6-4d0b-932f-808fc7a11fd0\", \"categories\": [0, 1, 2, 3, 4, 5, 6, 7, 8, 9, 10, 11, 12, 13], \"series\": [{\"data\": [\"DatasetEvaluation\", \"FeaturesGeneration\", \"DatasetFeaturization\", \"DatasetFeaturizationCompleted\", \"DatasetCrossValidationSplit\", \"ModelSelection\", \"BestRunExplainModel\", \"ModelExplanationDataSetSetup\", \"PickSurrogateModel\", \"EngineeredFeatureExplanations\", \"EngineeredFeatureExplanations\", \"RawFeaturesExplanations\", \"RawFeaturesExplanations\", \"BestRunExplainModel\"]}]}, {\"name\": \"experiment_status_description\", \"run_id\": \"AutoML_2a8bdc99-6da6-4d0b-932f-808fc7a11fd0\", \"categories\": [0, 1, 2, 3, 4, 5, 6, 7, 8, 9, 10, 11, 12, 13], \"series\": [{\"data\": [\"Gathering dataset statistics.\", \"Generating features for the dataset.\", \"Beginning to fit featurizers and featurize the dataset.\", \"Completed fit featurizers and featurizing the dataset.\", \"Generating individually featurized CV splits.\", \"Beginning model selection.\", \"Best run model explanations started\", \"Model explanations data setup completed\", \"Choosing LightGBM as the surrogate model for explanations\", \"Computation of engineered features started\", \"Computation of engineered features completed\", \"Computation of raw features started\", \"Computation of raw features completed\", \"Best run model explanations completed\"]}]}, {\"name\": \"precision_score_micro\", \"run_id\": \"AutoML_2a8bdc99-6da6-4d0b-932f-808fc7a11fd0\", \"categories\": [0], \"series\": [{\"data\": [0.8614624505928854]}]}, {\"name\": \"f1_score_weighted\", \"run_id\": \"AutoML_2a8bdc99-6da6-4d0b-932f-808fc7a11fd0\", \"categories\": [0], \"series\": [{\"data\": [0.8574506998510989]}]}, {\"name\": \"accuracy\", \"run_id\": \"AutoML_2a8bdc99-6da6-4d0b-932f-808fc7a11fd0\", \"categories\": [0], \"series\": [{\"data\": [0.8614624505928854]}]}, {\"name\": \"AUC_weighted\", \"run_id\": \"AutoML_2a8bdc99-6da6-4d0b-932f-808fc7a11fd0\", \"categories\": [0], \"series\": [{\"data\": [0.918366355866356]}]}, {\"name\": \"f1_score_micro\", \"run_id\": \"AutoML_2a8bdc99-6da6-4d0b-932f-808fc7a11fd0\", \"categories\": [0], \"series\": [{\"data\": [0.8614624505928854]}]}, {\"name\": \"AUC_micro\", \"run_id\": \"AutoML_2a8bdc99-6da6-4d0b-932f-808fc7a11fd0\", \"categories\": [0], \"series\": [{\"data\": [0.9143249386804981]}]}, {\"name\": \"log_loss\", \"run_id\": \"AutoML_2a8bdc99-6da6-4d0b-932f-808fc7a11fd0\", \"categories\": [0], \"series\": [{\"data\": [0.4070817742440112]}]}, {\"name\": \"matthews_correlation\", \"run_id\": \"AutoML_2a8bdc99-6da6-4d0b-932f-808fc7a11fd0\", \"categories\": [0], \"series\": [{\"data\": [0.689553190356986]}]}, {\"name\": \"norm_macro_recall\", \"run_id\": \"AutoML_2a8bdc99-6da6-4d0b-932f-808fc7a11fd0\", \"categories\": [0], \"series\": [{\"data\": [0.6562019924519924]}]}, {\"name\": \"average_precision_score_micro\", \"run_id\": \"AutoML_2a8bdc99-6da6-4d0b-932f-808fc7a11fd0\", \"categories\": [0], \"series\": [{\"data\": [0.9212788722821174]}]}, {\"name\": \"recall_score_weighted\", \"run_id\": \"AutoML_2a8bdc99-6da6-4d0b-932f-808fc7a11fd0\", \"categories\": [0], \"series\": [{\"data\": [0.8614624505928854]}]}, {\"name\": \"recall_score_macro\", \"run_id\": \"AutoML_2a8bdc99-6da6-4d0b-932f-808fc7a11fd0\", \"categories\": [0], \"series\": [{\"data\": [0.8281009962259962]}]}, {\"name\": \"weighted_accuracy\", \"run_id\": \"AutoML_2a8bdc99-6da6-4d0b-932f-808fc7a11fd0\", \"categories\": [0], \"series\": [{\"data\": [0.8868937940422883]}]}, {\"name\": \"precision_score_weighted\", \"run_id\": \"AutoML_2a8bdc99-6da6-4d0b-932f-808fc7a11fd0\", \"categories\": [0], \"series\": [{\"data\": [0.8712589312300748]}]}, {\"name\": \"recall_score_micro\", \"run_id\": \"AutoML_2a8bdc99-6da6-4d0b-932f-808fc7a11fd0\", \"categories\": [0], \"series\": [{\"data\": [0.8614624505928854]}]}, {\"name\": \"precision_score_macro\", \"run_id\": \"AutoML_2a8bdc99-6da6-4d0b-932f-808fc7a11fd0\", \"categories\": [0], \"series\": [{\"data\": [0.8649966242477852]}]}, {\"name\": \"AUC_macro\", \"run_id\": \"AutoML_2a8bdc99-6da6-4d0b-932f-808fc7a11fd0\", \"categories\": [0], \"series\": [{\"data\": [0.918366355866356]}]}, {\"name\": \"f1_score_macro\", \"run_id\": \"AutoML_2a8bdc99-6da6-4d0b-932f-808fc7a11fd0\", \"categories\": [0], \"series\": [{\"data\": [0.8347270898754164]}]}, {\"name\": \"average_precision_score_weighted\", \"run_id\": \"AutoML_2a8bdc99-6da6-4d0b-932f-808fc7a11fd0\", \"categories\": [0], \"series\": [{\"data\": [0.9311256009312843]}]}, {\"name\": \"balanced_accuracy\", \"run_id\": \"AutoML_2a8bdc99-6da6-4d0b-932f-808fc7a11fd0\", \"categories\": [0], \"series\": [{\"data\": [0.8281009962259962]}]}, {\"name\": \"average_precision_score_macro\", \"run_id\": \"AutoML_2a8bdc99-6da6-4d0b-932f-808fc7a11fd0\", \"categories\": [0], \"series\": [{\"data\": [0.915307794320151]}]}], \"run_logs\": \"\\nRun is completed.\", \"graph\": {}, \"widget_settings\": {\"childWidgetDisplay\": \"popup\", \"send_telemetry\": false, \"log_level\": \"INFO\", \"sdk_version\": \"1.20.0\"}, \"loading\": false}"
          },
          "metadata": {}
        }
      ],
      "execution_count": 16,
      "metadata": {
        "gather": {
          "logged": 1611870884404
        }
      }
    },
    {
      "cell_type": "markdown",
      "source": [
        "## Retrieve the Best Model's explanation¶\n",
        "Retrieve the explanation from the best_run which includes explanations for engineered features and raw features. Make sure that the run for generating explanations for the best model is completed."
      ],
      "metadata": {}
    },
    {
      "cell_type": "code",
      "source": [
        "Best Model¶\n",
        "TODO: In the cell below, get the best model from the automl experiments and display all the properties of the model."
      ],
      "outputs": [],
      "execution_count": null,
      "metadata": {}
    },
    {
      "cell_type": "code",
      "source": [
        "# Wait for the best model explanation run to complete\n",
        "from azureml.core.run import Run\n",
        "model_explainability_run_id = remote_run.id + \"_\" + \"ModelExplain\"\n",
        "print(model_explainability_run_id)\n",
        "#model_explainability_run = Run(experiment=experiment, run_id=model_explainability_run_id)\n",
        "#model_explainability_run.wait_for_completion()\n",
        "\n",
        "# Get the best run object\n",
        "best_run, fitted_model = remote_run.get_output()\n",
        "print(remote_run.get_output())"
      ],
      "outputs": [
        {
          "output_type": "stream",
          "name": "stdout",
          "text": [
            "AutoML_02970fb7-a211-45bd-ba25-eb470dc9b50f_ModelExplain\n",
            "(Run(Experiment: ml-experiment-1,\n",
            "Id: AutoML_02970fb7-a211-45bd-ba25-eb470dc9b50f_4,\n",
            "Type: azureml.scriptrun,\n",
            "Status: Completed), Pipeline(memory=None,\n",
            "         steps=[('datatransformer',\n",
            "                 DataTransformer(enable_dnn=None, enable_feature_sweeping=None,\n",
            "                                 feature_sweeping_config=None,\n",
            "                                 feature_sweeping_timeout=None,\n",
            "                                 featurization_config=None, force_text_dnn=None,\n",
            "                                 is_cross_validation=None,\n",
            "                                 is_onnx_compatible=None, logger=None,\n",
            "                                 observer=None, task=None, working_dir=None)),\n",
            "                ('MinMaxScaler', MinMaxScaler(copy...\n",
            "                 RandomForestClassifier(bootstrap=True, ccp_alpha=0.0,\n",
            "                                        class_weight='balanced',\n",
            "                                        criterion='gini', max_depth=None,\n",
            "                                        max_features='log2',\n",
            "                                        max_leaf_nodes=None, max_samples=None,\n",
            "                                        min_impurity_decrease=0.0,\n",
            "                                        min_impurity_split=None,\n",
            "                                        min_samples_leaf=0.01,\n",
            "                                        min_samples_split=0.01,\n",
            "                                        min_weight_fraction_leaf=0.0,\n",
            "                                        n_estimators=25, n_jobs=1,\n",
            "                                        oob_score=True, random_state=None,\n",
            "                                        verbose=0, warm_start=False))],\n",
            "         verbose=False))\n"
          ]
        },
        {
          "output_type": "stream",
          "name": "stderr",
          "text": [
            "WARNING:root:The version of the SDK does not match the version the model was trained on.\n",
            "WARNING:root:The consistency in the result may not be guaranteed.\n",
            "WARNING:root:Package:azureml-automl-core, training version:1.21.0, current version:1.20.0\n",
            "Package:azureml-automl-runtime, training version:1.21.0, current version:1.20.0\n",
            "Package:azureml-core, training version:1.21.0.post1, current version:1.20.0\n",
            "Package:azureml-dataprep, training version:2.8.2, current version:2.7.3\n",
            "Package:azureml-dataprep-native, training version:28.0.0, current version:27.0.0\n",
            "Package:azureml-dataprep-rslex, training version:1.6.0, current version:1.5.0\n",
            "Package:azureml-dataset-runtime, training version:1.21.0, current version:1.20.0\n",
            "Package:azureml-defaults, training version:1.21.0, current version:1.20.0\n",
            "Package:azureml-interpret, training version:1.21.0, current version:1.20.0\n",
            "Package:azureml-pipeline-core, training version:1.21.0, current version:1.20.0\n",
            "Package:azureml-telemetry, training version:1.21.0, current version:1.20.0\n",
            "Package:azureml-train-automl-client, training version:1.21.0, current version:1.20.0\n",
            "Package:azureml-train-automl-runtime, training version:1.21.0, current version:1.20.0\n",
            "WARNING:root:Please ensure the version of your local conda dependencies match the version on which your model was trained in order to properly retrieve your model.\n",
            "WARNING:root:The version of the SDK does not match the version the model was trained on.\n",
            "WARNING:root:The consistency in the result may not be guaranteed.\n",
            "WARNING:root:Package:azureml-automl-core, training version:1.21.0, current version:1.20.0\n",
            "Package:azureml-automl-runtime, training version:1.21.0, current version:1.20.0\n",
            "Package:azureml-core, training version:1.21.0.post1, current version:1.20.0\n",
            "Package:azureml-dataprep, training version:2.8.2, current version:2.7.3\n",
            "Package:azureml-dataprep-native, training version:28.0.0, current version:27.0.0\n",
            "Package:azureml-dataprep-rslex, training version:1.6.0, current version:1.5.0\n",
            "Package:azureml-dataset-runtime, training version:1.21.0, current version:1.20.0\n",
            "Package:azureml-defaults, training version:1.21.0, current version:1.20.0\n",
            "Package:azureml-interpret, training version:1.21.0, current version:1.20.0\n",
            "Package:azureml-pipeline-core, training version:1.21.0, current version:1.20.0\n",
            "Package:azureml-telemetry, training version:1.21.0, current version:1.20.0\n",
            "Package:azureml-train-automl-client, training version:1.21.0, current version:1.20.0\n",
            "Package:azureml-train-automl-runtime, training version:1.21.0, current version:1.20.0\n",
            "WARNING:root:Please ensure the version of your local conda dependencies match the version on which your model was trained in order to properly retrieve your model.\n"
          ]
        }
      ],
      "execution_count": 12,
      "metadata": {
        "gather": {
          "logged": 1612306256479
        }
      }
    },
    {
      "cell_type": "code",
      "source": [
        "print(\"Best Run:\", best_run)"
      ],
      "outputs": [
        {
          "output_type": "stream",
          "name": "stdout",
          "text": [
            "Best Run: Run(Experiment: ml-experiment-1,\n",
            "Id: AutoML_02970fb7-a211-45bd-ba25-eb470dc9b50f_4,\n",
            "Type: azureml.scriptrun,\n",
            "Status: Completed)\n"
          ]
        }
      ],
      "execution_count": 13,
      "metadata": {
        "gather": {
          "logged": 1612306368060
        }
      }
    },
    {
      "cell_type": "code",
      "source": [
        "print(\"Best Model:\", fitted_model)"
      ],
      "outputs": [
        {
          "output_type": "stream",
          "name": "stdout",
          "text": [
            "Best Model: Pipeline(memory=None,\n",
            "         steps=[('datatransformer',\n",
            "                 DataTransformer(enable_dnn=None, enable_feature_sweeping=None,\n",
            "                                 feature_sweeping_config=None,\n",
            "                                 feature_sweeping_timeout=None,\n",
            "                                 featurization_config=None, force_text_dnn=None,\n",
            "                                 is_cross_validation=None,\n",
            "                                 is_onnx_compatible=None, logger=None,\n",
            "                                 observer=None, task=None, working_dir=None)),\n",
            "                ('MinMaxScaler', MinMaxScaler(copy...\n",
            "                 RandomForestClassifier(bootstrap=True, ccp_alpha=0.0,\n",
            "                                        class_weight='balanced',\n",
            "                                        criterion='gini', max_depth=None,\n",
            "                                        max_features='log2',\n",
            "                                        max_leaf_nodes=None, max_samples=None,\n",
            "                                        min_impurity_decrease=0.0,\n",
            "                                        min_impurity_split=None,\n",
            "                                        min_samples_leaf=0.01,\n",
            "                                        min_samples_split=0.01,\n",
            "                                        min_weight_fraction_leaf=0.0,\n",
            "                                        n_estimators=25, n_jobs=1,\n",
            "                                        oob_score=True, random_state=None,\n",
            "                                        verbose=0, warm_start=False))],\n",
            "         verbose=False)\n"
          ]
        }
      ],
      "execution_count": 14,
      "metadata": {
        "gather": {
          "logged": 1612306374520
        }
      }
    },
    {
      "cell_type": "code",
      "source": [
        "\n",
        "best_run.get_tags()"
      ],
      "outputs": [
        {
          "output_type": "execute_result",
          "execution_count": 15,
          "data": {
            "text/plain": "{'_aml_system_azureml.automlComponent': 'AutoML',\n '_aml_system_ComputeTargetStatus': '{\"AllocationState\":\"resizing\",\"PreparingNodeCount\":0,\"RunningNodeCount\":1,\"CurrentNodeCount\":1}',\n '_aml_system_automl_is_child_run_end_telemetry_event_logged': 'True'}"
          },
          "metadata": {}
        }
      ],
      "execution_count": 15,
      "metadata": {
        "gather": {
          "logged": 1612306399469
        }
      }
    },
    {
      "cell_type": "code",
      "source": [
        "best_run.get_file_names()"
      ],
      "outputs": [
        {
          "output_type": "execute_result",
          "execution_count": 16,
          "data": {
            "text/plain": "['accuracy_table',\n 'automl_driver.py',\n 'azureml-logs/55_azureml-execution-tvmps_bac91bf52a386f14fe1da922405920938dc019b7cd2799fcaff7edb7b071c882_d.txt',\n 'azureml-logs/65_job_prep-tvmps_bac91bf52a386f14fe1da922405920938dc019b7cd2799fcaff7edb7b071c882_d.txt',\n 'azureml-logs/70_driver_log.txt',\n 'azureml-logs/75_job_post-tvmps_bac91bf52a386f14fe1da922405920938dc019b7cd2799fcaff7edb7b071c882_d.txt',\n 'azureml-logs/process_info.json',\n 'azureml-logs/process_status.json',\n 'confusion_matrix',\n 'logs/azureml/104_azureml.log',\n 'logs/azureml/azureml_automl.log',\n 'logs/azureml/job_prep_azureml.log',\n 'logs/azureml/job_release_azureml.log',\n 'outputs/conda_env_v_1_0_0.yml',\n 'outputs/env_dependencies.json',\n 'outputs/internal_cross_validated_models.pkl',\n 'outputs/model.pkl',\n 'outputs/pipeline_graph.json',\n 'outputs/scoring_file_v_1_0_0.py']"
          },
          "metadata": {}
        }
      ],
      "execution_count": 16,
      "metadata": {
        "gather": {
          "logged": 1612306405027
        }
      }
    },
    {
      "cell_type": "code",
      "source": [
        "\n",
        "best_run.get_metrics(name='accuracy')"
      ],
      "outputs": [
        {
          "output_type": "execute_result",
          "execution_count": 31,
          "data": {
            "text/plain": "{'accuracy': 0.866403162055336}"
          },
          "metadata": {}
        }
      ],
      "execution_count": 31,
      "metadata": {
        "gather": {
          "logged": 1612310987519
        }
      }
    },
    {
      "cell_type": "code",
      "source": [
        "best_run.get_metrics()"
      ],
      "outputs": [
        {
          "output_type": "execute_result",
          "execution_count": 24,
          "data": {
            "text/plain": "{'average_precision_score_macro': 0.915307794320151,\n 'balanced_accuracy': 0.8281009962259962,\n 'AUC_macro': 0.918366355866356,\n 'average_precision_score_micro': 0.9212788722821174,\n 'recall_score_weighted': 0.8614624505928854,\n 'precision_score_macro': 0.8649966242477852,\n 'matthews_correlation': 0.689553190356986,\n 'AUC_weighted': 0.918366355866356,\n 'log_loss': 0.4070817742440112,\n 'precision_score_weighted': 0.8712589312300748,\n 'recall_score_micro': 0.8614624505928854,\n 'precision_score_micro': 0.8614624505928854,\n 'accuracy': 0.8614624505928854,\n 'f1_score_weighted': 0.8574506998510989,\n 'AUC_micro': 0.9143249386804981,\n 'f1_score_micro': 0.8614624505928854,\n 'weighted_accuracy': 0.8868937940422883,\n 'norm_macro_recall': 0.6562019924519924,\n 'recall_score_macro': 0.8281009962259962,\n 'average_precision_score_weighted': 0.9311256009312843,\n 'f1_score_macro': 0.8347270898754164,\n 'accuracy_table': 'aml://artifactId/ExperimentRun/dcid.AutoML_2a8bdc99-6da6-4d0b-932f-808fc7a11fd0_36/accuracy_table',\n 'confusion_matrix': 'aml://artifactId/ExperimentRun/dcid.AutoML_2a8bdc99-6da6-4d0b-932f-808fc7a11fd0_36/confusion_matrix'}"
          },
          "metadata": {}
        }
      ],
      "execution_count": 24,
      "metadata": {
        "gather": {
          "logged": 1611871672412
        }
      }
    },
    {
      "cell_type": "code",
      "source": [
        "#TODO: Save the best model"
      ],
      "outputs": [],
      "execution_count": null,
      "metadata": {}
    },
    {
      "cell_type": "markdown",
      "source": [
        "## Deploy\n",
        "Retrieve the Best Model\n",
        "Below we select the best pipeline from our iterations. The get_output method returns the best run and the fitted model. Overloads on get_output allow you to retrieve the best run and fitted model for any logged metric or for a particular iteration.\n",
        "\n",
        "Widget for Monitoring Runs\n",
        "The widget will first report a \"loading\" status while running the first iteration. After completing the first iteration, an auto-updating graph and table will be shown. The widget will refresh once per minute, so you should see the graph update as child runs complete.\n",
        "\n",
        "Note: The widget displays a link at the bottom. Use this link to open a web interface to explore the individual run details"
      ],
      "metadata": {}
    },
    {
      "cell_type": "markdown",
      "source": [
        "## Model Deployment\n",
        "Remember you have to deploy only one of the two models you trained.. Perform the steps in the rest of this notebook only if you wish to deploy this model.\n",
        "\n",
        "TODO: In the cell below, register the model, create an inference config and deploy the model as a web service."
      ],
      "metadata": {}
    },
    {
      "cell_type": "code",
      "source": [
        "best_run, fitted_model = remote_run.get_output()"
      ],
      "outputs": [
        {
          "output_type": "stream",
          "name": "stderr",
          "text": [
            "WARNING:root:The version of the SDK does not match the version the model was trained on.\n",
            "WARNING:root:The consistency in the result may not be guaranteed.\n",
            "WARNING:root:Package:azureml-automl-core, training version:1.21.0, current version:1.20.0\n",
            "Package:azureml-automl-runtime, training version:1.21.0, current version:1.20.0\n",
            "Package:azureml-core, training version:1.21.0.post1, current version:1.20.0\n",
            "Package:azureml-dataprep, training version:2.8.2, current version:2.7.3\n",
            "Package:azureml-dataprep-native, training version:28.0.0, current version:27.0.0\n",
            "Package:azureml-dataprep-rslex, training version:1.6.0, current version:1.5.0\n",
            "Package:azureml-dataset-runtime, training version:1.21.0, current version:1.20.0\n",
            "Package:azureml-defaults, training version:1.21.0, current version:1.20.0\n",
            "Package:azureml-interpret, training version:1.21.0, current version:1.20.0\n",
            "Package:azureml-pipeline-core, training version:1.21.0, current version:1.20.0\n",
            "Package:azureml-telemetry, training version:1.21.0, current version:1.20.0\n",
            "Package:azureml-train-automl-client, training version:1.21.0, current version:1.20.0\n",
            "Package:azureml-train-automl-runtime, training version:1.21.0, current version:1.20.0\n",
            "WARNING:root:Please ensure the version of your local conda dependencies match the version on which your model was trained in order to properly retrieve your model.\n"
          ]
        }
      ],
      "execution_count": 18,
      "metadata": {
        "gather": {
          "logged": 1612310093256
        }
      }
    },
    {
      "cell_type": "code",
      "source": [
        "X_test = test.drop(['DEATH_EVENT'], axis = 1)\n",
        "y_test = test['DEATH_EVENT']\n",
        "#y_test.take(5).to_pandas_dataframe()"
      ],
      "outputs": [],
      "execution_count": 19,
      "metadata": {
        "gather": {
          "logged": 1612310100572
        }
      }
    },
    {
      "cell_type": "code",
      "source": [
        "from sklearn.metrics import confusion_matrix\n",
        "ypred = fitted_model.predict(X_test)\n",
        "cm = confusion_matrix(y_test, ypred)"
      ],
      "outputs": [],
      "execution_count": 20,
      "metadata": {
        "gather": {
          "logged": 1612310108283
        }
      }
    },
    {
      "cell_type": "code",
      "source": [
        "pd.DataFrame(cm).style.background_gradient(cmap='Blues', low=0, high=0.9)"
      ],
      "outputs": [
        {
          "output_type": "execute_result",
          "execution_count": 21,
          "data": {
            "text/plain": "<pandas.io.formats.style.Styler at 0x7fced645ffd0>",
            "text/html": "<style  type=\"text/css\" >\n    #T_1868179a_65b2_11eb_9edc_f3c9f2353e86row0_col0 {\n            background-color:  #63a8d3;\n            color:  #000000;\n        }    #T_1868179a_65b2_11eb_9edc_f3c9f2353e86row0_col1 {\n            background-color:  #f7fbff;\n            color:  #000000;\n        }    #T_1868179a_65b2_11eb_9edc_f3c9f2353e86row1_col0 {\n            background-color:  #f7fbff;\n            color:  #000000;\n        }    #T_1868179a_65b2_11eb_9edc_f3c9f2353e86row1_col1 {\n            background-color:  #63a8d3;\n            color:  #000000;\n        }</style><table id=\"T_1868179a_65b2_11eb_9edc_f3c9f2353e86\" ><thead>    <tr>        <th class=\"blank level0\" ></th>        <th class=\"col_heading level0 col0\" >0</th>        <th class=\"col_heading level0 col1\" >1</th>    </tr></thead><tbody>\n                <tr>\n                        <th id=\"T_1868179a_65b2_11eb_9edc_f3c9f2353e86level0_row0\" class=\"row_heading level0 row0\" >0</th>\n                        <td id=\"T_1868179a_65b2_11eb_9edc_f3c9f2353e86row0_col0\" class=\"data row0 col0\" >48</td>\n                        <td id=\"T_1868179a_65b2_11eb_9edc_f3c9f2353e86row0_col1\" class=\"data row0 col1\" >7</td>\n            </tr>\n            <tr>\n                        <th id=\"T_1868179a_65b2_11eb_9edc_f3c9f2353e86level0_row1\" class=\"row_heading level0 row1\" >1</th>\n                        <td id=\"T_1868179a_65b2_11eb_9edc_f3c9f2353e86row1_col0\" class=\"data row1 col0\" >4</td>\n                        <td id=\"T_1868179a_65b2_11eb_9edc_f3c9f2353e86row1_col1\" class=\"data row1 col1\" >16</td>\n            </tr>\n    </tbody></table>"
          },
          "metadata": {}
        }
      ],
      "execution_count": 21,
      "metadata": {
        "collapsed": true,
        "gather": {
          "logged": 1612310115606
        },
        "jupyter": {
          "outputs_hidden": false,
          "source_hidden": false
        },
        "nteract": {
          "transient": {
            "deleting": false
          }
        }
      }
    },
    {
      "cell_type": "code",
      "source": [
        "model_name = best_run.properties['model_name']\n",
        "\n",
        "script_file_name = 'inference/score.py'\n",
        "\n",
        "best_run.download_file('outputs/scoring_file_v_1_0_0.py', 'inference/score.py')"
      ],
      "outputs": [],
      "execution_count": 22,
      "metadata": {
        "gather": {
          "logged": 1612310130090
        }
      }
    },
    {
      "cell_type": "markdown",
      "source": [
        "## Register the Fitted Model for Deployment\n",
        "If neither metric nor iteration are specified in the register_model call, the iteration with the best primary metric is registered."
      ],
      "metadata": {}
    },
    {
      "cell_type": "code",
      "source": [
        "Deploy the model as a Web Service on Azure Container Instance¶"
      ],
      "outputs": [],
      "execution_count": null,
      "metadata": {}
    },
    {
      "cell_type": "code",
      "source": [
        "from azureml.core.model import Model\n",
        "description = 'AutoML Model trained on heart data to predict if there will be a cardic event ( heart attack)'\n",
        "tags = None\n",
        "model = remote_run.register_model(model_name = model_name, description = description, tags = tags)\n",
        "\n",
        "print(remote_run.model_id) # This will be written to the script file later in the notebook."
      ],
      "outputs": [
        {
          "output_type": "stream",
          "name": "stdout",
          "text": [
            "AutoML02970fb7a16\n"
          ]
        }
      ],
      "execution_count": 23,
      "metadata": {
        "gather": {
          "logged": 1612310141576
        }
      }
    },
    {
      "cell_type": "code",
      "source": [
        "from azureml.core.model import InferenceConfig\n",
        "from azureml.core.webservice import AciWebservice\n",
        "from azureml.core.webservice import Webservice\n",
        "from azureml.core.model import Model\n",
        "from azureml.core.environment import Environment\n",
        "\n",
        "inference_config = InferenceConfig(entry_script=script_file_name)\n",
        "\n",
        "aciconfig = AciWebservice.deploy_configuration(cpu_cores = 1, \n",
        "                                               memory_gb = 1, \n",
        "                                               tags = {'area': \"bmData\", 'type': \"automl_classification\"}, \n",
        "                                               description = 'sample service for Automl Classification')\n",
        "\n",
        "aci_service_name = 'aci-automl-heart-service'\n",
        "print(aci_service_name)\n",
        "aci_service = Model.deploy(ws, aci_service_name, [model], inference_config, aciconfig)\n",
        "aci_service.wait_for_deployment(True)\n",
        "print(aci_service.state)"
      ],
      "outputs": [
        {
          "output_type": "stream",
          "name": "stdout",
          "text": [
            "aci-automl-heart-service\n",
            "Tips: You can try get_logs(): https://aka.ms/debugimage#dockerlog or local deployment: https://aka.ms/debugimage#debug-locally to debug if deployment takes longer than 10 minutes.\n",
            "Running......................................\n",
            "Succeeded\n",
            "ACI service creation operation finished, operation \"Succeeded\"\n",
            "Healthy\n"
          ]
        }
      ],
      "execution_count": 24,
      "metadata": {
        "gather": {
          "logged": 1612310358651
        },
        "scrolled": true
      }
    },
    {
      "cell_type": "code",
      "source": [
        "#Get Logs from a deployed web service\n",
        "print(aci_service.get_logs())"
      ],
      "outputs": [
        {
          "output_type": "stream",
          "name": "stdout",
          "text": [
            "2021-02-02T23:58:54,451268000+00:00 - iot-server/run \n",
            "2021-02-02T23:58:54,461261500+00:00 - gunicorn/run \n",
            "2021-02-02T23:58:54,462451400+00:00 - rsyslog/run \n",
            "2021-02-02T23:58:54,494970100+00:00 - nginx/run \n",
            "/usr/sbin/nginx: /azureml-envs/azureml_20a8278aa8b20dd48cc50f56a6d2586c/lib/libcrypto.so.1.0.0: no version information available (required by /usr/sbin/nginx)\n",
            "/usr/sbin/nginx: /azureml-envs/azureml_20a8278aa8b20dd48cc50f56a6d2586c/lib/libcrypto.so.1.0.0: no version information available (required by /usr/sbin/nginx)\n",
            "/usr/sbin/nginx: /azureml-envs/azureml_20a8278aa8b20dd48cc50f56a6d2586c/lib/libssl.so.1.0.0: no version information available (required by /usr/sbin/nginx)\n",
            "/usr/sbin/nginx: /azureml-envs/azureml_20a8278aa8b20dd48cc50f56a6d2586c/lib/libssl.so.1.0.0: no version information available (required by /usr/sbin/nginx)\n",
            "/usr/sbin/nginx: /azureml-envs/azureml_20a8278aa8b20dd48cc50f56a6d2586c/lib/libssl.so.1.0.0: no version information available (required by /usr/sbin/nginx)\n",
            "rsyslogd: /azureml-envs/azureml_20a8278aa8b20dd48cc50f56a6d2586c/lib/libuuid.so.1: no version information available (required by rsyslogd)\n",
            "EdgeHubConnectionString and IOTEDGE_IOTHUBHOSTNAME are not set. Exiting...\n",
            "2021-02-02T23:58:56,351337300+00:00 - iot-server/finish 1 0\n",
            "2021-02-02T23:58:56,356555200+00:00 - Exit code 1 is normal. Not restarting iot-server.\n",
            "Starting gunicorn 19.9.0\n",
            "Listening at: http://127.0.0.1:31311 (86)\n",
            "Using worker: sync\n",
            "worker timeout is set to 300\n",
            "Booting worker with pid: 118\n",
            "SPARK_HOME not set. Skipping PySpark Initialization.\n",
            "Generating new fontManager, this may take some time...\n",
            "Initializing logger\n",
            "2021-02-02 23:59:01,995 | root | INFO | Starting up app insights client\n",
            "2021-02-02 23:59:01,995 | root | INFO | Starting up request id generator\n",
            "2021-02-02 23:59:01,996 | root | INFO | Starting up app insight hooks\n",
            "2021-02-02 23:59:01,996 | root | INFO | Invoking user's init function\n",
            "2021-02-02 23:59:13,481 | root | INFO | Users's init has completed successfully\n",
            "2021-02-02 23:59:13,508 | root | INFO | Skipping middleware: dbg_model_info as it's not enabled.\n",
            "2021-02-02 23:59:13,508 | root | INFO | Skipping middleware: dbg_resource_usage as it's not enabled.\n",
            "2021-02-02 23:59:13,519 | root | INFO | Scoring timeout is found from os.environ: 60000 ms\n",
            "2021-02-02 23:59:13,541 | root | INFO | 200\n",
            "127.0.0.1 - - [02/Feb/2021:23:59:13 +0000] \"GET /swagger.json HTTP/1.0\" 200 2860 \"-\" \"Go-http-client/1.1\"\n",
            "2021-02-02 23:59:18,407 | root | INFO | 200\n",
            "127.0.0.1 - - [02/Feb/2021:23:59:18 +0000] \"GET /swagger.json HTTP/1.0\" 200 2860 \"-\" \"Go-http-client/1.1\"\n",
            "\n"
          ]
        }
      ],
      "execution_count": 26,
      "metadata": {
        "gather": {
          "logged": 1612310648368
        }
      }
    },
    {
      "cell_type": "markdown",
      "source": [
        "Test\n",
        "Now that the model is trained, run the test data through the trained model to get the predicted values. This calls the ACI web service to do the prediction.\n",
        "\n",
        "Note that the JSON passed to the ACI web service is an array of rows of data. Each row should either be an array of values in the same order that was used for training or a dictionary where the keys are the same as the column names used for training. The example below uses dictionary rows."
      ],
      "metadata": {}
    },
    {
      "cell_type": "code",
      "source": [
        "# Load the heart datasets.\n",
        "from numpy import array"
      ],
      "outputs": [],
      "execution_count": 27,
      "metadata": {
        "gather": {
          "logged": 1612310660052
        }
      }
    },
    {
      "cell_type": "markdown",
      "source": [
        "## Testing Our Best Fitted Model¶\n",
        "We will use confusion matrix to see how our model works."
      ],
      "metadata": {}
    },
    {
      "cell_type": "code",
      "source": [
        "tosend = test[:2].values.tolist()\n",
        "tosend1 = [tosend[0][:-1], tosend[1][:-1]]\n",
        "print (tosend)\n",
        "print (tosend1)\n"
      ],
      "outputs": [
        {
          "output_type": "stream",
          "name": "stdout",
          "text": [
            "[[69.0, 0.0, 1419.0, 0.0, 40.0, 0.0, 105000.0, 1.0, 135.0, 1.0, 1.0, 147.0, 0.0], [70.0, 0.0, 2695.0, 1.0, 40.0, 0.0, 241000.0, 1.0, 137.0, 1.0, 0.0, 247.0, 0.0]]\n",
            "[[69.0, 0.0, 1419.0, 0.0, 40.0, 0.0, 105000.0, 1.0, 135.0, 1.0, 1.0, 147.0], [70.0, 0.0, 2695.0, 1.0, 40.0, 0.0, 241000.0, 1.0, 137.0, 1.0, 0.0, 247.0]]\n"
          ]
        }
      ],
      "execution_count": 28,
      "metadata": {
        "gather": {
          "logged": 1612310666953
        }
      }
    },
    {
      "cell_type": "code",
      "source": [
        "import json\n",
        "\n",
        "\n",
        "input_payload = json.dumps({\n",
        " #   'data': test[:2].values.tolist(),\n",
        "    'data': tosend1,\n",
        "    'method': 'predict'  # If you have a classification model, you can get probabilities by changing this to 'predict_proba'.\n",
        "})\n",
        "\n",
        "output = aci_service.run(input_payload)\n",
        "\n",
        "print('Result of prediction is, where 0 is not heart disease, 1 is there is heart disease:', output)"
      ],
      "outputs": [
        {
          "output_type": "stream",
          "name": "stdout",
          "text": [
            "Result of prediction is, where 0 is not heart disease, 1 is there is heart disease: {\"result\": [0, 0]}\n"
          ]
        }
      ],
      "execution_count": 29,
      "metadata": {
        "collapsed": true,
        "gather": {
          "logged": 1612310677642
        },
        "jupyter": {
          "outputs_hidden": false,
          "source_hidden": false
        },
        "nteract": {
          "transient": {
            "deleting": false
          }
        }
      }
    },
    {
      "cell_type": "code",
      "source": [
        "aci_service.delete()"
      ],
      "outputs": [],
      "execution_count": 30,
      "metadata": {
        "gather": {
          "logged": 1612310688439
        }
      }
    }
  ],
  "metadata": {
    "order_index": 11,
    "exclude_from_index": false,
    "task": "Demonstrates the use of AutoMLStep",
    "deployment": [
      "None"
    ],
    "authors": [
      {
        "name": "sanpil"
      }
    ],
    "star_tag": [
      "featured"
    ],
    "kernel_info": {
      "name": "python3"
    },
    "language_info": {
      "name": "python",
      "version": "3.6.9",
      "mimetype": "text/x-python",
      "codemirror_mode": {
        "name": "ipython",
        "version": 3
      },
      "pygments_lexer": "ipython3",
      "nbconvert_exporter": "python",
      "file_extension": ".py"
    },
    "compute": [
      "AML Compute"
    ],
    "kernelspec": {
      "name": "python3",
      "language": "python",
      "display_name": "Python 3"
    },
    "tags": [
      "None"
    ],
    "datasets": [
      "Custom"
    ],
    "categories": [
      "how-to-use-azureml",
      "machine-learning-pipelines",
      "intro-to-pipelines"
    ],
    "category": "tutorial",
    "framework": [
      "Automated Machine Learning"
    ],
    "friendly_name": "How to use AutoMLStep with AML Pipelines",
    "nteract": {
      "version": "nteract-front-end@1.0.0"
    }
  },
  "nbformat": 4,
  "nbformat_minor": 2
}